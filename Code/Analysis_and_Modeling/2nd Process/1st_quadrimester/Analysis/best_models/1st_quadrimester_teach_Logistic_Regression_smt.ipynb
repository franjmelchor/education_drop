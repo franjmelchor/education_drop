{
 "cells": [
  {
   "cell_type": "code",
   "execution_count": 140,
   "id": "c6a6f5b5",
   "metadata": {},
   "outputs": [],
   "source": [
    "import pandas as pd\n",
    "import numpy as np"
   ]
  },
  {
   "cell_type": "code",
   "execution_count": 141,
   "id": "7555fbe8",
   "metadata": {},
   "outputs": [],
   "source": [
    "final_analys_record_personal_access = pd.read_csv('C:/Users/franj/Desktop/PAI UEX Repositorios/education_drop/Data/For_Analysis_and_Modeling/2nd_process/1st_quadrimester/final_analys_teaching_record_personal_access.csv',\n",
    "       sep='|'\n",
    "    )"
   ]
  },
  {
   "cell_type": "code",
   "execution_count": 142,
   "id": "6fc9af6a",
   "metadata": {
    "scrolled": true
   },
   "outputs": [
    {
     "data": {
      "text/html": [
       "<div>\n",
       "<style scoped>\n",
       "    .dataframe tbody tr th:only-of-type {\n",
       "        vertical-align: middle;\n",
       "    }\n",
       "\n",
       "    .dataframe tbody tr th {\n",
       "        vertical-align: top;\n",
       "    }\n",
       "\n",
       "    .dataframe thead th {\n",
       "        text-align: right;\n",
       "    }\n",
       "</style>\n",
       "<table border=\"1\" class=\"dataframe\">\n",
       "  <thead>\n",
       "    <tr style=\"text-align: right;\">\n",
       "      <th></th>\n",
       "      <th>des_plan</th>\n",
       "      <th>anio_apertura_expediente</th>\n",
       "      <th>abandona</th>\n",
       "      <th>convocatoria_acceso</th>\n",
       "      <th>des_acceso</th>\n",
       "      <th>sexo</th>\n",
       "      <th>anio_nacimiento</th>\n",
       "      <th>anio_nacimiento_interval</th>\n",
       "      <th>1st_model</th>\n",
       "      <th>scolarship</th>\n",
       "      <th>cum_absent</th>\n",
       "      <th>cum_core_ratio</th>\n",
       "      <th>nota_admision_def</th>\n",
       "      <th>expediente</th>\n",
       "      <th>cod_plan</th>\n",
       "      <th>cum_median_interval</th>\n",
       "    </tr>\n",
       "  </thead>\n",
       "  <tbody>\n",
       "    <tr>\n",
       "      <th>0</th>\n",
       "      <td>GRADO EN EDUCACIÓN SOCIAL</td>\n",
       "      <td>2010-11</td>\n",
       "      <td>0</td>\n",
       "      <td>JUN</td>\n",
       "      <td>Selectividad</td>\n",
       "      <td>D</td>\n",
       "      <td>1992</td>\n",
       "      <td>(1990.0, 1995.0]</td>\n",
       "      <td>0</td>\n",
       "      <td>N</td>\n",
       "      <td>0.000000</td>\n",
       "      <td>1.000000</td>\n",
       "      <td>8.154</td>\n",
       "      <td>110</td>\n",
       "      <td>715</td>\n",
       "      <td>(6.0, 7.5]</td>\n",
       "    </tr>\n",
       "    <tr>\n",
       "      <th>1</th>\n",
       "      <td>GRADO EN EDUCACIÓN SOCIAL</td>\n",
       "      <td>2011-12</td>\n",
       "      <td>1</td>\n",
       "      <td>JUN</td>\n",
       "      <td>Selectividad</td>\n",
       "      <td>H</td>\n",
       "      <td>1992</td>\n",
       "      <td>(1990.0, 1995.0]</td>\n",
       "      <td>1</td>\n",
       "      <td>S</td>\n",
       "      <td>0.285714</td>\n",
       "      <td>0.428571</td>\n",
       "      <td>5.682</td>\n",
       "      <td>308</td>\n",
       "      <td>715</td>\n",
       "      <td>(6.0, 7.5]</td>\n",
       "    </tr>\n",
       "    <tr>\n",
       "      <th>2</th>\n",
       "      <td>GRADO EN EDUCACIÓN SOCIAL</td>\n",
       "      <td>2012-13</td>\n",
       "      <td>0</td>\n",
       "      <td>JUN</td>\n",
       "      <td>Selectividad</td>\n",
       "      <td>D</td>\n",
       "      <td>1994</td>\n",
       "      <td>(1990.0, 1995.0]</td>\n",
       "      <td>0</td>\n",
       "      <td>S</td>\n",
       "      <td>0.000000</td>\n",
       "      <td>1.000000</td>\n",
       "      <td>11.844</td>\n",
       "      <td>322</td>\n",
       "      <td>715</td>\n",
       "      <td>(7.5, 9.0]</td>\n",
       "    </tr>\n",
       "    <tr>\n",
       "      <th>3</th>\n",
       "      <td>GRADO EN EDUCACIÓN SOCIAL</td>\n",
       "      <td>2012-13</td>\n",
       "      <td>0</td>\n",
       "      <td>JUN</td>\n",
       "      <td>Selectividad</td>\n",
       "      <td>D</td>\n",
       "      <td>1994</td>\n",
       "      <td>(1990.0, 1995.0]</td>\n",
       "      <td>0</td>\n",
       "      <td>S</td>\n",
       "      <td>0.000000</td>\n",
       "      <td>1.000000</td>\n",
       "      <td>9.126</td>\n",
       "      <td>324</td>\n",
       "      <td>715</td>\n",
       "      <td>(7.5, 9.0]</td>\n",
       "    </tr>\n",
       "    <tr>\n",
       "      <th>4</th>\n",
       "      <td>GRADO EN EDUCACIÓN SOCIAL</td>\n",
       "      <td>2012-13</td>\n",
       "      <td>1</td>\n",
       "      <td>JUN</td>\n",
       "      <td>Selectividad</td>\n",
       "      <td>D</td>\n",
       "      <td>1993</td>\n",
       "      <td>(1990.0, 1995.0]</td>\n",
       "      <td>0</td>\n",
       "      <td>N</td>\n",
       "      <td>0.000000</td>\n",
       "      <td>0.666667</td>\n",
       "      <td>8.118</td>\n",
       "      <td>328</td>\n",
       "      <td>715</td>\n",
       "      <td>(6.0, 7.5]</td>\n",
       "    </tr>\n",
       "  </tbody>\n",
       "</table>\n",
       "</div>"
      ],
      "text/plain": [
       "                    des_plan anio_apertura_expediente  abandona  \\\n",
       "0  GRADO EN EDUCACIÓN SOCIAL                  2010-11         0   \n",
       "1  GRADO EN EDUCACIÓN SOCIAL                  2011-12         1   \n",
       "2  GRADO EN EDUCACIÓN SOCIAL                  2012-13         0   \n",
       "3  GRADO EN EDUCACIÓN SOCIAL                  2012-13         0   \n",
       "4  GRADO EN EDUCACIÓN SOCIAL                  2012-13         1   \n",
       "\n",
       "  convocatoria_acceso    des_acceso sexo  anio_nacimiento  \\\n",
       "0                 JUN  Selectividad    D             1992   \n",
       "1                 JUN  Selectividad    H             1992   \n",
       "2                 JUN  Selectividad    D             1994   \n",
       "3                 JUN  Selectividad    D             1994   \n",
       "4                 JUN  Selectividad    D             1993   \n",
       "\n",
       "  anio_nacimiento_interval  1st_model scolarship  cum_absent  cum_core_ratio  \\\n",
       "0         (1990.0, 1995.0]          0          N    0.000000        1.000000   \n",
       "1         (1990.0, 1995.0]          1          S    0.285714        0.428571   \n",
       "2         (1990.0, 1995.0]          0          S    0.000000        1.000000   \n",
       "3         (1990.0, 1995.0]          0          S    0.000000        1.000000   \n",
       "4         (1990.0, 1995.0]          0          N    0.000000        0.666667   \n",
       "\n",
       "   nota_admision_def  expediente  cod_plan cum_median_interval  \n",
       "0              8.154         110       715          (6.0, 7.5]  \n",
       "1              5.682         308       715          (6.0, 7.5]  \n",
       "2             11.844         322       715          (7.5, 9.0]  \n",
       "3              9.126         324       715          (7.5, 9.0]  \n",
       "4              8.118         328       715          (6.0, 7.5]  "
      ]
     },
     "execution_count": 142,
     "metadata": {},
     "output_type": "execute_result"
    }
   ],
   "source": [
    "final_analys_record_personal_access.head()"
   ]
  },
  {
   "cell_type": "code",
   "execution_count": 143,
   "id": "3f75512c",
   "metadata": {},
   "outputs": [],
   "source": [
    "final_analys_record_personal_access_one_hot = pd.get_dummies(data=final_analys_record_personal_access, columns=final_analys_record_personal_access.drop(['abandona','cum_core_ratio','cum_absent','1st_model','expediente','cod_plan','nota_admision_def'], axis=1).columns)"
   ]
  },
  {
   "cell_type": "code",
   "execution_count": 144,
   "id": "9db2bae9",
   "metadata": {},
   "outputs": [],
   "source": [
    "final_analys_record_personal_access_one_hot.drop(['expediente','cod_plan'],axis=1,inplace=True)"
   ]
  },
  {
   "cell_type": "code",
   "execution_count": 145,
   "id": "5e9d81be",
   "metadata": {
    "scrolled": true
   },
   "outputs": [
    {
     "data": {
      "text/plain": [
       "(1968, 71)"
      ]
     },
     "execution_count": 145,
     "metadata": {},
     "output_type": "execute_result"
    }
   ],
   "source": [
    "final_analys_record_personal_access_one_hot.shape"
   ]
  },
  {
   "cell_type": "code",
   "execution_count": 146,
   "id": "44679d02",
   "metadata": {
    "scrolled": true
   },
   "outputs": [
    {
     "data": {
      "text/html": [
       "<div>\n",
       "<style scoped>\n",
       "    .dataframe tbody tr th:only-of-type {\n",
       "        vertical-align: middle;\n",
       "    }\n",
       "\n",
       "    .dataframe tbody tr th {\n",
       "        vertical-align: top;\n",
       "    }\n",
       "\n",
       "    .dataframe thead th {\n",
       "        text-align: right;\n",
       "    }\n",
       "</style>\n",
       "<table border=\"1\" class=\"dataframe\">\n",
       "  <thead>\n",
       "    <tr style=\"text-align: right;\">\n",
       "      <th></th>\n",
       "      <th>abandona</th>\n",
       "      <th>1st_model</th>\n",
       "      <th>cum_absent</th>\n",
       "      <th>cum_core_ratio</th>\n",
       "      <th>nota_admision_def</th>\n",
       "      <th>des_plan_GRADO EN EDUCACIÓN INFANTIL (CÁCERES)</th>\n",
       "      <th>des_plan_GRADO EN EDUCACIÓN PRIMARIA (CÁCERES)</th>\n",
       "      <th>des_plan_GRADO EN EDUCACIÓN PRIMARIA. Modalidad Bilingüe (Español-Inglés)</th>\n",
       "      <th>des_plan_GRADO EN EDUCACIÓN SOCIAL</th>\n",
       "      <th>anio_apertura_expediente_2009-10</th>\n",
       "      <th>...</th>\n",
       "      <th>anio_nacimiento_interval_(1995.0, 2000.0]</th>\n",
       "      <th>scolarship_N</th>\n",
       "      <th>scolarship_S</th>\n",
       "      <th>cum_median_interval_(-0.001, 1.5]</th>\n",
       "      <th>cum_median_interval_(1.5, 3.0]</th>\n",
       "      <th>cum_median_interval_(3.0, 4.5]</th>\n",
       "      <th>cum_median_interval_(4.5, 6.0]</th>\n",
       "      <th>cum_median_interval_(6.0, 7.5]</th>\n",
       "      <th>cum_median_interval_(7.5, 9.0]</th>\n",
       "      <th>cum_median_interval_(9.0, 10.0]</th>\n",
       "    </tr>\n",
       "  </thead>\n",
       "  <tbody>\n",
       "    <tr>\n",
       "      <th>0</th>\n",
       "      <td>0</td>\n",
       "      <td>0</td>\n",
       "      <td>0.000000</td>\n",
       "      <td>1.000000</td>\n",
       "      <td>8.154</td>\n",
       "      <td>0</td>\n",
       "      <td>0</td>\n",
       "      <td>0</td>\n",
       "      <td>1</td>\n",
       "      <td>0</td>\n",
       "      <td>...</td>\n",
       "      <td>0</td>\n",
       "      <td>1</td>\n",
       "      <td>0</td>\n",
       "      <td>0</td>\n",
       "      <td>0</td>\n",
       "      <td>0</td>\n",
       "      <td>0</td>\n",
       "      <td>1</td>\n",
       "      <td>0</td>\n",
       "      <td>0</td>\n",
       "    </tr>\n",
       "    <tr>\n",
       "      <th>1</th>\n",
       "      <td>1</td>\n",
       "      <td>1</td>\n",
       "      <td>0.285714</td>\n",
       "      <td>0.428571</td>\n",
       "      <td>5.682</td>\n",
       "      <td>0</td>\n",
       "      <td>0</td>\n",
       "      <td>0</td>\n",
       "      <td>1</td>\n",
       "      <td>0</td>\n",
       "      <td>...</td>\n",
       "      <td>0</td>\n",
       "      <td>0</td>\n",
       "      <td>1</td>\n",
       "      <td>0</td>\n",
       "      <td>0</td>\n",
       "      <td>0</td>\n",
       "      <td>0</td>\n",
       "      <td>1</td>\n",
       "      <td>0</td>\n",
       "      <td>0</td>\n",
       "    </tr>\n",
       "    <tr>\n",
       "      <th>2</th>\n",
       "      <td>0</td>\n",
       "      <td>0</td>\n",
       "      <td>0.000000</td>\n",
       "      <td>1.000000</td>\n",
       "      <td>11.844</td>\n",
       "      <td>0</td>\n",
       "      <td>0</td>\n",
       "      <td>0</td>\n",
       "      <td>1</td>\n",
       "      <td>0</td>\n",
       "      <td>...</td>\n",
       "      <td>0</td>\n",
       "      <td>0</td>\n",
       "      <td>1</td>\n",
       "      <td>0</td>\n",
       "      <td>0</td>\n",
       "      <td>0</td>\n",
       "      <td>0</td>\n",
       "      <td>0</td>\n",
       "      <td>1</td>\n",
       "      <td>0</td>\n",
       "    </tr>\n",
       "    <tr>\n",
       "      <th>3</th>\n",
       "      <td>0</td>\n",
       "      <td>0</td>\n",
       "      <td>0.000000</td>\n",
       "      <td>1.000000</td>\n",
       "      <td>9.126</td>\n",
       "      <td>0</td>\n",
       "      <td>0</td>\n",
       "      <td>0</td>\n",
       "      <td>1</td>\n",
       "      <td>0</td>\n",
       "      <td>...</td>\n",
       "      <td>0</td>\n",
       "      <td>0</td>\n",
       "      <td>1</td>\n",
       "      <td>0</td>\n",
       "      <td>0</td>\n",
       "      <td>0</td>\n",
       "      <td>0</td>\n",
       "      <td>0</td>\n",
       "      <td>1</td>\n",
       "      <td>0</td>\n",
       "    </tr>\n",
       "    <tr>\n",
       "      <th>4</th>\n",
       "      <td>1</td>\n",
       "      <td>0</td>\n",
       "      <td>0.000000</td>\n",
       "      <td>0.666667</td>\n",
       "      <td>8.118</td>\n",
       "      <td>0</td>\n",
       "      <td>0</td>\n",
       "      <td>0</td>\n",
       "      <td>1</td>\n",
       "      <td>0</td>\n",
       "      <td>...</td>\n",
       "      <td>0</td>\n",
       "      <td>1</td>\n",
       "      <td>0</td>\n",
       "      <td>0</td>\n",
       "      <td>0</td>\n",
       "      <td>0</td>\n",
       "      <td>0</td>\n",
       "      <td>1</td>\n",
       "      <td>0</td>\n",
       "      <td>0</td>\n",
       "    </tr>\n",
       "  </tbody>\n",
       "</table>\n",
       "<p>5 rows × 71 columns</p>\n",
       "</div>"
      ],
      "text/plain": [
       "   abandona  1st_model  cum_absent  cum_core_ratio  nota_admision_def  \\\n",
       "0         0          0    0.000000        1.000000              8.154   \n",
       "1         1          1    0.285714        0.428571              5.682   \n",
       "2         0          0    0.000000        1.000000             11.844   \n",
       "3         0          0    0.000000        1.000000              9.126   \n",
       "4         1          0    0.000000        0.666667              8.118   \n",
       "\n",
       "   des_plan_GRADO EN EDUCACIÓN INFANTIL (CÁCERES)  \\\n",
       "0                                               0   \n",
       "1                                               0   \n",
       "2                                               0   \n",
       "3                                               0   \n",
       "4                                               0   \n",
       "\n",
       "   des_plan_GRADO EN EDUCACIÓN PRIMARIA (CÁCERES)  \\\n",
       "0                                               0   \n",
       "1                                               0   \n",
       "2                                               0   \n",
       "3                                               0   \n",
       "4                                               0   \n",
       "\n",
       "   des_plan_GRADO EN EDUCACIÓN PRIMARIA. Modalidad Bilingüe (Español-Inglés)  \\\n",
       "0                                                  0                           \n",
       "1                                                  0                           \n",
       "2                                                  0                           \n",
       "3                                                  0                           \n",
       "4                                                  0                           \n",
       "\n",
       "   des_plan_GRADO EN EDUCACIÓN SOCIAL  anio_apertura_expediente_2009-10  ...  \\\n",
       "0                                   1                                 0  ...   \n",
       "1                                   1                                 0  ...   \n",
       "2                                   1                                 0  ...   \n",
       "3                                   1                                 0  ...   \n",
       "4                                   1                                 0  ...   \n",
       "\n",
       "   anio_nacimiento_interval_(1995.0, 2000.0]  scolarship_N  scolarship_S  \\\n",
       "0                                          0             1             0   \n",
       "1                                          0             0             1   \n",
       "2                                          0             0             1   \n",
       "3                                          0             0             1   \n",
       "4                                          0             1             0   \n",
       "\n",
       "   cum_median_interval_(-0.001, 1.5]  cum_median_interval_(1.5, 3.0]  \\\n",
       "0                                  0                               0   \n",
       "1                                  0                               0   \n",
       "2                                  0                               0   \n",
       "3                                  0                               0   \n",
       "4                                  0                               0   \n",
       "\n",
       "   cum_median_interval_(3.0, 4.5]  cum_median_interval_(4.5, 6.0]  \\\n",
       "0                               0                               0   \n",
       "1                               0                               0   \n",
       "2                               0                               0   \n",
       "3                               0                               0   \n",
       "4                               0                               0   \n",
       "\n",
       "   cum_median_interval_(6.0, 7.5]  cum_median_interval_(7.5, 9.0]  \\\n",
       "0                               1                               0   \n",
       "1                               1                               0   \n",
       "2                               0                               1   \n",
       "3                               0                               1   \n",
       "4                               1                               0   \n",
       "\n",
       "   cum_median_interval_(9.0, 10.0]  \n",
       "0                                0  \n",
       "1                                0  \n",
       "2                                0  \n",
       "3                                0  \n",
       "4                                0  \n",
       "\n",
       "[5 rows x 71 columns]"
      ]
     },
     "execution_count": 146,
     "metadata": {},
     "output_type": "execute_result"
    }
   ],
   "source": [
    "final_analys_record_personal_access_one_hot.head()"
   ]
  },
  {
   "cell_type": "code",
   "execution_count": 147,
   "id": "6ec5c120",
   "metadata": {
    "scrolled": false
   },
   "outputs": [
    {
     "data": {
      "text/plain": [
       "0    1593\n",
       "1     375\n",
       "Name: abandona, dtype: int64"
      ]
     },
     "execution_count": 147,
     "metadata": {},
     "output_type": "execute_result"
    }
   ],
   "source": [
    "final_analys_record_personal_access_one_hot['abandona'].value_counts()"
   ]
  },
  {
   "cell_type": "code",
   "execution_count": 148,
   "id": "279a45c2",
   "metadata": {},
   "outputs": [
    {
     "data": {
      "text/plain": [
       "0    1593\n",
       "1     375\n",
       "Name: abandona, dtype: int64"
      ]
     },
     "execution_count": 148,
     "metadata": {},
     "output_type": "execute_result"
    }
   ],
   "source": [
    "final_analys_record_personal_access_one_hot['abandona'].value_counts()"
   ]
  },
  {
   "cell_type": "code",
   "execution_count": 149,
   "id": "17e505f1",
   "metadata": {},
   "outputs": [],
   "source": [
    "from imblearn.combine import SMOTETomek\n"
   ]
  },
  {
   "cell_type": "code",
   "execution_count": 150,
   "id": "a789a536",
   "metadata": {
    "scrolled": true
   },
   "outputs": [
    {
     "name": "stdout",
     "output_type": "stream",
     "text": [
      "(3132, 70)\n",
      "(3132,)\n"
     ]
    }
   ],
   "source": [
    "smt = SMOTETomek()\n",
    "X_smt, y_smt = smt.fit_sample(final_analys_record_personal_access_one_hot.drop(['abandona'], axis=1),\n",
    "                             final_analys_record_personal_access_one_hot['abandona'])\n",
    "print(X_smt.shape)\n",
    "print(y_smt.shape)"
   ]
  },
  {
   "cell_type": "code",
   "execution_count": 151,
   "id": "febbc1b5",
   "metadata": {
    "scrolled": true
   },
   "outputs": [
    {
     "data": {
      "text/plain": [
       "0    1566\n",
       "1    1566\n",
       "Name: abandona, dtype: int64"
      ]
     },
     "execution_count": 151,
     "metadata": {},
     "output_type": "execute_result"
    }
   ],
   "source": [
    "y_smt.value_counts()"
   ]
  },
  {
   "cell_type": "code",
   "execution_count": 152,
   "id": "7eeddaef",
   "metadata": {},
   "outputs": [],
   "source": [
    "from sklearn.model_selection import train_test_split, cross_val_score"
   ]
  },
  {
   "cell_type": "code",
   "execution_count": 153,
   "id": "4e6b2148",
   "metadata": {},
   "outputs": [],
   "source": [
    "import sklearn.metrics as sklm"
   ]
  },
  {
   "cell_type": "code",
   "execution_count": 154,
   "id": "b63e2c26",
   "metadata": {},
   "outputs": [],
   "source": [
    "X_train, X_test, y_train, y_test = train_test_split(\n",
    "    X_smt, y_smt, test_size=0.25, random_state=26)"
   ]
  },
  {
   "cell_type": "code",
   "execution_count": 155,
   "id": "75d903b1",
   "metadata": {},
   "outputs": [],
   "source": [
    "from sklearn.linear_model import LogisticRegression"
   ]
  },
  {
   "cell_type": "code",
   "execution_count": 156,
   "id": "308ef336",
   "metadata": {
    "scrolled": true
   },
   "outputs": [],
   "source": [
    "clf = LogisticRegression(random_state=0,max_iter=200).fit(X_train, y_train)"
   ]
  },
  {
   "cell_type": "code",
   "execution_count": 157,
   "id": "26baa03e",
   "metadata": {},
   "outputs": [],
   "source": [
    "def print_cv_results (cv_estimate):\n",
    "    print('Mean performance metric = %4.3f' % np.mean(cv_estimate))\n",
    "    print('SDT of the metric       = %4.3f' % np.std(cv_estimate))\n",
    "    print('Outcomes by cv fold')\n",
    "    for i, x in enumerate(cv_estimate):\n",
    "        print('Fold %2d    %4.3f' % (i+1, x))"
   ]
  },
  {
   "cell_type": "code",
   "execution_count": 158,
   "id": "9dce8f82",
   "metadata": {
    "scrolled": true
   },
   "outputs": [
    {
     "data": {
      "text/plain": [
       "0.8659003831417624"
      ]
     },
     "execution_count": 158,
     "metadata": {},
     "output_type": "execute_result"
    }
   ],
   "source": [
    "y_pred = clf.predict(X_test)\n",
    "sklm.accuracy_score(y_true=y_test, y_pred=y_pred)"
   ]
  },
  {
   "cell_type": "code",
   "execution_count": 159,
   "id": "f819fe2f",
   "metadata": {
    "scrolled": false
   },
   "outputs": [
    {
     "data": {
      "text/plain": [
       "array([[370,  33],\n",
       "       [ 72, 308]], dtype=int64)"
      ]
     },
     "execution_count": 159,
     "metadata": {},
     "output_type": "execute_result"
    }
   ],
   "source": [
    "sklm.confusion_matrix(y_test, y_pred)"
   ]
  },
  {
   "cell_type": "code",
   "execution_count": 160,
   "id": "b9b0fc17",
   "metadata": {
    "scrolled": false
   },
   "outputs": [
    {
     "data": {
      "text/plain": [
       "0.8105263157894737"
      ]
     },
     "execution_count": 160,
     "metadata": {},
     "output_type": "execute_result"
    }
   ],
   "source": [
    "sklm.recall_score(y_test, y_pred)"
   ]
  },
  {
   "cell_type": "code",
   "execution_count": 161,
   "id": "cda915bf",
   "metadata": {},
   "outputs": [],
   "source": [
    "tn, fp, fn, tp = sklm.confusion_matrix(y_test, y_pred).ravel()"
   ]
  },
  {
   "cell_type": "code",
   "execution_count": 162,
   "id": "f2a25915",
   "metadata": {
    "scrolled": true
   },
   "outputs": [
    {
     "data": {
      "text/plain": [
       "0.08188585607940446"
      ]
     },
     "execution_count": 162,
     "metadata": {},
     "output_type": "execute_result"
    }
   ],
   "source": [
    "fp/(tn+fp)"
   ]
  },
  {
   "cell_type": "markdown",
   "id": "69a5afed",
   "metadata": {},
   "source": [
    "Esta es la medida que tenemos que tratar de que sea la más alta, porque es preferible predecir un abandono como positivo para prevenirlo, y que luego realmente esa persona no vaya a abandonar, a que se nos escape un abandono.\n",
    "\n",
    "El hecho de hacer que esta medida aumente, hará que el modelo predizca en más ocasiones un positivo en casos que no lo son, pero es preferible eso y que al modelo se le escapen los número de casos positivos menores posibles, a tratar de balancear los dos lados y que se nos escapen casos positivos.\n",
    "\n",
    "Cuantos menos casos positivos se nos escapen, mejor, es preferible predecir un falso positivo que no un falso negativo"
   ]
  },
  {
   "cell_type": "markdown",
   "id": "1580e609",
   "metadata": {
    "pycharm": {
     "name": "#%% md\n"
    }
   },
   "source": [
    "### Probamos con cv\n"
   ]
  },
  {
   "cell_type": "code",
   "execution_count": 163,
   "id": "d4d5340e",
   "metadata": {
    "scrolled": false
   },
   "outputs": [
    {
     "name": "stdout",
     "output_type": "stream",
     "text": [
      "Mean performance metric = 0.850\n",
      "SDT of the metric       = 0.021\n",
      "Outcomes by cv fold\n",
      "Fold  1    0.828\n",
      "Fold  2    0.840\n",
      "Fold  3    0.890\n",
      "Fold  4    0.848\n",
      "Fold  5    0.844\n"
     ]
    }
   ],
   "source": [
    "print_cv_results (cross_val_score(clf, X_train, y_train, scoring='recall'))"
   ]
  },
  {
   "cell_type": "markdown",
   "id": "970bf3a1",
   "metadata": {
    "pycharm": {
     "name": "#%% md\n"
    }
   },
   "source": [
    "### Probamos con el cjto de datos completo"
   ]
  },
  {
   "cell_type": "code",
   "execution_count": 164,
   "id": "bc697b97",
   "metadata": {},
   "outputs": [],
   "source": [
    "X_test = final_analys_record_personal_access_one_hot.drop(['abandona'], axis=1)\n",
    "y_test = final_analys_record_personal_access_one_hot['abandona']"
   ]
  },
  {
   "cell_type": "code",
   "execution_count": 165,
   "id": "b6ffba8f",
   "metadata": {},
   "outputs": [
    {
     "data": {
      "text/plain": [
       "0.8389227642276422"
      ]
     },
     "execution_count": 165,
     "metadata": {},
     "output_type": "execute_result"
    }
   ],
   "source": [
    "y_pred = clf.predict(X_test)\n",
    "sklm.accuracy_score(y_true=y_test, y_pred=y_pred)"
   ]
  },
  {
   "cell_type": "code",
   "execution_count": 166,
   "id": "5b8f9523",
   "metadata": {
    "scrolled": true
   },
   "outputs": [
    {
     "data": {
      "text/plain": [
       "array([[1469,  124],\n",
       "       [ 193,  182]], dtype=int64)"
      ]
     },
     "execution_count": 166,
     "metadata": {},
     "output_type": "execute_result"
    }
   ],
   "source": [
    "sklm.confusion_matrix(y_test, y_pred)"
   ]
  },
  {
   "cell_type": "code",
   "execution_count": 167,
   "id": "e5962bc8",
   "metadata": {},
   "outputs": [],
   "source": [
    "tn, fp, fn, tp = sklm.confusion_matrix(y_test, y_pred).ravel()"
   ]
  },
  {
   "cell_type": "code",
   "execution_count": 168,
   "id": "e974df09",
   "metadata": {
    "scrolled": false
   },
   "outputs": [
    {
     "data": {
      "text/plain": [
       "0.48533333333333334"
      ]
     },
     "execution_count": 168,
     "metadata": {},
     "output_type": "execute_result"
    }
   ],
   "source": [
    "sklm.recall_score(y_test, y_pred)"
   ]
  },
  {
   "cell_type": "code",
   "execution_count": 169,
   "id": "e7bcdbfe",
   "metadata": {
    "scrolled": true
   },
   "outputs": [
    {
     "data": {
      "text/plain": [
       "0.0778405524168236"
      ]
     },
     "execution_count": 169,
     "metadata": {},
     "output_type": "execute_result"
    }
   ],
   "source": [
    "fp/(tn+fp)"
   ]
  },
  {
   "cell_type": "markdown",
   "id": "f5c9e951",
   "metadata": {
    "pycharm": {
     "name": "#%% md\n"
    }
   },
   "source": [
    "### Pasamos a ver la importancia de cada variable en el modelo"
   ]
  },
  {
   "cell_type": "code",
   "execution_count": 170,
   "id": "e7463aa0",
   "metadata": {},
   "outputs": [],
   "source": [
    "import time\n",
    "from sklearn.inspection import permutation_importance\n"
   ]
  },
  {
   "cell_type": "code",
   "execution_count": 171,
   "id": "4bcc5a3a",
   "metadata": {},
   "outputs": [],
   "source": [
    "feature_names = X_smt.columns"
   ]
  },
  {
   "cell_type": "code",
   "execution_count": 172,
   "id": "aba31a6a",
   "metadata": {},
   "outputs": [
    {
     "name": "stdout",
     "output_type": "stream",
     "text": [
      "Elapsed time to compute the importances: 4.284 seconds\n"
     ]
    }
   ],
   "source": [
    "start_time = time.time()\n",
    "result = permutation_importance(\n",
    "    clf, X_test, y_test, n_repeats=3, random_state=42, n_jobs=-1)\n",
    "elapsed_time = time.time() - start_time\n",
    "print(f\"Elapsed time to compute the importances: \"\n",
    "      f\"{elapsed_time:.3f} seconds\")\n",
    "\n",
    "logit_importances = pd.Series(result.importances_mean, index=feature_names)"
   ]
  },
  {
   "cell_type": "code",
   "execution_count": 173,
   "id": "60b94b2f",
   "metadata": {},
   "outputs": [],
   "source": [
    "logit_importances = pd.Series(result.importances_mean, index=feature_names)"
   ]
  },
  {
   "cell_type": "code",
   "execution_count": 174,
   "id": "3c2d3cd1",
   "metadata": {},
   "outputs": [],
   "source": [
    "logit_importances = logit_importances[logit_importances > 0.001]"
   ]
  },
  {
   "cell_type": "code",
   "execution_count": 175,
   "id": "2b745672",
   "metadata": {},
   "outputs": [
    {
     "data": {
      "text/plain": [
       "anio_nacimiento_interval_(1990.0, 1995.0]                                    0.001016\n",
       "anio_apertura_expediente_2010-11                                             0.001355\n",
       "anio_nacimiento_1989                                                         0.001355\n",
       "anio_nacimiento_1985                                                         0.001694\n",
       "nota_admision_def                                                            0.002202\n",
       "anio_nacimiento_1998                                                         0.002710\n",
       "cum_median_interval_(9.0, 10.0]                                              0.003049\n",
       "anio_nacimiento_interval_(1980.0, 1985.0]                                    0.003218\n",
       "anio_nacimiento_1990                                                         0.003388\n",
       "anio_nacimiento_1996                                                         0.005081\n",
       "cum_core_ratio                                                               0.005928\n",
       "convocatoria_acceso_EXT                                                      0.007283\n",
       "des_acceso_Selectividad                                                      0.008130\n",
       "anio_nacimiento_1991                                                         0.008299\n",
       "anio_nacimiento_interval_(1995.0, 2000.0]                                    0.009485\n",
       "anio_nacimiento_interval_(1985.0, 1990.0]                                    0.009824\n",
       "anio_nacimiento_1992                                                         0.012364\n",
       "1st_model                                                                    0.013042\n",
       "des_acceso_Formación Profesional                                             0.013720\n",
       "cum_median_interval_(3.0, 4.5]                                               0.014736\n",
       "cum_absent                                                                   0.014905\n",
       "convocatoria_acceso_SEP                                                      0.016091\n",
       "des_plan_GRADO EN EDUCACIÓN PRIMARIA. Modalidad Bilingüe (Español-Inglés)    0.017785\n",
       "anio_nacimiento_1993                                                         0.023713\n",
       "convocatoria_acceso_JUN                                                      0.025407\n",
       "anio_nacimiento_1995                                                         0.025576\n",
       "anio_apertura_expediente_2012-13                                             0.028286\n",
       "anio_apertura_expediente_2014-15                                             0.030996\n",
       "anio_apertura_expediente_2013-14                                             0.031843\n",
       "anio_apertura_expediente_2016-17                                             0.033198\n",
       "anio_nacimiento_1994                                                         0.036077\n",
       "des_plan_GRADO EN EDUCACIÓN PRIMARIA (CÁCERES)                               0.048950\n",
       "anio_apertura_expediente_2015-16                                             0.052676\n",
       "cum_median_interval_(7.5, 9.0]                                               0.063008\n",
       "des_plan_GRADO EN EDUCACIÓN SOCIAL                                           0.063347\n",
       "cum_median_interval_(4.5, 6.0]                                               0.067581\n",
       "scolarship_S                                                                 0.096714\n",
       "des_plan_GRADO EN EDUCACIÓN INFANTIL (CÁCERES)                               0.097900\n",
       "cum_median_interval_(6.0, 7.5]                                               0.101118\n",
       "scolarship_N                                                                 0.107215\n",
       "sexo_H                                                                       0.109248\n",
       "sexo_D                                                                       0.109756\n",
       "dtype: float64"
      ]
     },
     "execution_count": 175,
     "metadata": {},
     "output_type": "execute_result"
    }
   ],
   "source": [
    "logit_importances.sort_values()"
   ]
  },
  {
   "cell_type": "code",
   "execution_count": 176,
   "id": "e63bfe1d",
   "metadata": {
    "pycharm": {
     "name": "#%%\n"
    }
   },
   "outputs": [],
   "source": [
    "logit_importances=pd.DataFrame({'Feature':logit_importances.sort_values(ascending=False).index,\n",
    "              'Permutation_importance':logit_importances.sort_values(ascending=False)}).reset_index(drop=True)"
   ]
  },
  {
   "cell_type": "code",
   "execution_count": 177,
   "id": "8f9f0a0e",
   "metadata": {
    "pycharm": {
     "name": "#%%\n"
    }
   },
   "outputs": [
    {
     "data": {
      "text/html": [
       "<div>\n",
       "<style scoped>\n",
       "    .dataframe tbody tr th:only-of-type {\n",
       "        vertical-align: middle;\n",
       "    }\n",
       "\n",
       "    .dataframe tbody tr th {\n",
       "        vertical-align: top;\n",
       "    }\n",
       "\n",
       "    .dataframe thead th {\n",
       "        text-align: right;\n",
       "    }\n",
       "</style>\n",
       "<table border=\"1\" class=\"dataframe\">\n",
       "  <thead>\n",
       "    <tr style=\"text-align: right;\">\n",
       "      <th></th>\n",
       "      <th>Feature</th>\n",
       "      <th>Permutation_importance</th>\n",
       "    </tr>\n",
       "  </thead>\n",
       "  <tbody>\n",
       "    <tr>\n",
       "      <th>0</th>\n",
       "      <td>sexo_D</td>\n",
       "      <td>0.109756</td>\n",
       "    </tr>\n",
       "    <tr>\n",
       "      <th>1</th>\n",
       "      <td>sexo_H</td>\n",
       "      <td>0.109248</td>\n",
       "    </tr>\n",
       "    <tr>\n",
       "      <th>2</th>\n",
       "      <td>scolarship_N</td>\n",
       "      <td>0.107215</td>\n",
       "    </tr>\n",
       "    <tr>\n",
       "      <th>3</th>\n",
       "      <td>cum_median_interval_(6.0, 7.5]</td>\n",
       "      <td>0.101118</td>\n",
       "    </tr>\n",
       "    <tr>\n",
       "      <th>4</th>\n",
       "      <td>des_plan_GRADO EN EDUCACIÓN INFANTIL (CÁCERES)</td>\n",
       "      <td>0.097900</td>\n",
       "    </tr>\n",
       "    <tr>\n",
       "      <th>5</th>\n",
       "      <td>scolarship_S</td>\n",
       "      <td>0.096714</td>\n",
       "    </tr>\n",
       "    <tr>\n",
       "      <th>6</th>\n",
       "      <td>cum_median_interval_(4.5, 6.0]</td>\n",
       "      <td>0.067581</td>\n",
       "    </tr>\n",
       "    <tr>\n",
       "      <th>7</th>\n",
       "      <td>des_plan_GRADO EN EDUCACIÓN SOCIAL</td>\n",
       "      <td>0.063347</td>\n",
       "    </tr>\n",
       "    <tr>\n",
       "      <th>8</th>\n",
       "      <td>cum_median_interval_(7.5, 9.0]</td>\n",
       "      <td>0.063008</td>\n",
       "    </tr>\n",
       "    <tr>\n",
       "      <th>9</th>\n",
       "      <td>anio_apertura_expediente_2015-16</td>\n",
       "      <td>0.052676</td>\n",
       "    </tr>\n",
       "    <tr>\n",
       "      <th>10</th>\n",
       "      <td>des_plan_GRADO EN EDUCACIÓN PRIMARIA (CÁCERES)</td>\n",
       "      <td>0.048950</td>\n",
       "    </tr>\n",
       "    <tr>\n",
       "      <th>11</th>\n",
       "      <td>anio_nacimiento_1994</td>\n",
       "      <td>0.036077</td>\n",
       "    </tr>\n",
       "    <tr>\n",
       "      <th>12</th>\n",
       "      <td>anio_apertura_expediente_2016-17</td>\n",
       "      <td>0.033198</td>\n",
       "    </tr>\n",
       "    <tr>\n",
       "      <th>13</th>\n",
       "      <td>anio_apertura_expediente_2013-14</td>\n",
       "      <td>0.031843</td>\n",
       "    </tr>\n",
       "    <tr>\n",
       "      <th>14</th>\n",
       "      <td>anio_apertura_expediente_2014-15</td>\n",
       "      <td>0.030996</td>\n",
       "    </tr>\n",
       "    <tr>\n",
       "      <th>15</th>\n",
       "      <td>anio_apertura_expediente_2012-13</td>\n",
       "      <td>0.028286</td>\n",
       "    </tr>\n",
       "    <tr>\n",
       "      <th>16</th>\n",
       "      <td>anio_nacimiento_1995</td>\n",
       "      <td>0.025576</td>\n",
       "    </tr>\n",
       "    <tr>\n",
       "      <th>17</th>\n",
       "      <td>convocatoria_acceso_JUN</td>\n",
       "      <td>0.025407</td>\n",
       "    </tr>\n",
       "    <tr>\n",
       "      <th>18</th>\n",
       "      <td>anio_nacimiento_1993</td>\n",
       "      <td>0.023713</td>\n",
       "    </tr>\n",
       "    <tr>\n",
       "      <th>19</th>\n",
       "      <td>des_plan_GRADO EN EDUCACIÓN PRIMARIA. Modalida...</td>\n",
       "      <td>0.017785</td>\n",
       "    </tr>\n",
       "    <tr>\n",
       "      <th>20</th>\n",
       "      <td>convocatoria_acceso_SEP</td>\n",
       "      <td>0.016091</td>\n",
       "    </tr>\n",
       "    <tr>\n",
       "      <th>21</th>\n",
       "      <td>cum_absent</td>\n",
       "      <td>0.014905</td>\n",
       "    </tr>\n",
       "    <tr>\n",
       "      <th>22</th>\n",
       "      <td>cum_median_interval_(3.0, 4.5]</td>\n",
       "      <td>0.014736</td>\n",
       "    </tr>\n",
       "    <tr>\n",
       "      <th>23</th>\n",
       "      <td>des_acceso_Formación Profesional</td>\n",
       "      <td>0.013720</td>\n",
       "    </tr>\n",
       "    <tr>\n",
       "      <th>24</th>\n",
       "      <td>1st_model</td>\n",
       "      <td>0.013042</td>\n",
       "    </tr>\n",
       "    <tr>\n",
       "      <th>25</th>\n",
       "      <td>anio_nacimiento_1992</td>\n",
       "      <td>0.012364</td>\n",
       "    </tr>\n",
       "    <tr>\n",
       "      <th>26</th>\n",
       "      <td>anio_nacimiento_interval_(1985.0, 1990.0]</td>\n",
       "      <td>0.009824</td>\n",
       "    </tr>\n",
       "    <tr>\n",
       "      <th>27</th>\n",
       "      <td>anio_nacimiento_interval_(1995.0, 2000.0]</td>\n",
       "      <td>0.009485</td>\n",
       "    </tr>\n",
       "    <tr>\n",
       "      <th>28</th>\n",
       "      <td>anio_nacimiento_1991</td>\n",
       "      <td>0.008299</td>\n",
       "    </tr>\n",
       "    <tr>\n",
       "      <th>29</th>\n",
       "      <td>des_acceso_Selectividad</td>\n",
       "      <td>0.008130</td>\n",
       "    </tr>\n",
       "    <tr>\n",
       "      <th>30</th>\n",
       "      <td>convocatoria_acceso_EXT</td>\n",
       "      <td>0.007283</td>\n",
       "    </tr>\n",
       "    <tr>\n",
       "      <th>31</th>\n",
       "      <td>cum_core_ratio</td>\n",
       "      <td>0.005928</td>\n",
       "    </tr>\n",
       "    <tr>\n",
       "      <th>32</th>\n",
       "      <td>anio_nacimiento_1996</td>\n",
       "      <td>0.005081</td>\n",
       "    </tr>\n",
       "    <tr>\n",
       "      <th>33</th>\n",
       "      <td>anio_nacimiento_1990</td>\n",
       "      <td>0.003388</td>\n",
       "    </tr>\n",
       "    <tr>\n",
       "      <th>34</th>\n",
       "      <td>anio_nacimiento_interval_(1980.0, 1985.0]</td>\n",
       "      <td>0.003218</td>\n",
       "    </tr>\n",
       "    <tr>\n",
       "      <th>35</th>\n",
       "      <td>cum_median_interval_(9.0, 10.0]</td>\n",
       "      <td>0.003049</td>\n",
       "    </tr>\n",
       "    <tr>\n",
       "      <th>36</th>\n",
       "      <td>anio_nacimiento_1998</td>\n",
       "      <td>0.002710</td>\n",
       "    </tr>\n",
       "    <tr>\n",
       "      <th>37</th>\n",
       "      <td>nota_admision_def</td>\n",
       "      <td>0.002202</td>\n",
       "    </tr>\n",
       "    <tr>\n",
       "      <th>38</th>\n",
       "      <td>anio_nacimiento_1985</td>\n",
       "      <td>0.001694</td>\n",
       "    </tr>\n",
       "    <tr>\n",
       "      <th>39</th>\n",
       "      <td>anio_nacimiento_1989</td>\n",
       "      <td>0.001355</td>\n",
       "    </tr>\n",
       "    <tr>\n",
       "      <th>40</th>\n",
       "      <td>anio_apertura_expediente_2010-11</td>\n",
       "      <td>0.001355</td>\n",
       "    </tr>\n",
       "    <tr>\n",
       "      <th>41</th>\n",
       "      <td>anio_nacimiento_interval_(1990.0, 1995.0]</td>\n",
       "      <td>0.001016</td>\n",
       "    </tr>\n",
       "  </tbody>\n",
       "</table>\n",
       "</div>"
      ],
      "text/plain": [
       "                                              Feature  Permutation_importance\n",
       "0                                              sexo_D                0.109756\n",
       "1                                              sexo_H                0.109248\n",
       "2                                        scolarship_N                0.107215\n",
       "3                      cum_median_interval_(6.0, 7.5]                0.101118\n",
       "4      des_plan_GRADO EN EDUCACIÓN INFANTIL (CÁCERES)                0.097900\n",
       "5                                        scolarship_S                0.096714\n",
       "6                      cum_median_interval_(4.5, 6.0]                0.067581\n",
       "7                  des_plan_GRADO EN EDUCACIÓN SOCIAL                0.063347\n",
       "8                      cum_median_interval_(7.5, 9.0]                0.063008\n",
       "9                    anio_apertura_expediente_2015-16                0.052676\n",
       "10     des_plan_GRADO EN EDUCACIÓN PRIMARIA (CÁCERES)                0.048950\n",
       "11                               anio_nacimiento_1994                0.036077\n",
       "12                   anio_apertura_expediente_2016-17                0.033198\n",
       "13                   anio_apertura_expediente_2013-14                0.031843\n",
       "14                   anio_apertura_expediente_2014-15                0.030996\n",
       "15                   anio_apertura_expediente_2012-13                0.028286\n",
       "16                               anio_nacimiento_1995                0.025576\n",
       "17                            convocatoria_acceso_JUN                0.025407\n",
       "18                               anio_nacimiento_1993                0.023713\n",
       "19  des_plan_GRADO EN EDUCACIÓN PRIMARIA. Modalida...                0.017785\n",
       "20                            convocatoria_acceso_SEP                0.016091\n",
       "21                                         cum_absent                0.014905\n",
       "22                     cum_median_interval_(3.0, 4.5]                0.014736\n",
       "23                   des_acceso_Formación Profesional                0.013720\n",
       "24                                          1st_model                0.013042\n",
       "25                               anio_nacimiento_1992                0.012364\n",
       "26          anio_nacimiento_interval_(1985.0, 1990.0]                0.009824\n",
       "27          anio_nacimiento_interval_(1995.0, 2000.0]                0.009485\n",
       "28                               anio_nacimiento_1991                0.008299\n",
       "29                            des_acceso_Selectividad                0.008130\n",
       "30                            convocatoria_acceso_EXT                0.007283\n",
       "31                                     cum_core_ratio                0.005928\n",
       "32                               anio_nacimiento_1996                0.005081\n",
       "33                               anio_nacimiento_1990                0.003388\n",
       "34          anio_nacimiento_interval_(1980.0, 1985.0]                0.003218\n",
       "35                    cum_median_interval_(9.0, 10.0]                0.003049\n",
       "36                               anio_nacimiento_1998                0.002710\n",
       "37                                  nota_admision_def                0.002202\n",
       "38                               anio_nacimiento_1985                0.001694\n",
       "39                               anio_nacimiento_1989                0.001355\n",
       "40                   anio_apertura_expediente_2010-11                0.001355\n",
       "41          anio_nacimiento_interval_(1990.0, 1995.0]                0.001016"
      ]
     },
     "execution_count": 177,
     "metadata": {},
     "output_type": "execute_result"
    }
   ],
   "source": [
    "logit_importances"
   ]
  },
  {
   "cell_type": "code",
   "execution_count": 178,
   "id": "987f3b24",
   "metadata": {
    "pycharm": {
     "name": "#%%\n"
    }
   },
   "outputs": [],
   "source": [
    "import plotly.express as px\n"
   ]
  },
  {
   "cell_type": "code",
   "execution_count": 179,
   "id": "74ebec63",
   "metadata": {
    "pycharm": {
     "name": "#%%\n"
    }
   },
   "outputs": [
    {
     "data": {
      "application/vnd.plotly.v1+json": {
       "config": {
        "plotlyServerURL": "https://plot.ly"
       },
       "data": [
        {
         "alignmentgroup": "True",
         "hovertemplate": "Feature=%{x}<br>Permutation_importance=%{y}<extra></extra>",
         "legendgroup": "",
         "marker": {
          "color": "#636efa"
         },
         "name": "",
         "offsetgroup": "",
         "orientation": "v",
         "showlegend": false,
         "textposition": "auto",
         "type": "bar",
         "x": [
          "sexo_D",
          "sexo_H",
          "scolarship_N",
          "cum_median_interval_(6.0, 7.5]",
          "des_plan_GRADO EN EDUCACIÓN INFANTIL (CÁCERES)",
          "scolarship_S",
          "cum_median_interval_(4.5, 6.0]",
          "des_plan_GRADO EN EDUCACIÓN SOCIAL",
          "cum_median_interval_(7.5, 9.0]",
          "anio_apertura_expediente_2015-16",
          "des_plan_GRADO EN EDUCACIÓN PRIMARIA (CÁCERES)",
          "anio_nacimiento_1994",
          "anio_apertura_expediente_2016-17",
          "anio_apertura_expediente_2013-14",
          "anio_apertura_expediente_2014-15",
          "anio_apertura_expediente_2012-13",
          "anio_nacimiento_1995",
          "convocatoria_acceso_JUN",
          "anio_nacimiento_1993",
          "des_plan_GRADO EN EDUCACIÓN PRIMARIA. Modalidad Bilingüe (Español-Inglés)",
          "convocatoria_acceso_SEP",
          "cum_absent",
          "cum_median_interval_(3.0, 4.5]",
          "des_acceso_Formación Profesional",
          "1st_model",
          "anio_nacimiento_1992",
          "anio_nacimiento_interval_(1985.0, 1990.0]",
          "anio_nacimiento_interval_(1995.0, 2000.0]",
          "anio_nacimiento_1991",
          "des_acceso_Selectividad",
          "convocatoria_acceso_EXT",
          "cum_core_ratio",
          "anio_nacimiento_1996",
          "anio_nacimiento_1990",
          "anio_nacimiento_interval_(1980.0, 1985.0]",
          "cum_median_interval_(9.0, 10.0]",
          "anio_nacimiento_1998",
          "nota_admision_def",
          "anio_nacimiento_1985",
          "anio_nacimiento_1989",
          "anio_apertura_expediente_2010-11",
          "anio_nacimiento_interval_(1990.0, 1995.0]"
         ],
         "xaxis": "x",
         "y": [
          0.10975609756097553,
          0.10924796747967476,
          0.10721544715447151,
          0.10111788617886175,
          0.0978997289972899,
          0.09671409214092137,
          0.06758130081300806,
          0.06334688346883466,
          0.06300813008130075,
          0.052676151761517596,
          0.04894986449864495,
          0.0360772357723577,
          0.03319783197831975,
          0.031842818428184226,
          0.030995934959349564,
          0.028285907859078547,
          0.025575880758807495,
          0.025406504065040598,
          0.023712737127371247,
          0.01778455284552838,
          0.016090785907859024,
          0.01490514905149043,
          0.014735772357723498,
          0.013719512195121871,
          0.013042005420054145,
          0.012364498644986418,
          0.009823848238482332,
          0.009485094850948431,
          0.008299457994579873,
          0.008130081300812941,
          0.007283197831978246,
          0.0059281842818427926,
          0.005081300813008061,
          0.003387533875338707,
          0.0032181571815717755,
          0.003048780487804844,
          0.0027100271002709433,
          0.0022018970189701483,
          0.0016937669376693165,
          0.0013550135501354532,
          0.0013550135501354532,
          0.0010162601626015528
         ],
         "yaxis": "y"
        }
       ],
       "layout": {
        "barmode": "relative",
        "legend": {
         "tracegroupgap": 0
        },
        "margin": {
         "t": 60
        },
        "template": {
         "data": {
          "bar": [
           {
            "error_x": {
             "color": "#2a3f5f"
            },
            "error_y": {
             "color": "#2a3f5f"
            },
            "marker": {
             "line": {
              "color": "#E5ECF6",
              "width": 0.5
             }
            },
            "type": "bar"
           }
          ],
          "barpolar": [
           {
            "marker": {
             "line": {
              "color": "#E5ECF6",
              "width": 0.5
             }
            },
            "type": "barpolar"
           }
          ],
          "carpet": [
           {
            "aaxis": {
             "endlinecolor": "#2a3f5f",
             "gridcolor": "white",
             "linecolor": "white",
             "minorgridcolor": "white",
             "startlinecolor": "#2a3f5f"
            },
            "baxis": {
             "endlinecolor": "#2a3f5f",
             "gridcolor": "white",
             "linecolor": "white",
             "minorgridcolor": "white",
             "startlinecolor": "#2a3f5f"
            },
            "type": "carpet"
           }
          ],
          "choropleth": [
           {
            "colorbar": {
             "outlinewidth": 0,
             "ticks": ""
            },
            "type": "choropleth"
           }
          ],
          "contour": [
           {
            "colorbar": {
             "outlinewidth": 0,
             "ticks": ""
            },
            "colorscale": [
             [
              0,
              "#0d0887"
             ],
             [
              0.1111111111111111,
              "#46039f"
             ],
             [
              0.2222222222222222,
              "#7201a8"
             ],
             [
              0.3333333333333333,
              "#9c179e"
             ],
             [
              0.4444444444444444,
              "#bd3786"
             ],
             [
              0.5555555555555556,
              "#d8576b"
             ],
             [
              0.6666666666666666,
              "#ed7953"
             ],
             [
              0.7777777777777778,
              "#fb9f3a"
             ],
             [
              0.8888888888888888,
              "#fdca26"
             ],
             [
              1,
              "#f0f921"
             ]
            ],
            "type": "contour"
           }
          ],
          "contourcarpet": [
           {
            "colorbar": {
             "outlinewidth": 0,
             "ticks": ""
            },
            "type": "contourcarpet"
           }
          ],
          "heatmap": [
           {
            "colorbar": {
             "outlinewidth": 0,
             "ticks": ""
            },
            "colorscale": [
             [
              0,
              "#0d0887"
             ],
             [
              0.1111111111111111,
              "#46039f"
             ],
             [
              0.2222222222222222,
              "#7201a8"
             ],
             [
              0.3333333333333333,
              "#9c179e"
             ],
             [
              0.4444444444444444,
              "#bd3786"
             ],
             [
              0.5555555555555556,
              "#d8576b"
             ],
             [
              0.6666666666666666,
              "#ed7953"
             ],
             [
              0.7777777777777778,
              "#fb9f3a"
             ],
             [
              0.8888888888888888,
              "#fdca26"
             ],
             [
              1,
              "#f0f921"
             ]
            ],
            "type": "heatmap"
           }
          ],
          "heatmapgl": [
           {
            "colorbar": {
             "outlinewidth": 0,
             "ticks": ""
            },
            "colorscale": [
             [
              0,
              "#0d0887"
             ],
             [
              0.1111111111111111,
              "#46039f"
             ],
             [
              0.2222222222222222,
              "#7201a8"
             ],
             [
              0.3333333333333333,
              "#9c179e"
             ],
             [
              0.4444444444444444,
              "#bd3786"
             ],
             [
              0.5555555555555556,
              "#d8576b"
             ],
             [
              0.6666666666666666,
              "#ed7953"
             ],
             [
              0.7777777777777778,
              "#fb9f3a"
             ],
             [
              0.8888888888888888,
              "#fdca26"
             ],
             [
              1,
              "#f0f921"
             ]
            ],
            "type": "heatmapgl"
           }
          ],
          "histogram": [
           {
            "marker": {
             "colorbar": {
              "outlinewidth": 0,
              "ticks": ""
             }
            },
            "type": "histogram"
           }
          ],
          "histogram2d": [
           {
            "colorbar": {
             "outlinewidth": 0,
             "ticks": ""
            },
            "colorscale": [
             [
              0,
              "#0d0887"
             ],
             [
              0.1111111111111111,
              "#46039f"
             ],
             [
              0.2222222222222222,
              "#7201a8"
             ],
             [
              0.3333333333333333,
              "#9c179e"
             ],
             [
              0.4444444444444444,
              "#bd3786"
             ],
             [
              0.5555555555555556,
              "#d8576b"
             ],
             [
              0.6666666666666666,
              "#ed7953"
             ],
             [
              0.7777777777777778,
              "#fb9f3a"
             ],
             [
              0.8888888888888888,
              "#fdca26"
             ],
             [
              1,
              "#f0f921"
             ]
            ],
            "type": "histogram2d"
           }
          ],
          "histogram2dcontour": [
           {
            "colorbar": {
             "outlinewidth": 0,
             "ticks": ""
            },
            "colorscale": [
             [
              0,
              "#0d0887"
             ],
             [
              0.1111111111111111,
              "#46039f"
             ],
             [
              0.2222222222222222,
              "#7201a8"
             ],
             [
              0.3333333333333333,
              "#9c179e"
             ],
             [
              0.4444444444444444,
              "#bd3786"
             ],
             [
              0.5555555555555556,
              "#d8576b"
             ],
             [
              0.6666666666666666,
              "#ed7953"
             ],
             [
              0.7777777777777778,
              "#fb9f3a"
             ],
             [
              0.8888888888888888,
              "#fdca26"
             ],
             [
              1,
              "#f0f921"
             ]
            ],
            "type": "histogram2dcontour"
           }
          ],
          "mesh3d": [
           {
            "colorbar": {
             "outlinewidth": 0,
             "ticks": ""
            },
            "type": "mesh3d"
           }
          ],
          "parcoords": [
           {
            "line": {
             "colorbar": {
              "outlinewidth": 0,
              "ticks": ""
             }
            },
            "type": "parcoords"
           }
          ],
          "pie": [
           {
            "automargin": true,
            "type": "pie"
           }
          ],
          "scatter": [
           {
            "marker": {
             "colorbar": {
              "outlinewidth": 0,
              "ticks": ""
             }
            },
            "type": "scatter"
           }
          ],
          "scatter3d": [
           {
            "line": {
             "colorbar": {
              "outlinewidth": 0,
              "ticks": ""
             }
            },
            "marker": {
             "colorbar": {
              "outlinewidth": 0,
              "ticks": ""
             }
            },
            "type": "scatter3d"
           }
          ],
          "scattercarpet": [
           {
            "marker": {
             "colorbar": {
              "outlinewidth": 0,
              "ticks": ""
             }
            },
            "type": "scattercarpet"
           }
          ],
          "scattergeo": [
           {
            "marker": {
             "colorbar": {
              "outlinewidth": 0,
              "ticks": ""
             }
            },
            "type": "scattergeo"
           }
          ],
          "scattergl": [
           {
            "marker": {
             "colorbar": {
              "outlinewidth": 0,
              "ticks": ""
             }
            },
            "type": "scattergl"
           }
          ],
          "scattermapbox": [
           {
            "marker": {
             "colorbar": {
              "outlinewidth": 0,
              "ticks": ""
             }
            },
            "type": "scattermapbox"
           }
          ],
          "scatterpolar": [
           {
            "marker": {
             "colorbar": {
              "outlinewidth": 0,
              "ticks": ""
             }
            },
            "type": "scatterpolar"
           }
          ],
          "scatterpolargl": [
           {
            "marker": {
             "colorbar": {
              "outlinewidth": 0,
              "ticks": ""
             }
            },
            "type": "scatterpolargl"
           }
          ],
          "scatterternary": [
           {
            "marker": {
             "colorbar": {
              "outlinewidth": 0,
              "ticks": ""
             }
            },
            "type": "scatterternary"
           }
          ],
          "surface": [
           {
            "colorbar": {
             "outlinewidth": 0,
             "ticks": ""
            },
            "colorscale": [
             [
              0,
              "#0d0887"
             ],
             [
              0.1111111111111111,
              "#46039f"
             ],
             [
              0.2222222222222222,
              "#7201a8"
             ],
             [
              0.3333333333333333,
              "#9c179e"
             ],
             [
              0.4444444444444444,
              "#bd3786"
             ],
             [
              0.5555555555555556,
              "#d8576b"
             ],
             [
              0.6666666666666666,
              "#ed7953"
             ],
             [
              0.7777777777777778,
              "#fb9f3a"
             ],
             [
              0.8888888888888888,
              "#fdca26"
             ],
             [
              1,
              "#f0f921"
             ]
            ],
            "type": "surface"
           }
          ],
          "table": [
           {
            "cells": {
             "fill": {
              "color": "#EBF0F8"
             },
             "line": {
              "color": "white"
             }
            },
            "header": {
             "fill": {
              "color": "#C8D4E3"
             },
             "line": {
              "color": "white"
             }
            },
            "type": "table"
           }
          ]
         },
         "layout": {
          "annotationdefaults": {
           "arrowcolor": "#2a3f5f",
           "arrowhead": 0,
           "arrowwidth": 1
          },
          "autotypenumbers": "strict",
          "coloraxis": {
           "colorbar": {
            "outlinewidth": 0,
            "ticks": ""
           }
          },
          "colorscale": {
           "diverging": [
            [
             0,
             "#8e0152"
            ],
            [
             0.1,
             "#c51b7d"
            ],
            [
             0.2,
             "#de77ae"
            ],
            [
             0.3,
             "#f1b6da"
            ],
            [
             0.4,
             "#fde0ef"
            ],
            [
             0.5,
             "#f7f7f7"
            ],
            [
             0.6,
             "#e6f5d0"
            ],
            [
             0.7,
             "#b8e186"
            ],
            [
             0.8,
             "#7fbc41"
            ],
            [
             0.9,
             "#4d9221"
            ],
            [
             1,
             "#276419"
            ]
           ],
           "sequential": [
            [
             0,
             "#0d0887"
            ],
            [
             0.1111111111111111,
             "#46039f"
            ],
            [
             0.2222222222222222,
             "#7201a8"
            ],
            [
             0.3333333333333333,
             "#9c179e"
            ],
            [
             0.4444444444444444,
             "#bd3786"
            ],
            [
             0.5555555555555556,
             "#d8576b"
            ],
            [
             0.6666666666666666,
             "#ed7953"
            ],
            [
             0.7777777777777778,
             "#fb9f3a"
            ],
            [
             0.8888888888888888,
             "#fdca26"
            ],
            [
             1,
             "#f0f921"
            ]
           ],
           "sequentialminus": [
            [
             0,
             "#0d0887"
            ],
            [
             0.1111111111111111,
             "#46039f"
            ],
            [
             0.2222222222222222,
             "#7201a8"
            ],
            [
             0.3333333333333333,
             "#9c179e"
            ],
            [
             0.4444444444444444,
             "#bd3786"
            ],
            [
             0.5555555555555556,
             "#d8576b"
            ],
            [
             0.6666666666666666,
             "#ed7953"
            ],
            [
             0.7777777777777778,
             "#fb9f3a"
            ],
            [
             0.8888888888888888,
             "#fdca26"
            ],
            [
             1,
             "#f0f921"
            ]
           ]
          },
          "colorway": [
           "#636efa",
           "#EF553B",
           "#00cc96",
           "#ab63fa",
           "#FFA15A",
           "#19d3f3",
           "#FF6692",
           "#B6E880",
           "#FF97FF",
           "#FECB52"
          ],
          "font": {
           "color": "#2a3f5f"
          },
          "geo": {
           "bgcolor": "white",
           "lakecolor": "white",
           "landcolor": "#E5ECF6",
           "showlakes": true,
           "showland": true,
           "subunitcolor": "white"
          },
          "hoverlabel": {
           "align": "left"
          },
          "hovermode": "closest",
          "mapbox": {
           "style": "light"
          },
          "paper_bgcolor": "white",
          "plot_bgcolor": "#E5ECF6",
          "polar": {
           "angularaxis": {
            "gridcolor": "white",
            "linecolor": "white",
            "ticks": ""
           },
           "bgcolor": "#E5ECF6",
           "radialaxis": {
            "gridcolor": "white",
            "linecolor": "white",
            "ticks": ""
           }
          },
          "scene": {
           "xaxis": {
            "backgroundcolor": "#E5ECF6",
            "gridcolor": "white",
            "gridwidth": 2,
            "linecolor": "white",
            "showbackground": true,
            "ticks": "",
            "zerolinecolor": "white"
           },
           "yaxis": {
            "backgroundcolor": "#E5ECF6",
            "gridcolor": "white",
            "gridwidth": 2,
            "linecolor": "white",
            "showbackground": true,
            "ticks": "",
            "zerolinecolor": "white"
           },
           "zaxis": {
            "backgroundcolor": "#E5ECF6",
            "gridcolor": "white",
            "gridwidth": 2,
            "linecolor": "white",
            "showbackground": true,
            "ticks": "",
            "zerolinecolor": "white"
           }
          },
          "shapedefaults": {
           "line": {
            "color": "#2a3f5f"
           }
          },
          "ternary": {
           "aaxis": {
            "gridcolor": "white",
            "linecolor": "white",
            "ticks": ""
           },
           "baxis": {
            "gridcolor": "white",
            "linecolor": "white",
            "ticks": ""
           },
           "bgcolor": "#E5ECF6",
           "caxis": {
            "gridcolor": "white",
            "linecolor": "white",
            "ticks": ""
           }
          },
          "title": {
           "x": 0.05
          },
          "xaxis": {
           "automargin": true,
           "gridcolor": "white",
           "linecolor": "white",
           "ticks": "",
           "title": {
            "standoff": 15
           },
           "zerolinecolor": "white",
           "zerolinewidth": 2
          },
          "yaxis": {
           "automargin": true,
           "gridcolor": "white",
           "linecolor": "white",
           "ticks": "",
           "title": {
            "standoff": 15
           },
           "zerolinecolor": "white",
           "zerolinewidth": 2
          }
         }
        },
        "xaxis": {
         "anchor": "y",
         "domain": [
          0,
          1
         ],
         "title": {
          "text": "Feature"
         }
        },
        "yaxis": {
         "anchor": "x",
         "domain": [
          0,
          1
         ],
         "title": {
          "text": "Permutation_importance"
         }
        }
       }
      },
      "text/html": [
       "<div>                            <div id=\"02fd9bf2-16e6-4404-88a4-40053e278943\" class=\"plotly-graph-div\" style=\"height:525px; width:100%;\"></div>            <script type=\"text/javascript\">                require([\"plotly\"], function(Plotly) {                    window.PLOTLYENV=window.PLOTLYENV || {};                                    if (document.getElementById(\"02fd9bf2-16e6-4404-88a4-40053e278943\")) {                    Plotly.newPlot(                        \"02fd9bf2-16e6-4404-88a4-40053e278943\",                        [{\"alignmentgroup\": \"True\", \"hovertemplate\": \"Feature=%{x}<br>Permutation_importance=%{y}<extra></extra>\", \"legendgroup\": \"\", \"marker\": {\"color\": \"#636efa\"}, \"name\": \"\", \"offsetgroup\": \"\", \"orientation\": \"v\", \"showlegend\": false, \"textposition\": \"auto\", \"type\": \"bar\", \"x\": [\"sexo_D\", \"sexo_H\", \"scolarship_N\", \"cum_median_interval_(6.0, 7.5]\", \"des_plan_GRADO EN EDUCACI\\u00d3N INFANTIL (C\\u00c1CERES)\", \"scolarship_S\", \"cum_median_interval_(4.5, 6.0]\", \"des_plan_GRADO EN EDUCACI\\u00d3N SOCIAL\", \"cum_median_interval_(7.5, 9.0]\", \"anio_apertura_expediente_2015-16\", \"des_plan_GRADO EN EDUCACI\\u00d3N PRIMARIA (C\\u00c1CERES)\", \"anio_nacimiento_1994\", \"anio_apertura_expediente_2016-17\", \"anio_apertura_expediente_2013-14\", \"anio_apertura_expediente_2014-15\", \"anio_apertura_expediente_2012-13\", \"anio_nacimiento_1995\", \"convocatoria_acceso_JUN\", \"anio_nacimiento_1993\", \"des_plan_GRADO EN EDUCACI\\u00d3N PRIMARIA. Modalidad Biling\\u00fce (Espa\\u00f1ol-Ingl\\u00e9s)\", \"convocatoria_acceso_SEP\", \"cum_absent\", \"cum_median_interval_(3.0, 4.5]\", \"des_acceso_Formaci\\u00f3n Profesional\", \"1st_model\", \"anio_nacimiento_1992\", \"anio_nacimiento_interval_(1985.0, 1990.0]\", \"anio_nacimiento_interval_(1995.0, 2000.0]\", \"anio_nacimiento_1991\", \"des_acceso_Selectividad\", \"convocatoria_acceso_EXT\", \"cum_core_ratio\", \"anio_nacimiento_1996\", \"anio_nacimiento_1990\", \"anio_nacimiento_interval_(1980.0, 1985.0]\", \"cum_median_interval_(9.0, 10.0]\", \"anio_nacimiento_1998\", \"nota_admision_def\", \"anio_nacimiento_1985\", \"anio_nacimiento_1989\", \"anio_apertura_expediente_2010-11\", \"anio_nacimiento_interval_(1990.0, 1995.0]\"], \"xaxis\": \"x\", \"y\": [0.10975609756097553, 0.10924796747967476, 0.10721544715447151, 0.10111788617886175, 0.0978997289972899, 0.09671409214092137, 0.06758130081300806, 0.06334688346883466, 0.06300813008130075, 0.052676151761517596, 0.04894986449864495, 0.0360772357723577, 0.03319783197831975, 0.031842818428184226, 0.030995934959349564, 0.028285907859078547, 0.025575880758807495, 0.025406504065040598, 0.023712737127371247, 0.01778455284552838, 0.016090785907859024, 0.01490514905149043, 0.014735772357723498, 0.013719512195121871, 0.013042005420054145, 0.012364498644986418, 0.009823848238482332, 0.009485094850948431, 0.008299457994579873, 0.008130081300812941, 0.007283197831978246, 0.0059281842818427926, 0.005081300813008061, 0.003387533875338707, 0.0032181571815717755, 0.003048780487804844, 0.0027100271002709433, 0.0022018970189701483, 0.0016937669376693165, 0.0013550135501354532, 0.0013550135501354532, 0.0010162601626015528], \"yaxis\": \"y\"}],                        {\"barmode\": \"relative\", \"legend\": {\"tracegroupgap\": 0}, \"margin\": {\"t\": 60}, \"template\": {\"data\": {\"bar\": [{\"error_x\": {\"color\": \"#2a3f5f\"}, \"error_y\": {\"color\": \"#2a3f5f\"}, \"marker\": {\"line\": {\"color\": \"#E5ECF6\", \"width\": 0.5}}, \"type\": \"bar\"}], \"barpolar\": [{\"marker\": {\"line\": {\"color\": \"#E5ECF6\", \"width\": 0.5}}, \"type\": \"barpolar\"}], \"carpet\": [{\"aaxis\": {\"endlinecolor\": \"#2a3f5f\", \"gridcolor\": \"white\", \"linecolor\": \"white\", \"minorgridcolor\": \"white\", \"startlinecolor\": \"#2a3f5f\"}, \"baxis\": {\"endlinecolor\": \"#2a3f5f\", \"gridcolor\": \"white\", \"linecolor\": \"white\", \"minorgridcolor\": \"white\", \"startlinecolor\": \"#2a3f5f\"}, \"type\": \"carpet\"}], \"choropleth\": [{\"colorbar\": {\"outlinewidth\": 0, \"ticks\": \"\"}, \"type\": \"choropleth\"}], \"contour\": [{\"colorbar\": {\"outlinewidth\": 0, \"ticks\": \"\"}, \"colorscale\": [[0.0, \"#0d0887\"], [0.1111111111111111, \"#46039f\"], [0.2222222222222222, \"#7201a8\"], [0.3333333333333333, \"#9c179e\"], [0.4444444444444444, \"#bd3786\"], [0.5555555555555556, \"#d8576b\"], [0.6666666666666666, \"#ed7953\"], [0.7777777777777778, \"#fb9f3a\"], [0.8888888888888888, \"#fdca26\"], [1.0, \"#f0f921\"]], \"type\": \"contour\"}], \"contourcarpet\": [{\"colorbar\": {\"outlinewidth\": 0, \"ticks\": \"\"}, \"type\": \"contourcarpet\"}], \"heatmap\": [{\"colorbar\": {\"outlinewidth\": 0, \"ticks\": \"\"}, \"colorscale\": [[0.0, \"#0d0887\"], [0.1111111111111111, \"#46039f\"], [0.2222222222222222, \"#7201a8\"], [0.3333333333333333, \"#9c179e\"], [0.4444444444444444, \"#bd3786\"], [0.5555555555555556, \"#d8576b\"], [0.6666666666666666, \"#ed7953\"], [0.7777777777777778, \"#fb9f3a\"], [0.8888888888888888, \"#fdca26\"], [1.0, \"#f0f921\"]], \"type\": \"heatmap\"}], \"heatmapgl\": [{\"colorbar\": {\"outlinewidth\": 0, \"ticks\": \"\"}, \"colorscale\": [[0.0, \"#0d0887\"], [0.1111111111111111, \"#46039f\"], [0.2222222222222222, \"#7201a8\"], [0.3333333333333333, \"#9c179e\"], [0.4444444444444444, \"#bd3786\"], [0.5555555555555556, \"#d8576b\"], [0.6666666666666666, \"#ed7953\"], [0.7777777777777778, \"#fb9f3a\"], [0.8888888888888888, \"#fdca26\"], [1.0, \"#f0f921\"]], \"type\": \"heatmapgl\"}], \"histogram\": [{\"marker\": {\"colorbar\": {\"outlinewidth\": 0, \"ticks\": \"\"}}, \"type\": \"histogram\"}], \"histogram2d\": [{\"colorbar\": {\"outlinewidth\": 0, \"ticks\": \"\"}, \"colorscale\": [[0.0, \"#0d0887\"], [0.1111111111111111, \"#46039f\"], [0.2222222222222222, \"#7201a8\"], [0.3333333333333333, \"#9c179e\"], [0.4444444444444444, \"#bd3786\"], [0.5555555555555556, \"#d8576b\"], [0.6666666666666666, \"#ed7953\"], [0.7777777777777778, \"#fb9f3a\"], [0.8888888888888888, \"#fdca26\"], [1.0, \"#f0f921\"]], \"type\": \"histogram2d\"}], \"histogram2dcontour\": [{\"colorbar\": {\"outlinewidth\": 0, \"ticks\": \"\"}, \"colorscale\": [[0.0, \"#0d0887\"], [0.1111111111111111, \"#46039f\"], [0.2222222222222222, \"#7201a8\"], [0.3333333333333333, \"#9c179e\"], [0.4444444444444444, \"#bd3786\"], [0.5555555555555556, \"#d8576b\"], [0.6666666666666666, \"#ed7953\"], [0.7777777777777778, \"#fb9f3a\"], [0.8888888888888888, \"#fdca26\"], [1.0, \"#f0f921\"]], \"type\": \"histogram2dcontour\"}], \"mesh3d\": [{\"colorbar\": {\"outlinewidth\": 0, \"ticks\": \"\"}, \"type\": \"mesh3d\"}], \"parcoords\": [{\"line\": {\"colorbar\": {\"outlinewidth\": 0, \"ticks\": \"\"}}, \"type\": \"parcoords\"}], \"pie\": [{\"automargin\": true, \"type\": \"pie\"}], \"scatter\": [{\"marker\": {\"colorbar\": {\"outlinewidth\": 0, \"ticks\": \"\"}}, \"type\": \"scatter\"}], \"scatter3d\": [{\"line\": {\"colorbar\": {\"outlinewidth\": 0, \"ticks\": \"\"}}, \"marker\": {\"colorbar\": {\"outlinewidth\": 0, \"ticks\": \"\"}}, \"type\": \"scatter3d\"}], \"scattercarpet\": [{\"marker\": {\"colorbar\": {\"outlinewidth\": 0, \"ticks\": \"\"}}, \"type\": \"scattercarpet\"}], \"scattergeo\": [{\"marker\": {\"colorbar\": {\"outlinewidth\": 0, \"ticks\": \"\"}}, \"type\": \"scattergeo\"}], \"scattergl\": [{\"marker\": {\"colorbar\": {\"outlinewidth\": 0, \"ticks\": \"\"}}, \"type\": \"scattergl\"}], \"scattermapbox\": [{\"marker\": {\"colorbar\": {\"outlinewidth\": 0, \"ticks\": \"\"}}, \"type\": \"scattermapbox\"}], \"scatterpolar\": [{\"marker\": {\"colorbar\": {\"outlinewidth\": 0, \"ticks\": \"\"}}, \"type\": \"scatterpolar\"}], \"scatterpolargl\": [{\"marker\": {\"colorbar\": {\"outlinewidth\": 0, \"ticks\": \"\"}}, \"type\": \"scatterpolargl\"}], \"scatterternary\": [{\"marker\": {\"colorbar\": {\"outlinewidth\": 0, \"ticks\": \"\"}}, \"type\": \"scatterternary\"}], \"surface\": [{\"colorbar\": {\"outlinewidth\": 0, \"ticks\": \"\"}, \"colorscale\": [[0.0, \"#0d0887\"], [0.1111111111111111, \"#46039f\"], [0.2222222222222222, \"#7201a8\"], [0.3333333333333333, \"#9c179e\"], [0.4444444444444444, \"#bd3786\"], [0.5555555555555556, \"#d8576b\"], [0.6666666666666666, \"#ed7953\"], [0.7777777777777778, \"#fb9f3a\"], [0.8888888888888888, \"#fdca26\"], [1.0, \"#f0f921\"]], \"type\": \"surface\"}], \"table\": [{\"cells\": {\"fill\": {\"color\": \"#EBF0F8\"}, \"line\": {\"color\": \"white\"}}, \"header\": {\"fill\": {\"color\": \"#C8D4E3\"}, \"line\": {\"color\": \"white\"}}, \"type\": \"table\"}]}, \"layout\": {\"annotationdefaults\": {\"arrowcolor\": \"#2a3f5f\", \"arrowhead\": 0, \"arrowwidth\": 1}, \"autotypenumbers\": \"strict\", \"coloraxis\": {\"colorbar\": {\"outlinewidth\": 0, \"ticks\": \"\"}}, \"colorscale\": {\"diverging\": [[0, \"#8e0152\"], [0.1, \"#c51b7d\"], [0.2, \"#de77ae\"], [0.3, \"#f1b6da\"], [0.4, \"#fde0ef\"], [0.5, \"#f7f7f7\"], [0.6, \"#e6f5d0\"], [0.7, \"#b8e186\"], [0.8, \"#7fbc41\"], [0.9, \"#4d9221\"], [1, \"#276419\"]], \"sequential\": [[0.0, \"#0d0887\"], [0.1111111111111111, \"#46039f\"], [0.2222222222222222, \"#7201a8\"], [0.3333333333333333, \"#9c179e\"], [0.4444444444444444, \"#bd3786\"], [0.5555555555555556, \"#d8576b\"], [0.6666666666666666, \"#ed7953\"], [0.7777777777777778, \"#fb9f3a\"], [0.8888888888888888, \"#fdca26\"], [1.0, \"#f0f921\"]], \"sequentialminus\": [[0.0, \"#0d0887\"], [0.1111111111111111, \"#46039f\"], [0.2222222222222222, \"#7201a8\"], [0.3333333333333333, \"#9c179e\"], [0.4444444444444444, \"#bd3786\"], [0.5555555555555556, \"#d8576b\"], [0.6666666666666666, \"#ed7953\"], [0.7777777777777778, \"#fb9f3a\"], [0.8888888888888888, \"#fdca26\"], [1.0, \"#f0f921\"]]}, \"colorway\": [\"#636efa\", \"#EF553B\", \"#00cc96\", \"#ab63fa\", \"#FFA15A\", \"#19d3f3\", \"#FF6692\", \"#B6E880\", \"#FF97FF\", \"#FECB52\"], \"font\": {\"color\": \"#2a3f5f\"}, \"geo\": {\"bgcolor\": \"white\", \"lakecolor\": \"white\", \"landcolor\": \"#E5ECF6\", \"showlakes\": true, \"showland\": true, \"subunitcolor\": \"white\"}, \"hoverlabel\": {\"align\": \"left\"}, \"hovermode\": \"closest\", \"mapbox\": {\"style\": \"light\"}, \"paper_bgcolor\": \"white\", \"plot_bgcolor\": \"#E5ECF6\", \"polar\": {\"angularaxis\": {\"gridcolor\": \"white\", \"linecolor\": \"white\", \"ticks\": \"\"}, \"bgcolor\": \"#E5ECF6\", \"radialaxis\": {\"gridcolor\": \"white\", \"linecolor\": \"white\", \"ticks\": \"\"}}, \"scene\": {\"xaxis\": {\"backgroundcolor\": \"#E5ECF6\", \"gridcolor\": \"white\", \"gridwidth\": 2, \"linecolor\": \"white\", \"showbackground\": true, \"ticks\": \"\", \"zerolinecolor\": \"white\"}, \"yaxis\": {\"backgroundcolor\": \"#E5ECF6\", \"gridcolor\": \"white\", \"gridwidth\": 2, \"linecolor\": \"white\", \"showbackground\": true, \"ticks\": \"\", \"zerolinecolor\": \"white\"}, \"zaxis\": {\"backgroundcolor\": \"#E5ECF6\", \"gridcolor\": \"white\", \"gridwidth\": 2, \"linecolor\": \"white\", \"showbackground\": true, \"ticks\": \"\", \"zerolinecolor\": \"white\"}}, \"shapedefaults\": {\"line\": {\"color\": \"#2a3f5f\"}}, \"ternary\": {\"aaxis\": {\"gridcolor\": \"white\", \"linecolor\": \"white\", \"ticks\": \"\"}, \"baxis\": {\"gridcolor\": \"white\", \"linecolor\": \"white\", \"ticks\": \"\"}, \"bgcolor\": \"#E5ECF6\", \"caxis\": {\"gridcolor\": \"white\", \"linecolor\": \"white\", \"ticks\": \"\"}}, \"title\": {\"x\": 0.05}, \"xaxis\": {\"automargin\": true, \"gridcolor\": \"white\", \"linecolor\": \"white\", \"ticks\": \"\", \"title\": {\"standoff\": 15}, \"zerolinecolor\": \"white\", \"zerolinewidth\": 2}, \"yaxis\": {\"automargin\": true, \"gridcolor\": \"white\", \"linecolor\": \"white\", \"ticks\": \"\", \"title\": {\"standoff\": 15}, \"zerolinecolor\": \"white\", \"zerolinewidth\": 2}}}, \"xaxis\": {\"anchor\": \"y\", \"domain\": [0.0, 1.0], \"title\": {\"text\": \"Feature\"}}, \"yaxis\": {\"anchor\": \"x\", \"domain\": [0.0, 1.0], \"title\": {\"text\": \"Permutation_importance\"}}},                        {\"responsive\": true}                    ).then(function(){\n",
       "                            \n",
       "var gd = document.getElementById('02fd9bf2-16e6-4404-88a4-40053e278943');\n",
       "var x = new MutationObserver(function (mutations, observer) {{\n",
       "        var display = window.getComputedStyle(gd).display;\n",
       "        if (!display || display === 'none') {{\n",
       "            console.log([gd, 'removed!']);\n",
       "            Plotly.purge(gd);\n",
       "            observer.disconnect();\n",
       "        }}\n",
       "}});\n",
       "\n",
       "// Listen for the removal of the full notebook cells\n",
       "var notebookContainer = gd.closest('#notebook-container');\n",
       "if (notebookContainer) {{\n",
       "    x.observe(notebookContainer, {childList: true});\n",
       "}}\n",
       "\n",
       "// Listen for the clearing of the current output cell\n",
       "var outputEl = gd.closest('.output');\n",
       "if (outputEl) {{\n",
       "    x.observe(outputEl, {childList: true});\n",
       "}}\n",
       "\n",
       "                        })                };                });            </script>        </div>"
      ]
     },
     "metadata": {},
     "output_type": "display_data"
    }
   ],
   "source": [
    "fig = px.bar(logit_importances, x='Feature', y='Permutation_importance')\n",
    "fig.show()"
   ]
  },
  {
   "cell_type": "code",
   "execution_count": 180,
   "id": "f04e14dc",
   "metadata": {
    "pycharm": {
     "name": "#%%\n"
    }
   },
   "outputs": [],
   "source": [
    "def get_type_correlation(independent_feature:pd.Series, target_feature:pd.Series, positive_correlation:list, negative_correlation:list):\n",
    "    from scipy import stats\n",
    "    corr = stats.spearmanr(independent_feature,target_feature).correlation\n",
    "    if corr > 0:\n",
    "        positive_correlation.append(independent_feature.name)\n",
    "    if corr < 0:\n",
    "        negative_correlation.append(independent_feature.name)\n",
    "        "
   ]
  },
  {
   "cell_type": "code",
   "execution_count": 181,
   "id": "0f811735",
   "metadata": {
    "pycharm": {
     "name": "#%%\n"
    }
   },
   "outputs": [],
   "source": [
    "positive_correlation = []\n",
    "negative_correlation = []\n",
    "for feature in logit_importances['Feature']:\n",
    "    get_type_correlation(final_analys_record_personal_access_one_hot[feature], final_analys_record_personal_access_one_hot['abandona'], positive_correlation, negative_correlation)"
   ]
  },
  {
   "cell_type": "code",
   "execution_count": 182,
   "id": "515de97d",
   "metadata": {
    "pycharm": {
     "name": "#%%\n"
    }
   },
   "outputs": [
    {
     "data": {
      "text/plain": [
       "['sexo_H',\n",
       " 'scolarship_N',\n",
       " 'cum_median_interval_(4.5, 6.0]',\n",
       " 'des_plan_GRADO EN EDUCACIÓN PRIMARIA (CÁCERES)',\n",
       " 'anio_apertura_expediente_2013-14',\n",
       " 'anio_nacimiento_1993',\n",
       " 'convocatoria_acceso_SEP',\n",
       " 'cum_absent',\n",
       " 'cum_median_interval_(3.0, 4.5]',\n",
       " 'des_acceso_Formación Profesional',\n",
       " '1st_model',\n",
       " 'anio_nacimiento_1992',\n",
       " 'anio_nacimiento_interval_(1985.0, 1990.0]',\n",
       " 'anio_nacimiento_1991',\n",
       " 'anio_nacimiento_1990',\n",
       " 'anio_nacimiento_interval_(1980.0, 1985.0]',\n",
       " 'anio_nacimiento_1985',\n",
       " 'anio_nacimiento_1989',\n",
       " 'anio_apertura_expediente_2010-11',\n",
       " 'anio_nacimiento_interval_(1990.0, 1995.0]']"
      ]
     },
     "execution_count": 182,
     "metadata": {},
     "output_type": "execute_result"
    }
   ],
   "source": [
    "positive_correlation"
   ]
  },
  {
   "cell_type": "code",
   "execution_count": 183,
   "id": "7e47b3af",
   "metadata": {
    "pycharm": {
     "name": "#%%\n"
    }
   },
   "outputs": [
    {
     "data": {
      "text/plain": [
       "['sexo_D',\n",
       " 'cum_median_interval_(6.0, 7.5]',\n",
       " 'des_plan_GRADO EN EDUCACIÓN INFANTIL (CÁCERES)',\n",
       " 'scolarship_S',\n",
       " 'des_plan_GRADO EN EDUCACIÓN SOCIAL',\n",
       " 'cum_median_interval_(7.5, 9.0]',\n",
       " 'anio_apertura_expediente_2015-16',\n",
       " 'anio_nacimiento_1994',\n",
       " 'anio_apertura_expediente_2016-17',\n",
       " 'anio_apertura_expediente_2014-15',\n",
       " 'anio_apertura_expediente_2012-13',\n",
       " 'anio_nacimiento_1995',\n",
       " 'convocatoria_acceso_JUN',\n",
       " 'des_plan_GRADO EN EDUCACIÓN PRIMARIA. Modalidad Bilingüe (Español-Inglés)',\n",
       " 'anio_nacimiento_interval_(1995.0, 2000.0]',\n",
       " 'des_acceso_Selectividad',\n",
       " 'convocatoria_acceso_EXT',\n",
       " 'cum_core_ratio',\n",
       " 'anio_nacimiento_1996',\n",
       " 'cum_median_interval_(9.0, 10.0]',\n",
       " 'anio_nacimiento_1998',\n",
       " 'nota_admision_def']"
      ]
     },
     "execution_count": 183,
     "metadata": {},
     "output_type": "execute_result"
    }
   ],
   "source": [
    "negative_correlation"
   ]
  },
  {
   "cell_type": "markdown",
   "id": "e10543fd",
   "metadata": {},
   "source": [
    "La correlación positiva indica que si se cumple el hecho que se está examinando, aumenta la probabilidad de abandono.\n",
    "\n",
    "La correlación negativa por el contrario, indica que si se cumple el hecho que se está examinando, disminuye la probabilidad de abandono."
   ]
  },
  {
   "cell_type": "code",
   "execution_count": 184,
   "id": "01d685fd",
   "metadata": {},
   "outputs": [],
   "source": [
    "import plotly.express as px\n"
   ]
  },
  {
   "cell_type": "code",
   "execution_count": 185,
   "id": "759a6f5f",
   "metadata": {},
   "outputs": [
    {
     "data": {
      "application/vnd.plotly.v1+json": {
       "config": {
        "plotlyServerURL": "https://plot.ly"
       },
       "data": [
        {
         "alignmentgroup": "True",
         "hovertemplate": "Feature=%{x}<br>Permutation_importance=%{y}<extra></extra>",
         "legendgroup": "",
         "marker": {
          "color": "#636efa"
         },
         "name": "",
         "offsetgroup": "",
         "orientation": "v",
         "showlegend": false,
         "textposition": "auto",
         "type": "bar",
         "x": [
          "sexo_D",
          "sexo_H",
          "scolarship_N",
          "cum_median_interval_(6.0, 7.5]",
          "des_plan_GRADO EN EDUCACIÓN INFANTIL (CÁCERES)",
          "scolarship_S",
          "cum_median_interval_(4.5, 6.0]",
          "des_plan_GRADO EN EDUCACIÓN SOCIAL",
          "cum_median_interval_(7.5, 9.0]",
          "anio_apertura_expediente_2015-16",
          "des_plan_GRADO EN EDUCACIÓN PRIMARIA (CÁCERES)",
          "anio_nacimiento_1994",
          "anio_apertura_expediente_2016-17",
          "anio_apertura_expediente_2013-14",
          "anio_apertura_expediente_2014-15",
          "anio_apertura_expediente_2012-13",
          "anio_nacimiento_1995",
          "convocatoria_acceso_JUN",
          "anio_nacimiento_1993",
          "des_plan_GRADO EN EDUCACIÓN PRIMARIA. Modalidad Bilingüe (Español-Inglés)",
          "convocatoria_acceso_SEP",
          "cum_absent",
          "cum_median_interval_(3.0, 4.5]",
          "des_acceso_Formación Profesional",
          "1st_model",
          "anio_nacimiento_1992",
          "anio_nacimiento_interval_(1985.0, 1990.0]",
          "anio_nacimiento_interval_(1995.0, 2000.0]",
          "anio_nacimiento_1991",
          "des_acceso_Selectividad",
          "convocatoria_acceso_EXT",
          "cum_core_ratio",
          "anio_nacimiento_1996",
          "anio_nacimiento_1990",
          "anio_nacimiento_interval_(1980.0, 1985.0]",
          "cum_median_interval_(9.0, 10.0]",
          "anio_nacimiento_1998",
          "nota_admision_def",
          "anio_nacimiento_1985",
          "anio_nacimiento_1989",
          "anio_apertura_expediente_2010-11",
          "anio_nacimiento_interval_(1990.0, 1995.0]"
         ],
         "xaxis": "x",
         "y": [
          0.10975609756097553,
          0.10924796747967476,
          0.10721544715447151,
          0.10111788617886175,
          0.0978997289972899,
          0.09671409214092137,
          0.06758130081300806,
          0.06334688346883466,
          0.06300813008130075,
          0.052676151761517596,
          0.04894986449864495,
          0.0360772357723577,
          0.03319783197831975,
          0.031842818428184226,
          0.030995934959349564,
          0.028285907859078547,
          0.025575880758807495,
          0.025406504065040598,
          0.023712737127371247,
          0.01778455284552838,
          0.016090785907859024,
          0.01490514905149043,
          0.014735772357723498,
          0.013719512195121871,
          0.013042005420054145,
          0.012364498644986418,
          0.009823848238482332,
          0.009485094850948431,
          0.008299457994579873,
          0.008130081300812941,
          0.007283197831978246,
          0.0059281842818427926,
          0.005081300813008061,
          0.003387533875338707,
          0.0032181571815717755,
          0.003048780487804844,
          0.0027100271002709433,
          0.0022018970189701483,
          0.0016937669376693165,
          0.0013550135501354532,
          0.0013550135501354532,
          0.0010162601626015528
         ],
         "yaxis": "y"
        }
       ],
       "layout": {
        "barmode": "relative",
        "legend": {
         "tracegroupgap": 0
        },
        "margin": {
         "t": 60
        },
        "template": {
         "data": {
          "bar": [
           {
            "error_x": {
             "color": "#2a3f5f"
            },
            "error_y": {
             "color": "#2a3f5f"
            },
            "marker": {
             "line": {
              "color": "#E5ECF6",
              "width": 0.5
             }
            },
            "type": "bar"
           }
          ],
          "barpolar": [
           {
            "marker": {
             "line": {
              "color": "#E5ECF6",
              "width": 0.5
             }
            },
            "type": "barpolar"
           }
          ],
          "carpet": [
           {
            "aaxis": {
             "endlinecolor": "#2a3f5f",
             "gridcolor": "white",
             "linecolor": "white",
             "minorgridcolor": "white",
             "startlinecolor": "#2a3f5f"
            },
            "baxis": {
             "endlinecolor": "#2a3f5f",
             "gridcolor": "white",
             "linecolor": "white",
             "minorgridcolor": "white",
             "startlinecolor": "#2a3f5f"
            },
            "type": "carpet"
           }
          ],
          "choropleth": [
           {
            "colorbar": {
             "outlinewidth": 0,
             "ticks": ""
            },
            "type": "choropleth"
           }
          ],
          "contour": [
           {
            "colorbar": {
             "outlinewidth": 0,
             "ticks": ""
            },
            "colorscale": [
             [
              0,
              "#0d0887"
             ],
             [
              0.1111111111111111,
              "#46039f"
             ],
             [
              0.2222222222222222,
              "#7201a8"
             ],
             [
              0.3333333333333333,
              "#9c179e"
             ],
             [
              0.4444444444444444,
              "#bd3786"
             ],
             [
              0.5555555555555556,
              "#d8576b"
             ],
             [
              0.6666666666666666,
              "#ed7953"
             ],
             [
              0.7777777777777778,
              "#fb9f3a"
             ],
             [
              0.8888888888888888,
              "#fdca26"
             ],
             [
              1,
              "#f0f921"
             ]
            ],
            "type": "contour"
           }
          ],
          "contourcarpet": [
           {
            "colorbar": {
             "outlinewidth": 0,
             "ticks": ""
            },
            "type": "contourcarpet"
           }
          ],
          "heatmap": [
           {
            "colorbar": {
             "outlinewidth": 0,
             "ticks": ""
            },
            "colorscale": [
             [
              0,
              "#0d0887"
             ],
             [
              0.1111111111111111,
              "#46039f"
             ],
             [
              0.2222222222222222,
              "#7201a8"
             ],
             [
              0.3333333333333333,
              "#9c179e"
             ],
             [
              0.4444444444444444,
              "#bd3786"
             ],
             [
              0.5555555555555556,
              "#d8576b"
             ],
             [
              0.6666666666666666,
              "#ed7953"
             ],
             [
              0.7777777777777778,
              "#fb9f3a"
             ],
             [
              0.8888888888888888,
              "#fdca26"
             ],
             [
              1,
              "#f0f921"
             ]
            ],
            "type": "heatmap"
           }
          ],
          "heatmapgl": [
           {
            "colorbar": {
             "outlinewidth": 0,
             "ticks": ""
            },
            "colorscale": [
             [
              0,
              "#0d0887"
             ],
             [
              0.1111111111111111,
              "#46039f"
             ],
             [
              0.2222222222222222,
              "#7201a8"
             ],
             [
              0.3333333333333333,
              "#9c179e"
             ],
             [
              0.4444444444444444,
              "#bd3786"
             ],
             [
              0.5555555555555556,
              "#d8576b"
             ],
             [
              0.6666666666666666,
              "#ed7953"
             ],
             [
              0.7777777777777778,
              "#fb9f3a"
             ],
             [
              0.8888888888888888,
              "#fdca26"
             ],
             [
              1,
              "#f0f921"
             ]
            ],
            "type": "heatmapgl"
           }
          ],
          "histogram": [
           {
            "marker": {
             "colorbar": {
              "outlinewidth": 0,
              "ticks": ""
             }
            },
            "type": "histogram"
           }
          ],
          "histogram2d": [
           {
            "colorbar": {
             "outlinewidth": 0,
             "ticks": ""
            },
            "colorscale": [
             [
              0,
              "#0d0887"
             ],
             [
              0.1111111111111111,
              "#46039f"
             ],
             [
              0.2222222222222222,
              "#7201a8"
             ],
             [
              0.3333333333333333,
              "#9c179e"
             ],
             [
              0.4444444444444444,
              "#bd3786"
             ],
             [
              0.5555555555555556,
              "#d8576b"
             ],
             [
              0.6666666666666666,
              "#ed7953"
             ],
             [
              0.7777777777777778,
              "#fb9f3a"
             ],
             [
              0.8888888888888888,
              "#fdca26"
             ],
             [
              1,
              "#f0f921"
             ]
            ],
            "type": "histogram2d"
           }
          ],
          "histogram2dcontour": [
           {
            "colorbar": {
             "outlinewidth": 0,
             "ticks": ""
            },
            "colorscale": [
             [
              0,
              "#0d0887"
             ],
             [
              0.1111111111111111,
              "#46039f"
             ],
             [
              0.2222222222222222,
              "#7201a8"
             ],
             [
              0.3333333333333333,
              "#9c179e"
             ],
             [
              0.4444444444444444,
              "#bd3786"
             ],
             [
              0.5555555555555556,
              "#d8576b"
             ],
             [
              0.6666666666666666,
              "#ed7953"
             ],
             [
              0.7777777777777778,
              "#fb9f3a"
             ],
             [
              0.8888888888888888,
              "#fdca26"
             ],
             [
              1,
              "#f0f921"
             ]
            ],
            "type": "histogram2dcontour"
           }
          ],
          "mesh3d": [
           {
            "colorbar": {
             "outlinewidth": 0,
             "ticks": ""
            },
            "type": "mesh3d"
           }
          ],
          "parcoords": [
           {
            "line": {
             "colorbar": {
              "outlinewidth": 0,
              "ticks": ""
             }
            },
            "type": "parcoords"
           }
          ],
          "pie": [
           {
            "automargin": true,
            "type": "pie"
           }
          ],
          "scatter": [
           {
            "marker": {
             "colorbar": {
              "outlinewidth": 0,
              "ticks": ""
             }
            },
            "type": "scatter"
           }
          ],
          "scatter3d": [
           {
            "line": {
             "colorbar": {
              "outlinewidth": 0,
              "ticks": ""
             }
            },
            "marker": {
             "colorbar": {
              "outlinewidth": 0,
              "ticks": ""
             }
            },
            "type": "scatter3d"
           }
          ],
          "scattercarpet": [
           {
            "marker": {
             "colorbar": {
              "outlinewidth": 0,
              "ticks": ""
             }
            },
            "type": "scattercarpet"
           }
          ],
          "scattergeo": [
           {
            "marker": {
             "colorbar": {
              "outlinewidth": 0,
              "ticks": ""
             }
            },
            "type": "scattergeo"
           }
          ],
          "scattergl": [
           {
            "marker": {
             "colorbar": {
              "outlinewidth": 0,
              "ticks": ""
             }
            },
            "type": "scattergl"
           }
          ],
          "scattermapbox": [
           {
            "marker": {
             "colorbar": {
              "outlinewidth": 0,
              "ticks": ""
             }
            },
            "type": "scattermapbox"
           }
          ],
          "scatterpolar": [
           {
            "marker": {
             "colorbar": {
              "outlinewidth": 0,
              "ticks": ""
             }
            },
            "type": "scatterpolar"
           }
          ],
          "scatterpolargl": [
           {
            "marker": {
             "colorbar": {
              "outlinewidth": 0,
              "ticks": ""
             }
            },
            "type": "scatterpolargl"
           }
          ],
          "scatterternary": [
           {
            "marker": {
             "colorbar": {
              "outlinewidth": 0,
              "ticks": ""
             }
            },
            "type": "scatterternary"
           }
          ],
          "surface": [
           {
            "colorbar": {
             "outlinewidth": 0,
             "ticks": ""
            },
            "colorscale": [
             [
              0,
              "#0d0887"
             ],
             [
              0.1111111111111111,
              "#46039f"
             ],
             [
              0.2222222222222222,
              "#7201a8"
             ],
             [
              0.3333333333333333,
              "#9c179e"
             ],
             [
              0.4444444444444444,
              "#bd3786"
             ],
             [
              0.5555555555555556,
              "#d8576b"
             ],
             [
              0.6666666666666666,
              "#ed7953"
             ],
             [
              0.7777777777777778,
              "#fb9f3a"
             ],
             [
              0.8888888888888888,
              "#fdca26"
             ],
             [
              1,
              "#f0f921"
             ]
            ],
            "type": "surface"
           }
          ],
          "table": [
           {
            "cells": {
             "fill": {
              "color": "#EBF0F8"
             },
             "line": {
              "color": "white"
             }
            },
            "header": {
             "fill": {
              "color": "#C8D4E3"
             },
             "line": {
              "color": "white"
             }
            },
            "type": "table"
           }
          ]
         },
         "layout": {
          "annotationdefaults": {
           "arrowcolor": "#2a3f5f",
           "arrowhead": 0,
           "arrowwidth": 1
          },
          "autotypenumbers": "strict",
          "coloraxis": {
           "colorbar": {
            "outlinewidth": 0,
            "ticks": ""
           }
          },
          "colorscale": {
           "diverging": [
            [
             0,
             "#8e0152"
            ],
            [
             0.1,
             "#c51b7d"
            ],
            [
             0.2,
             "#de77ae"
            ],
            [
             0.3,
             "#f1b6da"
            ],
            [
             0.4,
             "#fde0ef"
            ],
            [
             0.5,
             "#f7f7f7"
            ],
            [
             0.6,
             "#e6f5d0"
            ],
            [
             0.7,
             "#b8e186"
            ],
            [
             0.8,
             "#7fbc41"
            ],
            [
             0.9,
             "#4d9221"
            ],
            [
             1,
             "#276419"
            ]
           ],
           "sequential": [
            [
             0,
             "#0d0887"
            ],
            [
             0.1111111111111111,
             "#46039f"
            ],
            [
             0.2222222222222222,
             "#7201a8"
            ],
            [
             0.3333333333333333,
             "#9c179e"
            ],
            [
             0.4444444444444444,
             "#bd3786"
            ],
            [
             0.5555555555555556,
             "#d8576b"
            ],
            [
             0.6666666666666666,
             "#ed7953"
            ],
            [
             0.7777777777777778,
             "#fb9f3a"
            ],
            [
             0.8888888888888888,
             "#fdca26"
            ],
            [
             1,
             "#f0f921"
            ]
           ],
           "sequentialminus": [
            [
             0,
             "#0d0887"
            ],
            [
             0.1111111111111111,
             "#46039f"
            ],
            [
             0.2222222222222222,
             "#7201a8"
            ],
            [
             0.3333333333333333,
             "#9c179e"
            ],
            [
             0.4444444444444444,
             "#bd3786"
            ],
            [
             0.5555555555555556,
             "#d8576b"
            ],
            [
             0.6666666666666666,
             "#ed7953"
            ],
            [
             0.7777777777777778,
             "#fb9f3a"
            ],
            [
             0.8888888888888888,
             "#fdca26"
            ],
            [
             1,
             "#f0f921"
            ]
           ]
          },
          "colorway": [
           "#636efa",
           "#EF553B",
           "#00cc96",
           "#ab63fa",
           "#FFA15A",
           "#19d3f3",
           "#FF6692",
           "#B6E880",
           "#FF97FF",
           "#FECB52"
          ],
          "font": {
           "color": "#2a3f5f"
          },
          "geo": {
           "bgcolor": "white",
           "lakecolor": "white",
           "landcolor": "#E5ECF6",
           "showlakes": true,
           "showland": true,
           "subunitcolor": "white"
          },
          "hoverlabel": {
           "align": "left"
          },
          "hovermode": "closest",
          "mapbox": {
           "style": "light"
          },
          "paper_bgcolor": "white",
          "plot_bgcolor": "#E5ECF6",
          "polar": {
           "angularaxis": {
            "gridcolor": "white",
            "linecolor": "white",
            "ticks": ""
           },
           "bgcolor": "#E5ECF6",
           "radialaxis": {
            "gridcolor": "white",
            "linecolor": "white",
            "ticks": ""
           }
          },
          "scene": {
           "xaxis": {
            "backgroundcolor": "#E5ECF6",
            "gridcolor": "white",
            "gridwidth": 2,
            "linecolor": "white",
            "showbackground": true,
            "ticks": "",
            "zerolinecolor": "white"
           },
           "yaxis": {
            "backgroundcolor": "#E5ECF6",
            "gridcolor": "white",
            "gridwidth": 2,
            "linecolor": "white",
            "showbackground": true,
            "ticks": "",
            "zerolinecolor": "white"
           },
           "zaxis": {
            "backgroundcolor": "#E5ECF6",
            "gridcolor": "white",
            "gridwidth": 2,
            "linecolor": "white",
            "showbackground": true,
            "ticks": "",
            "zerolinecolor": "white"
           }
          },
          "shapedefaults": {
           "line": {
            "color": "#2a3f5f"
           }
          },
          "ternary": {
           "aaxis": {
            "gridcolor": "white",
            "linecolor": "white",
            "ticks": ""
           },
           "baxis": {
            "gridcolor": "white",
            "linecolor": "white",
            "ticks": ""
           },
           "bgcolor": "#E5ECF6",
           "caxis": {
            "gridcolor": "white",
            "linecolor": "white",
            "ticks": ""
           }
          },
          "title": {
           "x": 0.05
          },
          "xaxis": {
           "automargin": true,
           "gridcolor": "white",
           "linecolor": "white",
           "ticks": "",
           "title": {
            "standoff": 15
           },
           "zerolinecolor": "white",
           "zerolinewidth": 2
          },
          "yaxis": {
           "automargin": true,
           "gridcolor": "white",
           "linecolor": "white",
           "ticks": "",
           "title": {
            "standoff": 15
           },
           "zerolinecolor": "white",
           "zerolinewidth": 2
          }
         }
        },
        "xaxis": {
         "anchor": "y",
         "domain": [
          0,
          1
         ],
         "title": {
          "text": "Feature"
         }
        },
        "yaxis": {
         "anchor": "x",
         "domain": [
          0,
          1
         ],
         "title": {
          "text": "Permutation_importance"
         }
        }
       }
      },
      "text/html": [
       "<div>                            <div id=\"ec2abb72-d955-4faf-96e0-1cbbf711bfbd\" class=\"plotly-graph-div\" style=\"height:525px; width:100%;\"></div>            <script type=\"text/javascript\">                require([\"plotly\"], function(Plotly) {                    window.PLOTLYENV=window.PLOTLYENV || {};                                    if (document.getElementById(\"ec2abb72-d955-4faf-96e0-1cbbf711bfbd\")) {                    Plotly.newPlot(                        \"ec2abb72-d955-4faf-96e0-1cbbf711bfbd\",                        [{\"alignmentgroup\": \"True\", \"hovertemplate\": \"Feature=%{x}<br>Permutation_importance=%{y}<extra></extra>\", \"legendgroup\": \"\", \"marker\": {\"color\": \"#636efa\"}, \"name\": \"\", \"offsetgroup\": \"\", \"orientation\": \"v\", \"showlegend\": false, \"textposition\": \"auto\", \"type\": \"bar\", \"x\": [\"sexo_D\", \"sexo_H\", \"scolarship_N\", \"cum_median_interval_(6.0, 7.5]\", \"des_plan_GRADO EN EDUCACI\\u00d3N INFANTIL (C\\u00c1CERES)\", \"scolarship_S\", \"cum_median_interval_(4.5, 6.0]\", \"des_plan_GRADO EN EDUCACI\\u00d3N SOCIAL\", \"cum_median_interval_(7.5, 9.0]\", \"anio_apertura_expediente_2015-16\", \"des_plan_GRADO EN EDUCACI\\u00d3N PRIMARIA (C\\u00c1CERES)\", \"anio_nacimiento_1994\", \"anio_apertura_expediente_2016-17\", \"anio_apertura_expediente_2013-14\", \"anio_apertura_expediente_2014-15\", \"anio_apertura_expediente_2012-13\", \"anio_nacimiento_1995\", \"convocatoria_acceso_JUN\", \"anio_nacimiento_1993\", \"des_plan_GRADO EN EDUCACI\\u00d3N PRIMARIA. Modalidad Biling\\u00fce (Espa\\u00f1ol-Ingl\\u00e9s)\", \"convocatoria_acceso_SEP\", \"cum_absent\", \"cum_median_interval_(3.0, 4.5]\", \"des_acceso_Formaci\\u00f3n Profesional\", \"1st_model\", \"anio_nacimiento_1992\", \"anio_nacimiento_interval_(1985.0, 1990.0]\", \"anio_nacimiento_interval_(1995.0, 2000.0]\", \"anio_nacimiento_1991\", \"des_acceso_Selectividad\", \"convocatoria_acceso_EXT\", \"cum_core_ratio\", \"anio_nacimiento_1996\", \"anio_nacimiento_1990\", \"anio_nacimiento_interval_(1980.0, 1985.0]\", \"cum_median_interval_(9.0, 10.0]\", \"anio_nacimiento_1998\", \"nota_admision_def\", \"anio_nacimiento_1985\", \"anio_nacimiento_1989\", \"anio_apertura_expediente_2010-11\", \"anio_nacimiento_interval_(1990.0, 1995.0]\"], \"xaxis\": \"x\", \"y\": [0.10975609756097553, 0.10924796747967476, 0.10721544715447151, 0.10111788617886175, 0.0978997289972899, 0.09671409214092137, 0.06758130081300806, 0.06334688346883466, 0.06300813008130075, 0.052676151761517596, 0.04894986449864495, 0.0360772357723577, 0.03319783197831975, 0.031842818428184226, 0.030995934959349564, 0.028285907859078547, 0.025575880758807495, 0.025406504065040598, 0.023712737127371247, 0.01778455284552838, 0.016090785907859024, 0.01490514905149043, 0.014735772357723498, 0.013719512195121871, 0.013042005420054145, 0.012364498644986418, 0.009823848238482332, 0.009485094850948431, 0.008299457994579873, 0.008130081300812941, 0.007283197831978246, 0.0059281842818427926, 0.005081300813008061, 0.003387533875338707, 0.0032181571815717755, 0.003048780487804844, 0.0027100271002709433, 0.0022018970189701483, 0.0016937669376693165, 0.0013550135501354532, 0.0013550135501354532, 0.0010162601626015528], \"yaxis\": \"y\"}],                        {\"barmode\": \"relative\", \"legend\": {\"tracegroupgap\": 0}, \"margin\": {\"t\": 60}, \"template\": {\"data\": {\"bar\": [{\"error_x\": {\"color\": \"#2a3f5f\"}, \"error_y\": {\"color\": \"#2a3f5f\"}, \"marker\": {\"line\": {\"color\": \"#E5ECF6\", \"width\": 0.5}}, \"type\": \"bar\"}], \"barpolar\": [{\"marker\": {\"line\": {\"color\": \"#E5ECF6\", \"width\": 0.5}}, \"type\": \"barpolar\"}], \"carpet\": [{\"aaxis\": {\"endlinecolor\": \"#2a3f5f\", \"gridcolor\": \"white\", \"linecolor\": \"white\", \"minorgridcolor\": \"white\", \"startlinecolor\": \"#2a3f5f\"}, \"baxis\": {\"endlinecolor\": \"#2a3f5f\", \"gridcolor\": \"white\", \"linecolor\": \"white\", \"minorgridcolor\": \"white\", \"startlinecolor\": \"#2a3f5f\"}, \"type\": \"carpet\"}], \"choropleth\": [{\"colorbar\": {\"outlinewidth\": 0, \"ticks\": \"\"}, \"type\": \"choropleth\"}], \"contour\": [{\"colorbar\": {\"outlinewidth\": 0, \"ticks\": \"\"}, \"colorscale\": [[0.0, \"#0d0887\"], [0.1111111111111111, \"#46039f\"], [0.2222222222222222, \"#7201a8\"], [0.3333333333333333, \"#9c179e\"], [0.4444444444444444, \"#bd3786\"], [0.5555555555555556, \"#d8576b\"], [0.6666666666666666, \"#ed7953\"], [0.7777777777777778, \"#fb9f3a\"], [0.8888888888888888, \"#fdca26\"], [1.0, \"#f0f921\"]], \"type\": \"contour\"}], \"contourcarpet\": [{\"colorbar\": {\"outlinewidth\": 0, \"ticks\": \"\"}, \"type\": \"contourcarpet\"}], \"heatmap\": [{\"colorbar\": {\"outlinewidth\": 0, \"ticks\": \"\"}, \"colorscale\": [[0.0, \"#0d0887\"], [0.1111111111111111, \"#46039f\"], [0.2222222222222222, \"#7201a8\"], [0.3333333333333333, \"#9c179e\"], [0.4444444444444444, \"#bd3786\"], [0.5555555555555556, \"#d8576b\"], [0.6666666666666666, \"#ed7953\"], [0.7777777777777778, \"#fb9f3a\"], [0.8888888888888888, \"#fdca26\"], [1.0, \"#f0f921\"]], \"type\": \"heatmap\"}], \"heatmapgl\": [{\"colorbar\": {\"outlinewidth\": 0, \"ticks\": \"\"}, \"colorscale\": [[0.0, \"#0d0887\"], [0.1111111111111111, \"#46039f\"], [0.2222222222222222, \"#7201a8\"], [0.3333333333333333, \"#9c179e\"], [0.4444444444444444, \"#bd3786\"], [0.5555555555555556, \"#d8576b\"], [0.6666666666666666, \"#ed7953\"], [0.7777777777777778, \"#fb9f3a\"], [0.8888888888888888, \"#fdca26\"], [1.0, \"#f0f921\"]], \"type\": \"heatmapgl\"}], \"histogram\": [{\"marker\": {\"colorbar\": {\"outlinewidth\": 0, \"ticks\": \"\"}}, \"type\": \"histogram\"}], \"histogram2d\": [{\"colorbar\": {\"outlinewidth\": 0, \"ticks\": \"\"}, \"colorscale\": [[0.0, \"#0d0887\"], [0.1111111111111111, \"#46039f\"], [0.2222222222222222, \"#7201a8\"], [0.3333333333333333, \"#9c179e\"], [0.4444444444444444, \"#bd3786\"], [0.5555555555555556, \"#d8576b\"], [0.6666666666666666, \"#ed7953\"], [0.7777777777777778, \"#fb9f3a\"], [0.8888888888888888, \"#fdca26\"], [1.0, \"#f0f921\"]], \"type\": \"histogram2d\"}], \"histogram2dcontour\": [{\"colorbar\": {\"outlinewidth\": 0, \"ticks\": \"\"}, \"colorscale\": [[0.0, \"#0d0887\"], [0.1111111111111111, \"#46039f\"], [0.2222222222222222, \"#7201a8\"], [0.3333333333333333, \"#9c179e\"], [0.4444444444444444, \"#bd3786\"], [0.5555555555555556, \"#d8576b\"], [0.6666666666666666, \"#ed7953\"], [0.7777777777777778, \"#fb9f3a\"], [0.8888888888888888, \"#fdca26\"], [1.0, \"#f0f921\"]], \"type\": \"histogram2dcontour\"}], \"mesh3d\": [{\"colorbar\": {\"outlinewidth\": 0, \"ticks\": \"\"}, \"type\": \"mesh3d\"}], \"parcoords\": [{\"line\": {\"colorbar\": {\"outlinewidth\": 0, \"ticks\": \"\"}}, \"type\": \"parcoords\"}], \"pie\": [{\"automargin\": true, \"type\": \"pie\"}], \"scatter\": [{\"marker\": {\"colorbar\": {\"outlinewidth\": 0, \"ticks\": \"\"}}, \"type\": \"scatter\"}], \"scatter3d\": [{\"line\": {\"colorbar\": {\"outlinewidth\": 0, \"ticks\": \"\"}}, \"marker\": {\"colorbar\": {\"outlinewidth\": 0, \"ticks\": \"\"}}, \"type\": \"scatter3d\"}], \"scattercarpet\": [{\"marker\": {\"colorbar\": {\"outlinewidth\": 0, \"ticks\": \"\"}}, \"type\": \"scattercarpet\"}], \"scattergeo\": [{\"marker\": {\"colorbar\": {\"outlinewidth\": 0, \"ticks\": \"\"}}, \"type\": \"scattergeo\"}], \"scattergl\": [{\"marker\": {\"colorbar\": {\"outlinewidth\": 0, \"ticks\": \"\"}}, \"type\": \"scattergl\"}], \"scattermapbox\": [{\"marker\": {\"colorbar\": {\"outlinewidth\": 0, \"ticks\": \"\"}}, \"type\": \"scattermapbox\"}], \"scatterpolar\": [{\"marker\": {\"colorbar\": {\"outlinewidth\": 0, \"ticks\": \"\"}}, \"type\": \"scatterpolar\"}], \"scatterpolargl\": [{\"marker\": {\"colorbar\": {\"outlinewidth\": 0, \"ticks\": \"\"}}, \"type\": \"scatterpolargl\"}], \"scatterternary\": [{\"marker\": {\"colorbar\": {\"outlinewidth\": 0, \"ticks\": \"\"}}, \"type\": \"scatterternary\"}], \"surface\": [{\"colorbar\": {\"outlinewidth\": 0, \"ticks\": \"\"}, \"colorscale\": [[0.0, \"#0d0887\"], [0.1111111111111111, \"#46039f\"], [0.2222222222222222, \"#7201a8\"], [0.3333333333333333, \"#9c179e\"], [0.4444444444444444, \"#bd3786\"], [0.5555555555555556, \"#d8576b\"], [0.6666666666666666, \"#ed7953\"], [0.7777777777777778, \"#fb9f3a\"], [0.8888888888888888, \"#fdca26\"], [1.0, \"#f0f921\"]], \"type\": \"surface\"}], \"table\": [{\"cells\": {\"fill\": {\"color\": \"#EBF0F8\"}, \"line\": {\"color\": \"white\"}}, \"header\": {\"fill\": {\"color\": \"#C8D4E3\"}, \"line\": {\"color\": \"white\"}}, \"type\": \"table\"}]}, \"layout\": {\"annotationdefaults\": {\"arrowcolor\": \"#2a3f5f\", \"arrowhead\": 0, \"arrowwidth\": 1}, \"autotypenumbers\": \"strict\", \"coloraxis\": {\"colorbar\": {\"outlinewidth\": 0, \"ticks\": \"\"}}, \"colorscale\": {\"diverging\": [[0, \"#8e0152\"], [0.1, \"#c51b7d\"], [0.2, \"#de77ae\"], [0.3, \"#f1b6da\"], [0.4, \"#fde0ef\"], [0.5, \"#f7f7f7\"], [0.6, \"#e6f5d0\"], [0.7, \"#b8e186\"], [0.8, \"#7fbc41\"], [0.9, \"#4d9221\"], [1, \"#276419\"]], \"sequential\": [[0.0, \"#0d0887\"], [0.1111111111111111, \"#46039f\"], [0.2222222222222222, \"#7201a8\"], [0.3333333333333333, \"#9c179e\"], [0.4444444444444444, \"#bd3786\"], [0.5555555555555556, \"#d8576b\"], [0.6666666666666666, \"#ed7953\"], [0.7777777777777778, \"#fb9f3a\"], [0.8888888888888888, \"#fdca26\"], [1.0, \"#f0f921\"]], \"sequentialminus\": [[0.0, \"#0d0887\"], [0.1111111111111111, \"#46039f\"], [0.2222222222222222, \"#7201a8\"], [0.3333333333333333, \"#9c179e\"], [0.4444444444444444, \"#bd3786\"], [0.5555555555555556, \"#d8576b\"], [0.6666666666666666, \"#ed7953\"], [0.7777777777777778, \"#fb9f3a\"], [0.8888888888888888, \"#fdca26\"], [1.0, \"#f0f921\"]]}, \"colorway\": [\"#636efa\", \"#EF553B\", \"#00cc96\", \"#ab63fa\", \"#FFA15A\", \"#19d3f3\", \"#FF6692\", \"#B6E880\", \"#FF97FF\", \"#FECB52\"], \"font\": {\"color\": \"#2a3f5f\"}, \"geo\": {\"bgcolor\": \"white\", \"lakecolor\": \"white\", \"landcolor\": \"#E5ECF6\", \"showlakes\": true, \"showland\": true, \"subunitcolor\": \"white\"}, \"hoverlabel\": {\"align\": \"left\"}, \"hovermode\": \"closest\", \"mapbox\": {\"style\": \"light\"}, \"paper_bgcolor\": \"white\", \"plot_bgcolor\": \"#E5ECF6\", \"polar\": {\"angularaxis\": {\"gridcolor\": \"white\", \"linecolor\": \"white\", \"ticks\": \"\"}, \"bgcolor\": \"#E5ECF6\", \"radialaxis\": {\"gridcolor\": \"white\", \"linecolor\": \"white\", \"ticks\": \"\"}}, \"scene\": {\"xaxis\": {\"backgroundcolor\": \"#E5ECF6\", \"gridcolor\": \"white\", \"gridwidth\": 2, \"linecolor\": \"white\", \"showbackground\": true, \"ticks\": \"\", \"zerolinecolor\": \"white\"}, \"yaxis\": {\"backgroundcolor\": \"#E5ECF6\", \"gridcolor\": \"white\", \"gridwidth\": 2, \"linecolor\": \"white\", \"showbackground\": true, \"ticks\": \"\", \"zerolinecolor\": \"white\"}, \"zaxis\": {\"backgroundcolor\": \"#E5ECF6\", \"gridcolor\": \"white\", \"gridwidth\": 2, \"linecolor\": \"white\", \"showbackground\": true, \"ticks\": \"\", \"zerolinecolor\": \"white\"}}, \"shapedefaults\": {\"line\": {\"color\": \"#2a3f5f\"}}, \"ternary\": {\"aaxis\": {\"gridcolor\": \"white\", \"linecolor\": \"white\", \"ticks\": \"\"}, \"baxis\": {\"gridcolor\": \"white\", \"linecolor\": \"white\", \"ticks\": \"\"}, \"bgcolor\": \"#E5ECF6\", \"caxis\": {\"gridcolor\": \"white\", \"linecolor\": \"white\", \"ticks\": \"\"}}, \"title\": {\"x\": 0.05}, \"xaxis\": {\"automargin\": true, \"gridcolor\": \"white\", \"linecolor\": \"white\", \"ticks\": \"\", \"title\": {\"standoff\": 15}, \"zerolinecolor\": \"white\", \"zerolinewidth\": 2}, \"yaxis\": {\"automargin\": true, \"gridcolor\": \"white\", \"linecolor\": \"white\", \"ticks\": \"\", \"title\": {\"standoff\": 15}, \"zerolinecolor\": \"white\", \"zerolinewidth\": 2}}}, \"xaxis\": {\"anchor\": \"y\", \"domain\": [0.0, 1.0], \"title\": {\"text\": \"Feature\"}}, \"yaxis\": {\"anchor\": \"x\", \"domain\": [0.0, 1.0], \"title\": {\"text\": \"Permutation_importance\"}}},                        {\"responsive\": true}                    ).then(function(){\n",
       "                            \n",
       "var gd = document.getElementById('ec2abb72-d955-4faf-96e0-1cbbf711bfbd');\n",
       "var x = new MutationObserver(function (mutations, observer) {{\n",
       "        var display = window.getComputedStyle(gd).display;\n",
       "        if (!display || display === 'none') {{\n",
       "            console.log([gd, 'removed!']);\n",
       "            Plotly.purge(gd);\n",
       "            observer.disconnect();\n",
       "        }}\n",
       "}});\n",
       "\n",
       "// Listen for the removal of the full notebook cells\n",
       "var notebookContainer = gd.closest('#notebook-container');\n",
       "if (notebookContainer) {{\n",
       "    x.observe(notebookContainer, {childList: true});\n",
       "}}\n",
       "\n",
       "// Listen for the clearing of the current output cell\n",
       "var outputEl = gd.closest('.output');\n",
       "if (outputEl) {{\n",
       "    x.observe(outputEl, {childList: true});\n",
       "}}\n",
       "\n",
       "                        })                };                });            </script>        </div>"
      ]
     },
     "metadata": {},
     "output_type": "display_data"
    }
   ],
   "source": [
    "fig = px.bar(logit_importances, x='Feature', y='Permutation_importance')\n",
    "fig.show()"
   ]
  },
  {
   "cell_type": "code",
   "execution_count": 186,
   "id": "53509442",
   "metadata": {},
   "outputs": [],
   "source": [
    "def get_type_correlation(independent_feature:pd.Series, target_feature:pd.Series, positive_correlation:list, negative_correlation:list):\n",
    "    from scipy import stats\n",
    "    corr = stats.spearmanr(independent_feature,target_feature).correlation\n",
    "    if corr > 0:\n",
    "        positive_correlation.append(independent_feature.name)\n",
    "    if corr < 0:\n",
    "        negative_correlation.append(independent_feature.name)\n",
    "        "
   ]
  },
  {
   "cell_type": "code",
   "execution_count": 187,
   "id": "5ce69986",
   "metadata": {},
   "outputs": [],
   "source": [
    "positive_correlation = []\n",
    "negative_correlation = []\n",
    "for feature in logit_importances['Feature']:\n",
    "    get_type_correlation(final_analys_record_personal_access_one_hot[feature], final_analys_record_personal_access_one_hot['abandona'], positive_correlation, negative_correlation)"
   ]
  },
  {
   "cell_type": "code",
   "execution_count": 188,
   "id": "b657ac20",
   "metadata": {},
   "outputs": [
    {
     "data": {
      "text/plain": [
       "['sexo_H',\n",
       " 'scolarship_N',\n",
       " 'cum_median_interval_(4.5, 6.0]',\n",
       " 'des_plan_GRADO EN EDUCACIÓN PRIMARIA (CÁCERES)',\n",
       " 'anio_apertura_expediente_2013-14',\n",
       " 'anio_nacimiento_1993',\n",
       " 'convocatoria_acceso_SEP',\n",
       " 'cum_absent',\n",
       " 'cum_median_interval_(3.0, 4.5]',\n",
       " 'des_acceso_Formación Profesional',\n",
       " '1st_model',\n",
       " 'anio_nacimiento_1992',\n",
       " 'anio_nacimiento_interval_(1985.0, 1990.0]',\n",
       " 'anio_nacimiento_1991',\n",
       " 'anio_nacimiento_1990',\n",
       " 'anio_nacimiento_interval_(1980.0, 1985.0]',\n",
       " 'anio_nacimiento_1985',\n",
       " 'anio_nacimiento_1989',\n",
       " 'anio_apertura_expediente_2010-11',\n",
       " 'anio_nacimiento_interval_(1990.0, 1995.0]']"
      ]
     },
     "execution_count": 188,
     "metadata": {},
     "output_type": "execute_result"
    }
   ],
   "source": [
    "positive_correlation"
   ]
  },
  {
   "cell_type": "code",
   "execution_count": 189,
   "id": "0799f7f9",
   "metadata": {
    "scrolled": true
   },
   "outputs": [
    {
     "data": {
      "text/plain": [
       "['sexo_D',\n",
       " 'cum_median_interval_(6.0, 7.5]',\n",
       " 'des_plan_GRADO EN EDUCACIÓN INFANTIL (CÁCERES)',\n",
       " 'scolarship_S',\n",
       " 'des_plan_GRADO EN EDUCACIÓN SOCIAL',\n",
       " 'cum_median_interval_(7.5, 9.0]',\n",
       " 'anio_apertura_expediente_2015-16',\n",
       " 'anio_nacimiento_1994',\n",
       " 'anio_apertura_expediente_2016-17',\n",
       " 'anio_apertura_expediente_2014-15',\n",
       " 'anio_apertura_expediente_2012-13',\n",
       " 'anio_nacimiento_1995',\n",
       " 'convocatoria_acceso_JUN',\n",
       " 'des_plan_GRADO EN EDUCACIÓN PRIMARIA. Modalidad Bilingüe (Español-Inglés)',\n",
       " 'anio_nacimiento_interval_(1995.0, 2000.0]',\n",
       " 'des_acceso_Selectividad',\n",
       " 'convocatoria_acceso_EXT',\n",
       " 'cum_core_ratio',\n",
       " 'anio_nacimiento_1996',\n",
       " 'cum_median_interval_(9.0, 10.0]',\n",
       " 'anio_nacimiento_1998',\n",
       " 'nota_admision_def']"
      ]
     },
     "execution_count": 189,
     "metadata": {},
     "output_type": "execute_result"
    }
   ],
   "source": [
    "negative_correlation"
   ]
  },
  {
   "cell_type": "markdown",
   "id": "87b4d07a",
   "metadata": {},
   "source": [
    "La correlación positiva indica que si se cumple el hecho que se está examinando, aumenta la probabilidad de abandono.\n",
    "\n",
    "La correlación negativa por el contrario, indica que si se cumple el hecho que se está examinando, disminuye la probabilidad de abandono."
   ]
  },
  {
   "cell_type": "code",
   "execution_count": 190,
   "id": "b961d1c7",
   "metadata": {},
   "outputs": [],
   "source": [
    "final_analys_record_personal_access['2nd_model'] = y_pred"
   ]
  },
  {
   "cell_type": "code",
   "execution_count": 191,
   "id": "915e6f74",
   "metadata": {},
   "outputs": [
    {
     "data": {
      "text/html": [
       "<div>\n",
       "<style scoped>\n",
       "    .dataframe tbody tr th:only-of-type {\n",
       "        vertical-align: middle;\n",
       "    }\n",
       "\n",
       "    .dataframe tbody tr th {\n",
       "        vertical-align: top;\n",
       "    }\n",
       "\n",
       "    .dataframe thead th {\n",
       "        text-align: right;\n",
       "    }\n",
       "</style>\n",
       "<table border=\"1\" class=\"dataframe\">\n",
       "  <thead>\n",
       "    <tr style=\"text-align: right;\">\n",
       "      <th></th>\n",
       "      <th>des_plan</th>\n",
       "      <th>anio_apertura_expediente</th>\n",
       "      <th>abandona</th>\n",
       "      <th>convocatoria_acceso</th>\n",
       "      <th>des_acceso</th>\n",
       "      <th>sexo</th>\n",
       "      <th>anio_nacimiento</th>\n",
       "      <th>anio_nacimiento_interval</th>\n",
       "      <th>1st_model</th>\n",
       "      <th>scolarship</th>\n",
       "      <th>cum_absent</th>\n",
       "      <th>cum_core_ratio</th>\n",
       "      <th>nota_admision_def</th>\n",
       "      <th>expediente</th>\n",
       "      <th>cod_plan</th>\n",
       "      <th>cum_median_interval</th>\n",
       "      <th>2nd_model</th>\n",
       "    </tr>\n",
       "  </thead>\n",
       "  <tbody>\n",
       "    <tr>\n",
       "      <th>0</th>\n",
       "      <td>GRADO EN EDUCACIÓN SOCIAL</td>\n",
       "      <td>2010-11</td>\n",
       "      <td>0</td>\n",
       "      <td>JUN</td>\n",
       "      <td>Selectividad</td>\n",
       "      <td>D</td>\n",
       "      <td>1992</td>\n",
       "      <td>(1990.0, 1995.0]</td>\n",
       "      <td>0</td>\n",
       "      <td>N</td>\n",
       "      <td>0.000000</td>\n",
       "      <td>1.000000</td>\n",
       "      <td>8.154</td>\n",
       "      <td>110</td>\n",
       "      <td>715</td>\n",
       "      <td>(6.0, 7.5]</td>\n",
       "      <td>0</td>\n",
       "    </tr>\n",
       "    <tr>\n",
       "      <th>1</th>\n",
       "      <td>GRADO EN EDUCACIÓN SOCIAL</td>\n",
       "      <td>2011-12</td>\n",
       "      <td>1</td>\n",
       "      <td>JUN</td>\n",
       "      <td>Selectividad</td>\n",
       "      <td>H</td>\n",
       "      <td>1992</td>\n",
       "      <td>(1990.0, 1995.0]</td>\n",
       "      <td>1</td>\n",
       "      <td>S</td>\n",
       "      <td>0.285714</td>\n",
       "      <td>0.428571</td>\n",
       "      <td>5.682</td>\n",
       "      <td>308</td>\n",
       "      <td>715</td>\n",
       "      <td>(6.0, 7.5]</td>\n",
       "      <td>1</td>\n",
       "    </tr>\n",
       "    <tr>\n",
       "      <th>2</th>\n",
       "      <td>GRADO EN EDUCACIÓN SOCIAL</td>\n",
       "      <td>2012-13</td>\n",
       "      <td>0</td>\n",
       "      <td>JUN</td>\n",
       "      <td>Selectividad</td>\n",
       "      <td>D</td>\n",
       "      <td>1994</td>\n",
       "      <td>(1990.0, 1995.0]</td>\n",
       "      <td>0</td>\n",
       "      <td>S</td>\n",
       "      <td>0.000000</td>\n",
       "      <td>1.000000</td>\n",
       "      <td>11.844</td>\n",
       "      <td>322</td>\n",
       "      <td>715</td>\n",
       "      <td>(7.5, 9.0]</td>\n",
       "      <td>0</td>\n",
       "    </tr>\n",
       "    <tr>\n",
       "      <th>3</th>\n",
       "      <td>GRADO EN EDUCACIÓN SOCIAL</td>\n",
       "      <td>2012-13</td>\n",
       "      <td>0</td>\n",
       "      <td>JUN</td>\n",
       "      <td>Selectividad</td>\n",
       "      <td>D</td>\n",
       "      <td>1994</td>\n",
       "      <td>(1990.0, 1995.0]</td>\n",
       "      <td>0</td>\n",
       "      <td>S</td>\n",
       "      <td>0.000000</td>\n",
       "      <td>1.000000</td>\n",
       "      <td>9.126</td>\n",
       "      <td>324</td>\n",
       "      <td>715</td>\n",
       "      <td>(7.5, 9.0]</td>\n",
       "      <td>0</td>\n",
       "    </tr>\n",
       "    <tr>\n",
       "      <th>4</th>\n",
       "      <td>GRADO EN EDUCACIÓN SOCIAL</td>\n",
       "      <td>2012-13</td>\n",
       "      <td>1</td>\n",
       "      <td>JUN</td>\n",
       "      <td>Selectividad</td>\n",
       "      <td>D</td>\n",
       "      <td>1993</td>\n",
       "      <td>(1990.0, 1995.0]</td>\n",
       "      <td>0</td>\n",
       "      <td>N</td>\n",
       "      <td>0.000000</td>\n",
       "      <td>0.666667</td>\n",
       "      <td>8.118</td>\n",
       "      <td>328</td>\n",
       "      <td>715</td>\n",
       "      <td>(6.0, 7.5]</td>\n",
       "      <td>0</td>\n",
       "    </tr>\n",
       "  </tbody>\n",
       "</table>\n",
       "</div>"
      ],
      "text/plain": [
       "                    des_plan anio_apertura_expediente  abandona  \\\n",
       "0  GRADO EN EDUCACIÓN SOCIAL                  2010-11         0   \n",
       "1  GRADO EN EDUCACIÓN SOCIAL                  2011-12         1   \n",
       "2  GRADO EN EDUCACIÓN SOCIAL                  2012-13         0   \n",
       "3  GRADO EN EDUCACIÓN SOCIAL                  2012-13         0   \n",
       "4  GRADO EN EDUCACIÓN SOCIAL                  2012-13         1   \n",
       "\n",
       "  convocatoria_acceso    des_acceso sexo  anio_nacimiento  \\\n",
       "0                 JUN  Selectividad    D             1992   \n",
       "1                 JUN  Selectividad    H             1992   \n",
       "2                 JUN  Selectividad    D             1994   \n",
       "3                 JUN  Selectividad    D             1994   \n",
       "4                 JUN  Selectividad    D             1993   \n",
       "\n",
       "  anio_nacimiento_interval  1st_model scolarship  cum_absent  cum_core_ratio  \\\n",
       "0         (1990.0, 1995.0]          0          N    0.000000        1.000000   \n",
       "1         (1990.0, 1995.0]          1          S    0.285714        0.428571   \n",
       "2         (1990.0, 1995.0]          0          S    0.000000        1.000000   \n",
       "3         (1990.0, 1995.0]          0          S    0.000000        1.000000   \n",
       "4         (1990.0, 1995.0]          0          N    0.000000        0.666667   \n",
       "\n",
       "   nota_admision_def  expediente  cod_plan cum_median_interval  2nd_model  \n",
       "0              8.154         110       715          (6.0, 7.5]          0  \n",
       "1              5.682         308       715          (6.0, 7.5]          1  \n",
       "2             11.844         322       715          (7.5, 9.0]          0  \n",
       "3              9.126         324       715          (7.5, 9.0]          0  \n",
       "4              8.118         328       715          (6.0, 7.5]          0  "
      ]
     },
     "execution_count": 191,
     "metadata": {},
     "output_type": "execute_result"
    }
   ],
   "source": [
    "final_analys_record_personal_access.head()"
   ]
  },
  {
   "cell_type": "code",
   "execution_count": 192,
   "id": "c5535a78",
   "metadata": {},
   "outputs": [],
   "source": [
    "final_analys_record_personal_access.to_csv('C:/Users/franj/Desktop/PAI UEX Repositorios/education_drop/Data/For_Analysis_and_Modeling/2nd_process/1st_quadrimester/pred_analys_teaching_record_personal_access.csv',\n",
    "                                          sep='|',\n",
    "                                          index=False)"
   ]
  }
 ],
 "metadata": {
  "kernelspec": {
   "display_name": "Python 3",
   "language": "python",
   "name": "python3"
  },
  "language_info": {
   "codemirror_mode": {
    "name": "ipython",
    "version": 3
   },
   "file_extension": ".py",
   "mimetype": "text/x-python",
   "name": "python",
   "nbconvert_exporter": "python",
   "pygments_lexer": "ipython3",
   "version": "3.7.3"
  }
 },
 "nbformat": 4,
 "nbformat_minor": 5
}
