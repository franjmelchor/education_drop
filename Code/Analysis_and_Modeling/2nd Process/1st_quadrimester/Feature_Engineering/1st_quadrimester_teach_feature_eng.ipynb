{
 "cells": [
  {
   "cell_type": "code",
   "execution_count": 76,
   "metadata": {},
   "outputs": [],
   "source": [
    "import pandas as pd"
   ]
  },
  {
   "cell_type": "code",
   "execution_count": 77,
   "metadata": {},
   "outputs": [],
   "source": [
    "analys_teaching_record_personal_access = pd.read_csv('C:/Users/franj/Desktop/PAI UEX Repositorios/education_drop/Data/For_Analysis_and_Modeling/2nd_process/personal_access_data/pred_analys_teaching_record_personal_access.csv',\n",
    "                                                       sep = '|')"
   ]
  },
  {
   "cell_type": "code",
   "execution_count": 78,
   "metadata": {},
   "outputs": [
    {
     "data": {
      "text/html": [
       "<div>\n",
       "<style scoped>\n",
       "    .dataframe tbody tr th:only-of-type {\n",
       "        vertical-align: middle;\n",
       "    }\n",
       "\n",
       "    .dataframe tbody tr th {\n",
       "        vertical-align: top;\n",
       "    }\n",
       "\n",
       "    .dataframe thead th {\n",
       "        text-align: right;\n",
       "    }\n",
       "</style>\n",
       "<table border=\"1\" class=\"dataframe\">\n",
       "  <thead>\n",
       "    <tr style=\"text-align: right;\">\n",
       "      <th></th>\n",
       "      <th>des_plan</th>\n",
       "      <th>anio_apertura_expediente</th>\n",
       "      <th>abandona</th>\n",
       "      <th>convocatoria_acceso</th>\n",
       "      <th>des_acceso</th>\n",
       "      <th>sexo</th>\n",
       "      <th>anio_nacimiento</th>\n",
       "      <th>nota_admision_def</th>\n",
       "      <th>expediente</th>\n",
       "      <th>cod_plan</th>\n",
       "      <th>anio_nacimiento_interval</th>\n",
       "      <th>1st_model</th>\n",
       "    </tr>\n",
       "  </thead>\n",
       "  <tbody>\n",
       "    <tr>\n",
       "      <th>0</th>\n",
       "      <td>GRADO EN EDUCACIÓN SOCIAL</td>\n",
       "      <td>2010-11</td>\n",
       "      <td>0</td>\n",
       "      <td>JUN</td>\n",
       "      <td>Selectividad</td>\n",
       "      <td>D</td>\n",
       "      <td>1992</td>\n",
       "      <td>8.154</td>\n",
       "      <td>110</td>\n",
       "      <td>715</td>\n",
       "      <td>(1990.0, 1995.0]</td>\n",
       "      <td>0</td>\n",
       "    </tr>\n",
       "    <tr>\n",
       "      <th>1</th>\n",
       "      <td>GRADO EN EDUCACIÓN SOCIAL</td>\n",
       "      <td>2011-12</td>\n",
       "      <td>1</td>\n",
       "      <td>JUN</td>\n",
       "      <td>Selectividad</td>\n",
       "      <td>H</td>\n",
       "      <td>1992</td>\n",
       "      <td>5.682</td>\n",
       "      <td>308</td>\n",
       "      <td>715</td>\n",
       "      <td>(1990.0, 1995.0]</td>\n",
       "      <td>1</td>\n",
       "    </tr>\n",
       "    <tr>\n",
       "      <th>2</th>\n",
       "      <td>GRADO EN EDUCACIÓN SOCIAL</td>\n",
       "      <td>2012-13</td>\n",
       "      <td>0</td>\n",
       "      <td>JUN</td>\n",
       "      <td>Selectividad</td>\n",
       "      <td>D</td>\n",
       "      <td>1994</td>\n",
       "      <td>11.844</td>\n",
       "      <td>322</td>\n",
       "      <td>715</td>\n",
       "      <td>(1990.0, 1995.0]</td>\n",
       "      <td>0</td>\n",
       "    </tr>\n",
       "    <tr>\n",
       "      <th>3</th>\n",
       "      <td>GRADO EN EDUCACIÓN SOCIAL</td>\n",
       "      <td>2012-13</td>\n",
       "      <td>0</td>\n",
       "      <td>JUN</td>\n",
       "      <td>Selectividad</td>\n",
       "      <td>D</td>\n",
       "      <td>1994</td>\n",
       "      <td>9.126</td>\n",
       "      <td>324</td>\n",
       "      <td>715</td>\n",
       "      <td>(1990.0, 1995.0]</td>\n",
       "      <td>0</td>\n",
       "    </tr>\n",
       "    <tr>\n",
       "      <th>4</th>\n",
       "      <td>GRADO EN EDUCACIÓN SOCIAL</td>\n",
       "      <td>2012-13</td>\n",
       "      <td>1</td>\n",
       "      <td>JUN</td>\n",
       "      <td>Selectividad</td>\n",
       "      <td>D</td>\n",
       "      <td>1993</td>\n",
       "      <td>8.118</td>\n",
       "      <td>328</td>\n",
       "      <td>715</td>\n",
       "      <td>(1990.0, 1995.0]</td>\n",
       "      <td>0</td>\n",
       "    </tr>\n",
       "  </tbody>\n",
       "</table>\n",
       "</div>"
      ],
      "text/plain": [
       "                    des_plan anio_apertura_expediente  abandona  \\\n",
       "0  GRADO EN EDUCACIÓN SOCIAL                  2010-11         0   \n",
       "1  GRADO EN EDUCACIÓN SOCIAL                  2011-12         1   \n",
       "2  GRADO EN EDUCACIÓN SOCIAL                  2012-13         0   \n",
       "3  GRADO EN EDUCACIÓN SOCIAL                  2012-13         0   \n",
       "4  GRADO EN EDUCACIÓN SOCIAL                  2012-13         1   \n",
       "\n",
       "  convocatoria_acceso    des_acceso sexo  anio_nacimiento  nota_admision_def  \\\n",
       "0                 JUN  Selectividad    D             1992              8.154   \n",
       "1                 JUN  Selectividad    H             1992              5.682   \n",
       "2                 JUN  Selectividad    D             1994             11.844   \n",
       "3                 JUN  Selectividad    D             1994              9.126   \n",
       "4                 JUN  Selectividad    D             1993              8.118   \n",
       "\n",
       "   expediente  cod_plan anio_nacimiento_interval  1st_model  \n",
       "0         110       715         (1990.0, 1995.0]          0  \n",
       "1         308       715         (1990.0, 1995.0]          1  \n",
       "2         322       715         (1990.0, 1995.0]          0  \n",
       "3         324       715         (1990.0, 1995.0]          0  \n",
       "4         328       715         (1990.0, 1995.0]          0  "
      ]
     },
     "execution_count": 78,
     "metadata": {},
     "output_type": "execute_result"
    }
   ],
   "source": [
    "analys_teaching_record_personal_access.head()"
   ]
  },
  {
   "cell_type": "code",
   "execution_count": 79,
   "metadata": {},
   "outputs": [],
   "source": [
    "pr_teaching_plan_subject_call = pd.read_csv('../../../../../Data/Processed/Teaching/Plan_Subject_Call/pr_teaching_plan_subject_call.csv', sep='|')"
   ]
  },
  {
   "cell_type": "code",
   "execution_count": 80,
   "metadata": {},
   "outputs": [
    {
     "data": {
      "text/html": [
       "<div>\n",
       "<style scoped>\n",
       "    .dataframe tbody tr th:only-of-type {\n",
       "        vertical-align: middle;\n",
       "    }\n",
       "\n",
       "    .dataframe tbody tr th {\n",
       "        vertical-align: top;\n",
       "    }\n",
       "\n",
       "    .dataframe thead th {\n",
       "        text-align: right;\n",
       "    }\n",
       "</style>\n",
       "<table border=\"1\" class=\"dataframe\">\n",
       "  <thead>\n",
       "    <tr style=\"text-align: right;\">\n",
       "      <th></th>\n",
       "      <th>expediente</th>\n",
       "      <th>cod_plan</th>\n",
       "      <th>des_plan</th>\n",
       "      <th>cod_asignatura</th>\n",
       "      <th>des_asignatura</th>\n",
       "      <th>curso_asignatura</th>\n",
       "      <th>semestre</th>\n",
       "      <th>tipo_linea</th>\n",
       "      <th>tipologia_asignatura</th>\n",
       "      <th>des_tipogia_asignatura</th>\n",
       "      <th>curso_academico</th>\n",
       "      <th>convocatoria</th>\n",
       "      <th>nota_alf</th>\n",
       "      <th>nota_num</th>\n",
       "      <th>des_nota</th>\n",
       "      <th>numero_convocatorias_agotadas</th>\n",
       "      <th>fin_estudios</th>\n",
       "    </tr>\n",
       "  </thead>\n",
       "  <tbody>\n",
       "    <tr>\n",
       "      <th>0</th>\n",
       "      <td>4</td>\n",
       "      <td>715</td>\n",
       "      <td>GRADO EN EDUCACIÓN SOCIAL</td>\n",
       "      <td>500445</td>\n",
       "      <td>ANTROPOLOGÍA SOCIAL</td>\n",
       "      <td>1</td>\n",
       "      <td>1S</td>\n",
       "      <td>O</td>\n",
       "      <td>T</td>\n",
       "      <td>TRONCAL</td>\n",
       "      <td>2009-10</td>\n",
       "      <td>FEB</td>\n",
       "      <td>NT</td>\n",
       "      <td>8.0</td>\n",
       "      <td>NOTABLE</td>\n",
       "      <td>1</td>\n",
       "      <td>S</td>\n",
       "    </tr>\n",
       "    <tr>\n",
       "      <th>1</th>\n",
       "      <td>4</td>\n",
       "      <td>715</td>\n",
       "      <td>GRADO EN EDUCACIÓN SOCIAL</td>\n",
       "      <td>500446</td>\n",
       "      <td>FUNDAMENTOS TEÓRICOS DE LA EDUCACIÓN</td>\n",
       "      <td>1</td>\n",
       "      <td>1S</td>\n",
       "      <td>O</td>\n",
       "      <td>T</td>\n",
       "      <td>TRONCAL</td>\n",
       "      <td>2009-10</td>\n",
       "      <td>FEB</td>\n",
       "      <td>AP</td>\n",
       "      <td>5.5</td>\n",
       "      <td>APROBADO</td>\n",
       "      <td>1</td>\n",
       "      <td>S</td>\n",
       "    </tr>\n",
       "    <tr>\n",
       "      <th>2</th>\n",
       "      <td>4</td>\n",
       "      <td>715</td>\n",
       "      <td>GRADO EN EDUCACIÓN SOCIAL</td>\n",
       "      <td>500447</td>\n",
       "      <td>PERSPECTIVA HISTORICA Y POLÍTICA DE LA EDUCACI...</td>\n",
       "      <td>1</td>\n",
       "      <td>1S</td>\n",
       "      <td>O</td>\n",
       "      <td>T</td>\n",
       "      <td>TRONCAL</td>\n",
       "      <td>2009-10</td>\n",
       "      <td>FEB</td>\n",
       "      <td>AP</td>\n",
       "      <td>6.5</td>\n",
       "      <td>APROBADO</td>\n",
       "      <td>1</td>\n",
       "      <td>S</td>\n",
       "    </tr>\n",
       "    <tr>\n",
       "      <th>3</th>\n",
       "      <td>4</td>\n",
       "      <td>715</td>\n",
       "      <td>GRADO EN EDUCACIÓN SOCIAL</td>\n",
       "      <td>500448</td>\n",
       "      <td>PSICOLOGÍA DEL CICLO VITAL</td>\n",
       "      <td>1</td>\n",
       "      <td>1S</td>\n",
       "      <td>O</td>\n",
       "      <td>T</td>\n",
       "      <td>TRONCAL</td>\n",
       "      <td>2009-10</td>\n",
       "      <td>FEB</td>\n",
       "      <td>NT</td>\n",
       "      <td>7.5</td>\n",
       "      <td>NOTABLE</td>\n",
       "      <td>1</td>\n",
       "      <td>S</td>\n",
       "    </tr>\n",
       "    <tr>\n",
       "      <th>4</th>\n",
       "      <td>4</td>\n",
       "      <td>715</td>\n",
       "      <td>GRADO EN EDUCACIÓN SOCIAL</td>\n",
       "      <td>500449</td>\n",
       "      <td>SOCIOLOGÍA GENERAL</td>\n",
       "      <td>1</td>\n",
       "      <td>1S</td>\n",
       "      <td>O</td>\n",
       "      <td>T</td>\n",
       "      <td>TRONCAL</td>\n",
       "      <td>2009-10</td>\n",
       "      <td>FEB</td>\n",
       "      <td>AP</td>\n",
       "      <td>6.1</td>\n",
       "      <td>APROBADO</td>\n",
       "      <td>1</td>\n",
       "      <td>S</td>\n",
       "    </tr>\n",
       "  </tbody>\n",
       "</table>\n",
       "</div>"
      ],
      "text/plain": [
       "   expediente  cod_plan                   des_plan  cod_asignatura  \\\n",
       "0           4       715  GRADO EN EDUCACIÓN SOCIAL          500445   \n",
       "1           4       715  GRADO EN EDUCACIÓN SOCIAL          500446   \n",
       "2           4       715  GRADO EN EDUCACIÓN SOCIAL          500447   \n",
       "3           4       715  GRADO EN EDUCACIÓN SOCIAL          500448   \n",
       "4           4       715  GRADO EN EDUCACIÓN SOCIAL          500449   \n",
       "\n",
       "                                      des_asignatura  curso_asignatura  \\\n",
       "0                                ANTROPOLOGÍA SOCIAL                 1   \n",
       "1               FUNDAMENTOS TEÓRICOS DE LA EDUCACIÓN                 1   \n",
       "2  PERSPECTIVA HISTORICA Y POLÍTICA DE LA EDUCACI...                 1   \n",
       "3                         PSICOLOGÍA DEL CICLO VITAL                 1   \n",
       "4                                 SOCIOLOGÍA GENERAL                 1   \n",
       "\n",
       "  semestre tipo_linea tipologia_asignatura des_tipogia_asignatura  \\\n",
       "0       1S          O                    T                TRONCAL   \n",
       "1       1S          O                    T                TRONCAL   \n",
       "2       1S          O                    T                TRONCAL   \n",
       "3       1S          O                    T                TRONCAL   \n",
       "4       1S          O                    T                TRONCAL   \n",
       "\n",
       "  curso_academico convocatoria nota_alf  nota_num  des_nota  \\\n",
       "0         2009-10          FEB       NT       8.0   NOTABLE   \n",
       "1         2009-10          FEB       AP       5.5  APROBADO   \n",
       "2         2009-10          FEB       AP       6.5  APROBADO   \n",
       "3         2009-10          FEB       NT       7.5   NOTABLE   \n",
       "4         2009-10          FEB       AP       6.1  APROBADO   \n",
       "\n",
       "   numero_convocatorias_agotadas fin_estudios  \n",
       "0                              1            S  \n",
       "1                              1            S  \n",
       "2                              1            S  \n",
       "3                              1            S  \n",
       "4                              1            S  "
      ]
     },
     "execution_count": 80,
     "metadata": {},
     "output_type": "execute_result"
    }
   ],
   "source": [
    "pr_teaching_plan_subject_call.head()"
   ]
  },
  {
   "cell_type": "code",
   "execution_count": 81,
   "metadata": {},
   "outputs": [],
   "source": [
    "pr_teaching_scholarship_per_year = pd.read_csv('../../../../../Data/Processed/Teaching/Scolarship_per_year/pr_teaching_scholarship_per_year.csv', sep='|')"
   ]
  },
  {
   "cell_type": "code",
   "execution_count": 82,
   "metadata": {},
   "outputs": [
    {
     "data": {
      "text/html": [
       "<div>\n",
       "<style scoped>\n",
       "    .dataframe tbody tr th:only-of-type {\n",
       "        vertical-align: middle;\n",
       "    }\n",
       "\n",
       "    .dataframe tbody tr th {\n",
       "        vertical-align: top;\n",
       "    }\n",
       "\n",
       "    .dataframe thead th {\n",
       "        text-align: right;\n",
       "    }\n",
       "</style>\n",
       "<table border=\"1\" class=\"dataframe\">\n",
       "  <thead>\n",
       "    <tr style=\"text-align: right;\">\n",
       "      <th></th>\n",
       "      <th>expediente</th>\n",
       "      <th>curso_academico</th>\n",
       "      <th>cod_plan</th>\n",
       "      <th>des_plan</th>\n",
       "      <th>becario</th>\n",
       "    </tr>\n",
       "  </thead>\n",
       "  <tbody>\n",
       "    <tr>\n",
       "      <th>0</th>\n",
       "      <td>0</td>\n",
       "      <td>2016-17</td>\n",
       "      <td>725</td>\n",
       "      <td>MÁSTER UNIV. DE ENSEÑANZA PORTUGUÉS LENG. EXTR...</td>\n",
       "      <td>N</td>\n",
       "    </tr>\n",
       "    <tr>\n",
       "      <th>1</th>\n",
       "      <td>1</td>\n",
       "      <td>2009-10</td>\n",
       "      <td>717</td>\n",
       "      <td>GRADO EN EDUCACIÓN PRIMARIA (CÁCERES)</td>\n",
       "      <td>S</td>\n",
       "    </tr>\n",
       "    <tr>\n",
       "      <th>2</th>\n",
       "      <td>1</td>\n",
       "      <td>2010-11</td>\n",
       "      <td>717</td>\n",
       "      <td>GRADO EN EDUCACIÓN PRIMARIA (CÁCERES)</td>\n",
       "      <td>N</td>\n",
       "    </tr>\n",
       "    <tr>\n",
       "      <th>3</th>\n",
       "      <td>1</td>\n",
       "      <td>2011-12</td>\n",
       "      <td>717</td>\n",
       "      <td>GRADO EN EDUCACIÓN PRIMARIA (CÁCERES)</td>\n",
       "      <td>N</td>\n",
       "    </tr>\n",
       "    <tr>\n",
       "      <th>4</th>\n",
       "      <td>1</td>\n",
       "      <td>2012-13</td>\n",
       "      <td>717</td>\n",
       "      <td>GRADO EN EDUCACIÓN PRIMARIA (CÁCERES)</td>\n",
       "      <td>N</td>\n",
       "    </tr>\n",
       "  </tbody>\n",
       "</table>\n",
       "</div>"
      ],
      "text/plain": [
       "   expediente curso_academico  cod_plan  \\\n",
       "0           0         2016-17       725   \n",
       "1           1         2009-10       717   \n",
       "2           1         2010-11       717   \n",
       "3           1         2011-12       717   \n",
       "4           1         2012-13       717   \n",
       "\n",
       "                                            des_plan becario  \n",
       "0  MÁSTER UNIV. DE ENSEÑANZA PORTUGUÉS LENG. EXTR...       N  \n",
       "1              GRADO EN EDUCACIÓN PRIMARIA (CÁCERES)       S  \n",
       "2              GRADO EN EDUCACIÓN PRIMARIA (CÁCERES)       N  \n",
       "3              GRADO EN EDUCACIÓN PRIMARIA (CÁCERES)       N  \n",
       "4              GRADO EN EDUCACIÓN PRIMARIA (CÁCERES)       N  "
      ]
     },
     "execution_count": 82,
     "metadata": {},
     "output_type": "execute_result"
    }
   ],
   "source": [
    "pr_teaching_scholarship_per_year.head()"
   ]
  },
  {
   "cell_type": "code",
   "execution_count": 97,
   "metadata": {},
   "outputs": [],
   "source": [
    "def get_cum_p_data(p, curso:int, semestre:str):\n",
    "    p_data = final_plan_subject_call[(final_plan_subject_call['cod_plan'] == p.cod_plan) &\n",
    "                   (final_plan_subject_call['expediente'] == p.expediente)\n",
    "                                ].sort_values(by=['curso_academico'])\n",
    "    courses = p_data['curso_academico'].unique()[0:curso]\n",
    "\n",
    "    p_data = p_data[p_data['curso_academico'].isin(courses)]\n",
    "    if len(p_data.index > 0):\n",
    "        if(semestre == '1S'):\n",
    "            no_valid_data = p_data[(p_data['curso_academico']==courses[curso-1]) & \n",
    "                           (p_data['semestre'] == '2S')].index\n",
    "            p_data = p_data[p_data.index.isin(no_valid_data) == False]\n",
    "\n",
    "    return(p_data)\n",
    "    "
   ]
  },
  {
   "cell_type": "code",
   "execution_count": 98,
   "metadata": {},
   "outputs": [],
   "source": [
    "def get_course_p_data(p, curso:int):\n",
    "    p_data = final_scolarship_per_year[(\n",
    "        final_scolarship_per_year['cod_plan'] == p.cod_plan) \n",
    "        &(final_scolarship_per_year['expediente'] == p.expediente)\n",
    "    ].sort_values(by=['curso_academico'])\n",
    "    \n",
    "    course = p_data['curso_academico'].unique()[curso-1]\n",
    "    p_data = p_data[p_data['curso_academico'] == course]\n",
    "    return(p_data)"
   ]
  },
  {
   "cell_type": "code",
   "execution_count": 99,
   "metadata": {},
   "outputs": [],
   "source": [
    "def get_cum_core_ratio(p, curso:int, semestre:str):\n",
    "    p_data = get_cum_p_data(p, curso, semestre)\n",
    "        \n",
    "    n_core_subjects  = len(p_data[p_data['tipologia_asignatura'] == 'T'].index)\n",
    "    n_passed_core_subjects = len(p_data[(p_data['tipologia_asignatura'] == 'T') &\n",
    "                                        (p_data['nota_num'] >= 5.0)].index)\n",
    "    if n_core_subjects > 0:\n",
    "    \n",
    "        return (n_passed_core_subjects / n_core_subjects)\n",
    "    else:\n",
    "        return -1"
   ]
  },
  {
   "cell_type": "code",
   "execution_count": 100,
   "metadata": {},
   "outputs": [],
   "source": [
    "def get_cum_median(p, curso:int, semestre:str):\n",
    "    import numpy as np\n",
    "    p_data = get_cum_p_data(p, curso, semestre)\n",
    "    return np.nanmedian(p_data['nota_num'])\n",
    "    "
   ]
  },
  {
   "cell_type": "code",
   "execution_count": 101,
   "metadata": {},
   "outputs": [],
   "source": [
    "def get_semester_median(p, curso:int, semestre:str):\n",
    "    import numpy as np\n",
    "    p_data = get_course_p_data(p, curso)\n",
    "    p_data = p_data[p_data['semestre']==semestre]\n",
    "    return np.nanmedian(p_data['nota_num'])\n"
   ]
  },
  {
   "cell_type": "code",
   "execution_count": 102,
   "metadata": {},
   "outputs": [],
   "source": [
    "def get_cum_absent_ratio(p, curso:int, semestre:str):\n",
    "    p_data = get_cum_p_data(p, curso, semestre)\n",
    "    \n",
    "    n_subjects = len(p_data.index)\n",
    "    n_absent_subjects = len(p_data[p_data['des_nota']=='NO PRESENTADO'].index)\n",
    "    \n",
    "    return (n_absent_subjects/n_subjects)"
   ]
  },
  {
   "cell_type": "code",
   "execution_count": 103,
   "metadata": {},
   "outputs": [],
   "source": [
    "def get_scolarship(p, curso:int):\n",
    "    p_data = get_course_p_data(p, curso)\n",
    "    return (p_data['becario'].values[0])\n"
   ]
  },
  {
   "cell_type": "code",
   "execution_count": 104,
   "metadata": {},
   "outputs": [],
   "source": [
    "analys_teaching_record_personal_access['cum_core_ratio'] = analys_teaching_record_personal_access.apply(\n",
    "lambda func: get_cum_core_ratio(func,1,'1S'), axis=1)"
   ]
  },
  {
   "cell_type": "code",
   "execution_count": 105,
   "metadata": {},
   "outputs": [
    {
     "data": {
      "text/plain": [
       "1985"
      ]
     },
     "execution_count": 105,
     "metadata": {},
     "output_type": "execute_result"
    }
   ],
   "source": [
    "len(analys_teaching_record_personal_access.index)"
   ]
  },
  {
   "cell_type": "markdown",
   "metadata": {},
   "source": [
    "**Aquellos datos con el valor a -1 es porque tenemos sus datos a partir del 2º curso**"
   ]
  },
  {
   "cell_type": "code",
   "execution_count": 106,
   "metadata": {},
   "outputs": [],
   "source": [
    "analys_teaching_record_personal_access = analys_teaching_record_personal_access[analys_teaching_record_personal_access['cum_core_ratio'] != -1]"
   ]
  },
  {
   "cell_type": "code",
   "execution_count": 107,
   "metadata": {
    "scrolled": true
   },
   "outputs": [
    {
     "data": {
      "text/plain": [
       "1985"
      ]
     },
     "execution_count": 107,
     "metadata": {},
     "output_type": "execute_result"
    }
   ],
   "source": [
    "len(analys_teaching_record_personal_access.index)"
   ]
  },
  {
   "cell_type": "code",
   "execution_count": 108,
   "metadata": {},
   "outputs": [],
   "source": [
    "analys_teaching_record_personal_access['scolarship'] = analys_teaching_record_personal_access.apply(\n",
    "lambda func: get_scolarship(func,1), axis=1)"
   ]
  },
  {
   "cell_type": "code",
   "execution_count": 109,
   "metadata": {},
   "outputs": [],
   "source": [
    "analys_teaching_record_personal_access['cum_absent'] = analys_teaching_record_personal_access.apply(\n",
    "lambda func: get_cum_absent_ratio(func,1,'1S'), axis=1)"
   ]
  },
  {
   "cell_type": "code",
   "execution_count": 110,
   "metadata": {},
   "outputs": [
    {
     "name": "stderr",
     "output_type": "stream",
     "text": [
      "C:\\ProgramData\\Anaconda3\\lib\\site-packages\\numpy\\lib\\nanfunctions.py:1114: RuntimeWarning: All-NaN slice encountered\n",
      "  overwrite_input=overwrite_input)\n",
      "C:\\ProgramData\\Anaconda3\\lib\\site-packages\\numpy\\lib\\nanfunctions.py:1114: RuntimeWarning: All-NaN slice encountered\n",
      "  overwrite_input=overwrite_input)\n",
      "C:\\ProgramData\\Anaconda3\\lib\\site-packages\\numpy\\lib\\nanfunctions.py:1114: RuntimeWarning: All-NaN slice encountered\n",
      "  overwrite_input=overwrite_input)\n",
      "C:\\ProgramData\\Anaconda3\\lib\\site-packages\\numpy\\lib\\nanfunctions.py:1114: RuntimeWarning: All-NaN slice encountered\n",
      "  overwrite_input=overwrite_input)\n",
      "C:\\ProgramData\\Anaconda3\\lib\\site-packages\\numpy\\lib\\nanfunctions.py:1114: RuntimeWarning: All-NaN slice encountered\n",
      "  overwrite_input=overwrite_input)\n",
      "C:\\ProgramData\\Anaconda3\\lib\\site-packages\\numpy\\lib\\nanfunctions.py:1114: RuntimeWarning: All-NaN slice encountered\n",
      "  overwrite_input=overwrite_input)\n",
      "C:\\ProgramData\\Anaconda3\\lib\\site-packages\\numpy\\lib\\nanfunctions.py:1114: RuntimeWarning: All-NaN slice encountered\n",
      "  overwrite_input=overwrite_input)\n",
      "C:\\ProgramData\\Anaconda3\\lib\\site-packages\\numpy\\lib\\nanfunctions.py:1114: RuntimeWarning: All-NaN slice encountered\n",
      "  overwrite_input=overwrite_input)\n",
      "C:\\ProgramData\\Anaconda3\\lib\\site-packages\\numpy\\lib\\nanfunctions.py:1114: RuntimeWarning: All-NaN slice encountered\n",
      "  overwrite_input=overwrite_input)\n",
      "C:\\ProgramData\\Anaconda3\\lib\\site-packages\\numpy\\lib\\nanfunctions.py:1114: RuntimeWarning: All-NaN slice encountered\n",
      "  overwrite_input=overwrite_input)\n",
      "C:\\ProgramData\\Anaconda3\\lib\\site-packages\\numpy\\lib\\nanfunctions.py:1114: RuntimeWarning: All-NaN slice encountered\n",
      "  overwrite_input=overwrite_input)\n",
      "C:\\ProgramData\\Anaconda3\\lib\\site-packages\\numpy\\lib\\nanfunctions.py:1114: RuntimeWarning: All-NaN slice encountered\n",
      "  overwrite_input=overwrite_input)\n",
      "C:\\ProgramData\\Anaconda3\\lib\\site-packages\\numpy\\lib\\nanfunctions.py:1114: RuntimeWarning: All-NaN slice encountered\n",
      "  overwrite_input=overwrite_input)\n",
      "C:\\ProgramData\\Anaconda3\\lib\\site-packages\\numpy\\lib\\nanfunctions.py:1114: RuntimeWarning: All-NaN slice encountered\n",
      "  overwrite_input=overwrite_input)\n",
      "C:\\ProgramData\\Anaconda3\\lib\\site-packages\\numpy\\lib\\nanfunctions.py:1114: RuntimeWarning: All-NaN slice encountered\n",
      "  overwrite_input=overwrite_input)\n",
      "C:\\ProgramData\\Anaconda3\\lib\\site-packages\\numpy\\lib\\nanfunctions.py:1114: RuntimeWarning: All-NaN slice encountered\n",
      "  overwrite_input=overwrite_input)\n",
      "C:\\ProgramData\\Anaconda3\\lib\\site-packages\\numpy\\lib\\nanfunctions.py:1114: RuntimeWarning: All-NaN slice encountered\n",
      "  overwrite_input=overwrite_input)\n"
     ]
    }
   ],
   "source": [
    "analys_teaching_record_personal_access['cum_median'] = analys_teaching_record_personal_access.apply(\n",
    "lambda func: get_cum_median(func,1,'1S'), axis=1)"
   ]
  },
  {
   "cell_type": "code",
   "execution_count": 111,
   "metadata": {
    "scrolled": true
   },
   "outputs": [
    {
     "data": {
      "text/plain": [
       "des_plan                     0\n",
       "anio_apertura_expediente     0\n",
       "abandona                     0\n",
       "convocatoria_acceso          0\n",
       "des_acceso                   0\n",
       "sexo                         0\n",
       "anio_nacimiento              0\n",
       "nota_admision_def            0\n",
       "expediente                   0\n",
       "cod_plan                     0\n",
       "anio_nacimiento_interval     0\n",
       "1st_model                    0\n",
       "cum_core_ratio               0\n",
       "scolarship                   0\n",
       "cum_absent                   0\n",
       "cum_median                  17\n",
       "dtype: int64"
      ]
     },
     "execution_count": 111,
     "metadata": {},
     "output_type": "execute_result"
    }
   ],
   "source": [
    "analys_teaching_record_personal_access.isnull().sum()"
   ]
  },
  {
   "cell_type": "code",
   "execution_count": 112,
   "metadata": {},
   "outputs": [],
   "source": [
    "analys_teaching_record_personal_access.to_csv('../../../../../Data/For_Analysis_and_Modeling/2nd_process/1st_quadrimester/analys_teaching_record_personal_access.csv', sep='|', index=False)"
   ]
  },
  {
   "cell_type": "code",
   "execution_count": null,
   "metadata": {},
   "outputs": [],
   "source": []
  }
 ],
 "metadata": {
  "kernelspec": {
   "display_name": "Python 3",
   "language": "python",
   "name": "python3"
  },
  "language_info": {
   "codemirror_mode": {
    "name": "ipython",
    "version": 3
   },
   "file_extension": ".py",
   "mimetype": "text/x-python",
   "name": "python",
   "nbconvert_exporter": "python",
   "pygments_lexer": "ipython3",
   "version": "3.8.10"
  }
 },
 "nbformat": 4,
 "nbformat_minor": 5
}
