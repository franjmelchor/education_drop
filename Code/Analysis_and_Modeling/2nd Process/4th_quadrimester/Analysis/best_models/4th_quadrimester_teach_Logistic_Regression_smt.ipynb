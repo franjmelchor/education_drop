{
 "cells": [
  {
   "cell_type": "code",
   "execution_count": 65,
   "id": "c6a6f5b5",
   "metadata": {},
   "outputs": [],
   "source": [
    "import pandas as pd\n",
    "import numpy as np"
   ]
  },
  {
   "cell_type": "code",
   "execution_count": 66,
   "id": "7555fbe8",
   "metadata": {},
   "outputs": [],
   "source": [
    "final_analys_record_personal_access = pd.read_csv('C:/Users/franj/Desktop/PAI UEX Repositorios/education_drop/Data/For_Analysis_and_Modeling/2nd_process/4th_quadrimester/final_analys_teaching_record_personal_access.csv',\n",
    "       sep='|'\n",
    "    )"
   ]
  },
  {
   "cell_type": "code",
   "execution_count": 67,
   "id": "6fc9af6a",
   "metadata": {
    "scrolled": true
   },
   "outputs": [
    {
     "data": {
      "text/html": [
       "<div>\n",
       "<style scoped>\n",
       "    .dataframe tbody tr th:only-of-type {\n",
       "        vertical-align: middle;\n",
       "    }\n",
       "\n",
       "    .dataframe tbody tr th {\n",
       "        vertical-align: top;\n",
       "    }\n",
       "\n",
       "    .dataframe thead th {\n",
       "        text-align: right;\n",
       "    }\n",
       "</style>\n",
       "<table border=\"1\" class=\"dataframe\">\n",
       "  <thead>\n",
       "    <tr style=\"text-align: right;\">\n",
       "      <th></th>\n",
       "      <th>des_plan</th>\n",
       "      <th>anio_apertura_expediente</th>\n",
       "      <th>abandona</th>\n",
       "      <th>convocatoria_acceso</th>\n",
       "      <th>des_acceso</th>\n",
       "      <th>sexo</th>\n",
       "      <th>anio_nacimiento</th>\n",
       "      <th>anio_nacimiento_interval</th>\n",
       "      <th>1st_model</th>\n",
       "      <th>scolarship</th>\n",
       "      <th>2nd_model</th>\n",
       "      <th>3rd_model</th>\n",
       "      <th>4th_model</th>\n",
       "      <th>cum_absent</th>\n",
       "      <th>nota_admision_def</th>\n",
       "      <th>cum_more_1st_call_ratio</th>\n",
       "      <th>cum_pass_ratio</th>\n",
       "      <th>expediente</th>\n",
       "      <th>cod_plan</th>\n",
       "      <th>cum_median_interval</th>\n",
       "    </tr>\n",
       "  </thead>\n",
       "  <tbody>\n",
       "    <tr>\n",
       "      <th>0</th>\n",
       "      <td>GRADO EN EDUCACIÓN SOCIAL</td>\n",
       "      <td>2010-11</td>\n",
       "      <td>0</td>\n",
       "      <td>JUN</td>\n",
       "      <td>Selectividad</td>\n",
       "      <td>D</td>\n",
       "      <td>1992</td>\n",
       "      <td>(1990.0, 1995.0]</td>\n",
       "      <td>0</td>\n",
       "      <td>N</td>\n",
       "      <td>0</td>\n",
       "      <td>0</td>\n",
       "      <td>0</td>\n",
       "      <td>0.000000</td>\n",
       "      <td>8.154</td>\n",
       "      <td>0.000000</td>\n",
       "      <td>1.000000</td>\n",
       "      <td>110</td>\n",
       "      <td>715</td>\n",
       "      <td>(6.0, 7.5]</td>\n",
       "    </tr>\n",
       "    <tr>\n",
       "      <th>1</th>\n",
       "      <td>GRADO EN EDUCACIÓN SOCIAL</td>\n",
       "      <td>2011-12</td>\n",
       "      <td>1</td>\n",
       "      <td>JUN</td>\n",
       "      <td>Selectividad</td>\n",
       "      <td>H</td>\n",
       "      <td>1992</td>\n",
       "      <td>(1990.0, 1995.0]</td>\n",
       "      <td>1</td>\n",
       "      <td>N</td>\n",
       "      <td>1</td>\n",
       "      <td>1</td>\n",
       "      <td>0</td>\n",
       "      <td>0.483871</td>\n",
       "      <td>5.682</td>\n",
       "      <td>0.096774</td>\n",
       "      <td>0.387097</td>\n",
       "      <td>308</td>\n",
       "      <td>715</td>\n",
       "      <td>(6.0, 7.5]</td>\n",
       "    </tr>\n",
       "    <tr>\n",
       "      <th>2</th>\n",
       "      <td>GRADO EN EDUCACIÓN SOCIAL</td>\n",
       "      <td>2012-13</td>\n",
       "      <td>0</td>\n",
       "      <td>JUN</td>\n",
       "      <td>Selectividad</td>\n",
       "      <td>D</td>\n",
       "      <td>1994</td>\n",
       "      <td>(1990.0, 1995.0]</td>\n",
       "      <td>0</td>\n",
       "      <td>S</td>\n",
       "      <td>0</td>\n",
       "      <td>0</td>\n",
       "      <td>0</td>\n",
       "      <td>0.000000</td>\n",
       "      <td>11.844</td>\n",
       "      <td>0.090909</td>\n",
       "      <td>0.909091</td>\n",
       "      <td>322</td>\n",
       "      <td>715</td>\n",
       "      <td>(6.0, 7.5]</td>\n",
       "    </tr>\n",
       "    <tr>\n",
       "      <th>3</th>\n",
       "      <td>GRADO EN EDUCACIÓN SOCIAL</td>\n",
       "      <td>2012-13</td>\n",
       "      <td>0</td>\n",
       "      <td>JUN</td>\n",
       "      <td>Selectividad</td>\n",
       "      <td>D</td>\n",
       "      <td>1994</td>\n",
       "      <td>(1990.0, 1995.0]</td>\n",
       "      <td>0</td>\n",
       "      <td>N</td>\n",
       "      <td>0</td>\n",
       "      <td>0</td>\n",
       "      <td>0</td>\n",
       "      <td>0.000000</td>\n",
       "      <td>9.126</td>\n",
       "      <td>0.000000</td>\n",
       "      <td>1.000000</td>\n",
       "      <td>324</td>\n",
       "      <td>715</td>\n",
       "      <td>(7.5, 9.0]</td>\n",
       "    </tr>\n",
       "    <tr>\n",
       "      <th>4</th>\n",
       "      <td>GRADO EN EDUCACIÓN SOCIAL</td>\n",
       "      <td>2012-13</td>\n",
       "      <td>0</td>\n",
       "      <td>JUN</td>\n",
       "      <td>Selectividad</td>\n",
       "      <td>D</td>\n",
       "      <td>1992</td>\n",
       "      <td>(1990.0, 1995.0]</td>\n",
       "      <td>0</td>\n",
       "      <td>S</td>\n",
       "      <td>0</td>\n",
       "      <td>0</td>\n",
       "      <td>0</td>\n",
       "      <td>0.000000</td>\n",
       "      <td>8.122</td>\n",
       "      <td>0.166667</td>\n",
       "      <td>0.791667</td>\n",
       "      <td>329</td>\n",
       "      <td>715</td>\n",
       "      <td>(6.0, 7.5]</td>\n",
       "    </tr>\n",
       "  </tbody>\n",
       "</table>\n",
       "</div>"
      ],
      "text/plain": [
       "                    des_plan anio_apertura_expediente  abandona  \\\n",
       "0  GRADO EN EDUCACIÓN SOCIAL                  2010-11         0   \n",
       "1  GRADO EN EDUCACIÓN SOCIAL                  2011-12         1   \n",
       "2  GRADO EN EDUCACIÓN SOCIAL                  2012-13         0   \n",
       "3  GRADO EN EDUCACIÓN SOCIAL                  2012-13         0   \n",
       "4  GRADO EN EDUCACIÓN SOCIAL                  2012-13         0   \n",
       "\n",
       "  convocatoria_acceso    des_acceso sexo  anio_nacimiento  \\\n",
       "0                 JUN  Selectividad    D             1992   \n",
       "1                 JUN  Selectividad    H             1992   \n",
       "2                 JUN  Selectividad    D             1994   \n",
       "3                 JUN  Selectividad    D             1994   \n",
       "4                 JUN  Selectividad    D             1992   \n",
       "\n",
       "  anio_nacimiento_interval  1st_model scolarship  2nd_model  3rd_model  \\\n",
       "0         (1990.0, 1995.0]          0          N          0          0   \n",
       "1         (1990.0, 1995.0]          1          N          1          1   \n",
       "2         (1990.0, 1995.0]          0          S          0          0   \n",
       "3         (1990.0, 1995.0]          0          N          0          0   \n",
       "4         (1990.0, 1995.0]          0          S          0          0   \n",
       "\n",
       "   4th_model  cum_absent  nota_admision_def  cum_more_1st_call_ratio  \\\n",
       "0          0    0.000000              8.154                 0.000000   \n",
       "1          0    0.483871              5.682                 0.096774   \n",
       "2          0    0.000000             11.844                 0.090909   \n",
       "3          0    0.000000              9.126                 0.000000   \n",
       "4          0    0.000000              8.122                 0.166667   \n",
       "\n",
       "   cum_pass_ratio  expediente  cod_plan cum_median_interval  \n",
       "0        1.000000         110       715          (6.0, 7.5]  \n",
       "1        0.387097         308       715          (6.0, 7.5]  \n",
       "2        0.909091         322       715          (6.0, 7.5]  \n",
       "3        1.000000         324       715          (7.5, 9.0]  \n",
       "4        0.791667         329       715          (6.0, 7.5]  "
      ]
     },
     "execution_count": 67,
     "metadata": {},
     "output_type": "execute_result"
    }
   ],
   "source": [
    "final_analys_record_personal_access.head()"
   ]
  },
  {
   "cell_type": "code",
   "execution_count": 68,
   "id": "3f75512c",
   "metadata": {},
   "outputs": [],
   "source": [
    "final_analys_record_personal_access_one_hot = pd.get_dummies(data=final_analys_record_personal_access, columns=final_analys_record_personal_access.drop(['abandona','cum_absent','1st_model','2nd_model','3rd_model','4th_model','cum_pass_ratio','cum_more_1st_call_ratio','expediente','cod_plan','nota_admision_def'], axis=1).columns)"
   ]
  },
  {
   "cell_type": "code",
   "execution_count": 69,
   "id": "9db2bae9",
   "metadata": {},
   "outputs": [],
   "source": [
    "final_analys_record_personal_access_one_hot.drop(['expediente','cod_plan'],axis=1,inplace=True)"
   ]
  },
  {
   "cell_type": "code",
   "execution_count": 70,
   "id": "5e9d81be",
   "metadata": {
    "scrolled": true
   },
   "outputs": [
    {
     "data": {
      "text/plain": [
       "(1855, 71)"
      ]
     },
     "execution_count": 70,
     "metadata": {},
     "output_type": "execute_result"
    }
   ],
   "source": [
    "final_analys_record_personal_access_one_hot.shape"
   ]
  },
  {
   "cell_type": "code",
   "execution_count": 71,
   "id": "44679d02",
   "metadata": {
    "scrolled": true
   },
   "outputs": [
    {
     "data": {
      "text/html": [
       "<div>\n",
       "<style scoped>\n",
       "    .dataframe tbody tr th:only-of-type {\n",
       "        vertical-align: middle;\n",
       "    }\n",
       "\n",
       "    .dataframe tbody tr th {\n",
       "        vertical-align: top;\n",
       "    }\n",
       "\n",
       "    .dataframe thead th {\n",
       "        text-align: right;\n",
       "    }\n",
       "</style>\n",
       "<table border=\"1\" class=\"dataframe\">\n",
       "  <thead>\n",
       "    <tr style=\"text-align: right;\">\n",
       "      <th></th>\n",
       "      <th>abandona</th>\n",
       "      <th>1st_model</th>\n",
       "      <th>2nd_model</th>\n",
       "      <th>3rd_model</th>\n",
       "      <th>4th_model</th>\n",
       "      <th>cum_absent</th>\n",
       "      <th>nota_admision_def</th>\n",
       "      <th>cum_more_1st_call_ratio</th>\n",
       "      <th>cum_pass_ratio</th>\n",
       "      <th>des_plan_GRADO EN EDUCACIÓN INFANTIL (CÁCERES)</th>\n",
       "      <th>...</th>\n",
       "      <th>anio_nacimiento_interval_(1990.0, 1995.0]</th>\n",
       "      <th>anio_nacimiento_interval_(1995.0, 2000.0]</th>\n",
       "      <th>scolarship_N</th>\n",
       "      <th>scolarship_S</th>\n",
       "      <th>cum_median_interval_(1.5, 3.0]</th>\n",
       "      <th>cum_median_interval_(3.0, 4.5]</th>\n",
       "      <th>cum_median_interval_(4.5, 6.0]</th>\n",
       "      <th>cum_median_interval_(6.0, 7.5]</th>\n",
       "      <th>cum_median_interval_(7.5, 9.0]</th>\n",
       "      <th>cum_median_interval_(9.0, 10.0]</th>\n",
       "    </tr>\n",
       "  </thead>\n",
       "  <tbody>\n",
       "    <tr>\n",
       "      <th>0</th>\n",
       "      <td>0</td>\n",
       "      <td>0</td>\n",
       "      <td>0</td>\n",
       "      <td>0</td>\n",
       "      <td>0</td>\n",
       "      <td>0.000000</td>\n",
       "      <td>8.154</td>\n",
       "      <td>0.000000</td>\n",
       "      <td>1.000000</td>\n",
       "      <td>0</td>\n",
       "      <td>...</td>\n",
       "      <td>1</td>\n",
       "      <td>0</td>\n",
       "      <td>1</td>\n",
       "      <td>0</td>\n",
       "      <td>0</td>\n",
       "      <td>0</td>\n",
       "      <td>0</td>\n",
       "      <td>1</td>\n",
       "      <td>0</td>\n",
       "      <td>0</td>\n",
       "    </tr>\n",
       "    <tr>\n",
       "      <th>1</th>\n",
       "      <td>1</td>\n",
       "      <td>1</td>\n",
       "      <td>1</td>\n",
       "      <td>1</td>\n",
       "      <td>0</td>\n",
       "      <td>0.483871</td>\n",
       "      <td>5.682</td>\n",
       "      <td>0.096774</td>\n",
       "      <td>0.387097</td>\n",
       "      <td>0</td>\n",
       "      <td>...</td>\n",
       "      <td>1</td>\n",
       "      <td>0</td>\n",
       "      <td>1</td>\n",
       "      <td>0</td>\n",
       "      <td>0</td>\n",
       "      <td>0</td>\n",
       "      <td>0</td>\n",
       "      <td>1</td>\n",
       "      <td>0</td>\n",
       "      <td>0</td>\n",
       "    </tr>\n",
       "    <tr>\n",
       "      <th>2</th>\n",
       "      <td>0</td>\n",
       "      <td>0</td>\n",
       "      <td>0</td>\n",
       "      <td>0</td>\n",
       "      <td>0</td>\n",
       "      <td>0.000000</td>\n",
       "      <td>11.844</td>\n",
       "      <td>0.090909</td>\n",
       "      <td>0.909091</td>\n",
       "      <td>0</td>\n",
       "      <td>...</td>\n",
       "      <td>1</td>\n",
       "      <td>0</td>\n",
       "      <td>0</td>\n",
       "      <td>1</td>\n",
       "      <td>0</td>\n",
       "      <td>0</td>\n",
       "      <td>0</td>\n",
       "      <td>1</td>\n",
       "      <td>0</td>\n",
       "      <td>0</td>\n",
       "    </tr>\n",
       "    <tr>\n",
       "      <th>3</th>\n",
       "      <td>0</td>\n",
       "      <td>0</td>\n",
       "      <td>0</td>\n",
       "      <td>0</td>\n",
       "      <td>0</td>\n",
       "      <td>0.000000</td>\n",
       "      <td>9.126</td>\n",
       "      <td>0.000000</td>\n",
       "      <td>1.000000</td>\n",
       "      <td>0</td>\n",
       "      <td>...</td>\n",
       "      <td>1</td>\n",
       "      <td>0</td>\n",
       "      <td>1</td>\n",
       "      <td>0</td>\n",
       "      <td>0</td>\n",
       "      <td>0</td>\n",
       "      <td>0</td>\n",
       "      <td>0</td>\n",
       "      <td>1</td>\n",
       "      <td>0</td>\n",
       "    </tr>\n",
       "    <tr>\n",
       "      <th>4</th>\n",
       "      <td>0</td>\n",
       "      <td>0</td>\n",
       "      <td>0</td>\n",
       "      <td>0</td>\n",
       "      <td>0</td>\n",
       "      <td>0.000000</td>\n",
       "      <td>8.122</td>\n",
       "      <td>0.166667</td>\n",
       "      <td>0.791667</td>\n",
       "      <td>0</td>\n",
       "      <td>...</td>\n",
       "      <td>1</td>\n",
       "      <td>0</td>\n",
       "      <td>0</td>\n",
       "      <td>1</td>\n",
       "      <td>0</td>\n",
       "      <td>0</td>\n",
       "      <td>0</td>\n",
       "      <td>1</td>\n",
       "      <td>0</td>\n",
       "      <td>0</td>\n",
       "    </tr>\n",
       "  </tbody>\n",
       "</table>\n",
       "<p>5 rows × 71 columns</p>\n",
       "</div>"
      ],
      "text/plain": [
       "   abandona  1st_model  2nd_model  3rd_model  4th_model  cum_absent  \\\n",
       "0         0          0          0          0          0    0.000000   \n",
       "1         1          1          1          1          0    0.483871   \n",
       "2         0          0          0          0          0    0.000000   \n",
       "3         0          0          0          0          0    0.000000   \n",
       "4         0          0          0          0          0    0.000000   \n",
       "\n",
       "   nota_admision_def  cum_more_1st_call_ratio  cum_pass_ratio  \\\n",
       "0              8.154                 0.000000        1.000000   \n",
       "1              5.682                 0.096774        0.387097   \n",
       "2             11.844                 0.090909        0.909091   \n",
       "3              9.126                 0.000000        1.000000   \n",
       "4              8.122                 0.166667        0.791667   \n",
       "\n",
       "   des_plan_GRADO EN EDUCACIÓN INFANTIL (CÁCERES)  ...  \\\n",
       "0                                               0  ...   \n",
       "1                                               0  ...   \n",
       "2                                               0  ...   \n",
       "3                                               0  ...   \n",
       "4                                               0  ...   \n",
       "\n",
       "   anio_nacimiento_interval_(1990.0, 1995.0]  \\\n",
       "0                                          1   \n",
       "1                                          1   \n",
       "2                                          1   \n",
       "3                                          1   \n",
       "4                                          1   \n",
       "\n",
       "   anio_nacimiento_interval_(1995.0, 2000.0]  scolarship_N  scolarship_S  \\\n",
       "0                                          0             1             0   \n",
       "1                                          0             1             0   \n",
       "2                                          0             0             1   \n",
       "3                                          0             1             0   \n",
       "4                                          0             0             1   \n",
       "\n",
       "   cum_median_interval_(1.5, 3.0]  cum_median_interval_(3.0, 4.5]  \\\n",
       "0                               0                               0   \n",
       "1                               0                               0   \n",
       "2                               0                               0   \n",
       "3                               0                               0   \n",
       "4                               0                               0   \n",
       "\n",
       "   cum_median_interval_(4.5, 6.0]  cum_median_interval_(6.0, 7.5]  \\\n",
       "0                               0                               1   \n",
       "1                               0                               1   \n",
       "2                               0                               1   \n",
       "3                               0                               0   \n",
       "4                               0                               1   \n",
       "\n",
       "   cum_median_interval_(7.5, 9.0]  cum_median_interval_(9.0, 10.0]  \n",
       "0                               0                                0  \n",
       "1                               0                                0  \n",
       "2                               0                                0  \n",
       "3                               1                                0  \n",
       "4                               0                                0  \n",
       "\n",
       "[5 rows x 71 columns]"
      ]
     },
     "execution_count": 71,
     "metadata": {},
     "output_type": "execute_result"
    }
   ],
   "source": [
    "final_analys_record_personal_access_one_hot.head()"
   ]
  },
  {
   "cell_type": "code",
   "execution_count": 72,
   "id": "6ec5c120",
   "metadata": {
    "scrolled": false
   },
   "outputs": [
    {
     "data": {
      "text/plain": [
       "0    1593\n",
       "1     262\n",
       "Name: abandona, dtype: int64"
      ]
     },
     "execution_count": 72,
     "metadata": {},
     "output_type": "execute_result"
    }
   ],
   "source": [
    "final_analys_record_personal_access_one_hot['abandona'].value_counts()"
   ]
  },
  {
   "cell_type": "code",
   "execution_count": 73,
   "id": "279a45c2",
   "metadata": {},
   "outputs": [
    {
     "data": {
      "text/plain": [
       "0    1593\n",
       "1     262\n",
       "Name: abandona, dtype: int64"
      ]
     },
     "execution_count": 73,
     "metadata": {},
     "output_type": "execute_result"
    }
   ],
   "source": [
    "final_analys_record_personal_access_one_hot['abandona'].value_counts()"
   ]
  },
  {
   "cell_type": "code",
   "execution_count": 74,
   "id": "17e505f1",
   "metadata": {},
   "outputs": [],
   "source": [
    "from imblearn.combine import SMOTETomek\n"
   ]
  },
  {
   "cell_type": "code",
   "execution_count": 75,
   "id": "a789a536",
   "metadata": {
    "scrolled": true
   },
   "outputs": [
    {
     "name": "stdout",
     "output_type": "stream",
     "text": [
      "(3164, 70)\n",
      "(3164,)\n"
     ]
    }
   ],
   "source": [
    "smt = SMOTETomek()\n",
    "X_smt, y_smt = smt.fit_sample(final_analys_record_personal_access_one_hot.drop(['abandona'], axis=1),\n",
    "                             final_analys_record_personal_access_one_hot['abandona'])\n",
    "print(X_smt.shape)\n",
    "print(y_smt.shape)"
   ]
  },
  {
   "cell_type": "code",
   "execution_count": 76,
   "id": "febbc1b5",
   "metadata": {
    "scrolled": true
   },
   "outputs": [
    {
     "data": {
      "text/plain": [
       "0    1582\n",
       "1    1582\n",
       "Name: abandona, dtype: int64"
      ]
     },
     "execution_count": 76,
     "metadata": {},
     "output_type": "execute_result"
    }
   ],
   "source": [
    "y_smt.value_counts()"
   ]
  },
  {
   "cell_type": "code",
   "execution_count": 77,
   "id": "7eeddaef",
   "metadata": {},
   "outputs": [],
   "source": [
    "from sklearn.model_selection import train_test_split, cross_val_score"
   ]
  },
  {
   "cell_type": "code",
   "execution_count": 78,
   "id": "4e6b2148",
   "metadata": {},
   "outputs": [],
   "source": [
    "import sklearn.metrics as sklm"
   ]
  },
  {
   "cell_type": "code",
   "execution_count": 79,
   "id": "b63e2c26",
   "metadata": {},
   "outputs": [],
   "source": [
    "X_train, X_test, y_train, y_test = train_test_split(\n",
    "    X_smt, y_smt, test_size=0.25, random_state=26)"
   ]
  },
  {
   "cell_type": "code",
   "execution_count": 80,
   "id": "75d903b1",
   "metadata": {},
   "outputs": [],
   "source": [
    "from sklearn.linear_model import LogisticRegression"
   ]
  },
  {
   "cell_type": "code",
   "execution_count": 81,
   "id": "308ef336",
   "metadata": {
    "scrolled": true
   },
   "outputs": [],
   "source": [
    "clf = LogisticRegression(random_state=0,max_iter=300).fit(X_train, y_train)"
   ]
  },
  {
   "cell_type": "code",
   "execution_count": 82,
   "id": "26baa03e",
   "metadata": {},
   "outputs": [],
   "source": [
    "def print_cv_results (cv_estimate):\n",
    "    print('Mean performance metric = %4.3f' % np.mean(cv_estimate))\n",
    "    print('SDT of the metric       = %4.3f' % np.std(cv_estimate))\n",
    "    print('Outcomes by cv fold')\n",
    "    for i, x in enumerate(cv_estimate):\n",
    "        print('Fold %2d    %4.3f' % (i+1, x))"
   ]
  },
  {
   "cell_type": "code",
   "execution_count": 83,
   "id": "9dce8f82",
   "metadata": {
    "scrolled": true
   },
   "outputs": [
    {
     "data": {
      "text/plain": [
       "0.8912768647281921"
      ]
     },
     "execution_count": 83,
     "metadata": {},
     "output_type": "execute_result"
    }
   ],
   "source": [
    "y_pred = clf.predict(X_test)\n",
    "sklm.accuracy_score(y_true=y_test, y_pred=y_pred)"
   ]
  },
  {
   "cell_type": "code",
   "execution_count": 84,
   "id": "f819fe2f",
   "metadata": {
    "scrolled": false
   },
   "outputs": [
    {
     "data": {
      "text/plain": [
       "array([[366,  44],\n",
       "       [ 42, 339]], dtype=int64)"
      ]
     },
     "execution_count": 84,
     "metadata": {},
     "output_type": "execute_result"
    }
   ],
   "source": [
    "sklm.confusion_matrix(y_test, y_pred)"
   ]
  },
  {
   "cell_type": "code",
   "execution_count": 85,
   "id": "b9b0fc17",
   "metadata": {
    "scrolled": false
   },
   "outputs": [
    {
     "data": {
      "text/plain": [
       "0.889763779527559"
      ]
     },
     "execution_count": 85,
     "metadata": {},
     "output_type": "execute_result"
    }
   ],
   "source": [
    "sklm.recall_score(y_test, y_pred)"
   ]
  },
  {
   "cell_type": "code",
   "execution_count": 86,
   "id": "cda915bf",
   "metadata": {},
   "outputs": [],
   "source": [
    "tn, fp, fn, tp = sklm.confusion_matrix(y_test, y_pred).ravel()"
   ]
  },
  {
   "cell_type": "code",
   "execution_count": 87,
   "id": "f2a25915",
   "metadata": {
    "scrolled": true
   },
   "outputs": [
    {
     "data": {
      "text/plain": [
       "0.1073170731707317"
      ]
     },
     "execution_count": 87,
     "metadata": {},
     "output_type": "execute_result"
    }
   ],
   "source": [
    "fp/(tn+fp)"
   ]
  },
  {
   "cell_type": "markdown",
   "id": "69a5afed",
   "metadata": {},
   "source": [
    "Esta es la medida que tenemos que tratar de que sea la más alta, porque es preferible predecir un abandono como positivo para prevenirlo, y que luego realmente esa persona no vaya a abandonar, a que se nos escape un abandono.\n",
    "\n",
    "El hecho de hacer que esta medida aumente, hará que el modelo predizca en más ocasiones un positivo en casos que no lo son, pero es preferible eso y que al modelo se le escapen los número de casos positivos menores posibles, a tratar de balancear los dos lados y que se nos escapen casos positivos.\n",
    "\n",
    "Cuantos menos casos positivos se nos escapen, mejor, es preferible predecir un falso positivo que no un falso negativo"
   ]
  },
  {
   "cell_type": "markdown",
   "id": "1580e609",
   "metadata": {
    "pycharm": {
     "name": "#%% md\n"
    }
   },
   "source": [
    "### Probamos con cv\n"
   ]
  },
  {
   "cell_type": "code",
   "execution_count": 88,
   "id": "d4d5340e",
   "metadata": {
    "scrolled": false
   },
   "outputs": [
    {
     "name": "stdout",
     "output_type": "stream",
     "text": [
      "Mean performance metric = 0.897\n",
      "SDT of the metric       = 0.021\n",
      "Outcomes by cv fold\n",
      "Fold  1    0.933\n",
      "Fold  2    0.892\n",
      "Fold  3    0.905\n",
      "Fold  4    0.871\n",
      "Fold  5    0.883\n"
     ]
    }
   ],
   "source": [
    "print_cv_results (cross_val_score(clf, X_train, y_train, scoring='recall'))"
   ]
  },
  {
   "cell_type": "markdown",
   "id": "970bf3a1",
   "metadata": {
    "pycharm": {
     "name": "#%% md\n"
    }
   },
   "source": [
    "### Probamos con el cjto de datos completo"
   ]
  },
  {
   "cell_type": "code",
   "execution_count": 89,
   "id": "bc697b97",
   "metadata": {},
   "outputs": [],
   "source": [
    "X_test = final_analys_record_personal_access_one_hot.drop(['abandona'], axis=1)\n",
    "y_test = final_analys_record_personal_access_one_hot['abandona']"
   ]
  },
  {
   "cell_type": "code",
   "execution_count": 90,
   "id": "b6ffba8f",
   "metadata": {},
   "outputs": [
    {
     "data": {
      "text/plain": [
       "0.8490566037735849"
      ]
     },
     "execution_count": 90,
     "metadata": {},
     "output_type": "execute_result"
    }
   ],
   "source": [
    "y_pred = clf.predict(X_test)\n",
    "sklm.accuracy_score(y_true=y_test, y_pred=y_pred)"
   ]
  },
  {
   "cell_type": "code",
   "execution_count": 91,
   "id": "5b8f9523",
   "metadata": {},
   "outputs": [
    {
     "data": {
      "text/plain": [
       "array([[1429,  164],\n",
       "       [ 116,  146]], dtype=int64)"
      ]
     },
     "execution_count": 91,
     "metadata": {},
     "output_type": "execute_result"
    }
   ],
   "source": [
    "sklm.confusion_matrix(y_test, y_pred)"
   ]
  },
  {
   "cell_type": "code",
   "execution_count": 92,
   "id": "e5962bc8",
   "metadata": {},
   "outputs": [],
   "source": [
    "tn, fp, fn, tp = sklm.confusion_matrix(y_test, y_pred).ravel()"
   ]
  },
  {
   "cell_type": "code",
   "execution_count": 93,
   "id": "e974df09",
   "metadata": {
    "scrolled": false
   },
   "outputs": [
    {
     "data": {
      "text/plain": [
       "0.5572519083969466"
      ]
     },
     "execution_count": 93,
     "metadata": {},
     "output_type": "execute_result"
    }
   ],
   "source": [
    "sklm.recall_score(y_test, y_pred)"
   ]
  },
  {
   "cell_type": "code",
   "execution_count": 94,
   "id": "e7bcdbfe",
   "metadata": {
    "scrolled": true
   },
   "outputs": [
    {
     "data": {
      "text/plain": [
       "0.1029504080351538"
      ]
     },
     "execution_count": 94,
     "metadata": {},
     "output_type": "execute_result"
    }
   ],
   "source": [
    "fp/(tn+fp)"
   ]
  },
  {
   "cell_type": "markdown",
   "id": "f5c9e951",
   "metadata": {
    "pycharm": {
     "name": "#%% md\n"
    }
   },
   "source": [
    "### Pasamos a ver la importancia de cada variable en el modelo"
   ]
  },
  {
   "cell_type": "code",
   "execution_count": 95,
   "id": "e7463aa0",
   "metadata": {},
   "outputs": [],
   "source": [
    "import time\n",
    "from sklearn.inspection import permutation_importance\n"
   ]
  },
  {
   "cell_type": "code",
   "execution_count": 96,
   "id": "4bcc5a3a",
   "metadata": {},
   "outputs": [],
   "source": [
    "feature_names = X_smt.columns"
   ]
  },
  {
   "cell_type": "code",
   "execution_count": 97,
   "id": "aba31a6a",
   "metadata": {},
   "outputs": [
    {
     "name": "stdout",
     "output_type": "stream",
     "text": [
      "Elapsed time to compute the importances: 5.361 seconds\n"
     ]
    }
   ],
   "source": [
    "start_time = time.time()\n",
    "result = permutation_importance(\n",
    "    clf, X_test, y_test, n_repeats=3, random_state=42, n_jobs=-1)\n",
    "elapsed_time = time.time() - start_time\n",
    "print(f\"Elapsed time to compute the importances: \"\n",
    "      f\"{elapsed_time:.3f} seconds\")\n",
    "\n",
    "logit_importances = pd.Series(result.importances_mean, index=feature_names)"
   ]
  },
  {
   "cell_type": "code",
   "execution_count": 98,
   "id": "60b94b2f",
   "metadata": {},
   "outputs": [],
   "source": [
    "logit_importances = pd.Series(result.importances_mean, index=feature_names)"
   ]
  },
  {
   "cell_type": "code",
   "execution_count": 99,
   "id": "3c2d3cd1",
   "metadata": {},
   "outputs": [],
   "source": [
    "logit_importances = logit_importances[logit_importances > 0.001]"
   ]
  },
  {
   "cell_type": "code",
   "execution_count": 100,
   "id": "2b745672",
   "metadata": {},
   "outputs": [
    {
     "data": {
      "text/plain": [
       "anio_nacimiento_1996                                                         0.001258\n",
       "anio_apertura_expediente_2010-11                                             0.001438\n",
       "anio_apertura_expediente_2011-12                                             0.001438\n",
       "anio_nacimiento_1997                                                         0.002156\n",
       "anio_nacimiento_1990                                                         0.002156\n",
       "anio_nacimiento_1989                                                         0.002516\n",
       "anio_nacimiento_1998                                                         0.002516\n",
       "3rd_model                                                                    0.002875\n",
       "cum_absent                                                                   0.003953\n",
       "cum_more_1st_call_ratio                                                      0.004133\n",
       "convocatoria_acceso_EXT                                                      0.005031\n",
       "des_plan_GRADO EN EDUCACIÓN PRIMARIA. Modalidad Bilingüe (Español-Inglés)    0.005571\n",
       "anio_nacimiento_1991                                                         0.005571\n",
       "des_acceso_Selectividad                                                      0.009524\n",
       "anio_nacimiento_interval_(1985.0, 1990.0]                                    0.010961\n",
       "convocatoria_acceso_JUN                                                      0.011860\n",
       "convocatoria_acceso_SEP                                                      0.012040\n",
       "des_acceso_Formación Profesional                                             0.013477\n",
       "anio_nacimiento_1995                                                         0.015094\n",
       "anio_nacimiento_1992                                                         0.015094\n",
       "cum_median_interval_(7.5, 9.0]                                               0.018329\n",
       "anio_apertura_expediente_2014-15                                             0.018329\n",
       "anio_nacimiento_1993                                                         0.020665\n",
       "anio_nacimiento_1994                                                         0.022282\n",
       "des_plan_GRADO EN EDUCACIÓN SOCIAL                                           0.024079\n",
       "anio_apertura_expediente_2016-17                                             0.027673\n",
       "anio_apertura_expediente_2012-13                                             0.028032\n",
       "anio_apertura_expediente_2015-16                                             0.028032\n",
       "anio_apertura_expediente_2013-14                                             0.030189\n",
       "scolarship_S                                                                 0.031267\n",
       "cum_median_interval_(4.5, 6.0]                                               0.032525\n",
       "sexo_D                                                                       0.035580\n",
       "des_plan_GRADO EN EDUCACIÓN PRIMARIA (CÁCERES)                               0.038275\n",
       "des_plan_GRADO EN EDUCACIÓN INFANTIL (CÁCERES)                               0.044744\n",
       "scolarship_N                                                                 0.048877\n",
       "cum_median_interval_(6.0, 7.5]                                               0.054987\n",
       "sexo_H                                                                       0.074753\n",
       "dtype: float64"
      ]
     },
     "execution_count": 100,
     "metadata": {},
     "output_type": "execute_result"
    }
   ],
   "source": [
    "logit_importances.sort_values()"
   ]
  },
  {
   "cell_type": "code",
   "execution_count": 101,
   "id": "e63bfe1d",
   "metadata": {
    "pycharm": {
     "name": "#%%\n"
    }
   },
   "outputs": [],
   "source": [
    "logit_importances=pd.DataFrame({'Feature':logit_importances.sort_values(ascending=False).index,\n",
    "              'Permutation_importance':logit_importances.sort_values(ascending=False)}).reset_index(drop=True)"
   ]
  },
  {
   "cell_type": "code",
   "execution_count": 102,
   "id": "8f9f0a0e",
   "metadata": {
    "pycharm": {
     "name": "#%%\n"
    }
   },
   "outputs": [
    {
     "data": {
      "text/html": [
       "<div>\n",
       "<style scoped>\n",
       "    .dataframe tbody tr th:only-of-type {\n",
       "        vertical-align: middle;\n",
       "    }\n",
       "\n",
       "    .dataframe tbody tr th {\n",
       "        vertical-align: top;\n",
       "    }\n",
       "\n",
       "    .dataframe thead th {\n",
       "        text-align: right;\n",
       "    }\n",
       "</style>\n",
       "<table border=\"1\" class=\"dataframe\">\n",
       "  <thead>\n",
       "    <tr style=\"text-align: right;\">\n",
       "      <th></th>\n",
       "      <th>Feature</th>\n",
       "      <th>Permutation_importance</th>\n",
       "    </tr>\n",
       "  </thead>\n",
       "  <tbody>\n",
       "    <tr>\n",
       "      <th>0</th>\n",
       "      <td>sexo_H</td>\n",
       "      <td>0.074753</td>\n",
       "    </tr>\n",
       "    <tr>\n",
       "      <th>1</th>\n",
       "      <td>cum_median_interval_(6.0, 7.5]</td>\n",
       "      <td>0.054987</td>\n",
       "    </tr>\n",
       "    <tr>\n",
       "      <th>2</th>\n",
       "      <td>scolarship_N</td>\n",
       "      <td>0.048877</td>\n",
       "    </tr>\n",
       "    <tr>\n",
       "      <th>3</th>\n",
       "      <td>des_plan_GRADO EN EDUCACIÓN INFANTIL (CÁCERES)</td>\n",
       "      <td>0.044744</td>\n",
       "    </tr>\n",
       "    <tr>\n",
       "      <th>4</th>\n",
       "      <td>des_plan_GRADO EN EDUCACIÓN PRIMARIA (CÁCERES)</td>\n",
       "      <td>0.038275</td>\n",
       "    </tr>\n",
       "    <tr>\n",
       "      <th>5</th>\n",
       "      <td>sexo_D</td>\n",
       "      <td>0.035580</td>\n",
       "    </tr>\n",
       "    <tr>\n",
       "      <th>6</th>\n",
       "      <td>cum_median_interval_(4.5, 6.0]</td>\n",
       "      <td>0.032525</td>\n",
       "    </tr>\n",
       "    <tr>\n",
       "      <th>7</th>\n",
       "      <td>scolarship_S</td>\n",
       "      <td>0.031267</td>\n",
       "    </tr>\n",
       "    <tr>\n",
       "      <th>8</th>\n",
       "      <td>anio_apertura_expediente_2013-14</td>\n",
       "      <td>0.030189</td>\n",
       "    </tr>\n",
       "    <tr>\n",
       "      <th>9</th>\n",
       "      <td>anio_apertura_expediente_2012-13</td>\n",
       "      <td>0.028032</td>\n",
       "    </tr>\n",
       "    <tr>\n",
       "      <th>10</th>\n",
       "      <td>anio_apertura_expediente_2015-16</td>\n",
       "      <td>0.028032</td>\n",
       "    </tr>\n",
       "    <tr>\n",
       "      <th>11</th>\n",
       "      <td>anio_apertura_expediente_2016-17</td>\n",
       "      <td>0.027673</td>\n",
       "    </tr>\n",
       "    <tr>\n",
       "      <th>12</th>\n",
       "      <td>des_plan_GRADO EN EDUCACIÓN SOCIAL</td>\n",
       "      <td>0.024079</td>\n",
       "    </tr>\n",
       "    <tr>\n",
       "      <th>13</th>\n",
       "      <td>anio_nacimiento_1994</td>\n",
       "      <td>0.022282</td>\n",
       "    </tr>\n",
       "    <tr>\n",
       "      <th>14</th>\n",
       "      <td>anio_nacimiento_1993</td>\n",
       "      <td>0.020665</td>\n",
       "    </tr>\n",
       "    <tr>\n",
       "      <th>15</th>\n",
       "      <td>cum_median_interval_(7.5, 9.0]</td>\n",
       "      <td>0.018329</td>\n",
       "    </tr>\n",
       "    <tr>\n",
       "      <th>16</th>\n",
       "      <td>anio_apertura_expediente_2014-15</td>\n",
       "      <td>0.018329</td>\n",
       "    </tr>\n",
       "    <tr>\n",
       "      <th>17</th>\n",
       "      <td>anio_nacimiento_1995</td>\n",
       "      <td>0.015094</td>\n",
       "    </tr>\n",
       "    <tr>\n",
       "      <th>18</th>\n",
       "      <td>anio_nacimiento_1992</td>\n",
       "      <td>0.015094</td>\n",
       "    </tr>\n",
       "    <tr>\n",
       "      <th>19</th>\n",
       "      <td>des_acceso_Formación Profesional</td>\n",
       "      <td>0.013477</td>\n",
       "    </tr>\n",
       "    <tr>\n",
       "      <th>20</th>\n",
       "      <td>convocatoria_acceso_SEP</td>\n",
       "      <td>0.012040</td>\n",
       "    </tr>\n",
       "    <tr>\n",
       "      <th>21</th>\n",
       "      <td>convocatoria_acceso_JUN</td>\n",
       "      <td>0.011860</td>\n",
       "    </tr>\n",
       "    <tr>\n",
       "      <th>22</th>\n",
       "      <td>anio_nacimiento_interval_(1985.0, 1990.0]</td>\n",
       "      <td>0.010961</td>\n",
       "    </tr>\n",
       "    <tr>\n",
       "      <th>23</th>\n",
       "      <td>des_acceso_Selectividad</td>\n",
       "      <td>0.009524</td>\n",
       "    </tr>\n",
       "    <tr>\n",
       "      <th>24</th>\n",
       "      <td>anio_nacimiento_1991</td>\n",
       "      <td>0.005571</td>\n",
       "    </tr>\n",
       "    <tr>\n",
       "      <th>25</th>\n",
       "      <td>des_plan_GRADO EN EDUCACIÓN PRIMARIA. Modalida...</td>\n",
       "      <td>0.005571</td>\n",
       "    </tr>\n",
       "    <tr>\n",
       "      <th>26</th>\n",
       "      <td>convocatoria_acceso_EXT</td>\n",
       "      <td>0.005031</td>\n",
       "    </tr>\n",
       "    <tr>\n",
       "      <th>27</th>\n",
       "      <td>cum_more_1st_call_ratio</td>\n",
       "      <td>0.004133</td>\n",
       "    </tr>\n",
       "    <tr>\n",
       "      <th>28</th>\n",
       "      <td>cum_absent</td>\n",
       "      <td>0.003953</td>\n",
       "    </tr>\n",
       "    <tr>\n",
       "      <th>29</th>\n",
       "      <td>3rd_model</td>\n",
       "      <td>0.002875</td>\n",
       "    </tr>\n",
       "    <tr>\n",
       "      <th>30</th>\n",
       "      <td>anio_nacimiento_1998</td>\n",
       "      <td>0.002516</td>\n",
       "    </tr>\n",
       "    <tr>\n",
       "      <th>31</th>\n",
       "      <td>anio_nacimiento_1989</td>\n",
       "      <td>0.002516</td>\n",
       "    </tr>\n",
       "    <tr>\n",
       "      <th>32</th>\n",
       "      <td>anio_nacimiento_1990</td>\n",
       "      <td>0.002156</td>\n",
       "    </tr>\n",
       "    <tr>\n",
       "      <th>33</th>\n",
       "      <td>anio_nacimiento_1997</td>\n",
       "      <td>0.002156</td>\n",
       "    </tr>\n",
       "    <tr>\n",
       "      <th>34</th>\n",
       "      <td>anio_apertura_expediente_2011-12</td>\n",
       "      <td>0.001438</td>\n",
       "    </tr>\n",
       "    <tr>\n",
       "      <th>35</th>\n",
       "      <td>anio_apertura_expediente_2010-11</td>\n",
       "      <td>0.001438</td>\n",
       "    </tr>\n",
       "    <tr>\n",
       "      <th>36</th>\n",
       "      <td>anio_nacimiento_1996</td>\n",
       "      <td>0.001258</td>\n",
       "    </tr>\n",
       "  </tbody>\n",
       "</table>\n",
       "</div>"
      ],
      "text/plain": [
       "                                              Feature  Permutation_importance\n",
       "0                                              sexo_H                0.074753\n",
       "1                      cum_median_interval_(6.0, 7.5]                0.054987\n",
       "2                                        scolarship_N                0.048877\n",
       "3      des_plan_GRADO EN EDUCACIÓN INFANTIL (CÁCERES)                0.044744\n",
       "4      des_plan_GRADO EN EDUCACIÓN PRIMARIA (CÁCERES)                0.038275\n",
       "5                                              sexo_D                0.035580\n",
       "6                      cum_median_interval_(4.5, 6.0]                0.032525\n",
       "7                                        scolarship_S                0.031267\n",
       "8                    anio_apertura_expediente_2013-14                0.030189\n",
       "9                    anio_apertura_expediente_2012-13                0.028032\n",
       "10                   anio_apertura_expediente_2015-16                0.028032\n",
       "11                   anio_apertura_expediente_2016-17                0.027673\n",
       "12                 des_plan_GRADO EN EDUCACIÓN SOCIAL                0.024079\n",
       "13                               anio_nacimiento_1994                0.022282\n",
       "14                               anio_nacimiento_1993                0.020665\n",
       "15                     cum_median_interval_(7.5, 9.0]                0.018329\n",
       "16                   anio_apertura_expediente_2014-15                0.018329\n",
       "17                               anio_nacimiento_1995                0.015094\n",
       "18                               anio_nacimiento_1992                0.015094\n",
       "19                   des_acceso_Formación Profesional                0.013477\n",
       "20                            convocatoria_acceso_SEP                0.012040\n",
       "21                            convocatoria_acceso_JUN                0.011860\n",
       "22          anio_nacimiento_interval_(1985.0, 1990.0]                0.010961\n",
       "23                            des_acceso_Selectividad                0.009524\n",
       "24                               anio_nacimiento_1991                0.005571\n",
       "25  des_plan_GRADO EN EDUCACIÓN PRIMARIA. Modalida...                0.005571\n",
       "26                            convocatoria_acceso_EXT                0.005031\n",
       "27                            cum_more_1st_call_ratio                0.004133\n",
       "28                                         cum_absent                0.003953\n",
       "29                                          3rd_model                0.002875\n",
       "30                               anio_nacimiento_1998                0.002516\n",
       "31                               anio_nacimiento_1989                0.002516\n",
       "32                               anio_nacimiento_1990                0.002156\n",
       "33                               anio_nacimiento_1997                0.002156\n",
       "34                   anio_apertura_expediente_2011-12                0.001438\n",
       "35                   anio_apertura_expediente_2010-11                0.001438\n",
       "36                               anio_nacimiento_1996                0.001258"
      ]
     },
     "execution_count": 102,
     "metadata": {},
     "output_type": "execute_result"
    }
   ],
   "source": [
    "logit_importances"
   ]
  },
  {
   "cell_type": "code",
   "execution_count": 103,
   "id": "987f3b24",
   "metadata": {
    "pycharm": {
     "name": "#%%\n"
    }
   },
   "outputs": [],
   "source": [
    "import plotly.express as px\n"
   ]
  },
  {
   "cell_type": "code",
   "execution_count": 104,
   "id": "74ebec63",
   "metadata": {
    "pycharm": {
     "name": "#%%\n"
    }
   },
   "outputs": [
    {
     "data": {
      "application/vnd.plotly.v1+json": {
       "config": {
        "plotlyServerURL": "https://plot.ly"
       },
       "data": [
        {
         "alignmentgroup": "True",
         "hovertemplate": "Feature=%{x}<br>Permutation_importance=%{y}<extra></extra>",
         "legendgroup": "",
         "marker": {
          "color": "#636efa"
         },
         "name": "",
         "offsetgroup": "",
         "orientation": "v",
         "showlegend": false,
         "textposition": "auto",
         "type": "bar",
         "x": [
          "sexo_H",
          "cum_median_interval_(6.0, 7.5]",
          "scolarship_N",
          "des_plan_GRADO EN EDUCACIÓN INFANTIL (CÁCERES)",
          "des_plan_GRADO EN EDUCACIÓN PRIMARIA (CÁCERES)",
          "sexo_D",
          "cum_median_interval_(4.5, 6.0]",
          "scolarship_S",
          "anio_apertura_expediente_2013-14",
          "anio_apertura_expediente_2012-13",
          "anio_apertura_expediente_2015-16",
          "anio_apertura_expediente_2016-17",
          "des_plan_GRADO EN EDUCACIÓN SOCIAL",
          "anio_nacimiento_1994",
          "anio_nacimiento_1993",
          "cum_median_interval_(7.5, 9.0]",
          "anio_apertura_expediente_2014-15",
          "anio_nacimiento_1995",
          "anio_nacimiento_1992",
          "des_acceso_Formación Profesional",
          "convocatoria_acceso_SEP",
          "convocatoria_acceso_JUN",
          "anio_nacimiento_interval_(1985.0, 1990.0]",
          "des_acceso_Selectividad",
          "anio_nacimiento_1991",
          "des_plan_GRADO EN EDUCACIÓN PRIMARIA. Modalidad Bilingüe (Español-Inglés)",
          "convocatoria_acceso_EXT",
          "cum_more_1st_call_ratio",
          "cum_absent",
          "3rd_model",
          "anio_nacimiento_1998",
          "anio_nacimiento_1989",
          "anio_nacimiento_1990",
          "anio_nacimiento_1997",
          "anio_apertura_expediente_2011-12",
          "anio_apertura_expediente_2010-11",
          "anio_nacimiento_1996"
         ],
         "xaxis": "x",
         "y": [
          0.07475292003593896,
          0.05498652291105125,
          0.04887690925426776,
          0.04474393530997308,
          0.038274932614555314,
          0.035579514824797896,
          0.03252470799640613,
          0.031266846361186006,
          0.030188679245283085,
          0.02803234501347714,
          0.02803234501347714,
          0.0276729559748428,
          0.024079065588499593,
          0.02228212039532799,
          0.020664869721473522,
          0.01832884097035044,
          0.01832884097035044,
          0.015094339622641543,
          0.015094339622641543,
          0.013477088948787075,
          0.012039532794249777,
          0.01185983827493268,
          0.01096136567834686,
          0.009523809523809565,
          0.005570530098832016,
          0.005570530098832016,
          0.005031446540880539,
          0.0041329739442947195,
          0.003953279424977585,
          0.0028751123090745936,
          0.002515723270440325,
          0.002515723270440288,
          0.0021563342318059453,
          0.0021563342318059453,
          0.0014375561545372968,
          0.0014375561545372968,
          0.0012578616352201626
         ],
         "yaxis": "y"
        }
       ],
       "layout": {
        "barmode": "relative",
        "legend": {
         "tracegroupgap": 0
        },
        "margin": {
         "t": 60
        },
        "template": {
         "data": {
          "bar": [
           {
            "error_x": {
             "color": "#2a3f5f"
            },
            "error_y": {
             "color": "#2a3f5f"
            },
            "marker": {
             "line": {
              "color": "#E5ECF6",
              "width": 0.5
             }
            },
            "type": "bar"
           }
          ],
          "barpolar": [
           {
            "marker": {
             "line": {
              "color": "#E5ECF6",
              "width": 0.5
             }
            },
            "type": "barpolar"
           }
          ],
          "carpet": [
           {
            "aaxis": {
             "endlinecolor": "#2a3f5f",
             "gridcolor": "white",
             "linecolor": "white",
             "minorgridcolor": "white",
             "startlinecolor": "#2a3f5f"
            },
            "baxis": {
             "endlinecolor": "#2a3f5f",
             "gridcolor": "white",
             "linecolor": "white",
             "minorgridcolor": "white",
             "startlinecolor": "#2a3f5f"
            },
            "type": "carpet"
           }
          ],
          "choropleth": [
           {
            "colorbar": {
             "outlinewidth": 0,
             "ticks": ""
            },
            "type": "choropleth"
           }
          ],
          "contour": [
           {
            "colorbar": {
             "outlinewidth": 0,
             "ticks": ""
            },
            "colorscale": [
             [
              0,
              "#0d0887"
             ],
             [
              0.1111111111111111,
              "#46039f"
             ],
             [
              0.2222222222222222,
              "#7201a8"
             ],
             [
              0.3333333333333333,
              "#9c179e"
             ],
             [
              0.4444444444444444,
              "#bd3786"
             ],
             [
              0.5555555555555556,
              "#d8576b"
             ],
             [
              0.6666666666666666,
              "#ed7953"
             ],
             [
              0.7777777777777778,
              "#fb9f3a"
             ],
             [
              0.8888888888888888,
              "#fdca26"
             ],
             [
              1,
              "#f0f921"
             ]
            ],
            "type": "contour"
           }
          ],
          "contourcarpet": [
           {
            "colorbar": {
             "outlinewidth": 0,
             "ticks": ""
            },
            "type": "contourcarpet"
           }
          ],
          "heatmap": [
           {
            "colorbar": {
             "outlinewidth": 0,
             "ticks": ""
            },
            "colorscale": [
             [
              0,
              "#0d0887"
             ],
             [
              0.1111111111111111,
              "#46039f"
             ],
             [
              0.2222222222222222,
              "#7201a8"
             ],
             [
              0.3333333333333333,
              "#9c179e"
             ],
             [
              0.4444444444444444,
              "#bd3786"
             ],
             [
              0.5555555555555556,
              "#d8576b"
             ],
             [
              0.6666666666666666,
              "#ed7953"
             ],
             [
              0.7777777777777778,
              "#fb9f3a"
             ],
             [
              0.8888888888888888,
              "#fdca26"
             ],
             [
              1,
              "#f0f921"
             ]
            ],
            "type": "heatmap"
           }
          ],
          "heatmapgl": [
           {
            "colorbar": {
             "outlinewidth": 0,
             "ticks": ""
            },
            "colorscale": [
             [
              0,
              "#0d0887"
             ],
             [
              0.1111111111111111,
              "#46039f"
             ],
             [
              0.2222222222222222,
              "#7201a8"
             ],
             [
              0.3333333333333333,
              "#9c179e"
             ],
             [
              0.4444444444444444,
              "#bd3786"
             ],
             [
              0.5555555555555556,
              "#d8576b"
             ],
             [
              0.6666666666666666,
              "#ed7953"
             ],
             [
              0.7777777777777778,
              "#fb9f3a"
             ],
             [
              0.8888888888888888,
              "#fdca26"
             ],
             [
              1,
              "#f0f921"
             ]
            ],
            "type": "heatmapgl"
           }
          ],
          "histogram": [
           {
            "marker": {
             "colorbar": {
              "outlinewidth": 0,
              "ticks": ""
             }
            },
            "type": "histogram"
           }
          ],
          "histogram2d": [
           {
            "colorbar": {
             "outlinewidth": 0,
             "ticks": ""
            },
            "colorscale": [
             [
              0,
              "#0d0887"
             ],
             [
              0.1111111111111111,
              "#46039f"
             ],
             [
              0.2222222222222222,
              "#7201a8"
             ],
             [
              0.3333333333333333,
              "#9c179e"
             ],
             [
              0.4444444444444444,
              "#bd3786"
             ],
             [
              0.5555555555555556,
              "#d8576b"
             ],
             [
              0.6666666666666666,
              "#ed7953"
             ],
             [
              0.7777777777777778,
              "#fb9f3a"
             ],
             [
              0.8888888888888888,
              "#fdca26"
             ],
             [
              1,
              "#f0f921"
             ]
            ],
            "type": "histogram2d"
           }
          ],
          "histogram2dcontour": [
           {
            "colorbar": {
             "outlinewidth": 0,
             "ticks": ""
            },
            "colorscale": [
             [
              0,
              "#0d0887"
             ],
             [
              0.1111111111111111,
              "#46039f"
             ],
             [
              0.2222222222222222,
              "#7201a8"
             ],
             [
              0.3333333333333333,
              "#9c179e"
             ],
             [
              0.4444444444444444,
              "#bd3786"
             ],
             [
              0.5555555555555556,
              "#d8576b"
             ],
             [
              0.6666666666666666,
              "#ed7953"
             ],
             [
              0.7777777777777778,
              "#fb9f3a"
             ],
             [
              0.8888888888888888,
              "#fdca26"
             ],
             [
              1,
              "#f0f921"
             ]
            ],
            "type": "histogram2dcontour"
           }
          ],
          "mesh3d": [
           {
            "colorbar": {
             "outlinewidth": 0,
             "ticks": ""
            },
            "type": "mesh3d"
           }
          ],
          "parcoords": [
           {
            "line": {
             "colorbar": {
              "outlinewidth": 0,
              "ticks": ""
             }
            },
            "type": "parcoords"
           }
          ],
          "pie": [
           {
            "automargin": true,
            "type": "pie"
           }
          ],
          "scatter": [
           {
            "marker": {
             "colorbar": {
              "outlinewidth": 0,
              "ticks": ""
             }
            },
            "type": "scatter"
           }
          ],
          "scatter3d": [
           {
            "line": {
             "colorbar": {
              "outlinewidth": 0,
              "ticks": ""
             }
            },
            "marker": {
             "colorbar": {
              "outlinewidth": 0,
              "ticks": ""
             }
            },
            "type": "scatter3d"
           }
          ],
          "scattercarpet": [
           {
            "marker": {
             "colorbar": {
              "outlinewidth": 0,
              "ticks": ""
             }
            },
            "type": "scattercarpet"
           }
          ],
          "scattergeo": [
           {
            "marker": {
             "colorbar": {
              "outlinewidth": 0,
              "ticks": ""
             }
            },
            "type": "scattergeo"
           }
          ],
          "scattergl": [
           {
            "marker": {
             "colorbar": {
              "outlinewidth": 0,
              "ticks": ""
             }
            },
            "type": "scattergl"
           }
          ],
          "scattermapbox": [
           {
            "marker": {
             "colorbar": {
              "outlinewidth": 0,
              "ticks": ""
             }
            },
            "type": "scattermapbox"
           }
          ],
          "scatterpolar": [
           {
            "marker": {
             "colorbar": {
              "outlinewidth": 0,
              "ticks": ""
             }
            },
            "type": "scatterpolar"
           }
          ],
          "scatterpolargl": [
           {
            "marker": {
             "colorbar": {
              "outlinewidth": 0,
              "ticks": ""
             }
            },
            "type": "scatterpolargl"
           }
          ],
          "scatterternary": [
           {
            "marker": {
             "colorbar": {
              "outlinewidth": 0,
              "ticks": ""
             }
            },
            "type": "scatterternary"
           }
          ],
          "surface": [
           {
            "colorbar": {
             "outlinewidth": 0,
             "ticks": ""
            },
            "colorscale": [
             [
              0,
              "#0d0887"
             ],
             [
              0.1111111111111111,
              "#46039f"
             ],
             [
              0.2222222222222222,
              "#7201a8"
             ],
             [
              0.3333333333333333,
              "#9c179e"
             ],
             [
              0.4444444444444444,
              "#bd3786"
             ],
             [
              0.5555555555555556,
              "#d8576b"
             ],
             [
              0.6666666666666666,
              "#ed7953"
             ],
             [
              0.7777777777777778,
              "#fb9f3a"
             ],
             [
              0.8888888888888888,
              "#fdca26"
             ],
             [
              1,
              "#f0f921"
             ]
            ],
            "type": "surface"
           }
          ],
          "table": [
           {
            "cells": {
             "fill": {
              "color": "#EBF0F8"
             },
             "line": {
              "color": "white"
             }
            },
            "header": {
             "fill": {
              "color": "#C8D4E3"
             },
             "line": {
              "color": "white"
             }
            },
            "type": "table"
           }
          ]
         },
         "layout": {
          "annotationdefaults": {
           "arrowcolor": "#2a3f5f",
           "arrowhead": 0,
           "arrowwidth": 1
          },
          "autotypenumbers": "strict",
          "coloraxis": {
           "colorbar": {
            "outlinewidth": 0,
            "ticks": ""
           }
          },
          "colorscale": {
           "diverging": [
            [
             0,
             "#8e0152"
            ],
            [
             0.1,
             "#c51b7d"
            ],
            [
             0.2,
             "#de77ae"
            ],
            [
             0.3,
             "#f1b6da"
            ],
            [
             0.4,
             "#fde0ef"
            ],
            [
             0.5,
             "#f7f7f7"
            ],
            [
             0.6,
             "#e6f5d0"
            ],
            [
             0.7,
             "#b8e186"
            ],
            [
             0.8,
             "#7fbc41"
            ],
            [
             0.9,
             "#4d9221"
            ],
            [
             1,
             "#276419"
            ]
           ],
           "sequential": [
            [
             0,
             "#0d0887"
            ],
            [
             0.1111111111111111,
             "#46039f"
            ],
            [
             0.2222222222222222,
             "#7201a8"
            ],
            [
             0.3333333333333333,
             "#9c179e"
            ],
            [
             0.4444444444444444,
             "#bd3786"
            ],
            [
             0.5555555555555556,
             "#d8576b"
            ],
            [
             0.6666666666666666,
             "#ed7953"
            ],
            [
             0.7777777777777778,
             "#fb9f3a"
            ],
            [
             0.8888888888888888,
             "#fdca26"
            ],
            [
             1,
             "#f0f921"
            ]
           ],
           "sequentialminus": [
            [
             0,
             "#0d0887"
            ],
            [
             0.1111111111111111,
             "#46039f"
            ],
            [
             0.2222222222222222,
             "#7201a8"
            ],
            [
             0.3333333333333333,
             "#9c179e"
            ],
            [
             0.4444444444444444,
             "#bd3786"
            ],
            [
             0.5555555555555556,
             "#d8576b"
            ],
            [
             0.6666666666666666,
             "#ed7953"
            ],
            [
             0.7777777777777778,
             "#fb9f3a"
            ],
            [
             0.8888888888888888,
             "#fdca26"
            ],
            [
             1,
             "#f0f921"
            ]
           ]
          },
          "colorway": [
           "#636efa",
           "#EF553B",
           "#00cc96",
           "#ab63fa",
           "#FFA15A",
           "#19d3f3",
           "#FF6692",
           "#B6E880",
           "#FF97FF",
           "#FECB52"
          ],
          "font": {
           "color": "#2a3f5f"
          },
          "geo": {
           "bgcolor": "white",
           "lakecolor": "white",
           "landcolor": "#E5ECF6",
           "showlakes": true,
           "showland": true,
           "subunitcolor": "white"
          },
          "hoverlabel": {
           "align": "left"
          },
          "hovermode": "closest",
          "mapbox": {
           "style": "light"
          },
          "paper_bgcolor": "white",
          "plot_bgcolor": "#E5ECF6",
          "polar": {
           "angularaxis": {
            "gridcolor": "white",
            "linecolor": "white",
            "ticks": ""
           },
           "bgcolor": "#E5ECF6",
           "radialaxis": {
            "gridcolor": "white",
            "linecolor": "white",
            "ticks": ""
           }
          },
          "scene": {
           "xaxis": {
            "backgroundcolor": "#E5ECF6",
            "gridcolor": "white",
            "gridwidth": 2,
            "linecolor": "white",
            "showbackground": true,
            "ticks": "",
            "zerolinecolor": "white"
           },
           "yaxis": {
            "backgroundcolor": "#E5ECF6",
            "gridcolor": "white",
            "gridwidth": 2,
            "linecolor": "white",
            "showbackground": true,
            "ticks": "",
            "zerolinecolor": "white"
           },
           "zaxis": {
            "backgroundcolor": "#E5ECF6",
            "gridcolor": "white",
            "gridwidth": 2,
            "linecolor": "white",
            "showbackground": true,
            "ticks": "",
            "zerolinecolor": "white"
           }
          },
          "shapedefaults": {
           "line": {
            "color": "#2a3f5f"
           }
          },
          "ternary": {
           "aaxis": {
            "gridcolor": "white",
            "linecolor": "white",
            "ticks": ""
           },
           "baxis": {
            "gridcolor": "white",
            "linecolor": "white",
            "ticks": ""
           },
           "bgcolor": "#E5ECF6",
           "caxis": {
            "gridcolor": "white",
            "linecolor": "white",
            "ticks": ""
           }
          },
          "title": {
           "x": 0.05
          },
          "xaxis": {
           "automargin": true,
           "gridcolor": "white",
           "linecolor": "white",
           "ticks": "",
           "title": {
            "standoff": 15
           },
           "zerolinecolor": "white",
           "zerolinewidth": 2
          },
          "yaxis": {
           "automargin": true,
           "gridcolor": "white",
           "linecolor": "white",
           "ticks": "",
           "title": {
            "standoff": 15
           },
           "zerolinecolor": "white",
           "zerolinewidth": 2
          }
         }
        },
        "xaxis": {
         "anchor": "y",
         "domain": [
          0,
          1
         ],
         "title": {
          "text": "Feature"
         }
        },
        "yaxis": {
         "anchor": "x",
         "domain": [
          0,
          1
         ],
         "title": {
          "text": "Permutation_importance"
         }
        }
       }
      },
      "text/html": [
       "<div>                            <div id=\"a0555234-af47-4162-a9b2-05202f6785bf\" class=\"plotly-graph-div\" style=\"height:525px; width:100%;\"></div>            <script type=\"text/javascript\">                require([\"plotly\"], function(Plotly) {                    window.PLOTLYENV=window.PLOTLYENV || {};                                    if (document.getElementById(\"a0555234-af47-4162-a9b2-05202f6785bf\")) {                    Plotly.newPlot(                        \"a0555234-af47-4162-a9b2-05202f6785bf\",                        [{\"alignmentgroup\": \"True\", \"hovertemplate\": \"Feature=%{x}<br>Permutation_importance=%{y}<extra></extra>\", \"legendgroup\": \"\", \"marker\": {\"color\": \"#636efa\"}, \"name\": \"\", \"offsetgroup\": \"\", \"orientation\": \"v\", \"showlegend\": false, \"textposition\": \"auto\", \"type\": \"bar\", \"x\": [\"sexo_H\", \"cum_median_interval_(6.0, 7.5]\", \"scolarship_N\", \"des_plan_GRADO EN EDUCACI\\u00d3N INFANTIL (C\\u00c1CERES)\", \"des_plan_GRADO EN EDUCACI\\u00d3N PRIMARIA (C\\u00c1CERES)\", \"sexo_D\", \"cum_median_interval_(4.5, 6.0]\", \"scolarship_S\", \"anio_apertura_expediente_2013-14\", \"anio_apertura_expediente_2012-13\", \"anio_apertura_expediente_2015-16\", \"anio_apertura_expediente_2016-17\", \"des_plan_GRADO EN EDUCACI\\u00d3N SOCIAL\", \"anio_nacimiento_1994\", \"anio_nacimiento_1993\", \"cum_median_interval_(7.5, 9.0]\", \"anio_apertura_expediente_2014-15\", \"anio_nacimiento_1995\", \"anio_nacimiento_1992\", \"des_acceso_Formaci\\u00f3n Profesional\", \"convocatoria_acceso_SEP\", \"convocatoria_acceso_JUN\", \"anio_nacimiento_interval_(1985.0, 1990.0]\", \"des_acceso_Selectividad\", \"anio_nacimiento_1991\", \"des_plan_GRADO EN EDUCACI\\u00d3N PRIMARIA. Modalidad Biling\\u00fce (Espa\\u00f1ol-Ingl\\u00e9s)\", \"convocatoria_acceso_EXT\", \"cum_more_1st_call_ratio\", \"cum_absent\", \"3rd_model\", \"anio_nacimiento_1998\", \"anio_nacimiento_1989\", \"anio_nacimiento_1990\", \"anio_nacimiento_1997\", \"anio_apertura_expediente_2011-12\", \"anio_apertura_expediente_2010-11\", \"anio_nacimiento_1996\"], \"xaxis\": \"x\", \"y\": [0.07475292003593896, 0.05498652291105125, 0.04887690925426776, 0.04474393530997308, 0.038274932614555314, 0.035579514824797896, 0.03252470799640613, 0.031266846361186006, 0.030188679245283085, 0.02803234501347714, 0.02803234501347714, 0.0276729559748428, 0.024079065588499593, 0.02228212039532799, 0.020664869721473522, 0.01832884097035044, 0.01832884097035044, 0.015094339622641543, 0.015094339622641543, 0.013477088948787075, 0.012039532794249777, 0.01185983827493268, 0.01096136567834686, 0.009523809523809565, 0.005570530098832016, 0.005570530098832016, 0.005031446540880539, 0.0041329739442947195, 0.003953279424977585, 0.0028751123090745936, 0.002515723270440325, 0.002515723270440288, 0.0021563342318059453, 0.0021563342318059453, 0.0014375561545372968, 0.0014375561545372968, 0.0012578616352201626], \"yaxis\": \"y\"}],                        {\"barmode\": \"relative\", \"legend\": {\"tracegroupgap\": 0}, \"margin\": {\"t\": 60}, \"template\": {\"data\": {\"bar\": [{\"error_x\": {\"color\": \"#2a3f5f\"}, \"error_y\": {\"color\": \"#2a3f5f\"}, \"marker\": {\"line\": {\"color\": \"#E5ECF6\", \"width\": 0.5}}, \"type\": \"bar\"}], \"barpolar\": [{\"marker\": {\"line\": {\"color\": \"#E5ECF6\", \"width\": 0.5}}, \"type\": \"barpolar\"}], \"carpet\": [{\"aaxis\": {\"endlinecolor\": \"#2a3f5f\", \"gridcolor\": \"white\", \"linecolor\": \"white\", \"minorgridcolor\": \"white\", \"startlinecolor\": \"#2a3f5f\"}, \"baxis\": {\"endlinecolor\": \"#2a3f5f\", \"gridcolor\": \"white\", \"linecolor\": \"white\", \"minorgridcolor\": \"white\", \"startlinecolor\": \"#2a3f5f\"}, \"type\": \"carpet\"}], \"choropleth\": [{\"colorbar\": {\"outlinewidth\": 0, \"ticks\": \"\"}, \"type\": \"choropleth\"}], \"contour\": [{\"colorbar\": {\"outlinewidth\": 0, \"ticks\": \"\"}, \"colorscale\": [[0.0, \"#0d0887\"], [0.1111111111111111, \"#46039f\"], [0.2222222222222222, \"#7201a8\"], [0.3333333333333333, \"#9c179e\"], [0.4444444444444444, \"#bd3786\"], [0.5555555555555556, \"#d8576b\"], [0.6666666666666666, \"#ed7953\"], [0.7777777777777778, \"#fb9f3a\"], [0.8888888888888888, \"#fdca26\"], [1.0, \"#f0f921\"]], \"type\": \"contour\"}], \"contourcarpet\": [{\"colorbar\": {\"outlinewidth\": 0, \"ticks\": \"\"}, \"type\": \"contourcarpet\"}], \"heatmap\": [{\"colorbar\": {\"outlinewidth\": 0, \"ticks\": \"\"}, \"colorscale\": [[0.0, \"#0d0887\"], [0.1111111111111111, \"#46039f\"], [0.2222222222222222, \"#7201a8\"], [0.3333333333333333, \"#9c179e\"], [0.4444444444444444, \"#bd3786\"], [0.5555555555555556, \"#d8576b\"], [0.6666666666666666, \"#ed7953\"], [0.7777777777777778, \"#fb9f3a\"], [0.8888888888888888, \"#fdca26\"], [1.0, \"#f0f921\"]], \"type\": \"heatmap\"}], \"heatmapgl\": [{\"colorbar\": {\"outlinewidth\": 0, \"ticks\": \"\"}, \"colorscale\": [[0.0, \"#0d0887\"], [0.1111111111111111, \"#46039f\"], [0.2222222222222222, \"#7201a8\"], [0.3333333333333333, \"#9c179e\"], [0.4444444444444444, \"#bd3786\"], [0.5555555555555556, \"#d8576b\"], [0.6666666666666666, \"#ed7953\"], [0.7777777777777778, \"#fb9f3a\"], [0.8888888888888888, \"#fdca26\"], [1.0, \"#f0f921\"]], \"type\": \"heatmapgl\"}], \"histogram\": [{\"marker\": {\"colorbar\": {\"outlinewidth\": 0, \"ticks\": \"\"}}, \"type\": \"histogram\"}], \"histogram2d\": [{\"colorbar\": {\"outlinewidth\": 0, \"ticks\": \"\"}, \"colorscale\": [[0.0, \"#0d0887\"], [0.1111111111111111, \"#46039f\"], [0.2222222222222222, \"#7201a8\"], [0.3333333333333333, \"#9c179e\"], [0.4444444444444444, \"#bd3786\"], [0.5555555555555556, \"#d8576b\"], [0.6666666666666666, \"#ed7953\"], [0.7777777777777778, \"#fb9f3a\"], [0.8888888888888888, \"#fdca26\"], [1.0, \"#f0f921\"]], \"type\": \"histogram2d\"}], \"histogram2dcontour\": [{\"colorbar\": {\"outlinewidth\": 0, \"ticks\": \"\"}, \"colorscale\": [[0.0, \"#0d0887\"], [0.1111111111111111, \"#46039f\"], [0.2222222222222222, \"#7201a8\"], [0.3333333333333333, \"#9c179e\"], [0.4444444444444444, \"#bd3786\"], [0.5555555555555556, \"#d8576b\"], [0.6666666666666666, \"#ed7953\"], [0.7777777777777778, \"#fb9f3a\"], [0.8888888888888888, \"#fdca26\"], [1.0, \"#f0f921\"]], \"type\": \"histogram2dcontour\"}], \"mesh3d\": [{\"colorbar\": {\"outlinewidth\": 0, \"ticks\": \"\"}, \"type\": \"mesh3d\"}], \"parcoords\": [{\"line\": {\"colorbar\": {\"outlinewidth\": 0, \"ticks\": \"\"}}, \"type\": \"parcoords\"}], \"pie\": [{\"automargin\": true, \"type\": \"pie\"}], \"scatter\": [{\"marker\": {\"colorbar\": {\"outlinewidth\": 0, \"ticks\": \"\"}}, \"type\": \"scatter\"}], \"scatter3d\": [{\"line\": {\"colorbar\": {\"outlinewidth\": 0, \"ticks\": \"\"}}, \"marker\": {\"colorbar\": {\"outlinewidth\": 0, \"ticks\": \"\"}}, \"type\": \"scatter3d\"}], \"scattercarpet\": [{\"marker\": {\"colorbar\": {\"outlinewidth\": 0, \"ticks\": \"\"}}, \"type\": \"scattercarpet\"}], \"scattergeo\": [{\"marker\": {\"colorbar\": {\"outlinewidth\": 0, \"ticks\": \"\"}}, \"type\": \"scattergeo\"}], \"scattergl\": [{\"marker\": {\"colorbar\": {\"outlinewidth\": 0, \"ticks\": \"\"}}, \"type\": \"scattergl\"}], \"scattermapbox\": [{\"marker\": {\"colorbar\": {\"outlinewidth\": 0, \"ticks\": \"\"}}, \"type\": \"scattermapbox\"}], \"scatterpolar\": [{\"marker\": {\"colorbar\": {\"outlinewidth\": 0, \"ticks\": \"\"}}, \"type\": \"scatterpolar\"}], \"scatterpolargl\": [{\"marker\": {\"colorbar\": {\"outlinewidth\": 0, \"ticks\": \"\"}}, \"type\": \"scatterpolargl\"}], \"scatterternary\": [{\"marker\": {\"colorbar\": {\"outlinewidth\": 0, \"ticks\": \"\"}}, \"type\": \"scatterternary\"}], \"surface\": [{\"colorbar\": {\"outlinewidth\": 0, \"ticks\": \"\"}, \"colorscale\": [[0.0, \"#0d0887\"], [0.1111111111111111, \"#46039f\"], [0.2222222222222222, \"#7201a8\"], [0.3333333333333333, \"#9c179e\"], [0.4444444444444444, \"#bd3786\"], [0.5555555555555556, \"#d8576b\"], [0.6666666666666666, \"#ed7953\"], [0.7777777777777778, \"#fb9f3a\"], [0.8888888888888888, \"#fdca26\"], [1.0, \"#f0f921\"]], \"type\": \"surface\"}], \"table\": [{\"cells\": {\"fill\": {\"color\": \"#EBF0F8\"}, \"line\": {\"color\": \"white\"}}, \"header\": {\"fill\": {\"color\": \"#C8D4E3\"}, \"line\": {\"color\": \"white\"}}, \"type\": \"table\"}]}, \"layout\": {\"annotationdefaults\": {\"arrowcolor\": \"#2a3f5f\", \"arrowhead\": 0, \"arrowwidth\": 1}, \"autotypenumbers\": \"strict\", \"coloraxis\": {\"colorbar\": {\"outlinewidth\": 0, \"ticks\": \"\"}}, \"colorscale\": {\"diverging\": [[0, \"#8e0152\"], [0.1, \"#c51b7d\"], [0.2, \"#de77ae\"], [0.3, \"#f1b6da\"], [0.4, \"#fde0ef\"], [0.5, \"#f7f7f7\"], [0.6, \"#e6f5d0\"], [0.7, \"#b8e186\"], [0.8, \"#7fbc41\"], [0.9, \"#4d9221\"], [1, \"#276419\"]], \"sequential\": [[0.0, \"#0d0887\"], [0.1111111111111111, \"#46039f\"], [0.2222222222222222, \"#7201a8\"], [0.3333333333333333, \"#9c179e\"], [0.4444444444444444, \"#bd3786\"], [0.5555555555555556, \"#d8576b\"], [0.6666666666666666, \"#ed7953\"], [0.7777777777777778, \"#fb9f3a\"], [0.8888888888888888, \"#fdca26\"], [1.0, \"#f0f921\"]], \"sequentialminus\": [[0.0, \"#0d0887\"], [0.1111111111111111, \"#46039f\"], [0.2222222222222222, \"#7201a8\"], [0.3333333333333333, \"#9c179e\"], [0.4444444444444444, \"#bd3786\"], [0.5555555555555556, \"#d8576b\"], [0.6666666666666666, \"#ed7953\"], [0.7777777777777778, \"#fb9f3a\"], [0.8888888888888888, \"#fdca26\"], [1.0, \"#f0f921\"]]}, \"colorway\": [\"#636efa\", \"#EF553B\", \"#00cc96\", \"#ab63fa\", \"#FFA15A\", \"#19d3f3\", \"#FF6692\", \"#B6E880\", \"#FF97FF\", \"#FECB52\"], \"font\": {\"color\": \"#2a3f5f\"}, \"geo\": {\"bgcolor\": \"white\", \"lakecolor\": \"white\", \"landcolor\": \"#E5ECF6\", \"showlakes\": true, \"showland\": true, \"subunitcolor\": \"white\"}, \"hoverlabel\": {\"align\": \"left\"}, \"hovermode\": \"closest\", \"mapbox\": {\"style\": \"light\"}, \"paper_bgcolor\": \"white\", \"plot_bgcolor\": \"#E5ECF6\", \"polar\": {\"angularaxis\": {\"gridcolor\": \"white\", \"linecolor\": \"white\", \"ticks\": \"\"}, \"bgcolor\": \"#E5ECF6\", \"radialaxis\": {\"gridcolor\": \"white\", \"linecolor\": \"white\", \"ticks\": \"\"}}, \"scene\": {\"xaxis\": {\"backgroundcolor\": \"#E5ECF6\", \"gridcolor\": \"white\", \"gridwidth\": 2, \"linecolor\": \"white\", \"showbackground\": true, \"ticks\": \"\", \"zerolinecolor\": \"white\"}, \"yaxis\": {\"backgroundcolor\": \"#E5ECF6\", \"gridcolor\": \"white\", \"gridwidth\": 2, \"linecolor\": \"white\", \"showbackground\": true, \"ticks\": \"\", \"zerolinecolor\": \"white\"}, \"zaxis\": {\"backgroundcolor\": \"#E5ECF6\", \"gridcolor\": \"white\", \"gridwidth\": 2, \"linecolor\": \"white\", \"showbackground\": true, \"ticks\": \"\", \"zerolinecolor\": \"white\"}}, \"shapedefaults\": {\"line\": {\"color\": \"#2a3f5f\"}}, \"ternary\": {\"aaxis\": {\"gridcolor\": \"white\", \"linecolor\": \"white\", \"ticks\": \"\"}, \"baxis\": {\"gridcolor\": \"white\", \"linecolor\": \"white\", \"ticks\": \"\"}, \"bgcolor\": \"#E5ECF6\", \"caxis\": {\"gridcolor\": \"white\", \"linecolor\": \"white\", \"ticks\": \"\"}}, \"title\": {\"x\": 0.05}, \"xaxis\": {\"automargin\": true, \"gridcolor\": \"white\", \"linecolor\": \"white\", \"ticks\": \"\", \"title\": {\"standoff\": 15}, \"zerolinecolor\": \"white\", \"zerolinewidth\": 2}, \"yaxis\": {\"automargin\": true, \"gridcolor\": \"white\", \"linecolor\": \"white\", \"ticks\": \"\", \"title\": {\"standoff\": 15}, \"zerolinecolor\": \"white\", \"zerolinewidth\": 2}}}, \"xaxis\": {\"anchor\": \"y\", \"domain\": [0.0, 1.0], \"title\": {\"text\": \"Feature\"}}, \"yaxis\": {\"anchor\": \"x\", \"domain\": [0.0, 1.0], \"title\": {\"text\": \"Permutation_importance\"}}},                        {\"responsive\": true}                    ).then(function(){\n",
       "                            \n",
       "var gd = document.getElementById('a0555234-af47-4162-a9b2-05202f6785bf');\n",
       "var x = new MutationObserver(function (mutations, observer) {{\n",
       "        var display = window.getComputedStyle(gd).display;\n",
       "        if (!display || display === 'none') {{\n",
       "            console.log([gd, 'removed!']);\n",
       "            Plotly.purge(gd);\n",
       "            observer.disconnect();\n",
       "        }}\n",
       "}});\n",
       "\n",
       "// Listen for the removal of the full notebook cells\n",
       "var notebookContainer = gd.closest('#notebook-container');\n",
       "if (notebookContainer) {{\n",
       "    x.observe(notebookContainer, {childList: true});\n",
       "}}\n",
       "\n",
       "// Listen for the clearing of the current output cell\n",
       "var outputEl = gd.closest('.output');\n",
       "if (outputEl) {{\n",
       "    x.observe(outputEl, {childList: true});\n",
       "}}\n",
       "\n",
       "                        })                };                });            </script>        </div>"
      ]
     },
     "metadata": {},
     "output_type": "display_data"
    }
   ],
   "source": [
    "fig = px.bar(logit_importances, x='Feature', y='Permutation_importance')\n",
    "fig.show()"
   ]
  },
  {
   "cell_type": "code",
   "execution_count": 105,
   "id": "f04e14dc",
   "metadata": {
    "pycharm": {
     "name": "#%%\n"
    }
   },
   "outputs": [],
   "source": [
    "def get_type_correlation(independent_feature:pd.Series, target_feature:pd.Series, positive_correlation:list, negative_correlation:list):\n",
    "    from scipy import stats\n",
    "    corr = stats.spearmanr(independent_feature,target_feature).correlation\n",
    "    if corr > 0:\n",
    "        positive_correlation.append(independent_feature.name)\n",
    "    if corr < 0:\n",
    "        negative_correlation.append(independent_feature.name)\n",
    "        "
   ]
  },
  {
   "cell_type": "code",
   "execution_count": 106,
   "id": "0f811735",
   "metadata": {
    "pycharm": {
     "name": "#%%\n"
    }
   },
   "outputs": [],
   "source": [
    "positive_correlation = []\n",
    "negative_correlation = []\n",
    "for feature in logit_importances['Feature']:\n",
    "    get_type_correlation(final_analys_record_personal_access_one_hot[feature], final_analys_record_personal_access_one_hot['abandona'], positive_correlation, negative_correlation)"
   ]
  },
  {
   "cell_type": "code",
   "execution_count": 107,
   "id": "515de97d",
   "metadata": {
    "pycharm": {
     "name": "#%%\n"
    }
   },
   "outputs": [
    {
     "data": {
      "text/plain": [
       "['sexo_H',\n",
       " 'scolarship_N',\n",
       " 'des_plan_GRADO EN EDUCACIÓN PRIMARIA (CÁCERES)',\n",
       " 'cum_median_interval_(4.5, 6.0]',\n",
       " 'anio_apertura_expediente_2013-14',\n",
       " 'anio_nacimiento_1993',\n",
       " 'anio_apertura_expediente_2014-15',\n",
       " 'anio_nacimiento_1992',\n",
       " 'des_acceso_Formación Profesional',\n",
       " 'convocatoria_acceso_SEP',\n",
       " 'anio_nacimiento_interval_(1985.0, 1990.0]',\n",
       " 'anio_nacimiento_1991',\n",
       " 'cum_more_1st_call_ratio',\n",
       " 'cum_absent',\n",
       " '3rd_model',\n",
       " 'anio_nacimiento_1989',\n",
       " 'anio_nacimiento_1990',\n",
       " 'anio_apertura_expediente_2011-12',\n",
       " 'anio_apertura_expediente_2010-11']"
      ]
     },
     "execution_count": 107,
     "metadata": {},
     "output_type": "execute_result"
    }
   ],
   "source": [
    "positive_correlation"
   ]
  },
  {
   "cell_type": "code",
   "execution_count": 108,
   "id": "7e47b3af",
   "metadata": {
    "pycharm": {
     "name": "#%%\n"
    }
   },
   "outputs": [
    {
     "data": {
      "text/plain": [
       "['cum_median_interval_(6.0, 7.5]',\n",
       " 'des_plan_GRADO EN EDUCACIÓN INFANTIL (CÁCERES)',\n",
       " 'sexo_D',\n",
       " 'scolarship_S',\n",
       " 'anio_apertura_expediente_2012-13',\n",
       " 'anio_apertura_expediente_2015-16',\n",
       " 'anio_apertura_expediente_2016-17',\n",
       " 'des_plan_GRADO EN EDUCACIÓN SOCIAL',\n",
       " 'anio_nacimiento_1994',\n",
       " 'cum_median_interval_(7.5, 9.0]',\n",
       " 'anio_nacimiento_1995',\n",
       " 'convocatoria_acceso_JUN',\n",
       " 'des_acceso_Selectividad',\n",
       " 'des_plan_GRADO EN EDUCACIÓN PRIMARIA. Modalidad Bilingüe (Español-Inglés)',\n",
       " 'convocatoria_acceso_EXT',\n",
       " 'anio_nacimiento_1998',\n",
       " 'anio_nacimiento_1997',\n",
       " 'anio_nacimiento_1996']"
      ]
     },
     "execution_count": 108,
     "metadata": {},
     "output_type": "execute_result"
    }
   ],
   "source": [
    "negative_correlation"
   ]
  },
  {
   "cell_type": "markdown",
   "id": "e10543fd",
   "metadata": {},
   "source": [
    "La correlación positiva indica que si se cumple el hecho que se está examinando, aumenta la probabilidad de abandono.\n",
    "\n",
    "La correlación negativa por el contrario, indica que si se cumple el hecho que se está examinando, disminuye la probabilidad de abandono."
   ]
  },
  {
   "cell_type": "code",
   "execution_count": 109,
   "id": "01d685fd",
   "metadata": {},
   "outputs": [],
   "source": [
    "import plotly.express as px\n"
   ]
  },
  {
   "cell_type": "code",
   "execution_count": 110,
   "id": "759a6f5f",
   "metadata": {},
   "outputs": [
    {
     "data": {
      "application/vnd.plotly.v1+json": {
       "config": {
        "plotlyServerURL": "https://plot.ly"
       },
       "data": [
        {
         "alignmentgroup": "True",
         "hovertemplate": "Feature=%{x}<br>Permutation_importance=%{y}<extra></extra>",
         "legendgroup": "",
         "marker": {
          "color": "#636efa"
         },
         "name": "",
         "offsetgroup": "",
         "orientation": "v",
         "showlegend": false,
         "textposition": "auto",
         "type": "bar",
         "x": [
          "sexo_H",
          "cum_median_interval_(6.0, 7.5]",
          "scolarship_N",
          "des_plan_GRADO EN EDUCACIÓN INFANTIL (CÁCERES)",
          "des_plan_GRADO EN EDUCACIÓN PRIMARIA (CÁCERES)",
          "sexo_D",
          "cum_median_interval_(4.5, 6.0]",
          "scolarship_S",
          "anio_apertura_expediente_2013-14",
          "anio_apertura_expediente_2012-13",
          "anio_apertura_expediente_2015-16",
          "anio_apertura_expediente_2016-17",
          "des_plan_GRADO EN EDUCACIÓN SOCIAL",
          "anio_nacimiento_1994",
          "anio_nacimiento_1993",
          "cum_median_interval_(7.5, 9.0]",
          "anio_apertura_expediente_2014-15",
          "anio_nacimiento_1995",
          "anio_nacimiento_1992",
          "des_acceso_Formación Profesional",
          "convocatoria_acceso_SEP",
          "convocatoria_acceso_JUN",
          "anio_nacimiento_interval_(1985.0, 1990.0]",
          "des_acceso_Selectividad",
          "anio_nacimiento_1991",
          "des_plan_GRADO EN EDUCACIÓN PRIMARIA. Modalidad Bilingüe (Español-Inglés)",
          "convocatoria_acceso_EXT",
          "cum_more_1st_call_ratio",
          "cum_absent",
          "3rd_model",
          "anio_nacimiento_1998",
          "anio_nacimiento_1989",
          "anio_nacimiento_1990",
          "anio_nacimiento_1997",
          "anio_apertura_expediente_2011-12",
          "anio_apertura_expediente_2010-11",
          "anio_nacimiento_1996"
         ],
         "xaxis": "x",
         "y": [
          0.07475292003593896,
          0.05498652291105125,
          0.04887690925426776,
          0.04474393530997308,
          0.038274932614555314,
          0.035579514824797896,
          0.03252470799640613,
          0.031266846361186006,
          0.030188679245283085,
          0.02803234501347714,
          0.02803234501347714,
          0.0276729559748428,
          0.024079065588499593,
          0.02228212039532799,
          0.020664869721473522,
          0.01832884097035044,
          0.01832884097035044,
          0.015094339622641543,
          0.015094339622641543,
          0.013477088948787075,
          0.012039532794249777,
          0.01185983827493268,
          0.01096136567834686,
          0.009523809523809565,
          0.005570530098832016,
          0.005570530098832016,
          0.005031446540880539,
          0.0041329739442947195,
          0.003953279424977585,
          0.0028751123090745936,
          0.002515723270440325,
          0.002515723270440288,
          0.0021563342318059453,
          0.0021563342318059453,
          0.0014375561545372968,
          0.0014375561545372968,
          0.0012578616352201626
         ],
         "yaxis": "y"
        }
       ],
       "layout": {
        "barmode": "relative",
        "legend": {
         "tracegroupgap": 0
        },
        "margin": {
         "t": 60
        },
        "template": {
         "data": {
          "bar": [
           {
            "error_x": {
             "color": "#2a3f5f"
            },
            "error_y": {
             "color": "#2a3f5f"
            },
            "marker": {
             "line": {
              "color": "#E5ECF6",
              "width": 0.5
             }
            },
            "type": "bar"
           }
          ],
          "barpolar": [
           {
            "marker": {
             "line": {
              "color": "#E5ECF6",
              "width": 0.5
             }
            },
            "type": "barpolar"
           }
          ],
          "carpet": [
           {
            "aaxis": {
             "endlinecolor": "#2a3f5f",
             "gridcolor": "white",
             "linecolor": "white",
             "minorgridcolor": "white",
             "startlinecolor": "#2a3f5f"
            },
            "baxis": {
             "endlinecolor": "#2a3f5f",
             "gridcolor": "white",
             "linecolor": "white",
             "minorgridcolor": "white",
             "startlinecolor": "#2a3f5f"
            },
            "type": "carpet"
           }
          ],
          "choropleth": [
           {
            "colorbar": {
             "outlinewidth": 0,
             "ticks": ""
            },
            "type": "choropleth"
           }
          ],
          "contour": [
           {
            "colorbar": {
             "outlinewidth": 0,
             "ticks": ""
            },
            "colorscale": [
             [
              0,
              "#0d0887"
             ],
             [
              0.1111111111111111,
              "#46039f"
             ],
             [
              0.2222222222222222,
              "#7201a8"
             ],
             [
              0.3333333333333333,
              "#9c179e"
             ],
             [
              0.4444444444444444,
              "#bd3786"
             ],
             [
              0.5555555555555556,
              "#d8576b"
             ],
             [
              0.6666666666666666,
              "#ed7953"
             ],
             [
              0.7777777777777778,
              "#fb9f3a"
             ],
             [
              0.8888888888888888,
              "#fdca26"
             ],
             [
              1,
              "#f0f921"
             ]
            ],
            "type": "contour"
           }
          ],
          "contourcarpet": [
           {
            "colorbar": {
             "outlinewidth": 0,
             "ticks": ""
            },
            "type": "contourcarpet"
           }
          ],
          "heatmap": [
           {
            "colorbar": {
             "outlinewidth": 0,
             "ticks": ""
            },
            "colorscale": [
             [
              0,
              "#0d0887"
             ],
             [
              0.1111111111111111,
              "#46039f"
             ],
             [
              0.2222222222222222,
              "#7201a8"
             ],
             [
              0.3333333333333333,
              "#9c179e"
             ],
             [
              0.4444444444444444,
              "#bd3786"
             ],
             [
              0.5555555555555556,
              "#d8576b"
             ],
             [
              0.6666666666666666,
              "#ed7953"
             ],
             [
              0.7777777777777778,
              "#fb9f3a"
             ],
             [
              0.8888888888888888,
              "#fdca26"
             ],
             [
              1,
              "#f0f921"
             ]
            ],
            "type": "heatmap"
           }
          ],
          "heatmapgl": [
           {
            "colorbar": {
             "outlinewidth": 0,
             "ticks": ""
            },
            "colorscale": [
             [
              0,
              "#0d0887"
             ],
             [
              0.1111111111111111,
              "#46039f"
             ],
             [
              0.2222222222222222,
              "#7201a8"
             ],
             [
              0.3333333333333333,
              "#9c179e"
             ],
             [
              0.4444444444444444,
              "#bd3786"
             ],
             [
              0.5555555555555556,
              "#d8576b"
             ],
             [
              0.6666666666666666,
              "#ed7953"
             ],
             [
              0.7777777777777778,
              "#fb9f3a"
             ],
             [
              0.8888888888888888,
              "#fdca26"
             ],
             [
              1,
              "#f0f921"
             ]
            ],
            "type": "heatmapgl"
           }
          ],
          "histogram": [
           {
            "marker": {
             "colorbar": {
              "outlinewidth": 0,
              "ticks": ""
             }
            },
            "type": "histogram"
           }
          ],
          "histogram2d": [
           {
            "colorbar": {
             "outlinewidth": 0,
             "ticks": ""
            },
            "colorscale": [
             [
              0,
              "#0d0887"
             ],
             [
              0.1111111111111111,
              "#46039f"
             ],
             [
              0.2222222222222222,
              "#7201a8"
             ],
             [
              0.3333333333333333,
              "#9c179e"
             ],
             [
              0.4444444444444444,
              "#bd3786"
             ],
             [
              0.5555555555555556,
              "#d8576b"
             ],
             [
              0.6666666666666666,
              "#ed7953"
             ],
             [
              0.7777777777777778,
              "#fb9f3a"
             ],
             [
              0.8888888888888888,
              "#fdca26"
             ],
             [
              1,
              "#f0f921"
             ]
            ],
            "type": "histogram2d"
           }
          ],
          "histogram2dcontour": [
           {
            "colorbar": {
             "outlinewidth": 0,
             "ticks": ""
            },
            "colorscale": [
             [
              0,
              "#0d0887"
             ],
             [
              0.1111111111111111,
              "#46039f"
             ],
             [
              0.2222222222222222,
              "#7201a8"
             ],
             [
              0.3333333333333333,
              "#9c179e"
             ],
             [
              0.4444444444444444,
              "#bd3786"
             ],
             [
              0.5555555555555556,
              "#d8576b"
             ],
             [
              0.6666666666666666,
              "#ed7953"
             ],
             [
              0.7777777777777778,
              "#fb9f3a"
             ],
             [
              0.8888888888888888,
              "#fdca26"
             ],
             [
              1,
              "#f0f921"
             ]
            ],
            "type": "histogram2dcontour"
           }
          ],
          "mesh3d": [
           {
            "colorbar": {
             "outlinewidth": 0,
             "ticks": ""
            },
            "type": "mesh3d"
           }
          ],
          "parcoords": [
           {
            "line": {
             "colorbar": {
              "outlinewidth": 0,
              "ticks": ""
             }
            },
            "type": "parcoords"
           }
          ],
          "pie": [
           {
            "automargin": true,
            "type": "pie"
           }
          ],
          "scatter": [
           {
            "marker": {
             "colorbar": {
              "outlinewidth": 0,
              "ticks": ""
             }
            },
            "type": "scatter"
           }
          ],
          "scatter3d": [
           {
            "line": {
             "colorbar": {
              "outlinewidth": 0,
              "ticks": ""
             }
            },
            "marker": {
             "colorbar": {
              "outlinewidth": 0,
              "ticks": ""
             }
            },
            "type": "scatter3d"
           }
          ],
          "scattercarpet": [
           {
            "marker": {
             "colorbar": {
              "outlinewidth": 0,
              "ticks": ""
             }
            },
            "type": "scattercarpet"
           }
          ],
          "scattergeo": [
           {
            "marker": {
             "colorbar": {
              "outlinewidth": 0,
              "ticks": ""
             }
            },
            "type": "scattergeo"
           }
          ],
          "scattergl": [
           {
            "marker": {
             "colorbar": {
              "outlinewidth": 0,
              "ticks": ""
             }
            },
            "type": "scattergl"
           }
          ],
          "scattermapbox": [
           {
            "marker": {
             "colorbar": {
              "outlinewidth": 0,
              "ticks": ""
             }
            },
            "type": "scattermapbox"
           }
          ],
          "scatterpolar": [
           {
            "marker": {
             "colorbar": {
              "outlinewidth": 0,
              "ticks": ""
             }
            },
            "type": "scatterpolar"
           }
          ],
          "scatterpolargl": [
           {
            "marker": {
             "colorbar": {
              "outlinewidth": 0,
              "ticks": ""
             }
            },
            "type": "scatterpolargl"
           }
          ],
          "scatterternary": [
           {
            "marker": {
             "colorbar": {
              "outlinewidth": 0,
              "ticks": ""
             }
            },
            "type": "scatterternary"
           }
          ],
          "surface": [
           {
            "colorbar": {
             "outlinewidth": 0,
             "ticks": ""
            },
            "colorscale": [
             [
              0,
              "#0d0887"
             ],
             [
              0.1111111111111111,
              "#46039f"
             ],
             [
              0.2222222222222222,
              "#7201a8"
             ],
             [
              0.3333333333333333,
              "#9c179e"
             ],
             [
              0.4444444444444444,
              "#bd3786"
             ],
             [
              0.5555555555555556,
              "#d8576b"
             ],
             [
              0.6666666666666666,
              "#ed7953"
             ],
             [
              0.7777777777777778,
              "#fb9f3a"
             ],
             [
              0.8888888888888888,
              "#fdca26"
             ],
             [
              1,
              "#f0f921"
             ]
            ],
            "type": "surface"
           }
          ],
          "table": [
           {
            "cells": {
             "fill": {
              "color": "#EBF0F8"
             },
             "line": {
              "color": "white"
             }
            },
            "header": {
             "fill": {
              "color": "#C8D4E3"
             },
             "line": {
              "color": "white"
             }
            },
            "type": "table"
           }
          ]
         },
         "layout": {
          "annotationdefaults": {
           "arrowcolor": "#2a3f5f",
           "arrowhead": 0,
           "arrowwidth": 1
          },
          "autotypenumbers": "strict",
          "coloraxis": {
           "colorbar": {
            "outlinewidth": 0,
            "ticks": ""
           }
          },
          "colorscale": {
           "diverging": [
            [
             0,
             "#8e0152"
            ],
            [
             0.1,
             "#c51b7d"
            ],
            [
             0.2,
             "#de77ae"
            ],
            [
             0.3,
             "#f1b6da"
            ],
            [
             0.4,
             "#fde0ef"
            ],
            [
             0.5,
             "#f7f7f7"
            ],
            [
             0.6,
             "#e6f5d0"
            ],
            [
             0.7,
             "#b8e186"
            ],
            [
             0.8,
             "#7fbc41"
            ],
            [
             0.9,
             "#4d9221"
            ],
            [
             1,
             "#276419"
            ]
           ],
           "sequential": [
            [
             0,
             "#0d0887"
            ],
            [
             0.1111111111111111,
             "#46039f"
            ],
            [
             0.2222222222222222,
             "#7201a8"
            ],
            [
             0.3333333333333333,
             "#9c179e"
            ],
            [
             0.4444444444444444,
             "#bd3786"
            ],
            [
             0.5555555555555556,
             "#d8576b"
            ],
            [
             0.6666666666666666,
             "#ed7953"
            ],
            [
             0.7777777777777778,
             "#fb9f3a"
            ],
            [
             0.8888888888888888,
             "#fdca26"
            ],
            [
             1,
             "#f0f921"
            ]
           ],
           "sequentialminus": [
            [
             0,
             "#0d0887"
            ],
            [
             0.1111111111111111,
             "#46039f"
            ],
            [
             0.2222222222222222,
             "#7201a8"
            ],
            [
             0.3333333333333333,
             "#9c179e"
            ],
            [
             0.4444444444444444,
             "#bd3786"
            ],
            [
             0.5555555555555556,
             "#d8576b"
            ],
            [
             0.6666666666666666,
             "#ed7953"
            ],
            [
             0.7777777777777778,
             "#fb9f3a"
            ],
            [
             0.8888888888888888,
             "#fdca26"
            ],
            [
             1,
             "#f0f921"
            ]
           ]
          },
          "colorway": [
           "#636efa",
           "#EF553B",
           "#00cc96",
           "#ab63fa",
           "#FFA15A",
           "#19d3f3",
           "#FF6692",
           "#B6E880",
           "#FF97FF",
           "#FECB52"
          ],
          "font": {
           "color": "#2a3f5f"
          },
          "geo": {
           "bgcolor": "white",
           "lakecolor": "white",
           "landcolor": "#E5ECF6",
           "showlakes": true,
           "showland": true,
           "subunitcolor": "white"
          },
          "hoverlabel": {
           "align": "left"
          },
          "hovermode": "closest",
          "mapbox": {
           "style": "light"
          },
          "paper_bgcolor": "white",
          "plot_bgcolor": "#E5ECF6",
          "polar": {
           "angularaxis": {
            "gridcolor": "white",
            "linecolor": "white",
            "ticks": ""
           },
           "bgcolor": "#E5ECF6",
           "radialaxis": {
            "gridcolor": "white",
            "linecolor": "white",
            "ticks": ""
           }
          },
          "scene": {
           "xaxis": {
            "backgroundcolor": "#E5ECF6",
            "gridcolor": "white",
            "gridwidth": 2,
            "linecolor": "white",
            "showbackground": true,
            "ticks": "",
            "zerolinecolor": "white"
           },
           "yaxis": {
            "backgroundcolor": "#E5ECF6",
            "gridcolor": "white",
            "gridwidth": 2,
            "linecolor": "white",
            "showbackground": true,
            "ticks": "",
            "zerolinecolor": "white"
           },
           "zaxis": {
            "backgroundcolor": "#E5ECF6",
            "gridcolor": "white",
            "gridwidth": 2,
            "linecolor": "white",
            "showbackground": true,
            "ticks": "",
            "zerolinecolor": "white"
           }
          },
          "shapedefaults": {
           "line": {
            "color": "#2a3f5f"
           }
          },
          "ternary": {
           "aaxis": {
            "gridcolor": "white",
            "linecolor": "white",
            "ticks": ""
           },
           "baxis": {
            "gridcolor": "white",
            "linecolor": "white",
            "ticks": ""
           },
           "bgcolor": "#E5ECF6",
           "caxis": {
            "gridcolor": "white",
            "linecolor": "white",
            "ticks": ""
           }
          },
          "title": {
           "x": 0.05
          },
          "xaxis": {
           "automargin": true,
           "gridcolor": "white",
           "linecolor": "white",
           "ticks": "",
           "title": {
            "standoff": 15
           },
           "zerolinecolor": "white",
           "zerolinewidth": 2
          },
          "yaxis": {
           "automargin": true,
           "gridcolor": "white",
           "linecolor": "white",
           "ticks": "",
           "title": {
            "standoff": 15
           },
           "zerolinecolor": "white",
           "zerolinewidth": 2
          }
         }
        },
        "xaxis": {
         "anchor": "y",
         "domain": [
          0,
          1
         ],
         "title": {
          "text": "Feature"
         }
        },
        "yaxis": {
         "anchor": "x",
         "domain": [
          0,
          1
         ],
         "title": {
          "text": "Permutation_importance"
         }
        }
       }
      },
      "text/html": [
       "<div>                            <div id=\"b5bcdaa6-9e2a-4212-b56a-35f246fc0b69\" class=\"plotly-graph-div\" style=\"height:525px; width:100%;\"></div>            <script type=\"text/javascript\">                require([\"plotly\"], function(Plotly) {                    window.PLOTLYENV=window.PLOTLYENV || {};                                    if (document.getElementById(\"b5bcdaa6-9e2a-4212-b56a-35f246fc0b69\")) {                    Plotly.newPlot(                        \"b5bcdaa6-9e2a-4212-b56a-35f246fc0b69\",                        [{\"alignmentgroup\": \"True\", \"hovertemplate\": \"Feature=%{x}<br>Permutation_importance=%{y}<extra></extra>\", \"legendgroup\": \"\", \"marker\": {\"color\": \"#636efa\"}, \"name\": \"\", \"offsetgroup\": \"\", \"orientation\": \"v\", \"showlegend\": false, \"textposition\": \"auto\", \"type\": \"bar\", \"x\": [\"sexo_H\", \"cum_median_interval_(6.0, 7.5]\", \"scolarship_N\", \"des_plan_GRADO EN EDUCACI\\u00d3N INFANTIL (C\\u00c1CERES)\", \"des_plan_GRADO EN EDUCACI\\u00d3N PRIMARIA (C\\u00c1CERES)\", \"sexo_D\", \"cum_median_interval_(4.5, 6.0]\", \"scolarship_S\", \"anio_apertura_expediente_2013-14\", \"anio_apertura_expediente_2012-13\", \"anio_apertura_expediente_2015-16\", \"anio_apertura_expediente_2016-17\", \"des_plan_GRADO EN EDUCACI\\u00d3N SOCIAL\", \"anio_nacimiento_1994\", \"anio_nacimiento_1993\", \"cum_median_interval_(7.5, 9.0]\", \"anio_apertura_expediente_2014-15\", \"anio_nacimiento_1995\", \"anio_nacimiento_1992\", \"des_acceso_Formaci\\u00f3n Profesional\", \"convocatoria_acceso_SEP\", \"convocatoria_acceso_JUN\", \"anio_nacimiento_interval_(1985.0, 1990.0]\", \"des_acceso_Selectividad\", \"anio_nacimiento_1991\", \"des_plan_GRADO EN EDUCACI\\u00d3N PRIMARIA. Modalidad Biling\\u00fce (Espa\\u00f1ol-Ingl\\u00e9s)\", \"convocatoria_acceso_EXT\", \"cum_more_1st_call_ratio\", \"cum_absent\", \"3rd_model\", \"anio_nacimiento_1998\", \"anio_nacimiento_1989\", \"anio_nacimiento_1990\", \"anio_nacimiento_1997\", \"anio_apertura_expediente_2011-12\", \"anio_apertura_expediente_2010-11\", \"anio_nacimiento_1996\"], \"xaxis\": \"x\", \"y\": [0.07475292003593896, 0.05498652291105125, 0.04887690925426776, 0.04474393530997308, 0.038274932614555314, 0.035579514824797896, 0.03252470799640613, 0.031266846361186006, 0.030188679245283085, 0.02803234501347714, 0.02803234501347714, 0.0276729559748428, 0.024079065588499593, 0.02228212039532799, 0.020664869721473522, 0.01832884097035044, 0.01832884097035044, 0.015094339622641543, 0.015094339622641543, 0.013477088948787075, 0.012039532794249777, 0.01185983827493268, 0.01096136567834686, 0.009523809523809565, 0.005570530098832016, 0.005570530098832016, 0.005031446540880539, 0.0041329739442947195, 0.003953279424977585, 0.0028751123090745936, 0.002515723270440325, 0.002515723270440288, 0.0021563342318059453, 0.0021563342318059453, 0.0014375561545372968, 0.0014375561545372968, 0.0012578616352201626], \"yaxis\": \"y\"}],                        {\"barmode\": \"relative\", \"legend\": {\"tracegroupgap\": 0}, \"margin\": {\"t\": 60}, \"template\": {\"data\": {\"bar\": [{\"error_x\": {\"color\": \"#2a3f5f\"}, \"error_y\": {\"color\": \"#2a3f5f\"}, \"marker\": {\"line\": {\"color\": \"#E5ECF6\", \"width\": 0.5}}, \"type\": \"bar\"}], \"barpolar\": [{\"marker\": {\"line\": {\"color\": \"#E5ECF6\", \"width\": 0.5}}, \"type\": \"barpolar\"}], \"carpet\": [{\"aaxis\": {\"endlinecolor\": \"#2a3f5f\", \"gridcolor\": \"white\", \"linecolor\": \"white\", \"minorgridcolor\": \"white\", \"startlinecolor\": \"#2a3f5f\"}, \"baxis\": {\"endlinecolor\": \"#2a3f5f\", \"gridcolor\": \"white\", \"linecolor\": \"white\", \"minorgridcolor\": \"white\", \"startlinecolor\": \"#2a3f5f\"}, \"type\": \"carpet\"}], \"choropleth\": [{\"colorbar\": {\"outlinewidth\": 0, \"ticks\": \"\"}, \"type\": \"choropleth\"}], \"contour\": [{\"colorbar\": {\"outlinewidth\": 0, \"ticks\": \"\"}, \"colorscale\": [[0.0, \"#0d0887\"], [0.1111111111111111, \"#46039f\"], [0.2222222222222222, \"#7201a8\"], [0.3333333333333333, \"#9c179e\"], [0.4444444444444444, \"#bd3786\"], [0.5555555555555556, \"#d8576b\"], [0.6666666666666666, \"#ed7953\"], [0.7777777777777778, \"#fb9f3a\"], [0.8888888888888888, \"#fdca26\"], [1.0, \"#f0f921\"]], \"type\": \"contour\"}], \"contourcarpet\": [{\"colorbar\": {\"outlinewidth\": 0, \"ticks\": \"\"}, \"type\": \"contourcarpet\"}], \"heatmap\": [{\"colorbar\": {\"outlinewidth\": 0, \"ticks\": \"\"}, \"colorscale\": [[0.0, \"#0d0887\"], [0.1111111111111111, \"#46039f\"], [0.2222222222222222, \"#7201a8\"], [0.3333333333333333, \"#9c179e\"], [0.4444444444444444, \"#bd3786\"], [0.5555555555555556, \"#d8576b\"], [0.6666666666666666, \"#ed7953\"], [0.7777777777777778, \"#fb9f3a\"], [0.8888888888888888, \"#fdca26\"], [1.0, \"#f0f921\"]], \"type\": \"heatmap\"}], \"heatmapgl\": [{\"colorbar\": {\"outlinewidth\": 0, \"ticks\": \"\"}, \"colorscale\": [[0.0, \"#0d0887\"], [0.1111111111111111, \"#46039f\"], [0.2222222222222222, \"#7201a8\"], [0.3333333333333333, \"#9c179e\"], [0.4444444444444444, \"#bd3786\"], [0.5555555555555556, \"#d8576b\"], [0.6666666666666666, \"#ed7953\"], [0.7777777777777778, \"#fb9f3a\"], [0.8888888888888888, \"#fdca26\"], [1.0, \"#f0f921\"]], \"type\": \"heatmapgl\"}], \"histogram\": [{\"marker\": {\"colorbar\": {\"outlinewidth\": 0, \"ticks\": \"\"}}, \"type\": \"histogram\"}], \"histogram2d\": [{\"colorbar\": {\"outlinewidth\": 0, \"ticks\": \"\"}, \"colorscale\": [[0.0, \"#0d0887\"], [0.1111111111111111, \"#46039f\"], [0.2222222222222222, \"#7201a8\"], [0.3333333333333333, \"#9c179e\"], [0.4444444444444444, \"#bd3786\"], [0.5555555555555556, \"#d8576b\"], [0.6666666666666666, \"#ed7953\"], [0.7777777777777778, \"#fb9f3a\"], [0.8888888888888888, \"#fdca26\"], [1.0, \"#f0f921\"]], \"type\": \"histogram2d\"}], \"histogram2dcontour\": [{\"colorbar\": {\"outlinewidth\": 0, \"ticks\": \"\"}, \"colorscale\": [[0.0, \"#0d0887\"], [0.1111111111111111, \"#46039f\"], [0.2222222222222222, \"#7201a8\"], [0.3333333333333333, \"#9c179e\"], [0.4444444444444444, \"#bd3786\"], [0.5555555555555556, \"#d8576b\"], [0.6666666666666666, \"#ed7953\"], [0.7777777777777778, \"#fb9f3a\"], [0.8888888888888888, \"#fdca26\"], [1.0, \"#f0f921\"]], \"type\": \"histogram2dcontour\"}], \"mesh3d\": [{\"colorbar\": {\"outlinewidth\": 0, \"ticks\": \"\"}, \"type\": \"mesh3d\"}], \"parcoords\": [{\"line\": {\"colorbar\": {\"outlinewidth\": 0, \"ticks\": \"\"}}, \"type\": \"parcoords\"}], \"pie\": [{\"automargin\": true, \"type\": \"pie\"}], \"scatter\": [{\"marker\": {\"colorbar\": {\"outlinewidth\": 0, \"ticks\": \"\"}}, \"type\": \"scatter\"}], \"scatter3d\": [{\"line\": {\"colorbar\": {\"outlinewidth\": 0, \"ticks\": \"\"}}, \"marker\": {\"colorbar\": {\"outlinewidth\": 0, \"ticks\": \"\"}}, \"type\": \"scatter3d\"}], \"scattercarpet\": [{\"marker\": {\"colorbar\": {\"outlinewidth\": 0, \"ticks\": \"\"}}, \"type\": \"scattercarpet\"}], \"scattergeo\": [{\"marker\": {\"colorbar\": {\"outlinewidth\": 0, \"ticks\": \"\"}}, \"type\": \"scattergeo\"}], \"scattergl\": [{\"marker\": {\"colorbar\": {\"outlinewidth\": 0, \"ticks\": \"\"}}, \"type\": \"scattergl\"}], \"scattermapbox\": [{\"marker\": {\"colorbar\": {\"outlinewidth\": 0, \"ticks\": \"\"}}, \"type\": \"scattermapbox\"}], \"scatterpolar\": [{\"marker\": {\"colorbar\": {\"outlinewidth\": 0, \"ticks\": \"\"}}, \"type\": \"scatterpolar\"}], \"scatterpolargl\": [{\"marker\": {\"colorbar\": {\"outlinewidth\": 0, \"ticks\": \"\"}}, \"type\": \"scatterpolargl\"}], \"scatterternary\": [{\"marker\": {\"colorbar\": {\"outlinewidth\": 0, \"ticks\": \"\"}}, \"type\": \"scatterternary\"}], \"surface\": [{\"colorbar\": {\"outlinewidth\": 0, \"ticks\": \"\"}, \"colorscale\": [[0.0, \"#0d0887\"], [0.1111111111111111, \"#46039f\"], [0.2222222222222222, \"#7201a8\"], [0.3333333333333333, \"#9c179e\"], [0.4444444444444444, \"#bd3786\"], [0.5555555555555556, \"#d8576b\"], [0.6666666666666666, \"#ed7953\"], [0.7777777777777778, \"#fb9f3a\"], [0.8888888888888888, \"#fdca26\"], [1.0, \"#f0f921\"]], \"type\": \"surface\"}], \"table\": [{\"cells\": {\"fill\": {\"color\": \"#EBF0F8\"}, \"line\": {\"color\": \"white\"}}, \"header\": {\"fill\": {\"color\": \"#C8D4E3\"}, \"line\": {\"color\": \"white\"}}, \"type\": \"table\"}]}, \"layout\": {\"annotationdefaults\": {\"arrowcolor\": \"#2a3f5f\", \"arrowhead\": 0, \"arrowwidth\": 1}, \"autotypenumbers\": \"strict\", \"coloraxis\": {\"colorbar\": {\"outlinewidth\": 0, \"ticks\": \"\"}}, \"colorscale\": {\"diverging\": [[0, \"#8e0152\"], [0.1, \"#c51b7d\"], [0.2, \"#de77ae\"], [0.3, \"#f1b6da\"], [0.4, \"#fde0ef\"], [0.5, \"#f7f7f7\"], [0.6, \"#e6f5d0\"], [0.7, \"#b8e186\"], [0.8, \"#7fbc41\"], [0.9, \"#4d9221\"], [1, \"#276419\"]], \"sequential\": [[0.0, \"#0d0887\"], [0.1111111111111111, \"#46039f\"], [0.2222222222222222, \"#7201a8\"], [0.3333333333333333, \"#9c179e\"], [0.4444444444444444, \"#bd3786\"], [0.5555555555555556, \"#d8576b\"], [0.6666666666666666, \"#ed7953\"], [0.7777777777777778, \"#fb9f3a\"], [0.8888888888888888, \"#fdca26\"], [1.0, \"#f0f921\"]], \"sequentialminus\": [[0.0, \"#0d0887\"], [0.1111111111111111, \"#46039f\"], [0.2222222222222222, \"#7201a8\"], [0.3333333333333333, \"#9c179e\"], [0.4444444444444444, \"#bd3786\"], [0.5555555555555556, \"#d8576b\"], [0.6666666666666666, \"#ed7953\"], [0.7777777777777778, \"#fb9f3a\"], [0.8888888888888888, \"#fdca26\"], [1.0, \"#f0f921\"]]}, \"colorway\": [\"#636efa\", \"#EF553B\", \"#00cc96\", \"#ab63fa\", \"#FFA15A\", \"#19d3f3\", \"#FF6692\", \"#B6E880\", \"#FF97FF\", \"#FECB52\"], \"font\": {\"color\": \"#2a3f5f\"}, \"geo\": {\"bgcolor\": \"white\", \"lakecolor\": \"white\", \"landcolor\": \"#E5ECF6\", \"showlakes\": true, \"showland\": true, \"subunitcolor\": \"white\"}, \"hoverlabel\": {\"align\": \"left\"}, \"hovermode\": \"closest\", \"mapbox\": {\"style\": \"light\"}, \"paper_bgcolor\": \"white\", \"plot_bgcolor\": \"#E5ECF6\", \"polar\": {\"angularaxis\": {\"gridcolor\": \"white\", \"linecolor\": \"white\", \"ticks\": \"\"}, \"bgcolor\": \"#E5ECF6\", \"radialaxis\": {\"gridcolor\": \"white\", \"linecolor\": \"white\", \"ticks\": \"\"}}, \"scene\": {\"xaxis\": {\"backgroundcolor\": \"#E5ECF6\", \"gridcolor\": \"white\", \"gridwidth\": 2, \"linecolor\": \"white\", \"showbackground\": true, \"ticks\": \"\", \"zerolinecolor\": \"white\"}, \"yaxis\": {\"backgroundcolor\": \"#E5ECF6\", \"gridcolor\": \"white\", \"gridwidth\": 2, \"linecolor\": \"white\", \"showbackground\": true, \"ticks\": \"\", \"zerolinecolor\": \"white\"}, \"zaxis\": {\"backgroundcolor\": \"#E5ECF6\", \"gridcolor\": \"white\", \"gridwidth\": 2, \"linecolor\": \"white\", \"showbackground\": true, \"ticks\": \"\", \"zerolinecolor\": \"white\"}}, \"shapedefaults\": {\"line\": {\"color\": \"#2a3f5f\"}}, \"ternary\": {\"aaxis\": {\"gridcolor\": \"white\", \"linecolor\": \"white\", \"ticks\": \"\"}, \"baxis\": {\"gridcolor\": \"white\", \"linecolor\": \"white\", \"ticks\": \"\"}, \"bgcolor\": \"#E5ECF6\", \"caxis\": {\"gridcolor\": \"white\", \"linecolor\": \"white\", \"ticks\": \"\"}}, \"title\": {\"x\": 0.05}, \"xaxis\": {\"automargin\": true, \"gridcolor\": \"white\", \"linecolor\": \"white\", \"ticks\": \"\", \"title\": {\"standoff\": 15}, \"zerolinecolor\": \"white\", \"zerolinewidth\": 2}, \"yaxis\": {\"automargin\": true, \"gridcolor\": \"white\", \"linecolor\": \"white\", \"ticks\": \"\", \"title\": {\"standoff\": 15}, \"zerolinecolor\": \"white\", \"zerolinewidth\": 2}}}, \"xaxis\": {\"anchor\": \"y\", \"domain\": [0.0, 1.0], \"title\": {\"text\": \"Feature\"}}, \"yaxis\": {\"anchor\": \"x\", \"domain\": [0.0, 1.0], \"title\": {\"text\": \"Permutation_importance\"}}},                        {\"responsive\": true}                    ).then(function(){\n",
       "                            \n",
       "var gd = document.getElementById('b5bcdaa6-9e2a-4212-b56a-35f246fc0b69');\n",
       "var x = new MutationObserver(function (mutations, observer) {{\n",
       "        var display = window.getComputedStyle(gd).display;\n",
       "        if (!display || display === 'none') {{\n",
       "            console.log([gd, 'removed!']);\n",
       "            Plotly.purge(gd);\n",
       "            observer.disconnect();\n",
       "        }}\n",
       "}});\n",
       "\n",
       "// Listen for the removal of the full notebook cells\n",
       "var notebookContainer = gd.closest('#notebook-container');\n",
       "if (notebookContainer) {{\n",
       "    x.observe(notebookContainer, {childList: true});\n",
       "}}\n",
       "\n",
       "// Listen for the clearing of the current output cell\n",
       "var outputEl = gd.closest('.output');\n",
       "if (outputEl) {{\n",
       "    x.observe(outputEl, {childList: true});\n",
       "}}\n",
       "\n",
       "                        })                };                });            </script>        </div>"
      ]
     },
     "metadata": {},
     "output_type": "display_data"
    }
   ],
   "source": [
    "fig = px.bar(logit_importances, x='Feature', y='Permutation_importance')\n",
    "fig.show()"
   ]
  },
  {
   "cell_type": "code",
   "execution_count": 111,
   "id": "53509442",
   "metadata": {},
   "outputs": [],
   "source": [
    "def get_type_correlation(independent_feature:pd.Series, target_feature:pd.Series, positive_correlation:list, negative_correlation:list):\n",
    "    from scipy import stats\n",
    "    corr = stats.spearmanr(independent_feature,target_feature).correlation\n",
    "    if corr > 0:\n",
    "        positive_correlation.append(independent_feature.name)\n",
    "    if corr < 0:\n",
    "        negative_correlation.append(independent_feature.name)\n",
    "        "
   ]
  },
  {
   "cell_type": "code",
   "execution_count": 112,
   "id": "5ce69986",
   "metadata": {},
   "outputs": [],
   "source": [
    "positive_correlation = []\n",
    "negative_correlation = []\n",
    "for feature in logit_importances['Feature']:\n",
    "    get_type_correlation(final_analys_record_personal_access_one_hot[feature], final_analys_record_personal_access_one_hot['abandona'], positive_correlation, negative_correlation)"
   ]
  },
  {
   "cell_type": "code",
   "execution_count": 113,
   "id": "b657ac20",
   "metadata": {},
   "outputs": [
    {
     "data": {
      "text/plain": [
       "['sexo_H',\n",
       " 'scolarship_N',\n",
       " 'des_plan_GRADO EN EDUCACIÓN PRIMARIA (CÁCERES)',\n",
       " 'cum_median_interval_(4.5, 6.0]',\n",
       " 'anio_apertura_expediente_2013-14',\n",
       " 'anio_nacimiento_1993',\n",
       " 'anio_apertura_expediente_2014-15',\n",
       " 'anio_nacimiento_1992',\n",
       " 'des_acceso_Formación Profesional',\n",
       " 'convocatoria_acceso_SEP',\n",
       " 'anio_nacimiento_interval_(1985.0, 1990.0]',\n",
       " 'anio_nacimiento_1991',\n",
       " 'cum_more_1st_call_ratio',\n",
       " 'cum_absent',\n",
       " '3rd_model',\n",
       " 'anio_nacimiento_1989',\n",
       " 'anio_nacimiento_1990',\n",
       " 'anio_apertura_expediente_2011-12',\n",
       " 'anio_apertura_expediente_2010-11']"
      ]
     },
     "execution_count": 113,
     "metadata": {},
     "output_type": "execute_result"
    }
   ],
   "source": [
    "positive_correlation"
   ]
  },
  {
   "cell_type": "code",
   "execution_count": 114,
   "id": "0799f7f9",
   "metadata": {},
   "outputs": [
    {
     "data": {
      "text/plain": [
       "['cum_median_interval_(6.0, 7.5]',\n",
       " 'des_plan_GRADO EN EDUCACIÓN INFANTIL (CÁCERES)',\n",
       " 'sexo_D',\n",
       " 'scolarship_S',\n",
       " 'anio_apertura_expediente_2012-13',\n",
       " 'anio_apertura_expediente_2015-16',\n",
       " 'anio_apertura_expediente_2016-17',\n",
       " 'des_plan_GRADO EN EDUCACIÓN SOCIAL',\n",
       " 'anio_nacimiento_1994',\n",
       " 'cum_median_interval_(7.5, 9.0]',\n",
       " 'anio_nacimiento_1995',\n",
       " 'convocatoria_acceso_JUN',\n",
       " 'des_acceso_Selectividad',\n",
       " 'des_plan_GRADO EN EDUCACIÓN PRIMARIA. Modalidad Bilingüe (Español-Inglés)',\n",
       " 'convocatoria_acceso_EXT',\n",
       " 'anio_nacimiento_1998',\n",
       " 'anio_nacimiento_1997',\n",
       " 'anio_nacimiento_1996']"
      ]
     },
     "execution_count": 114,
     "metadata": {},
     "output_type": "execute_result"
    }
   ],
   "source": [
    "negative_correlation"
   ]
  },
  {
   "cell_type": "markdown",
   "id": "87b4d07a",
   "metadata": {},
   "source": [
    "La correlación positiva indica que si se cumple el hecho que se está examinando, aumenta la probabilidad de abandono.\n",
    "\n",
    "La correlación negativa por el contrario, indica que si se cumple el hecho que se está examinando, disminuye la probabilidad de abandono."
   ]
  },
  {
   "cell_type": "code",
   "execution_count": 115,
   "id": "b961d1c7",
   "metadata": {},
   "outputs": [],
   "source": [
    "final_analys_record_personal_access['5th_model'] = y_pred"
   ]
  },
  {
   "cell_type": "code",
   "execution_count": 116,
   "id": "915e6f74",
   "metadata": {},
   "outputs": [
    {
     "data": {
      "text/html": [
       "<div>\n",
       "<style scoped>\n",
       "    .dataframe tbody tr th:only-of-type {\n",
       "        vertical-align: middle;\n",
       "    }\n",
       "\n",
       "    .dataframe tbody tr th {\n",
       "        vertical-align: top;\n",
       "    }\n",
       "\n",
       "    .dataframe thead th {\n",
       "        text-align: right;\n",
       "    }\n",
       "</style>\n",
       "<table border=\"1\" class=\"dataframe\">\n",
       "  <thead>\n",
       "    <tr style=\"text-align: right;\">\n",
       "      <th></th>\n",
       "      <th>des_plan</th>\n",
       "      <th>anio_apertura_expediente</th>\n",
       "      <th>abandona</th>\n",
       "      <th>convocatoria_acceso</th>\n",
       "      <th>des_acceso</th>\n",
       "      <th>sexo</th>\n",
       "      <th>anio_nacimiento</th>\n",
       "      <th>anio_nacimiento_interval</th>\n",
       "      <th>1st_model</th>\n",
       "      <th>scolarship</th>\n",
       "      <th>...</th>\n",
       "      <th>3rd_model</th>\n",
       "      <th>4th_model</th>\n",
       "      <th>cum_absent</th>\n",
       "      <th>nota_admision_def</th>\n",
       "      <th>cum_more_1st_call_ratio</th>\n",
       "      <th>cum_pass_ratio</th>\n",
       "      <th>expediente</th>\n",
       "      <th>cod_plan</th>\n",
       "      <th>cum_median_interval</th>\n",
       "      <th>5th_model</th>\n",
       "    </tr>\n",
       "  </thead>\n",
       "  <tbody>\n",
       "    <tr>\n",
       "      <th>0</th>\n",
       "      <td>GRADO EN EDUCACIÓN SOCIAL</td>\n",
       "      <td>2010-11</td>\n",
       "      <td>0</td>\n",
       "      <td>JUN</td>\n",
       "      <td>Selectividad</td>\n",
       "      <td>D</td>\n",
       "      <td>1992</td>\n",
       "      <td>(1990.0, 1995.0]</td>\n",
       "      <td>0</td>\n",
       "      <td>N</td>\n",
       "      <td>...</td>\n",
       "      <td>0</td>\n",
       "      <td>0</td>\n",
       "      <td>0.000000</td>\n",
       "      <td>8.154</td>\n",
       "      <td>0.000000</td>\n",
       "      <td>1.000000</td>\n",
       "      <td>110</td>\n",
       "      <td>715</td>\n",
       "      <td>(6.0, 7.5]</td>\n",
       "      <td>0</td>\n",
       "    </tr>\n",
       "    <tr>\n",
       "      <th>1</th>\n",
       "      <td>GRADO EN EDUCACIÓN SOCIAL</td>\n",
       "      <td>2011-12</td>\n",
       "      <td>1</td>\n",
       "      <td>JUN</td>\n",
       "      <td>Selectividad</td>\n",
       "      <td>H</td>\n",
       "      <td>1992</td>\n",
       "      <td>(1990.0, 1995.0]</td>\n",
       "      <td>1</td>\n",
       "      <td>N</td>\n",
       "      <td>...</td>\n",
       "      <td>1</td>\n",
       "      <td>0</td>\n",
       "      <td>0.483871</td>\n",
       "      <td>5.682</td>\n",
       "      <td>0.096774</td>\n",
       "      <td>0.387097</td>\n",
       "      <td>308</td>\n",
       "      <td>715</td>\n",
       "      <td>(6.0, 7.5]</td>\n",
       "      <td>1</td>\n",
       "    </tr>\n",
       "    <tr>\n",
       "      <th>2</th>\n",
       "      <td>GRADO EN EDUCACIÓN SOCIAL</td>\n",
       "      <td>2012-13</td>\n",
       "      <td>0</td>\n",
       "      <td>JUN</td>\n",
       "      <td>Selectividad</td>\n",
       "      <td>D</td>\n",
       "      <td>1994</td>\n",
       "      <td>(1990.0, 1995.0]</td>\n",
       "      <td>0</td>\n",
       "      <td>S</td>\n",
       "      <td>...</td>\n",
       "      <td>0</td>\n",
       "      <td>0</td>\n",
       "      <td>0.000000</td>\n",
       "      <td>11.844</td>\n",
       "      <td>0.090909</td>\n",
       "      <td>0.909091</td>\n",
       "      <td>322</td>\n",
       "      <td>715</td>\n",
       "      <td>(6.0, 7.5]</td>\n",
       "      <td>0</td>\n",
       "    </tr>\n",
       "    <tr>\n",
       "      <th>3</th>\n",
       "      <td>GRADO EN EDUCACIÓN SOCIAL</td>\n",
       "      <td>2012-13</td>\n",
       "      <td>0</td>\n",
       "      <td>JUN</td>\n",
       "      <td>Selectividad</td>\n",
       "      <td>D</td>\n",
       "      <td>1994</td>\n",
       "      <td>(1990.0, 1995.0]</td>\n",
       "      <td>0</td>\n",
       "      <td>N</td>\n",
       "      <td>...</td>\n",
       "      <td>0</td>\n",
       "      <td>0</td>\n",
       "      <td>0.000000</td>\n",
       "      <td>9.126</td>\n",
       "      <td>0.000000</td>\n",
       "      <td>1.000000</td>\n",
       "      <td>324</td>\n",
       "      <td>715</td>\n",
       "      <td>(7.5, 9.0]</td>\n",
       "      <td>0</td>\n",
       "    </tr>\n",
       "    <tr>\n",
       "      <th>4</th>\n",
       "      <td>GRADO EN EDUCACIÓN SOCIAL</td>\n",
       "      <td>2012-13</td>\n",
       "      <td>0</td>\n",
       "      <td>JUN</td>\n",
       "      <td>Selectividad</td>\n",
       "      <td>D</td>\n",
       "      <td>1992</td>\n",
       "      <td>(1990.0, 1995.0]</td>\n",
       "      <td>0</td>\n",
       "      <td>S</td>\n",
       "      <td>...</td>\n",
       "      <td>0</td>\n",
       "      <td>0</td>\n",
       "      <td>0.000000</td>\n",
       "      <td>8.122</td>\n",
       "      <td>0.166667</td>\n",
       "      <td>0.791667</td>\n",
       "      <td>329</td>\n",
       "      <td>715</td>\n",
       "      <td>(6.0, 7.5]</td>\n",
       "      <td>0</td>\n",
       "    </tr>\n",
       "  </tbody>\n",
       "</table>\n",
       "<p>5 rows × 21 columns</p>\n",
       "</div>"
      ],
      "text/plain": [
       "                    des_plan anio_apertura_expediente  abandona  \\\n",
       "0  GRADO EN EDUCACIÓN SOCIAL                  2010-11         0   \n",
       "1  GRADO EN EDUCACIÓN SOCIAL                  2011-12         1   \n",
       "2  GRADO EN EDUCACIÓN SOCIAL                  2012-13         0   \n",
       "3  GRADO EN EDUCACIÓN SOCIAL                  2012-13         0   \n",
       "4  GRADO EN EDUCACIÓN SOCIAL                  2012-13         0   \n",
       "\n",
       "  convocatoria_acceso    des_acceso sexo  anio_nacimiento  \\\n",
       "0                 JUN  Selectividad    D             1992   \n",
       "1                 JUN  Selectividad    H             1992   \n",
       "2                 JUN  Selectividad    D             1994   \n",
       "3                 JUN  Selectividad    D             1994   \n",
       "4                 JUN  Selectividad    D             1992   \n",
       "\n",
       "  anio_nacimiento_interval  1st_model scolarship  ...  3rd_model  4th_model  \\\n",
       "0         (1990.0, 1995.0]          0          N  ...          0          0   \n",
       "1         (1990.0, 1995.0]          1          N  ...          1          0   \n",
       "2         (1990.0, 1995.0]          0          S  ...          0          0   \n",
       "3         (1990.0, 1995.0]          0          N  ...          0          0   \n",
       "4         (1990.0, 1995.0]          0          S  ...          0          0   \n",
       "\n",
       "   cum_absent  nota_admision_def  cum_more_1st_call_ratio  cum_pass_ratio  \\\n",
       "0    0.000000              8.154                 0.000000        1.000000   \n",
       "1    0.483871              5.682                 0.096774        0.387097   \n",
       "2    0.000000             11.844                 0.090909        0.909091   \n",
       "3    0.000000              9.126                 0.000000        1.000000   \n",
       "4    0.000000              8.122                 0.166667        0.791667   \n",
       "\n",
       "   expediente  cod_plan  cum_median_interval 5th_model  \n",
       "0         110       715           (6.0, 7.5]         0  \n",
       "1         308       715           (6.0, 7.5]         1  \n",
       "2         322       715           (6.0, 7.5]         0  \n",
       "3         324       715           (7.5, 9.0]         0  \n",
       "4         329       715           (6.0, 7.5]         0  \n",
       "\n",
       "[5 rows x 21 columns]"
      ]
     },
     "execution_count": 116,
     "metadata": {},
     "output_type": "execute_result"
    }
   ],
   "source": [
    "final_analys_record_personal_access.head()"
   ]
  },
  {
   "cell_type": "code",
   "execution_count": 117,
   "id": "c5535a78",
   "metadata": {},
   "outputs": [],
   "source": [
    "final_analys_record_personal_access.to_csv('C:/Users/franj/Desktop/PAI UEX Repositorios/education_drop/Data/For_Analysis_and_Modeling/2nd_process/4th_quadrimester/pred_analys_teaching_record_personal_access.csv',\n",
    "                                          sep='|',\n",
    "                                          index=False)"
   ]
  },
  {
   "cell_type": "code",
   "execution_count": null,
   "id": "e4460bd5",
   "metadata": {},
   "outputs": [],
   "source": []
  }
 ],
 "metadata": {
  "kernelspec": {
   "display_name": "Python 3",
   "language": "python",
   "name": "python3"
  },
  "language_info": {
   "codemirror_mode": {
    "name": "ipython",
    "version": 3
   },
   "file_extension": ".py",
   "mimetype": "text/x-python",
   "name": "python",
   "nbconvert_exporter": "python",
   "pygments_lexer": "ipython3",
   "version": "3.7.3"
  }
 },
 "nbformat": 4,
 "nbformat_minor": 5
}
