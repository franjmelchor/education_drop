{
 "cells": [
  {
   "cell_type": "code",
   "execution_count": 54,
   "id": "c6a6f5b5",
   "metadata": {},
   "outputs": [],
   "source": [
    "import pandas as pd\n",
    "import numpy as np"
   ]
  },
  {
   "cell_type": "code",
   "execution_count": 55,
   "id": "7555fbe8",
   "metadata": {},
   "outputs": [],
   "source": [
    "final_analys_record_personal_access = pd.read_csv('C:/Users/franj/Desktop/PAI UEX Repositorios/education_drop/Data/For_Analysis_and_Modeling/2nd_process/3rd_quadrimester/final_analys_teaching_record_personal_access.csv',\n",
    "       sep='|'\n",
    "    )"
   ]
  },
  {
   "cell_type": "code",
   "execution_count": 56,
   "id": "6fc9af6a",
   "metadata": {
    "scrolled": true
   },
   "outputs": [
    {
     "data": {
      "text/html": [
       "<div>\n",
       "<style scoped>\n",
       "    .dataframe tbody tr th:only-of-type {\n",
       "        vertical-align: middle;\n",
       "    }\n",
       "\n",
       "    .dataframe tbody tr th {\n",
       "        vertical-align: top;\n",
       "    }\n",
       "\n",
       "    .dataframe thead th {\n",
       "        text-align: right;\n",
       "    }\n",
       "</style>\n",
       "<table border=\"1\" class=\"dataframe\">\n",
       "  <thead>\n",
       "    <tr style=\"text-align: right;\">\n",
       "      <th></th>\n",
       "      <th>des_plan</th>\n",
       "      <th>anio_apertura_expediente</th>\n",
       "      <th>abandona</th>\n",
       "      <th>convocatoria_acceso</th>\n",
       "      <th>des_acceso</th>\n",
       "      <th>sexo</th>\n",
       "      <th>anio_nacimiento</th>\n",
       "      <th>anio_nacimiento_interval</th>\n",
       "      <th>1st_model</th>\n",
       "      <th>scolarship</th>\n",
       "      <th>2nd_model</th>\n",
       "      <th>3rd_model</th>\n",
       "      <th>cum_core_ratio</th>\n",
       "      <th>cum_absent</th>\n",
       "      <th>cum_pass_ratio</th>\n",
       "      <th>nota_admision_def</th>\n",
       "      <th>cum_more_1st_call_ratio</th>\n",
       "      <th>expediente</th>\n",
       "      <th>cod_plan</th>\n",
       "      <th>cum_median_interval</th>\n",
       "    </tr>\n",
       "  </thead>\n",
       "  <tbody>\n",
       "    <tr>\n",
       "      <th>0</th>\n",
       "      <td>GRADO EN EDUCACIÓN SOCIAL</td>\n",
       "      <td>2010-11</td>\n",
       "      <td>0</td>\n",
       "      <td>JUN</td>\n",
       "      <td>Selectividad</td>\n",
       "      <td>D</td>\n",
       "      <td>1992</td>\n",
       "      <td>(1990.0, 1995.0]</td>\n",
       "      <td>0</td>\n",
       "      <td>N</td>\n",
       "      <td>0</td>\n",
       "      <td>0</td>\n",
       "      <td>1.000000</td>\n",
       "      <td>0.000000</td>\n",
       "      <td>1.000000</td>\n",
       "      <td>8.154</td>\n",
       "      <td>0.000000</td>\n",
       "      <td>110</td>\n",
       "      <td>715</td>\n",
       "      <td>(7.5, 9.0]</td>\n",
       "    </tr>\n",
       "    <tr>\n",
       "      <th>1</th>\n",
       "      <td>GRADO EN EDUCACIÓN SOCIAL</td>\n",
       "      <td>2011-12</td>\n",
       "      <td>1</td>\n",
       "      <td>JUN</td>\n",
       "      <td>Selectividad</td>\n",
       "      <td>H</td>\n",
       "      <td>1992</td>\n",
       "      <td>(1990.0, 1995.0]</td>\n",
       "      <td>1</td>\n",
       "      <td>N</td>\n",
       "      <td>1</td>\n",
       "      <td>1</td>\n",
       "      <td>0.411765</td>\n",
       "      <td>0.409091</td>\n",
       "      <td>0.409091</td>\n",
       "      <td>5.682</td>\n",
       "      <td>0.136364</td>\n",
       "      <td>308</td>\n",
       "      <td>715</td>\n",
       "      <td>(6.0, 7.5]</td>\n",
       "    </tr>\n",
       "    <tr>\n",
       "      <th>2</th>\n",
       "      <td>GRADO EN EDUCACIÓN SOCIAL</td>\n",
       "      <td>2012-13</td>\n",
       "      <td>0</td>\n",
       "      <td>JUN</td>\n",
       "      <td>Selectividad</td>\n",
       "      <td>D</td>\n",
       "      <td>1994</td>\n",
       "      <td>(1990.0, 1995.0]</td>\n",
       "      <td>0</td>\n",
       "      <td>S</td>\n",
       "      <td>0</td>\n",
       "      <td>0</td>\n",
       "      <td>1.000000</td>\n",
       "      <td>0.000000</td>\n",
       "      <td>0.937500</td>\n",
       "      <td>11.844</td>\n",
       "      <td>0.062500</td>\n",
       "      <td>322</td>\n",
       "      <td>715</td>\n",
       "      <td>(6.0, 7.5]</td>\n",
       "    </tr>\n",
       "    <tr>\n",
       "      <th>3</th>\n",
       "      <td>GRADO EN EDUCACIÓN SOCIAL</td>\n",
       "      <td>2012-13</td>\n",
       "      <td>0</td>\n",
       "      <td>JUN</td>\n",
       "      <td>Selectividad</td>\n",
       "      <td>D</td>\n",
       "      <td>1994</td>\n",
       "      <td>(1990.0, 1995.0]</td>\n",
       "      <td>0</td>\n",
       "      <td>N</td>\n",
       "      <td>0</td>\n",
       "      <td>0</td>\n",
       "      <td>1.000000</td>\n",
       "      <td>0.000000</td>\n",
       "      <td>1.000000</td>\n",
       "      <td>9.126</td>\n",
       "      <td>0.000000</td>\n",
       "      <td>324</td>\n",
       "      <td>715</td>\n",
       "      <td>(7.5, 9.0]</td>\n",
       "    </tr>\n",
       "    <tr>\n",
       "      <th>4</th>\n",
       "      <td>GRADO EN EDUCACIÓN SOCIAL</td>\n",
       "      <td>2012-13</td>\n",
       "      <td>0</td>\n",
       "      <td>JUN</td>\n",
       "      <td>Selectividad</td>\n",
       "      <td>D</td>\n",
       "      <td>1992</td>\n",
       "      <td>(1990.0, 1995.0]</td>\n",
       "      <td>0</td>\n",
       "      <td>S</td>\n",
       "      <td>0</td>\n",
       "      <td>0</td>\n",
       "      <td>0.833333</td>\n",
       "      <td>0.000000</td>\n",
       "      <td>0.833333</td>\n",
       "      <td>8.122</td>\n",
       "      <td>0.166667</td>\n",
       "      <td>329</td>\n",
       "      <td>715</td>\n",
       "      <td>(6.0, 7.5]</td>\n",
       "    </tr>\n",
       "  </tbody>\n",
       "</table>\n",
       "</div>"
      ],
      "text/plain": [
       "                    des_plan anio_apertura_expediente  abandona  \\\n",
       "0  GRADO EN EDUCACIÓN SOCIAL                  2010-11         0   \n",
       "1  GRADO EN EDUCACIÓN SOCIAL                  2011-12         1   \n",
       "2  GRADO EN EDUCACIÓN SOCIAL                  2012-13         0   \n",
       "3  GRADO EN EDUCACIÓN SOCIAL                  2012-13         0   \n",
       "4  GRADO EN EDUCACIÓN SOCIAL                  2012-13         0   \n",
       "\n",
       "  convocatoria_acceso    des_acceso sexo  anio_nacimiento  \\\n",
       "0                 JUN  Selectividad    D             1992   \n",
       "1                 JUN  Selectividad    H             1992   \n",
       "2                 JUN  Selectividad    D             1994   \n",
       "3                 JUN  Selectividad    D             1994   \n",
       "4                 JUN  Selectividad    D             1992   \n",
       "\n",
       "  anio_nacimiento_interval  1st_model scolarship  2nd_model  3rd_model  \\\n",
       "0         (1990.0, 1995.0]          0          N          0          0   \n",
       "1         (1990.0, 1995.0]          1          N          1          1   \n",
       "2         (1990.0, 1995.0]          0          S          0          0   \n",
       "3         (1990.0, 1995.0]          0          N          0          0   \n",
       "4         (1990.0, 1995.0]          0          S          0          0   \n",
       "\n",
       "   cum_core_ratio  cum_absent  cum_pass_ratio  nota_admision_def  \\\n",
       "0        1.000000    0.000000        1.000000              8.154   \n",
       "1        0.411765    0.409091        0.409091              5.682   \n",
       "2        1.000000    0.000000        0.937500             11.844   \n",
       "3        1.000000    0.000000        1.000000              9.126   \n",
       "4        0.833333    0.000000        0.833333              8.122   \n",
       "\n",
       "   cum_more_1st_call_ratio  expediente  cod_plan cum_median_interval  \n",
       "0                 0.000000         110       715          (7.5, 9.0]  \n",
       "1                 0.136364         308       715          (6.0, 7.5]  \n",
       "2                 0.062500         322       715          (6.0, 7.5]  \n",
       "3                 0.000000         324       715          (7.5, 9.0]  \n",
       "4                 0.166667         329       715          (6.0, 7.5]  "
      ]
     },
     "execution_count": 56,
     "metadata": {},
     "output_type": "execute_result"
    }
   ],
   "source": [
    "final_analys_record_personal_access.head()"
   ]
  },
  {
   "cell_type": "code",
   "execution_count": 57,
   "id": "3f75512c",
   "metadata": {},
   "outputs": [],
   "source": [
    "final_analys_record_personal_access_one_hot = pd.get_dummies(data=final_analys_record_personal_access, columns=final_analys_record_personal_access.drop(['abandona','cum_core_ratio','cum_absent','1st_model','2nd_model','3rd_model','cum_pass_ratio','cum_more_1st_call_ratio','expediente','cod_plan','nota_admision_def'], axis=1).columns)"
   ]
  },
  {
   "cell_type": "code",
   "execution_count": 58,
   "id": "9db2bae9",
   "metadata": {},
   "outputs": [],
   "source": [
    "final_analys_record_personal_access_one_hot.drop(['expediente','cod_plan','cum_core_ratio'],axis=1,inplace=True)"
   ]
  },
  {
   "cell_type": "code",
   "execution_count": 59,
   "id": "5e9d81be",
   "metadata": {
    "scrolled": true
   },
   "outputs": [
    {
     "data": {
      "text/plain": [
       "(1855, 70)"
      ]
     },
     "execution_count": 59,
     "metadata": {},
     "output_type": "execute_result"
    }
   ],
   "source": [
    "final_analys_record_personal_access_one_hot.shape"
   ]
  },
  {
   "cell_type": "code",
   "execution_count": 60,
   "id": "44679d02",
   "metadata": {
    "scrolled": true
   },
   "outputs": [
    {
     "data": {
      "text/html": [
       "<div>\n",
       "<style scoped>\n",
       "    .dataframe tbody tr th:only-of-type {\n",
       "        vertical-align: middle;\n",
       "    }\n",
       "\n",
       "    .dataframe tbody tr th {\n",
       "        vertical-align: top;\n",
       "    }\n",
       "\n",
       "    .dataframe thead th {\n",
       "        text-align: right;\n",
       "    }\n",
       "</style>\n",
       "<table border=\"1\" class=\"dataframe\">\n",
       "  <thead>\n",
       "    <tr style=\"text-align: right;\">\n",
       "      <th></th>\n",
       "      <th>abandona</th>\n",
       "      <th>1st_model</th>\n",
       "      <th>2nd_model</th>\n",
       "      <th>3rd_model</th>\n",
       "      <th>cum_absent</th>\n",
       "      <th>cum_pass_ratio</th>\n",
       "      <th>nota_admision_def</th>\n",
       "      <th>cum_more_1st_call_ratio</th>\n",
       "      <th>des_plan_GRADO EN EDUCACIÓN INFANTIL (CÁCERES)</th>\n",
       "      <th>des_plan_GRADO EN EDUCACIÓN PRIMARIA (CÁCERES)</th>\n",
       "      <th>...</th>\n",
       "      <th>anio_nacimiento_interval_(1990.0, 1995.0]</th>\n",
       "      <th>anio_nacimiento_interval_(1995.0, 2000.0]</th>\n",
       "      <th>scolarship_N</th>\n",
       "      <th>scolarship_S</th>\n",
       "      <th>cum_median_interval_(1.5, 3.0]</th>\n",
       "      <th>cum_median_interval_(3.0, 4.5]</th>\n",
       "      <th>cum_median_interval_(4.5, 6.0]</th>\n",
       "      <th>cum_median_interval_(6.0, 7.5]</th>\n",
       "      <th>cum_median_interval_(7.5, 9.0]</th>\n",
       "      <th>cum_median_interval_(9.0, 10.0]</th>\n",
       "    </tr>\n",
       "  </thead>\n",
       "  <tbody>\n",
       "    <tr>\n",
       "      <th>0</th>\n",
       "      <td>0</td>\n",
       "      <td>0</td>\n",
       "      <td>0</td>\n",
       "      <td>0</td>\n",
       "      <td>0.000000</td>\n",
       "      <td>1.000000</td>\n",
       "      <td>8.154</td>\n",
       "      <td>0.000000</td>\n",
       "      <td>0</td>\n",
       "      <td>0</td>\n",
       "      <td>...</td>\n",
       "      <td>1</td>\n",
       "      <td>0</td>\n",
       "      <td>1</td>\n",
       "      <td>0</td>\n",
       "      <td>0</td>\n",
       "      <td>0</td>\n",
       "      <td>0</td>\n",
       "      <td>0</td>\n",
       "      <td>1</td>\n",
       "      <td>0</td>\n",
       "    </tr>\n",
       "    <tr>\n",
       "      <th>1</th>\n",
       "      <td>1</td>\n",
       "      <td>1</td>\n",
       "      <td>1</td>\n",
       "      <td>1</td>\n",
       "      <td>0.409091</td>\n",
       "      <td>0.409091</td>\n",
       "      <td>5.682</td>\n",
       "      <td>0.136364</td>\n",
       "      <td>0</td>\n",
       "      <td>0</td>\n",
       "      <td>...</td>\n",
       "      <td>1</td>\n",
       "      <td>0</td>\n",
       "      <td>1</td>\n",
       "      <td>0</td>\n",
       "      <td>0</td>\n",
       "      <td>0</td>\n",
       "      <td>0</td>\n",
       "      <td>1</td>\n",
       "      <td>0</td>\n",
       "      <td>0</td>\n",
       "    </tr>\n",
       "    <tr>\n",
       "      <th>2</th>\n",
       "      <td>0</td>\n",
       "      <td>0</td>\n",
       "      <td>0</td>\n",
       "      <td>0</td>\n",
       "      <td>0.000000</td>\n",
       "      <td>0.937500</td>\n",
       "      <td>11.844</td>\n",
       "      <td>0.062500</td>\n",
       "      <td>0</td>\n",
       "      <td>0</td>\n",
       "      <td>...</td>\n",
       "      <td>1</td>\n",
       "      <td>0</td>\n",
       "      <td>0</td>\n",
       "      <td>1</td>\n",
       "      <td>0</td>\n",
       "      <td>0</td>\n",
       "      <td>0</td>\n",
       "      <td>1</td>\n",
       "      <td>0</td>\n",
       "      <td>0</td>\n",
       "    </tr>\n",
       "    <tr>\n",
       "      <th>3</th>\n",
       "      <td>0</td>\n",
       "      <td>0</td>\n",
       "      <td>0</td>\n",
       "      <td>0</td>\n",
       "      <td>0.000000</td>\n",
       "      <td>1.000000</td>\n",
       "      <td>9.126</td>\n",
       "      <td>0.000000</td>\n",
       "      <td>0</td>\n",
       "      <td>0</td>\n",
       "      <td>...</td>\n",
       "      <td>1</td>\n",
       "      <td>0</td>\n",
       "      <td>1</td>\n",
       "      <td>0</td>\n",
       "      <td>0</td>\n",
       "      <td>0</td>\n",
       "      <td>0</td>\n",
       "      <td>0</td>\n",
       "      <td>1</td>\n",
       "      <td>0</td>\n",
       "    </tr>\n",
       "    <tr>\n",
       "      <th>4</th>\n",
       "      <td>0</td>\n",
       "      <td>0</td>\n",
       "      <td>0</td>\n",
       "      <td>0</td>\n",
       "      <td>0.000000</td>\n",
       "      <td>0.833333</td>\n",
       "      <td>8.122</td>\n",
       "      <td>0.166667</td>\n",
       "      <td>0</td>\n",
       "      <td>0</td>\n",
       "      <td>...</td>\n",
       "      <td>1</td>\n",
       "      <td>0</td>\n",
       "      <td>0</td>\n",
       "      <td>1</td>\n",
       "      <td>0</td>\n",
       "      <td>0</td>\n",
       "      <td>0</td>\n",
       "      <td>1</td>\n",
       "      <td>0</td>\n",
       "      <td>0</td>\n",
       "    </tr>\n",
       "  </tbody>\n",
       "</table>\n",
       "<p>5 rows × 70 columns</p>\n",
       "</div>"
      ],
      "text/plain": [
       "   abandona  1st_model  2nd_model  3rd_model  cum_absent  cum_pass_ratio  \\\n",
       "0         0          0          0          0    0.000000        1.000000   \n",
       "1         1          1          1          1    0.409091        0.409091   \n",
       "2         0          0          0          0    0.000000        0.937500   \n",
       "3         0          0          0          0    0.000000        1.000000   \n",
       "4         0          0          0          0    0.000000        0.833333   \n",
       "\n",
       "   nota_admision_def  cum_more_1st_call_ratio  \\\n",
       "0              8.154                 0.000000   \n",
       "1              5.682                 0.136364   \n",
       "2             11.844                 0.062500   \n",
       "3              9.126                 0.000000   \n",
       "4              8.122                 0.166667   \n",
       "\n",
       "   des_plan_GRADO EN EDUCACIÓN INFANTIL (CÁCERES)  \\\n",
       "0                                               0   \n",
       "1                                               0   \n",
       "2                                               0   \n",
       "3                                               0   \n",
       "4                                               0   \n",
       "\n",
       "   des_plan_GRADO EN EDUCACIÓN PRIMARIA (CÁCERES)  ...  \\\n",
       "0                                               0  ...   \n",
       "1                                               0  ...   \n",
       "2                                               0  ...   \n",
       "3                                               0  ...   \n",
       "4                                               0  ...   \n",
       "\n",
       "   anio_nacimiento_interval_(1990.0, 1995.0]  \\\n",
       "0                                          1   \n",
       "1                                          1   \n",
       "2                                          1   \n",
       "3                                          1   \n",
       "4                                          1   \n",
       "\n",
       "   anio_nacimiento_interval_(1995.0, 2000.0]  scolarship_N  scolarship_S  \\\n",
       "0                                          0             1             0   \n",
       "1                                          0             1             0   \n",
       "2                                          0             0             1   \n",
       "3                                          0             1             0   \n",
       "4                                          0             0             1   \n",
       "\n",
       "   cum_median_interval_(1.5, 3.0]  cum_median_interval_(3.0, 4.5]  \\\n",
       "0                               0                               0   \n",
       "1                               0                               0   \n",
       "2                               0                               0   \n",
       "3                               0                               0   \n",
       "4                               0                               0   \n",
       "\n",
       "   cum_median_interval_(4.5, 6.0]  cum_median_interval_(6.0, 7.5]  \\\n",
       "0                               0                               0   \n",
       "1                               0                               1   \n",
       "2                               0                               1   \n",
       "3                               0                               0   \n",
       "4                               0                               1   \n",
       "\n",
       "   cum_median_interval_(7.5, 9.0]  cum_median_interval_(9.0, 10.0]  \n",
       "0                               1                                0  \n",
       "1                               0                                0  \n",
       "2                               0                                0  \n",
       "3                               1                                0  \n",
       "4                               0                                0  \n",
       "\n",
       "[5 rows x 70 columns]"
      ]
     },
     "execution_count": 60,
     "metadata": {},
     "output_type": "execute_result"
    }
   ],
   "source": [
    "final_analys_record_personal_access_one_hot.head()"
   ]
  },
  {
   "cell_type": "code",
   "execution_count": 61,
   "id": "6ec5c120",
   "metadata": {
    "scrolled": false
   },
   "outputs": [
    {
     "data": {
      "text/plain": [
       "0    1593\n",
       "1     262\n",
       "Name: abandona, dtype: int64"
      ]
     },
     "execution_count": 61,
     "metadata": {},
     "output_type": "execute_result"
    }
   ],
   "source": [
    "final_analys_record_personal_access_one_hot['abandona'].value_counts()"
   ]
  },
  {
   "cell_type": "code",
   "execution_count": 62,
   "id": "279a45c2",
   "metadata": {},
   "outputs": [
    {
     "data": {
      "text/plain": [
       "0    1593\n",
       "1     262\n",
       "Name: abandona, dtype: int64"
      ]
     },
     "execution_count": 62,
     "metadata": {},
     "output_type": "execute_result"
    }
   ],
   "source": [
    "final_analys_record_personal_access_one_hot['abandona'].value_counts()"
   ]
  },
  {
   "cell_type": "code",
   "execution_count": 63,
   "id": "17e505f1",
   "metadata": {},
   "outputs": [],
   "source": [
    "from imblearn.combine import SMOTETomek\n"
   ]
  },
  {
   "cell_type": "code",
   "execution_count": 64,
   "id": "a789a536",
   "metadata": {
    "scrolled": true
   },
   "outputs": [
    {
     "name": "stdout",
     "output_type": "stream",
     "text": [
      "(3172, 69)\n",
      "(3172,)\n"
     ]
    }
   ],
   "source": [
    "smt = SMOTETomek()\n",
    "X_smt, y_smt = smt.fit_sample(final_analys_record_personal_access_one_hot.drop(['abandona'], axis=1),\n",
    "                             final_analys_record_personal_access_one_hot['abandona'])\n",
    "print(X_smt.shape)\n",
    "print(y_smt.shape)"
   ]
  },
  {
   "cell_type": "code",
   "execution_count": 65,
   "id": "febbc1b5",
   "metadata": {
    "scrolled": true
   },
   "outputs": [
    {
     "data": {
      "text/plain": [
       "0    1586\n",
       "1    1586\n",
       "Name: abandona, dtype: int64"
      ]
     },
     "execution_count": 65,
     "metadata": {},
     "output_type": "execute_result"
    }
   ],
   "source": [
    "y_smt.value_counts()"
   ]
  },
  {
   "cell_type": "code",
   "execution_count": 66,
   "id": "7eeddaef",
   "metadata": {},
   "outputs": [],
   "source": [
    "from sklearn.model_selection import train_test_split, cross_val_score"
   ]
  },
  {
   "cell_type": "code",
   "execution_count": 67,
   "id": "4e6b2148",
   "metadata": {},
   "outputs": [],
   "source": [
    "import sklearn.metrics as sklm"
   ]
  },
  {
   "cell_type": "code",
   "execution_count": 68,
   "id": "b63e2c26",
   "metadata": {},
   "outputs": [],
   "source": [
    "X_train, X_test, y_train, y_test = train_test_split(\n",
    "    X_smt, y_smt, test_size=0.25, random_state=26)"
   ]
  },
  {
   "cell_type": "code",
   "execution_count": 69,
   "id": "75d903b1",
   "metadata": {},
   "outputs": [],
   "source": [
    "from sklearn.ensemble import GradientBoostingClassifier"
   ]
  },
  {
   "cell_type": "code",
   "execution_count": 70,
   "id": "308ef336",
   "metadata": {
    "scrolled": true
   },
   "outputs": [],
   "source": [
    "clf = GradientBoostingClassifier().fit(X_train, y_train)"
   ]
  },
  {
   "cell_type": "code",
   "execution_count": 71,
   "id": "26baa03e",
   "metadata": {},
   "outputs": [],
   "source": [
    "def print_cv_results (cv_estimate):\n",
    "    print('Mean performance metric = %4.3f' % np.mean(cv_estimate))\n",
    "    print('SDT of the metric       = %4.3f' % np.std(cv_estimate))\n",
    "    print('Outcomes by cv fold')\n",
    "    for i, x in enumerate(cv_estimate):\n",
    "        print('Fold %2d    %4.3f' % (i+1, x))"
   ]
  },
  {
   "cell_type": "code",
   "execution_count": 72,
   "id": "9dce8f82",
   "metadata": {
    "scrolled": true
   },
   "outputs": [
    {
     "data": {
      "text/plain": [
       "0.8902900378310215"
      ]
     },
     "execution_count": 72,
     "metadata": {},
     "output_type": "execute_result"
    }
   ],
   "source": [
    "y_pred = clf.predict(X_test)\n",
    "sklm.accuracy_score(y_true=y_test, y_pred=y_pred)"
   ]
  },
  {
   "cell_type": "code",
   "execution_count": 73,
   "id": "f819fe2f",
   "metadata": {
    "scrolled": false
   },
   "outputs": [
    {
     "data": {
      "text/plain": [
       "array([[367,  55],\n",
       "       [ 32, 339]], dtype=int64)"
      ]
     },
     "execution_count": 73,
     "metadata": {},
     "output_type": "execute_result"
    }
   ],
   "source": [
    "sklm.confusion_matrix(y_test, y_pred)"
   ]
  },
  {
   "cell_type": "code",
   "execution_count": 74,
   "id": "b9b0fc17",
   "metadata": {
    "scrolled": false
   },
   "outputs": [
    {
     "data": {
      "text/plain": [
       "0.9137466307277629"
      ]
     },
     "execution_count": 74,
     "metadata": {},
     "output_type": "execute_result"
    }
   ],
   "source": [
    "sklm.recall_score(y_test, y_pred)"
   ]
  },
  {
   "cell_type": "code",
   "execution_count": 75,
   "id": "cda915bf",
   "metadata": {},
   "outputs": [],
   "source": [
    "tn, fp, fn, tp = sklm.confusion_matrix(y_test, y_pred).ravel()"
   ]
  },
  {
   "cell_type": "code",
   "execution_count": 76,
   "id": "f2a25915",
   "metadata": {
    "scrolled": true
   },
   "outputs": [
    {
     "data": {
      "text/plain": [
       "0.13033175355450238"
      ]
     },
     "execution_count": 76,
     "metadata": {},
     "output_type": "execute_result"
    }
   ],
   "source": [
    "fp/(tn+fp)"
   ]
  },
  {
   "cell_type": "markdown",
   "id": "69a5afed",
   "metadata": {},
   "source": [
    "Esta es la medida que tenemos que tratar de que sea la más alta, porque es preferible predecir un abandono como positivo para prevenirlo, y que luego realmente esa persona no vaya a abandonar, a que se nos escape un abandono.\n",
    "\n",
    "El hecho de hacer que esta medida aumente, hará que el modelo predizca en más ocasiones un positivo en casos que no lo son, pero es preferible eso y que al modelo se le escapen los número de casos positivos menores posibles, a tratar de balancear los dos lados y que se nos escapen casos positivos.\n",
    "\n",
    "Cuantos menos casos positivos se nos escapen, mejor, es preferible predecir un falso positivo que no un falso negativo"
   ]
  },
  {
   "cell_type": "markdown",
   "id": "1580e609",
   "metadata": {
    "pycharm": {
     "name": "#%% md\n"
    }
   },
   "source": [
    "### Probamos con cv\n"
   ]
  },
  {
   "cell_type": "code",
   "execution_count": 77,
   "id": "d4d5340e",
   "metadata": {
    "scrolled": false
   },
   "outputs": [
    {
     "name": "stdout",
     "output_type": "stream",
     "text": [
      "Mean performance metric = 0.901\n",
      "SDT of the metric       = 0.014\n",
      "Outcomes by cv fold\n",
      "Fold  1    0.897\n",
      "Fold  2    0.877\n",
      "Fold  3    0.909\n",
      "Fold  4    0.914\n",
      "Fold  5    0.909\n"
     ]
    }
   ],
   "source": [
    "print_cv_results (cross_val_score(clf, X_train, y_train, scoring='recall'))"
   ]
  },
  {
   "cell_type": "markdown",
   "id": "970bf3a1",
   "metadata": {
    "pycharm": {
     "name": "#%% md\n"
    }
   },
   "source": [
    "### Probamos con el cjto de datos completo"
   ]
  },
  {
   "cell_type": "code",
   "execution_count": 78,
   "id": "bc697b97",
   "metadata": {},
   "outputs": [],
   "source": [
    "X_test = final_analys_record_personal_access_one_hot.drop(['abandona'], axis=1)\n",
    "y_test = final_analys_record_personal_access_one_hot['abandona']"
   ]
  },
  {
   "cell_type": "code",
   "execution_count": 79,
   "id": "b6ffba8f",
   "metadata": {},
   "outputs": [
    {
     "data": {
      "text/plain": [
       "0.8797843665768194"
      ]
     },
     "execution_count": 79,
     "metadata": {},
     "output_type": "execute_result"
    }
   ],
   "source": [
    "y_pred = clf.predict(X_test)\n",
    "sklm.accuracy_score(y_true=y_test, y_pred=y_pred)"
   ]
  },
  {
   "cell_type": "code",
   "execution_count": 80,
   "id": "5b8f9523",
   "metadata": {},
   "outputs": [
    {
     "data": {
      "text/plain": [
       "array([[1426,  167],\n",
       "       [  56,  206]], dtype=int64)"
      ]
     },
     "execution_count": 80,
     "metadata": {},
     "output_type": "execute_result"
    }
   ],
   "source": [
    "sklm.confusion_matrix(y_test, y_pred)"
   ]
  },
  {
   "cell_type": "code",
   "execution_count": 81,
   "id": "e5962bc8",
   "metadata": {},
   "outputs": [],
   "source": [
    "tn, fp, fn, tp = sklm.confusion_matrix(y_test, y_pred).ravel()"
   ]
  },
  {
   "cell_type": "code",
   "execution_count": 82,
   "id": "e974df09",
   "metadata": {
    "scrolled": false
   },
   "outputs": [
    {
     "data": {
      "text/plain": [
       "0.7862595419847328"
      ]
     },
     "execution_count": 82,
     "metadata": {},
     "output_type": "execute_result"
    }
   ],
   "source": [
    "sklm.recall_score(y_test, y_pred)"
   ]
  },
  {
   "cell_type": "code",
   "execution_count": 83,
   "id": "e7bcdbfe",
   "metadata": {
    "scrolled": true
   },
   "outputs": [
    {
     "data": {
      "text/plain": [
       "0.10483364720652856"
      ]
     },
     "execution_count": 83,
     "metadata": {},
     "output_type": "execute_result"
    }
   ],
   "source": [
    "fp/(tn+fp)"
   ]
  },
  {
   "cell_type": "markdown",
   "id": "f5c9e951",
   "metadata": {
    "pycharm": {
     "name": "#%% md\n"
    }
   },
   "source": [
    "### Pasamos a ver la importancia de cada variable en el modelo"
   ]
  },
  {
   "cell_type": "code",
   "execution_count": 84,
   "id": "e7463aa0",
   "metadata": {},
   "outputs": [],
   "source": [
    "import time\n",
    "from sklearn.inspection import permutation_importance\n"
   ]
  },
  {
   "cell_type": "code",
   "execution_count": 85,
   "id": "4bcc5a3a",
   "metadata": {},
   "outputs": [],
   "source": [
    "feature_names = X_smt.columns"
   ]
  },
  {
   "cell_type": "code",
   "execution_count": 86,
   "id": "aba31a6a",
   "metadata": {},
   "outputs": [
    {
     "name": "stdout",
     "output_type": "stream",
     "text": [
      "Elapsed time to compute the importances: 0.575 seconds\n"
     ]
    }
   ],
   "source": [
    "start_time = time.time()\n",
    "result = permutation_importance(\n",
    "    clf, X_test, y_test, n_repeats=3, random_state=42, n_jobs=-1)\n",
    "elapsed_time = time.time() - start_time\n",
    "print(f\"Elapsed time to compute the importances: \"\n",
    "      f\"{elapsed_time:.3f} seconds\")\n",
    "\n",
    "logit_importances = pd.Series(result.importances_mean, index=feature_names)"
   ]
  },
  {
   "cell_type": "code",
   "execution_count": 87,
   "id": "60b94b2f",
   "metadata": {},
   "outputs": [],
   "source": [
    "logit_importances = pd.Series(result.importances_mean, index=feature_names)"
   ]
  },
  {
   "cell_type": "code",
   "execution_count": 88,
   "id": "3c2d3cd1",
   "metadata": {},
   "outputs": [],
   "source": [
    "logit_importances = logit_importances[logit_importances > 0.001]"
   ]
  },
  {
   "cell_type": "code",
   "execution_count": 89,
   "id": "2b745672",
   "metadata": {},
   "outputs": [
    {
     "data": {
      "text/plain": [
       "convocatoria_acceso_JUN                           0.001078\n",
       "anio_nacimiento_1985                              0.001078\n",
       "anio_apertura_expediente_2010-11                  0.001078\n",
       "cum_median_interval_(7.5, 9.0]                    0.001078\n",
       "anio_apertura_expediente_2014-15                  0.001438\n",
       "nota_admision_def                                 0.001438\n",
       "des_acceso_Formación Profesional                  0.001438\n",
       "anio_nacimiento_1992                              0.001617\n",
       "cum_absent                                        0.001797\n",
       "anio_apertura_expediente_2013-14                  0.001797\n",
       "des_plan_GRADO EN EDUCACIÓN SOCIAL                0.001977\n",
       "anio_nacimiento_1994                              0.002695\n",
       "des_plan_GRADO EN EDUCACIÓN PRIMARIA (CÁCERES)    0.003235\n",
       "convocatoria_acceso_EXT                           0.003414\n",
       "convocatoria_acceso_SEP                           0.003774\n",
       "sexo_D                                            0.003953\n",
       "scolarship_S                                      0.005211\n",
       "des_plan_GRADO EN EDUCACIÓN INFANTIL (CÁCERES)    0.006289\n",
       "cum_median_interval_(4.5, 6.0]                    0.007547\n",
       "cum_pass_ratio                                    0.007727\n",
       "anio_nacimiento_1993                              0.008086\n",
       "anio_apertura_expediente_2012-13                  0.011321\n",
       "sexo_H                                            0.011860\n",
       "cum_median_interval_(6.0, 7.5]                    0.013477\n",
       "scolarship_N                                      0.021923\n",
       "3rd_model                                         0.024798\n",
       "dtype: float64"
      ]
     },
     "execution_count": 89,
     "metadata": {},
     "output_type": "execute_result"
    }
   ],
   "source": [
    "logit_importances.sort_values()"
   ]
  },
  {
   "cell_type": "code",
   "execution_count": 90,
   "id": "e63bfe1d",
   "metadata": {
    "pycharm": {
     "name": "#%%\n"
    }
   },
   "outputs": [],
   "source": [
    "logit_importances=pd.DataFrame({'Feature':logit_importances.sort_values(ascending=False).index,\n",
    "              'Permutation_importance':logit_importances.sort_values(ascending=False)}).reset_index(drop=True)"
   ]
  },
  {
   "cell_type": "code",
   "execution_count": 91,
   "id": "8f9f0a0e",
   "metadata": {
    "pycharm": {
     "name": "#%%\n"
    }
   },
   "outputs": [
    {
     "data": {
      "text/html": [
       "<div>\n",
       "<style scoped>\n",
       "    .dataframe tbody tr th:only-of-type {\n",
       "        vertical-align: middle;\n",
       "    }\n",
       "\n",
       "    .dataframe tbody tr th {\n",
       "        vertical-align: top;\n",
       "    }\n",
       "\n",
       "    .dataframe thead th {\n",
       "        text-align: right;\n",
       "    }\n",
       "</style>\n",
       "<table border=\"1\" class=\"dataframe\">\n",
       "  <thead>\n",
       "    <tr style=\"text-align: right;\">\n",
       "      <th></th>\n",
       "      <th>Feature</th>\n",
       "      <th>Permutation_importance</th>\n",
       "    </tr>\n",
       "  </thead>\n",
       "  <tbody>\n",
       "    <tr>\n",
       "      <th>0</th>\n",
       "      <td>3rd_model</td>\n",
       "      <td>0.024798</td>\n",
       "    </tr>\n",
       "    <tr>\n",
       "      <th>1</th>\n",
       "      <td>scolarship_N</td>\n",
       "      <td>0.021923</td>\n",
       "    </tr>\n",
       "    <tr>\n",
       "      <th>2</th>\n",
       "      <td>cum_median_interval_(6.0, 7.5]</td>\n",
       "      <td>0.013477</td>\n",
       "    </tr>\n",
       "    <tr>\n",
       "      <th>3</th>\n",
       "      <td>sexo_H</td>\n",
       "      <td>0.011860</td>\n",
       "    </tr>\n",
       "    <tr>\n",
       "      <th>4</th>\n",
       "      <td>anio_apertura_expediente_2012-13</td>\n",
       "      <td>0.011321</td>\n",
       "    </tr>\n",
       "    <tr>\n",
       "      <th>5</th>\n",
       "      <td>anio_nacimiento_1993</td>\n",
       "      <td>0.008086</td>\n",
       "    </tr>\n",
       "    <tr>\n",
       "      <th>6</th>\n",
       "      <td>cum_pass_ratio</td>\n",
       "      <td>0.007727</td>\n",
       "    </tr>\n",
       "    <tr>\n",
       "      <th>7</th>\n",
       "      <td>cum_median_interval_(4.5, 6.0]</td>\n",
       "      <td>0.007547</td>\n",
       "    </tr>\n",
       "    <tr>\n",
       "      <th>8</th>\n",
       "      <td>des_plan_GRADO EN EDUCACIÓN INFANTIL (CÁCERES)</td>\n",
       "      <td>0.006289</td>\n",
       "    </tr>\n",
       "    <tr>\n",
       "      <th>9</th>\n",
       "      <td>scolarship_S</td>\n",
       "      <td>0.005211</td>\n",
       "    </tr>\n",
       "    <tr>\n",
       "      <th>10</th>\n",
       "      <td>sexo_D</td>\n",
       "      <td>0.003953</td>\n",
       "    </tr>\n",
       "    <tr>\n",
       "      <th>11</th>\n",
       "      <td>convocatoria_acceso_SEP</td>\n",
       "      <td>0.003774</td>\n",
       "    </tr>\n",
       "    <tr>\n",
       "      <th>12</th>\n",
       "      <td>convocatoria_acceso_EXT</td>\n",
       "      <td>0.003414</td>\n",
       "    </tr>\n",
       "    <tr>\n",
       "      <th>13</th>\n",
       "      <td>des_plan_GRADO EN EDUCACIÓN PRIMARIA (CÁCERES)</td>\n",
       "      <td>0.003235</td>\n",
       "    </tr>\n",
       "    <tr>\n",
       "      <th>14</th>\n",
       "      <td>anio_nacimiento_1994</td>\n",
       "      <td>0.002695</td>\n",
       "    </tr>\n",
       "    <tr>\n",
       "      <th>15</th>\n",
       "      <td>des_plan_GRADO EN EDUCACIÓN SOCIAL</td>\n",
       "      <td>0.001977</td>\n",
       "    </tr>\n",
       "    <tr>\n",
       "      <th>16</th>\n",
       "      <td>anio_apertura_expediente_2013-14</td>\n",
       "      <td>0.001797</td>\n",
       "    </tr>\n",
       "    <tr>\n",
       "      <th>17</th>\n",
       "      <td>cum_absent</td>\n",
       "      <td>0.001797</td>\n",
       "    </tr>\n",
       "    <tr>\n",
       "      <th>18</th>\n",
       "      <td>anio_nacimiento_1992</td>\n",
       "      <td>0.001617</td>\n",
       "    </tr>\n",
       "    <tr>\n",
       "      <th>19</th>\n",
       "      <td>des_acceso_Formación Profesional</td>\n",
       "      <td>0.001438</td>\n",
       "    </tr>\n",
       "    <tr>\n",
       "      <th>20</th>\n",
       "      <td>anio_apertura_expediente_2014-15</td>\n",
       "      <td>0.001438</td>\n",
       "    </tr>\n",
       "    <tr>\n",
       "      <th>21</th>\n",
       "      <td>nota_admision_def</td>\n",
       "      <td>0.001438</td>\n",
       "    </tr>\n",
       "    <tr>\n",
       "      <th>22</th>\n",
       "      <td>convocatoria_acceso_JUN</td>\n",
       "      <td>0.001078</td>\n",
       "    </tr>\n",
       "    <tr>\n",
       "      <th>23</th>\n",
       "      <td>anio_nacimiento_1985</td>\n",
       "      <td>0.001078</td>\n",
       "    </tr>\n",
       "    <tr>\n",
       "      <th>24</th>\n",
       "      <td>anio_apertura_expediente_2010-11</td>\n",
       "      <td>0.001078</td>\n",
       "    </tr>\n",
       "    <tr>\n",
       "      <th>25</th>\n",
       "      <td>cum_median_interval_(7.5, 9.0]</td>\n",
       "      <td>0.001078</td>\n",
       "    </tr>\n",
       "  </tbody>\n",
       "</table>\n",
       "</div>"
      ],
      "text/plain": [
       "                                           Feature  Permutation_importance\n",
       "0                                        3rd_model                0.024798\n",
       "1                                     scolarship_N                0.021923\n",
       "2                   cum_median_interval_(6.0, 7.5]                0.013477\n",
       "3                                           sexo_H                0.011860\n",
       "4                 anio_apertura_expediente_2012-13                0.011321\n",
       "5                             anio_nacimiento_1993                0.008086\n",
       "6                                   cum_pass_ratio                0.007727\n",
       "7                   cum_median_interval_(4.5, 6.0]                0.007547\n",
       "8   des_plan_GRADO EN EDUCACIÓN INFANTIL (CÁCERES)                0.006289\n",
       "9                                     scolarship_S                0.005211\n",
       "10                                          sexo_D                0.003953\n",
       "11                         convocatoria_acceso_SEP                0.003774\n",
       "12                         convocatoria_acceso_EXT                0.003414\n",
       "13  des_plan_GRADO EN EDUCACIÓN PRIMARIA (CÁCERES)                0.003235\n",
       "14                            anio_nacimiento_1994                0.002695\n",
       "15              des_plan_GRADO EN EDUCACIÓN SOCIAL                0.001977\n",
       "16                anio_apertura_expediente_2013-14                0.001797\n",
       "17                                      cum_absent                0.001797\n",
       "18                            anio_nacimiento_1992                0.001617\n",
       "19                des_acceso_Formación Profesional                0.001438\n",
       "20                anio_apertura_expediente_2014-15                0.001438\n",
       "21                               nota_admision_def                0.001438\n",
       "22                         convocatoria_acceso_JUN                0.001078\n",
       "23                            anio_nacimiento_1985                0.001078\n",
       "24                anio_apertura_expediente_2010-11                0.001078\n",
       "25                  cum_median_interval_(7.5, 9.0]                0.001078"
      ]
     },
     "execution_count": 91,
     "metadata": {},
     "output_type": "execute_result"
    }
   ],
   "source": [
    "logit_importances"
   ]
  },
  {
   "cell_type": "code",
   "execution_count": 92,
   "id": "987f3b24",
   "metadata": {
    "pycharm": {
     "name": "#%%\n"
    }
   },
   "outputs": [],
   "source": [
    "import plotly.express as px\n"
   ]
  },
  {
   "cell_type": "code",
   "execution_count": 93,
   "id": "74ebec63",
   "metadata": {
    "pycharm": {
     "name": "#%%\n"
    }
   },
   "outputs": [
    {
     "data": {
      "application/vnd.plotly.v1+json": {
       "config": {
        "plotlyServerURL": "https://plot.ly"
       },
       "data": [
        {
         "alignmentgroup": "True",
         "hovertemplate": "Feature=%{x}<br>Permutation_importance=%{y}<extra></extra>",
         "legendgroup": "",
         "marker": {
          "color": "#636efa"
         },
         "name": "",
         "offsetgroup": "",
         "orientation": "v",
         "showlegend": false,
         "textposition": "auto",
         "type": "bar",
         "x": [
          "3rd_model",
          "scolarship_N",
          "cum_median_interval_(6.0, 7.5]",
          "sexo_H",
          "anio_apertura_expediente_2012-13",
          "anio_nacimiento_1993",
          "cum_pass_ratio",
          "cum_median_interval_(4.5, 6.0]",
          "des_plan_GRADO EN EDUCACIÓN INFANTIL (CÁCERES)",
          "scolarship_S",
          "sexo_D",
          "convocatoria_acceso_SEP",
          "convocatoria_acceso_EXT",
          "des_plan_GRADO EN EDUCACIÓN PRIMARIA (CÁCERES)",
          "anio_nacimiento_1994",
          "des_plan_GRADO EN EDUCACIÓN SOCIAL",
          "anio_apertura_expediente_2013-14",
          "cum_absent",
          "anio_nacimiento_1992",
          "des_acceso_Formación Profesional",
          "anio_apertura_expediente_2014-15",
          "nota_admision_def",
          "convocatoria_acceso_JUN",
          "anio_nacimiento_1985",
          "anio_apertura_expediente_2010-11",
          "cum_median_interval_(7.5, 9.0]"
         ],
         "xaxis": "x",
         "y": [
          0.02479784366576813,
          0.021922731356693575,
          0.013477088948787,
          0.011859838274932569,
          0.011320754716981093,
          0.008086253369272193,
          0.00772686433063785,
          0.007547169811320716,
          0.006289308176100554,
          0.005211141060197637,
          0.003953279424977474,
          0.0037735849056603397,
          0.0034141958670259966,
          0.0032345013477088624,
          0.0026954177897573852,
          0.001976639712488737,
          0.0017969451931716025,
          0.0017969451931715656,
          0.0016172506738543941,
          0.00143755615453726,
          0.0014375561545372229,
          0.0014375561545372229,
          0.0010781671159029171,
          0.0010781671159029171,
          0.0010781671159029171,
          0.0010781671159029171
         ],
         "yaxis": "y"
        }
       ],
       "layout": {
        "barmode": "relative",
        "legend": {
         "tracegroupgap": 0
        },
        "margin": {
         "t": 60
        },
        "template": {
         "data": {
          "bar": [
           {
            "error_x": {
             "color": "#2a3f5f"
            },
            "error_y": {
             "color": "#2a3f5f"
            },
            "marker": {
             "line": {
              "color": "#E5ECF6",
              "width": 0.5
             }
            },
            "type": "bar"
           }
          ],
          "barpolar": [
           {
            "marker": {
             "line": {
              "color": "#E5ECF6",
              "width": 0.5
             }
            },
            "type": "barpolar"
           }
          ],
          "carpet": [
           {
            "aaxis": {
             "endlinecolor": "#2a3f5f",
             "gridcolor": "white",
             "linecolor": "white",
             "minorgridcolor": "white",
             "startlinecolor": "#2a3f5f"
            },
            "baxis": {
             "endlinecolor": "#2a3f5f",
             "gridcolor": "white",
             "linecolor": "white",
             "minorgridcolor": "white",
             "startlinecolor": "#2a3f5f"
            },
            "type": "carpet"
           }
          ],
          "choropleth": [
           {
            "colorbar": {
             "outlinewidth": 0,
             "ticks": ""
            },
            "type": "choropleth"
           }
          ],
          "contour": [
           {
            "colorbar": {
             "outlinewidth": 0,
             "ticks": ""
            },
            "colorscale": [
             [
              0,
              "#0d0887"
             ],
             [
              0.1111111111111111,
              "#46039f"
             ],
             [
              0.2222222222222222,
              "#7201a8"
             ],
             [
              0.3333333333333333,
              "#9c179e"
             ],
             [
              0.4444444444444444,
              "#bd3786"
             ],
             [
              0.5555555555555556,
              "#d8576b"
             ],
             [
              0.6666666666666666,
              "#ed7953"
             ],
             [
              0.7777777777777778,
              "#fb9f3a"
             ],
             [
              0.8888888888888888,
              "#fdca26"
             ],
             [
              1,
              "#f0f921"
             ]
            ],
            "type": "contour"
           }
          ],
          "contourcarpet": [
           {
            "colorbar": {
             "outlinewidth": 0,
             "ticks": ""
            },
            "type": "contourcarpet"
           }
          ],
          "heatmap": [
           {
            "colorbar": {
             "outlinewidth": 0,
             "ticks": ""
            },
            "colorscale": [
             [
              0,
              "#0d0887"
             ],
             [
              0.1111111111111111,
              "#46039f"
             ],
             [
              0.2222222222222222,
              "#7201a8"
             ],
             [
              0.3333333333333333,
              "#9c179e"
             ],
             [
              0.4444444444444444,
              "#bd3786"
             ],
             [
              0.5555555555555556,
              "#d8576b"
             ],
             [
              0.6666666666666666,
              "#ed7953"
             ],
             [
              0.7777777777777778,
              "#fb9f3a"
             ],
             [
              0.8888888888888888,
              "#fdca26"
             ],
             [
              1,
              "#f0f921"
             ]
            ],
            "type": "heatmap"
           }
          ],
          "heatmapgl": [
           {
            "colorbar": {
             "outlinewidth": 0,
             "ticks": ""
            },
            "colorscale": [
             [
              0,
              "#0d0887"
             ],
             [
              0.1111111111111111,
              "#46039f"
             ],
             [
              0.2222222222222222,
              "#7201a8"
             ],
             [
              0.3333333333333333,
              "#9c179e"
             ],
             [
              0.4444444444444444,
              "#bd3786"
             ],
             [
              0.5555555555555556,
              "#d8576b"
             ],
             [
              0.6666666666666666,
              "#ed7953"
             ],
             [
              0.7777777777777778,
              "#fb9f3a"
             ],
             [
              0.8888888888888888,
              "#fdca26"
             ],
             [
              1,
              "#f0f921"
             ]
            ],
            "type": "heatmapgl"
           }
          ],
          "histogram": [
           {
            "marker": {
             "colorbar": {
              "outlinewidth": 0,
              "ticks": ""
             }
            },
            "type": "histogram"
           }
          ],
          "histogram2d": [
           {
            "colorbar": {
             "outlinewidth": 0,
             "ticks": ""
            },
            "colorscale": [
             [
              0,
              "#0d0887"
             ],
             [
              0.1111111111111111,
              "#46039f"
             ],
             [
              0.2222222222222222,
              "#7201a8"
             ],
             [
              0.3333333333333333,
              "#9c179e"
             ],
             [
              0.4444444444444444,
              "#bd3786"
             ],
             [
              0.5555555555555556,
              "#d8576b"
             ],
             [
              0.6666666666666666,
              "#ed7953"
             ],
             [
              0.7777777777777778,
              "#fb9f3a"
             ],
             [
              0.8888888888888888,
              "#fdca26"
             ],
             [
              1,
              "#f0f921"
             ]
            ],
            "type": "histogram2d"
           }
          ],
          "histogram2dcontour": [
           {
            "colorbar": {
             "outlinewidth": 0,
             "ticks": ""
            },
            "colorscale": [
             [
              0,
              "#0d0887"
             ],
             [
              0.1111111111111111,
              "#46039f"
             ],
             [
              0.2222222222222222,
              "#7201a8"
             ],
             [
              0.3333333333333333,
              "#9c179e"
             ],
             [
              0.4444444444444444,
              "#bd3786"
             ],
             [
              0.5555555555555556,
              "#d8576b"
             ],
             [
              0.6666666666666666,
              "#ed7953"
             ],
             [
              0.7777777777777778,
              "#fb9f3a"
             ],
             [
              0.8888888888888888,
              "#fdca26"
             ],
             [
              1,
              "#f0f921"
             ]
            ],
            "type": "histogram2dcontour"
           }
          ],
          "mesh3d": [
           {
            "colorbar": {
             "outlinewidth": 0,
             "ticks": ""
            },
            "type": "mesh3d"
           }
          ],
          "parcoords": [
           {
            "line": {
             "colorbar": {
              "outlinewidth": 0,
              "ticks": ""
             }
            },
            "type": "parcoords"
           }
          ],
          "pie": [
           {
            "automargin": true,
            "type": "pie"
           }
          ],
          "scatter": [
           {
            "marker": {
             "colorbar": {
              "outlinewidth": 0,
              "ticks": ""
             }
            },
            "type": "scatter"
           }
          ],
          "scatter3d": [
           {
            "line": {
             "colorbar": {
              "outlinewidth": 0,
              "ticks": ""
             }
            },
            "marker": {
             "colorbar": {
              "outlinewidth": 0,
              "ticks": ""
             }
            },
            "type": "scatter3d"
           }
          ],
          "scattercarpet": [
           {
            "marker": {
             "colorbar": {
              "outlinewidth": 0,
              "ticks": ""
             }
            },
            "type": "scattercarpet"
           }
          ],
          "scattergeo": [
           {
            "marker": {
             "colorbar": {
              "outlinewidth": 0,
              "ticks": ""
             }
            },
            "type": "scattergeo"
           }
          ],
          "scattergl": [
           {
            "marker": {
             "colorbar": {
              "outlinewidth": 0,
              "ticks": ""
             }
            },
            "type": "scattergl"
           }
          ],
          "scattermapbox": [
           {
            "marker": {
             "colorbar": {
              "outlinewidth": 0,
              "ticks": ""
             }
            },
            "type": "scattermapbox"
           }
          ],
          "scatterpolar": [
           {
            "marker": {
             "colorbar": {
              "outlinewidth": 0,
              "ticks": ""
             }
            },
            "type": "scatterpolar"
           }
          ],
          "scatterpolargl": [
           {
            "marker": {
             "colorbar": {
              "outlinewidth": 0,
              "ticks": ""
             }
            },
            "type": "scatterpolargl"
           }
          ],
          "scatterternary": [
           {
            "marker": {
             "colorbar": {
              "outlinewidth": 0,
              "ticks": ""
             }
            },
            "type": "scatterternary"
           }
          ],
          "surface": [
           {
            "colorbar": {
             "outlinewidth": 0,
             "ticks": ""
            },
            "colorscale": [
             [
              0,
              "#0d0887"
             ],
             [
              0.1111111111111111,
              "#46039f"
             ],
             [
              0.2222222222222222,
              "#7201a8"
             ],
             [
              0.3333333333333333,
              "#9c179e"
             ],
             [
              0.4444444444444444,
              "#bd3786"
             ],
             [
              0.5555555555555556,
              "#d8576b"
             ],
             [
              0.6666666666666666,
              "#ed7953"
             ],
             [
              0.7777777777777778,
              "#fb9f3a"
             ],
             [
              0.8888888888888888,
              "#fdca26"
             ],
             [
              1,
              "#f0f921"
             ]
            ],
            "type": "surface"
           }
          ],
          "table": [
           {
            "cells": {
             "fill": {
              "color": "#EBF0F8"
             },
             "line": {
              "color": "white"
             }
            },
            "header": {
             "fill": {
              "color": "#C8D4E3"
             },
             "line": {
              "color": "white"
             }
            },
            "type": "table"
           }
          ]
         },
         "layout": {
          "annotationdefaults": {
           "arrowcolor": "#2a3f5f",
           "arrowhead": 0,
           "arrowwidth": 1
          },
          "autotypenumbers": "strict",
          "coloraxis": {
           "colorbar": {
            "outlinewidth": 0,
            "ticks": ""
           }
          },
          "colorscale": {
           "diverging": [
            [
             0,
             "#8e0152"
            ],
            [
             0.1,
             "#c51b7d"
            ],
            [
             0.2,
             "#de77ae"
            ],
            [
             0.3,
             "#f1b6da"
            ],
            [
             0.4,
             "#fde0ef"
            ],
            [
             0.5,
             "#f7f7f7"
            ],
            [
             0.6,
             "#e6f5d0"
            ],
            [
             0.7,
             "#b8e186"
            ],
            [
             0.8,
             "#7fbc41"
            ],
            [
             0.9,
             "#4d9221"
            ],
            [
             1,
             "#276419"
            ]
           ],
           "sequential": [
            [
             0,
             "#0d0887"
            ],
            [
             0.1111111111111111,
             "#46039f"
            ],
            [
             0.2222222222222222,
             "#7201a8"
            ],
            [
             0.3333333333333333,
             "#9c179e"
            ],
            [
             0.4444444444444444,
             "#bd3786"
            ],
            [
             0.5555555555555556,
             "#d8576b"
            ],
            [
             0.6666666666666666,
             "#ed7953"
            ],
            [
             0.7777777777777778,
             "#fb9f3a"
            ],
            [
             0.8888888888888888,
             "#fdca26"
            ],
            [
             1,
             "#f0f921"
            ]
           ],
           "sequentialminus": [
            [
             0,
             "#0d0887"
            ],
            [
             0.1111111111111111,
             "#46039f"
            ],
            [
             0.2222222222222222,
             "#7201a8"
            ],
            [
             0.3333333333333333,
             "#9c179e"
            ],
            [
             0.4444444444444444,
             "#bd3786"
            ],
            [
             0.5555555555555556,
             "#d8576b"
            ],
            [
             0.6666666666666666,
             "#ed7953"
            ],
            [
             0.7777777777777778,
             "#fb9f3a"
            ],
            [
             0.8888888888888888,
             "#fdca26"
            ],
            [
             1,
             "#f0f921"
            ]
           ]
          },
          "colorway": [
           "#636efa",
           "#EF553B",
           "#00cc96",
           "#ab63fa",
           "#FFA15A",
           "#19d3f3",
           "#FF6692",
           "#B6E880",
           "#FF97FF",
           "#FECB52"
          ],
          "font": {
           "color": "#2a3f5f"
          },
          "geo": {
           "bgcolor": "white",
           "lakecolor": "white",
           "landcolor": "#E5ECF6",
           "showlakes": true,
           "showland": true,
           "subunitcolor": "white"
          },
          "hoverlabel": {
           "align": "left"
          },
          "hovermode": "closest",
          "mapbox": {
           "style": "light"
          },
          "paper_bgcolor": "white",
          "plot_bgcolor": "#E5ECF6",
          "polar": {
           "angularaxis": {
            "gridcolor": "white",
            "linecolor": "white",
            "ticks": ""
           },
           "bgcolor": "#E5ECF6",
           "radialaxis": {
            "gridcolor": "white",
            "linecolor": "white",
            "ticks": ""
           }
          },
          "scene": {
           "xaxis": {
            "backgroundcolor": "#E5ECF6",
            "gridcolor": "white",
            "gridwidth": 2,
            "linecolor": "white",
            "showbackground": true,
            "ticks": "",
            "zerolinecolor": "white"
           },
           "yaxis": {
            "backgroundcolor": "#E5ECF6",
            "gridcolor": "white",
            "gridwidth": 2,
            "linecolor": "white",
            "showbackground": true,
            "ticks": "",
            "zerolinecolor": "white"
           },
           "zaxis": {
            "backgroundcolor": "#E5ECF6",
            "gridcolor": "white",
            "gridwidth": 2,
            "linecolor": "white",
            "showbackground": true,
            "ticks": "",
            "zerolinecolor": "white"
           }
          },
          "shapedefaults": {
           "line": {
            "color": "#2a3f5f"
           }
          },
          "ternary": {
           "aaxis": {
            "gridcolor": "white",
            "linecolor": "white",
            "ticks": ""
           },
           "baxis": {
            "gridcolor": "white",
            "linecolor": "white",
            "ticks": ""
           },
           "bgcolor": "#E5ECF6",
           "caxis": {
            "gridcolor": "white",
            "linecolor": "white",
            "ticks": ""
           }
          },
          "title": {
           "x": 0.05
          },
          "xaxis": {
           "automargin": true,
           "gridcolor": "white",
           "linecolor": "white",
           "ticks": "",
           "title": {
            "standoff": 15
           },
           "zerolinecolor": "white",
           "zerolinewidth": 2
          },
          "yaxis": {
           "automargin": true,
           "gridcolor": "white",
           "linecolor": "white",
           "ticks": "",
           "title": {
            "standoff": 15
           },
           "zerolinecolor": "white",
           "zerolinewidth": 2
          }
         }
        },
        "xaxis": {
         "anchor": "y",
         "domain": [
          0,
          1
         ],
         "title": {
          "text": "Feature"
         }
        },
        "yaxis": {
         "anchor": "x",
         "domain": [
          0,
          1
         ],
         "title": {
          "text": "Permutation_importance"
         }
        }
       }
      },
      "text/html": [
       "<div>                            <div id=\"8a76c4a8-f911-412f-bc35-837c25d996e8\" class=\"plotly-graph-div\" style=\"height:525px; width:100%;\"></div>            <script type=\"text/javascript\">                require([\"plotly\"], function(Plotly) {                    window.PLOTLYENV=window.PLOTLYENV || {};                                    if (document.getElementById(\"8a76c4a8-f911-412f-bc35-837c25d996e8\")) {                    Plotly.newPlot(                        \"8a76c4a8-f911-412f-bc35-837c25d996e8\",                        [{\"alignmentgroup\": \"True\", \"hovertemplate\": \"Feature=%{x}<br>Permutation_importance=%{y}<extra></extra>\", \"legendgroup\": \"\", \"marker\": {\"color\": \"#636efa\"}, \"name\": \"\", \"offsetgroup\": \"\", \"orientation\": \"v\", \"showlegend\": false, \"textposition\": \"auto\", \"type\": \"bar\", \"x\": [\"3rd_model\", \"scolarship_N\", \"cum_median_interval_(6.0, 7.5]\", \"sexo_H\", \"anio_apertura_expediente_2012-13\", \"anio_nacimiento_1993\", \"cum_pass_ratio\", \"cum_median_interval_(4.5, 6.0]\", \"des_plan_GRADO EN EDUCACI\\u00d3N INFANTIL (C\\u00c1CERES)\", \"scolarship_S\", \"sexo_D\", \"convocatoria_acceso_SEP\", \"convocatoria_acceso_EXT\", \"des_plan_GRADO EN EDUCACI\\u00d3N PRIMARIA (C\\u00c1CERES)\", \"anio_nacimiento_1994\", \"des_plan_GRADO EN EDUCACI\\u00d3N SOCIAL\", \"anio_apertura_expediente_2013-14\", \"cum_absent\", \"anio_nacimiento_1992\", \"des_acceso_Formaci\\u00f3n Profesional\", \"anio_apertura_expediente_2014-15\", \"nota_admision_def\", \"convocatoria_acceso_JUN\", \"anio_nacimiento_1985\", \"anio_apertura_expediente_2010-11\", \"cum_median_interval_(7.5, 9.0]\"], \"xaxis\": \"x\", \"y\": [0.02479784366576813, 0.021922731356693575, 0.013477088948787, 0.011859838274932569, 0.011320754716981093, 0.008086253369272193, 0.00772686433063785, 0.007547169811320716, 0.006289308176100554, 0.005211141060197637, 0.003953279424977474, 0.0037735849056603397, 0.0034141958670259966, 0.0032345013477088624, 0.0026954177897573852, 0.001976639712488737, 0.0017969451931716025, 0.0017969451931715656, 0.0016172506738543941, 0.00143755615453726, 0.0014375561545372229, 0.0014375561545372229, 0.0010781671159029171, 0.0010781671159029171, 0.0010781671159029171, 0.0010781671159029171], \"yaxis\": \"y\"}],                        {\"barmode\": \"relative\", \"legend\": {\"tracegroupgap\": 0}, \"margin\": {\"t\": 60}, \"template\": {\"data\": {\"bar\": [{\"error_x\": {\"color\": \"#2a3f5f\"}, \"error_y\": {\"color\": \"#2a3f5f\"}, \"marker\": {\"line\": {\"color\": \"#E5ECF6\", \"width\": 0.5}}, \"type\": \"bar\"}], \"barpolar\": [{\"marker\": {\"line\": {\"color\": \"#E5ECF6\", \"width\": 0.5}}, \"type\": \"barpolar\"}], \"carpet\": [{\"aaxis\": {\"endlinecolor\": \"#2a3f5f\", \"gridcolor\": \"white\", \"linecolor\": \"white\", \"minorgridcolor\": \"white\", \"startlinecolor\": \"#2a3f5f\"}, \"baxis\": {\"endlinecolor\": \"#2a3f5f\", \"gridcolor\": \"white\", \"linecolor\": \"white\", \"minorgridcolor\": \"white\", \"startlinecolor\": \"#2a3f5f\"}, \"type\": \"carpet\"}], \"choropleth\": [{\"colorbar\": {\"outlinewidth\": 0, \"ticks\": \"\"}, \"type\": \"choropleth\"}], \"contour\": [{\"colorbar\": {\"outlinewidth\": 0, \"ticks\": \"\"}, \"colorscale\": [[0.0, \"#0d0887\"], [0.1111111111111111, \"#46039f\"], [0.2222222222222222, \"#7201a8\"], [0.3333333333333333, \"#9c179e\"], [0.4444444444444444, \"#bd3786\"], [0.5555555555555556, \"#d8576b\"], [0.6666666666666666, \"#ed7953\"], [0.7777777777777778, \"#fb9f3a\"], [0.8888888888888888, \"#fdca26\"], [1.0, \"#f0f921\"]], \"type\": \"contour\"}], \"contourcarpet\": [{\"colorbar\": {\"outlinewidth\": 0, \"ticks\": \"\"}, \"type\": \"contourcarpet\"}], \"heatmap\": [{\"colorbar\": {\"outlinewidth\": 0, \"ticks\": \"\"}, \"colorscale\": [[0.0, \"#0d0887\"], [0.1111111111111111, \"#46039f\"], [0.2222222222222222, \"#7201a8\"], [0.3333333333333333, \"#9c179e\"], [0.4444444444444444, \"#bd3786\"], [0.5555555555555556, \"#d8576b\"], [0.6666666666666666, \"#ed7953\"], [0.7777777777777778, \"#fb9f3a\"], [0.8888888888888888, \"#fdca26\"], [1.0, \"#f0f921\"]], \"type\": \"heatmap\"}], \"heatmapgl\": [{\"colorbar\": {\"outlinewidth\": 0, \"ticks\": \"\"}, \"colorscale\": [[0.0, \"#0d0887\"], [0.1111111111111111, \"#46039f\"], [0.2222222222222222, \"#7201a8\"], [0.3333333333333333, \"#9c179e\"], [0.4444444444444444, \"#bd3786\"], [0.5555555555555556, \"#d8576b\"], [0.6666666666666666, \"#ed7953\"], [0.7777777777777778, \"#fb9f3a\"], [0.8888888888888888, \"#fdca26\"], [1.0, \"#f0f921\"]], \"type\": \"heatmapgl\"}], \"histogram\": [{\"marker\": {\"colorbar\": {\"outlinewidth\": 0, \"ticks\": \"\"}}, \"type\": \"histogram\"}], \"histogram2d\": [{\"colorbar\": {\"outlinewidth\": 0, \"ticks\": \"\"}, \"colorscale\": [[0.0, \"#0d0887\"], [0.1111111111111111, \"#46039f\"], [0.2222222222222222, \"#7201a8\"], [0.3333333333333333, \"#9c179e\"], [0.4444444444444444, \"#bd3786\"], [0.5555555555555556, \"#d8576b\"], [0.6666666666666666, \"#ed7953\"], [0.7777777777777778, \"#fb9f3a\"], [0.8888888888888888, \"#fdca26\"], [1.0, \"#f0f921\"]], \"type\": \"histogram2d\"}], \"histogram2dcontour\": [{\"colorbar\": {\"outlinewidth\": 0, \"ticks\": \"\"}, \"colorscale\": [[0.0, \"#0d0887\"], [0.1111111111111111, \"#46039f\"], [0.2222222222222222, \"#7201a8\"], [0.3333333333333333, \"#9c179e\"], [0.4444444444444444, \"#bd3786\"], [0.5555555555555556, \"#d8576b\"], [0.6666666666666666, \"#ed7953\"], [0.7777777777777778, \"#fb9f3a\"], [0.8888888888888888, \"#fdca26\"], [1.0, \"#f0f921\"]], \"type\": \"histogram2dcontour\"}], \"mesh3d\": [{\"colorbar\": {\"outlinewidth\": 0, \"ticks\": \"\"}, \"type\": \"mesh3d\"}], \"parcoords\": [{\"line\": {\"colorbar\": {\"outlinewidth\": 0, \"ticks\": \"\"}}, \"type\": \"parcoords\"}], \"pie\": [{\"automargin\": true, \"type\": \"pie\"}], \"scatter\": [{\"marker\": {\"colorbar\": {\"outlinewidth\": 0, \"ticks\": \"\"}}, \"type\": \"scatter\"}], \"scatter3d\": [{\"line\": {\"colorbar\": {\"outlinewidth\": 0, \"ticks\": \"\"}}, \"marker\": {\"colorbar\": {\"outlinewidth\": 0, \"ticks\": \"\"}}, \"type\": \"scatter3d\"}], \"scattercarpet\": [{\"marker\": {\"colorbar\": {\"outlinewidth\": 0, \"ticks\": \"\"}}, \"type\": \"scattercarpet\"}], \"scattergeo\": [{\"marker\": {\"colorbar\": {\"outlinewidth\": 0, \"ticks\": \"\"}}, \"type\": \"scattergeo\"}], \"scattergl\": [{\"marker\": {\"colorbar\": {\"outlinewidth\": 0, \"ticks\": \"\"}}, \"type\": \"scattergl\"}], \"scattermapbox\": [{\"marker\": {\"colorbar\": {\"outlinewidth\": 0, \"ticks\": \"\"}}, \"type\": \"scattermapbox\"}], \"scatterpolar\": [{\"marker\": {\"colorbar\": {\"outlinewidth\": 0, \"ticks\": \"\"}}, \"type\": \"scatterpolar\"}], \"scatterpolargl\": [{\"marker\": {\"colorbar\": {\"outlinewidth\": 0, \"ticks\": \"\"}}, \"type\": \"scatterpolargl\"}], \"scatterternary\": [{\"marker\": {\"colorbar\": {\"outlinewidth\": 0, \"ticks\": \"\"}}, \"type\": \"scatterternary\"}], \"surface\": [{\"colorbar\": {\"outlinewidth\": 0, \"ticks\": \"\"}, \"colorscale\": [[0.0, \"#0d0887\"], [0.1111111111111111, \"#46039f\"], [0.2222222222222222, \"#7201a8\"], [0.3333333333333333, \"#9c179e\"], [0.4444444444444444, \"#bd3786\"], [0.5555555555555556, \"#d8576b\"], [0.6666666666666666, \"#ed7953\"], [0.7777777777777778, \"#fb9f3a\"], [0.8888888888888888, \"#fdca26\"], [1.0, \"#f0f921\"]], \"type\": \"surface\"}], \"table\": [{\"cells\": {\"fill\": {\"color\": \"#EBF0F8\"}, \"line\": {\"color\": \"white\"}}, \"header\": {\"fill\": {\"color\": \"#C8D4E3\"}, \"line\": {\"color\": \"white\"}}, \"type\": \"table\"}]}, \"layout\": {\"annotationdefaults\": {\"arrowcolor\": \"#2a3f5f\", \"arrowhead\": 0, \"arrowwidth\": 1}, \"autotypenumbers\": \"strict\", \"coloraxis\": {\"colorbar\": {\"outlinewidth\": 0, \"ticks\": \"\"}}, \"colorscale\": {\"diverging\": [[0, \"#8e0152\"], [0.1, \"#c51b7d\"], [0.2, \"#de77ae\"], [0.3, \"#f1b6da\"], [0.4, \"#fde0ef\"], [0.5, \"#f7f7f7\"], [0.6, \"#e6f5d0\"], [0.7, \"#b8e186\"], [0.8, \"#7fbc41\"], [0.9, \"#4d9221\"], [1, \"#276419\"]], \"sequential\": [[0.0, \"#0d0887\"], [0.1111111111111111, \"#46039f\"], [0.2222222222222222, \"#7201a8\"], [0.3333333333333333, \"#9c179e\"], [0.4444444444444444, \"#bd3786\"], [0.5555555555555556, \"#d8576b\"], [0.6666666666666666, \"#ed7953\"], [0.7777777777777778, \"#fb9f3a\"], [0.8888888888888888, \"#fdca26\"], [1.0, \"#f0f921\"]], \"sequentialminus\": [[0.0, \"#0d0887\"], [0.1111111111111111, \"#46039f\"], [0.2222222222222222, \"#7201a8\"], [0.3333333333333333, \"#9c179e\"], [0.4444444444444444, \"#bd3786\"], [0.5555555555555556, \"#d8576b\"], [0.6666666666666666, \"#ed7953\"], [0.7777777777777778, \"#fb9f3a\"], [0.8888888888888888, \"#fdca26\"], [1.0, \"#f0f921\"]]}, \"colorway\": [\"#636efa\", \"#EF553B\", \"#00cc96\", \"#ab63fa\", \"#FFA15A\", \"#19d3f3\", \"#FF6692\", \"#B6E880\", \"#FF97FF\", \"#FECB52\"], \"font\": {\"color\": \"#2a3f5f\"}, \"geo\": {\"bgcolor\": \"white\", \"lakecolor\": \"white\", \"landcolor\": \"#E5ECF6\", \"showlakes\": true, \"showland\": true, \"subunitcolor\": \"white\"}, \"hoverlabel\": {\"align\": \"left\"}, \"hovermode\": \"closest\", \"mapbox\": {\"style\": \"light\"}, \"paper_bgcolor\": \"white\", \"plot_bgcolor\": \"#E5ECF6\", \"polar\": {\"angularaxis\": {\"gridcolor\": \"white\", \"linecolor\": \"white\", \"ticks\": \"\"}, \"bgcolor\": \"#E5ECF6\", \"radialaxis\": {\"gridcolor\": \"white\", \"linecolor\": \"white\", \"ticks\": \"\"}}, \"scene\": {\"xaxis\": {\"backgroundcolor\": \"#E5ECF6\", \"gridcolor\": \"white\", \"gridwidth\": 2, \"linecolor\": \"white\", \"showbackground\": true, \"ticks\": \"\", \"zerolinecolor\": \"white\"}, \"yaxis\": {\"backgroundcolor\": \"#E5ECF6\", \"gridcolor\": \"white\", \"gridwidth\": 2, \"linecolor\": \"white\", \"showbackground\": true, \"ticks\": \"\", \"zerolinecolor\": \"white\"}, \"zaxis\": {\"backgroundcolor\": \"#E5ECF6\", \"gridcolor\": \"white\", \"gridwidth\": 2, \"linecolor\": \"white\", \"showbackground\": true, \"ticks\": \"\", \"zerolinecolor\": \"white\"}}, \"shapedefaults\": {\"line\": {\"color\": \"#2a3f5f\"}}, \"ternary\": {\"aaxis\": {\"gridcolor\": \"white\", \"linecolor\": \"white\", \"ticks\": \"\"}, \"baxis\": {\"gridcolor\": \"white\", \"linecolor\": \"white\", \"ticks\": \"\"}, \"bgcolor\": \"#E5ECF6\", \"caxis\": {\"gridcolor\": \"white\", \"linecolor\": \"white\", \"ticks\": \"\"}}, \"title\": {\"x\": 0.05}, \"xaxis\": {\"automargin\": true, \"gridcolor\": \"white\", \"linecolor\": \"white\", \"ticks\": \"\", \"title\": {\"standoff\": 15}, \"zerolinecolor\": \"white\", \"zerolinewidth\": 2}, \"yaxis\": {\"automargin\": true, \"gridcolor\": \"white\", \"linecolor\": \"white\", \"ticks\": \"\", \"title\": {\"standoff\": 15}, \"zerolinecolor\": \"white\", \"zerolinewidth\": 2}}}, \"xaxis\": {\"anchor\": \"y\", \"domain\": [0.0, 1.0], \"title\": {\"text\": \"Feature\"}}, \"yaxis\": {\"anchor\": \"x\", \"domain\": [0.0, 1.0], \"title\": {\"text\": \"Permutation_importance\"}}},                        {\"responsive\": true}                    ).then(function(){\n",
       "                            \n",
       "var gd = document.getElementById('8a76c4a8-f911-412f-bc35-837c25d996e8');\n",
       "var x = new MutationObserver(function (mutations, observer) {{\n",
       "        var display = window.getComputedStyle(gd).display;\n",
       "        if (!display || display === 'none') {{\n",
       "            console.log([gd, 'removed!']);\n",
       "            Plotly.purge(gd);\n",
       "            observer.disconnect();\n",
       "        }}\n",
       "}});\n",
       "\n",
       "// Listen for the removal of the full notebook cells\n",
       "var notebookContainer = gd.closest('#notebook-container');\n",
       "if (notebookContainer) {{\n",
       "    x.observe(notebookContainer, {childList: true});\n",
       "}}\n",
       "\n",
       "// Listen for the clearing of the current output cell\n",
       "var outputEl = gd.closest('.output');\n",
       "if (outputEl) {{\n",
       "    x.observe(outputEl, {childList: true});\n",
       "}}\n",
       "\n",
       "                        })                };                });            </script>        </div>"
      ]
     },
     "metadata": {},
     "output_type": "display_data"
    }
   ],
   "source": [
    "fig = px.bar(logit_importances, x='Feature', y='Permutation_importance')\n",
    "fig.show()"
   ]
  },
  {
   "cell_type": "code",
   "execution_count": 94,
   "id": "f04e14dc",
   "metadata": {
    "pycharm": {
     "name": "#%%\n"
    }
   },
   "outputs": [],
   "source": [
    "def get_type_correlation(independent_feature:pd.Series, target_feature:pd.Series, positive_correlation:list, negative_correlation:list):\n",
    "    from scipy import stats\n",
    "    corr = stats.spearmanr(independent_feature,target_feature).correlation\n",
    "    if corr > 0:\n",
    "        positive_correlation.append(independent_feature.name)\n",
    "    if corr < 0:\n",
    "        negative_correlation.append(independent_feature.name)\n",
    "        "
   ]
  },
  {
   "cell_type": "code",
   "execution_count": 95,
   "id": "0f811735",
   "metadata": {
    "pycharm": {
     "name": "#%%\n"
    }
   },
   "outputs": [],
   "source": [
    "positive_correlation = []\n",
    "negative_correlation = []\n",
    "for feature in logit_importances['Feature']:\n",
    "    get_type_correlation(final_analys_record_personal_access_one_hot[feature], final_analys_record_personal_access_one_hot['abandona'], positive_correlation, negative_correlation)"
   ]
  },
  {
   "cell_type": "code",
   "execution_count": 96,
   "id": "515de97d",
   "metadata": {
    "pycharm": {
     "name": "#%%\n"
    }
   },
   "outputs": [
    {
     "data": {
      "text/plain": [
       "['3rd_model',\n",
       " 'scolarship_N',\n",
       " 'sexo_H',\n",
       " 'anio_nacimiento_1993',\n",
       " 'cum_median_interval_(4.5, 6.0]',\n",
       " 'convocatoria_acceso_SEP',\n",
       " 'des_plan_GRADO EN EDUCACIÓN PRIMARIA (CÁCERES)',\n",
       " 'anio_apertura_expediente_2013-14',\n",
       " 'cum_absent',\n",
       " 'anio_nacimiento_1992',\n",
       " 'des_acceso_Formación Profesional',\n",
       " 'anio_apertura_expediente_2014-15',\n",
       " 'anio_nacimiento_1985',\n",
       " 'anio_apertura_expediente_2010-11']"
      ]
     },
     "execution_count": 96,
     "metadata": {},
     "output_type": "execute_result"
    }
   ],
   "source": [
    "positive_correlation"
   ]
  },
  {
   "cell_type": "code",
   "execution_count": 97,
   "id": "7e47b3af",
   "metadata": {
    "pycharm": {
     "name": "#%%\n"
    }
   },
   "outputs": [
    {
     "data": {
      "text/plain": [
       "['cum_median_interval_(6.0, 7.5]',\n",
       " 'anio_apertura_expediente_2012-13',\n",
       " 'cum_pass_ratio',\n",
       " 'des_plan_GRADO EN EDUCACIÓN INFANTIL (CÁCERES)',\n",
       " 'scolarship_S',\n",
       " 'sexo_D',\n",
       " 'convocatoria_acceso_EXT',\n",
       " 'anio_nacimiento_1994',\n",
       " 'des_plan_GRADO EN EDUCACIÓN SOCIAL',\n",
       " 'nota_admision_def',\n",
       " 'convocatoria_acceso_JUN',\n",
       " 'cum_median_interval_(7.5, 9.0]']"
      ]
     },
     "execution_count": 97,
     "metadata": {},
     "output_type": "execute_result"
    }
   ],
   "source": [
    "negative_correlation"
   ]
  },
  {
   "cell_type": "markdown",
   "id": "e10543fd",
   "metadata": {},
   "source": [
    "La correlación positiva indica que si se cumple el hecho que se está examinando, aumenta la probabilidad de abandono.\n",
    "\n",
    "La correlación negativa por el contrario, indica que si se cumple el hecho que se está examinando, disminuye la probabilidad de abandono."
   ]
  },
  {
   "cell_type": "code",
   "execution_count": 98,
   "id": "01d685fd",
   "metadata": {},
   "outputs": [],
   "source": [
    "import plotly.express as px\n"
   ]
  },
  {
   "cell_type": "code",
   "execution_count": 99,
   "id": "759a6f5f",
   "metadata": {},
   "outputs": [
    {
     "data": {
      "application/vnd.plotly.v1+json": {
       "config": {
        "plotlyServerURL": "https://plot.ly"
       },
       "data": [
        {
         "alignmentgroup": "True",
         "hovertemplate": "Feature=%{x}<br>Permutation_importance=%{y}<extra></extra>",
         "legendgroup": "",
         "marker": {
          "color": "#636efa"
         },
         "name": "",
         "offsetgroup": "",
         "orientation": "v",
         "showlegend": false,
         "textposition": "auto",
         "type": "bar",
         "x": [
          "3rd_model",
          "scolarship_N",
          "cum_median_interval_(6.0, 7.5]",
          "sexo_H",
          "anio_apertura_expediente_2012-13",
          "anio_nacimiento_1993",
          "cum_pass_ratio",
          "cum_median_interval_(4.5, 6.0]",
          "des_plan_GRADO EN EDUCACIÓN INFANTIL (CÁCERES)",
          "scolarship_S",
          "sexo_D",
          "convocatoria_acceso_SEP",
          "convocatoria_acceso_EXT",
          "des_plan_GRADO EN EDUCACIÓN PRIMARIA (CÁCERES)",
          "anio_nacimiento_1994",
          "des_plan_GRADO EN EDUCACIÓN SOCIAL",
          "anio_apertura_expediente_2013-14",
          "cum_absent",
          "anio_nacimiento_1992",
          "des_acceso_Formación Profesional",
          "anio_apertura_expediente_2014-15",
          "nota_admision_def",
          "convocatoria_acceso_JUN",
          "anio_nacimiento_1985",
          "anio_apertura_expediente_2010-11",
          "cum_median_interval_(7.5, 9.0]"
         ],
         "xaxis": "x",
         "y": [
          0.02479784366576813,
          0.021922731356693575,
          0.013477088948787,
          0.011859838274932569,
          0.011320754716981093,
          0.008086253369272193,
          0.00772686433063785,
          0.007547169811320716,
          0.006289308176100554,
          0.005211141060197637,
          0.003953279424977474,
          0.0037735849056603397,
          0.0034141958670259966,
          0.0032345013477088624,
          0.0026954177897573852,
          0.001976639712488737,
          0.0017969451931716025,
          0.0017969451931715656,
          0.0016172506738543941,
          0.00143755615453726,
          0.0014375561545372229,
          0.0014375561545372229,
          0.0010781671159029171,
          0.0010781671159029171,
          0.0010781671159029171,
          0.0010781671159029171
         ],
         "yaxis": "y"
        }
       ],
       "layout": {
        "barmode": "relative",
        "legend": {
         "tracegroupgap": 0
        },
        "margin": {
         "t": 60
        },
        "template": {
         "data": {
          "bar": [
           {
            "error_x": {
             "color": "#2a3f5f"
            },
            "error_y": {
             "color": "#2a3f5f"
            },
            "marker": {
             "line": {
              "color": "#E5ECF6",
              "width": 0.5
             }
            },
            "type": "bar"
           }
          ],
          "barpolar": [
           {
            "marker": {
             "line": {
              "color": "#E5ECF6",
              "width": 0.5
             }
            },
            "type": "barpolar"
           }
          ],
          "carpet": [
           {
            "aaxis": {
             "endlinecolor": "#2a3f5f",
             "gridcolor": "white",
             "linecolor": "white",
             "minorgridcolor": "white",
             "startlinecolor": "#2a3f5f"
            },
            "baxis": {
             "endlinecolor": "#2a3f5f",
             "gridcolor": "white",
             "linecolor": "white",
             "minorgridcolor": "white",
             "startlinecolor": "#2a3f5f"
            },
            "type": "carpet"
           }
          ],
          "choropleth": [
           {
            "colorbar": {
             "outlinewidth": 0,
             "ticks": ""
            },
            "type": "choropleth"
           }
          ],
          "contour": [
           {
            "colorbar": {
             "outlinewidth": 0,
             "ticks": ""
            },
            "colorscale": [
             [
              0,
              "#0d0887"
             ],
             [
              0.1111111111111111,
              "#46039f"
             ],
             [
              0.2222222222222222,
              "#7201a8"
             ],
             [
              0.3333333333333333,
              "#9c179e"
             ],
             [
              0.4444444444444444,
              "#bd3786"
             ],
             [
              0.5555555555555556,
              "#d8576b"
             ],
             [
              0.6666666666666666,
              "#ed7953"
             ],
             [
              0.7777777777777778,
              "#fb9f3a"
             ],
             [
              0.8888888888888888,
              "#fdca26"
             ],
             [
              1,
              "#f0f921"
             ]
            ],
            "type": "contour"
           }
          ],
          "contourcarpet": [
           {
            "colorbar": {
             "outlinewidth": 0,
             "ticks": ""
            },
            "type": "contourcarpet"
           }
          ],
          "heatmap": [
           {
            "colorbar": {
             "outlinewidth": 0,
             "ticks": ""
            },
            "colorscale": [
             [
              0,
              "#0d0887"
             ],
             [
              0.1111111111111111,
              "#46039f"
             ],
             [
              0.2222222222222222,
              "#7201a8"
             ],
             [
              0.3333333333333333,
              "#9c179e"
             ],
             [
              0.4444444444444444,
              "#bd3786"
             ],
             [
              0.5555555555555556,
              "#d8576b"
             ],
             [
              0.6666666666666666,
              "#ed7953"
             ],
             [
              0.7777777777777778,
              "#fb9f3a"
             ],
             [
              0.8888888888888888,
              "#fdca26"
             ],
             [
              1,
              "#f0f921"
             ]
            ],
            "type": "heatmap"
           }
          ],
          "heatmapgl": [
           {
            "colorbar": {
             "outlinewidth": 0,
             "ticks": ""
            },
            "colorscale": [
             [
              0,
              "#0d0887"
             ],
             [
              0.1111111111111111,
              "#46039f"
             ],
             [
              0.2222222222222222,
              "#7201a8"
             ],
             [
              0.3333333333333333,
              "#9c179e"
             ],
             [
              0.4444444444444444,
              "#bd3786"
             ],
             [
              0.5555555555555556,
              "#d8576b"
             ],
             [
              0.6666666666666666,
              "#ed7953"
             ],
             [
              0.7777777777777778,
              "#fb9f3a"
             ],
             [
              0.8888888888888888,
              "#fdca26"
             ],
             [
              1,
              "#f0f921"
             ]
            ],
            "type": "heatmapgl"
           }
          ],
          "histogram": [
           {
            "marker": {
             "colorbar": {
              "outlinewidth": 0,
              "ticks": ""
             }
            },
            "type": "histogram"
           }
          ],
          "histogram2d": [
           {
            "colorbar": {
             "outlinewidth": 0,
             "ticks": ""
            },
            "colorscale": [
             [
              0,
              "#0d0887"
             ],
             [
              0.1111111111111111,
              "#46039f"
             ],
             [
              0.2222222222222222,
              "#7201a8"
             ],
             [
              0.3333333333333333,
              "#9c179e"
             ],
             [
              0.4444444444444444,
              "#bd3786"
             ],
             [
              0.5555555555555556,
              "#d8576b"
             ],
             [
              0.6666666666666666,
              "#ed7953"
             ],
             [
              0.7777777777777778,
              "#fb9f3a"
             ],
             [
              0.8888888888888888,
              "#fdca26"
             ],
             [
              1,
              "#f0f921"
             ]
            ],
            "type": "histogram2d"
           }
          ],
          "histogram2dcontour": [
           {
            "colorbar": {
             "outlinewidth": 0,
             "ticks": ""
            },
            "colorscale": [
             [
              0,
              "#0d0887"
             ],
             [
              0.1111111111111111,
              "#46039f"
             ],
             [
              0.2222222222222222,
              "#7201a8"
             ],
             [
              0.3333333333333333,
              "#9c179e"
             ],
             [
              0.4444444444444444,
              "#bd3786"
             ],
             [
              0.5555555555555556,
              "#d8576b"
             ],
             [
              0.6666666666666666,
              "#ed7953"
             ],
             [
              0.7777777777777778,
              "#fb9f3a"
             ],
             [
              0.8888888888888888,
              "#fdca26"
             ],
             [
              1,
              "#f0f921"
             ]
            ],
            "type": "histogram2dcontour"
           }
          ],
          "mesh3d": [
           {
            "colorbar": {
             "outlinewidth": 0,
             "ticks": ""
            },
            "type": "mesh3d"
           }
          ],
          "parcoords": [
           {
            "line": {
             "colorbar": {
              "outlinewidth": 0,
              "ticks": ""
             }
            },
            "type": "parcoords"
           }
          ],
          "pie": [
           {
            "automargin": true,
            "type": "pie"
           }
          ],
          "scatter": [
           {
            "marker": {
             "colorbar": {
              "outlinewidth": 0,
              "ticks": ""
             }
            },
            "type": "scatter"
           }
          ],
          "scatter3d": [
           {
            "line": {
             "colorbar": {
              "outlinewidth": 0,
              "ticks": ""
             }
            },
            "marker": {
             "colorbar": {
              "outlinewidth": 0,
              "ticks": ""
             }
            },
            "type": "scatter3d"
           }
          ],
          "scattercarpet": [
           {
            "marker": {
             "colorbar": {
              "outlinewidth": 0,
              "ticks": ""
             }
            },
            "type": "scattercarpet"
           }
          ],
          "scattergeo": [
           {
            "marker": {
             "colorbar": {
              "outlinewidth": 0,
              "ticks": ""
             }
            },
            "type": "scattergeo"
           }
          ],
          "scattergl": [
           {
            "marker": {
             "colorbar": {
              "outlinewidth": 0,
              "ticks": ""
             }
            },
            "type": "scattergl"
           }
          ],
          "scattermapbox": [
           {
            "marker": {
             "colorbar": {
              "outlinewidth": 0,
              "ticks": ""
             }
            },
            "type": "scattermapbox"
           }
          ],
          "scatterpolar": [
           {
            "marker": {
             "colorbar": {
              "outlinewidth": 0,
              "ticks": ""
             }
            },
            "type": "scatterpolar"
           }
          ],
          "scatterpolargl": [
           {
            "marker": {
             "colorbar": {
              "outlinewidth": 0,
              "ticks": ""
             }
            },
            "type": "scatterpolargl"
           }
          ],
          "scatterternary": [
           {
            "marker": {
             "colorbar": {
              "outlinewidth": 0,
              "ticks": ""
             }
            },
            "type": "scatterternary"
           }
          ],
          "surface": [
           {
            "colorbar": {
             "outlinewidth": 0,
             "ticks": ""
            },
            "colorscale": [
             [
              0,
              "#0d0887"
             ],
             [
              0.1111111111111111,
              "#46039f"
             ],
             [
              0.2222222222222222,
              "#7201a8"
             ],
             [
              0.3333333333333333,
              "#9c179e"
             ],
             [
              0.4444444444444444,
              "#bd3786"
             ],
             [
              0.5555555555555556,
              "#d8576b"
             ],
             [
              0.6666666666666666,
              "#ed7953"
             ],
             [
              0.7777777777777778,
              "#fb9f3a"
             ],
             [
              0.8888888888888888,
              "#fdca26"
             ],
             [
              1,
              "#f0f921"
             ]
            ],
            "type": "surface"
           }
          ],
          "table": [
           {
            "cells": {
             "fill": {
              "color": "#EBF0F8"
             },
             "line": {
              "color": "white"
             }
            },
            "header": {
             "fill": {
              "color": "#C8D4E3"
             },
             "line": {
              "color": "white"
             }
            },
            "type": "table"
           }
          ]
         },
         "layout": {
          "annotationdefaults": {
           "arrowcolor": "#2a3f5f",
           "arrowhead": 0,
           "arrowwidth": 1
          },
          "autotypenumbers": "strict",
          "coloraxis": {
           "colorbar": {
            "outlinewidth": 0,
            "ticks": ""
           }
          },
          "colorscale": {
           "diverging": [
            [
             0,
             "#8e0152"
            ],
            [
             0.1,
             "#c51b7d"
            ],
            [
             0.2,
             "#de77ae"
            ],
            [
             0.3,
             "#f1b6da"
            ],
            [
             0.4,
             "#fde0ef"
            ],
            [
             0.5,
             "#f7f7f7"
            ],
            [
             0.6,
             "#e6f5d0"
            ],
            [
             0.7,
             "#b8e186"
            ],
            [
             0.8,
             "#7fbc41"
            ],
            [
             0.9,
             "#4d9221"
            ],
            [
             1,
             "#276419"
            ]
           ],
           "sequential": [
            [
             0,
             "#0d0887"
            ],
            [
             0.1111111111111111,
             "#46039f"
            ],
            [
             0.2222222222222222,
             "#7201a8"
            ],
            [
             0.3333333333333333,
             "#9c179e"
            ],
            [
             0.4444444444444444,
             "#bd3786"
            ],
            [
             0.5555555555555556,
             "#d8576b"
            ],
            [
             0.6666666666666666,
             "#ed7953"
            ],
            [
             0.7777777777777778,
             "#fb9f3a"
            ],
            [
             0.8888888888888888,
             "#fdca26"
            ],
            [
             1,
             "#f0f921"
            ]
           ],
           "sequentialminus": [
            [
             0,
             "#0d0887"
            ],
            [
             0.1111111111111111,
             "#46039f"
            ],
            [
             0.2222222222222222,
             "#7201a8"
            ],
            [
             0.3333333333333333,
             "#9c179e"
            ],
            [
             0.4444444444444444,
             "#bd3786"
            ],
            [
             0.5555555555555556,
             "#d8576b"
            ],
            [
             0.6666666666666666,
             "#ed7953"
            ],
            [
             0.7777777777777778,
             "#fb9f3a"
            ],
            [
             0.8888888888888888,
             "#fdca26"
            ],
            [
             1,
             "#f0f921"
            ]
           ]
          },
          "colorway": [
           "#636efa",
           "#EF553B",
           "#00cc96",
           "#ab63fa",
           "#FFA15A",
           "#19d3f3",
           "#FF6692",
           "#B6E880",
           "#FF97FF",
           "#FECB52"
          ],
          "font": {
           "color": "#2a3f5f"
          },
          "geo": {
           "bgcolor": "white",
           "lakecolor": "white",
           "landcolor": "#E5ECF6",
           "showlakes": true,
           "showland": true,
           "subunitcolor": "white"
          },
          "hoverlabel": {
           "align": "left"
          },
          "hovermode": "closest",
          "mapbox": {
           "style": "light"
          },
          "paper_bgcolor": "white",
          "plot_bgcolor": "#E5ECF6",
          "polar": {
           "angularaxis": {
            "gridcolor": "white",
            "linecolor": "white",
            "ticks": ""
           },
           "bgcolor": "#E5ECF6",
           "radialaxis": {
            "gridcolor": "white",
            "linecolor": "white",
            "ticks": ""
           }
          },
          "scene": {
           "xaxis": {
            "backgroundcolor": "#E5ECF6",
            "gridcolor": "white",
            "gridwidth": 2,
            "linecolor": "white",
            "showbackground": true,
            "ticks": "",
            "zerolinecolor": "white"
           },
           "yaxis": {
            "backgroundcolor": "#E5ECF6",
            "gridcolor": "white",
            "gridwidth": 2,
            "linecolor": "white",
            "showbackground": true,
            "ticks": "",
            "zerolinecolor": "white"
           },
           "zaxis": {
            "backgroundcolor": "#E5ECF6",
            "gridcolor": "white",
            "gridwidth": 2,
            "linecolor": "white",
            "showbackground": true,
            "ticks": "",
            "zerolinecolor": "white"
           }
          },
          "shapedefaults": {
           "line": {
            "color": "#2a3f5f"
           }
          },
          "ternary": {
           "aaxis": {
            "gridcolor": "white",
            "linecolor": "white",
            "ticks": ""
           },
           "baxis": {
            "gridcolor": "white",
            "linecolor": "white",
            "ticks": ""
           },
           "bgcolor": "#E5ECF6",
           "caxis": {
            "gridcolor": "white",
            "linecolor": "white",
            "ticks": ""
           }
          },
          "title": {
           "x": 0.05
          },
          "xaxis": {
           "automargin": true,
           "gridcolor": "white",
           "linecolor": "white",
           "ticks": "",
           "title": {
            "standoff": 15
           },
           "zerolinecolor": "white",
           "zerolinewidth": 2
          },
          "yaxis": {
           "automargin": true,
           "gridcolor": "white",
           "linecolor": "white",
           "ticks": "",
           "title": {
            "standoff": 15
           },
           "zerolinecolor": "white",
           "zerolinewidth": 2
          }
         }
        },
        "xaxis": {
         "anchor": "y",
         "domain": [
          0,
          1
         ],
         "title": {
          "text": "Feature"
         }
        },
        "yaxis": {
         "anchor": "x",
         "domain": [
          0,
          1
         ],
         "title": {
          "text": "Permutation_importance"
         }
        }
       }
      },
      "text/html": [
       "<div>                            <div id=\"180f2a58-86af-40d8-91a5-043717462f27\" class=\"plotly-graph-div\" style=\"height:525px; width:100%;\"></div>            <script type=\"text/javascript\">                require([\"plotly\"], function(Plotly) {                    window.PLOTLYENV=window.PLOTLYENV || {};                                    if (document.getElementById(\"180f2a58-86af-40d8-91a5-043717462f27\")) {                    Plotly.newPlot(                        \"180f2a58-86af-40d8-91a5-043717462f27\",                        [{\"alignmentgroup\": \"True\", \"hovertemplate\": \"Feature=%{x}<br>Permutation_importance=%{y}<extra></extra>\", \"legendgroup\": \"\", \"marker\": {\"color\": \"#636efa\"}, \"name\": \"\", \"offsetgroup\": \"\", \"orientation\": \"v\", \"showlegend\": false, \"textposition\": \"auto\", \"type\": \"bar\", \"x\": [\"3rd_model\", \"scolarship_N\", \"cum_median_interval_(6.0, 7.5]\", \"sexo_H\", \"anio_apertura_expediente_2012-13\", \"anio_nacimiento_1993\", \"cum_pass_ratio\", \"cum_median_interval_(4.5, 6.0]\", \"des_plan_GRADO EN EDUCACI\\u00d3N INFANTIL (C\\u00c1CERES)\", \"scolarship_S\", \"sexo_D\", \"convocatoria_acceso_SEP\", \"convocatoria_acceso_EXT\", \"des_plan_GRADO EN EDUCACI\\u00d3N PRIMARIA (C\\u00c1CERES)\", \"anio_nacimiento_1994\", \"des_plan_GRADO EN EDUCACI\\u00d3N SOCIAL\", \"anio_apertura_expediente_2013-14\", \"cum_absent\", \"anio_nacimiento_1992\", \"des_acceso_Formaci\\u00f3n Profesional\", \"anio_apertura_expediente_2014-15\", \"nota_admision_def\", \"convocatoria_acceso_JUN\", \"anio_nacimiento_1985\", \"anio_apertura_expediente_2010-11\", \"cum_median_interval_(7.5, 9.0]\"], \"xaxis\": \"x\", \"y\": [0.02479784366576813, 0.021922731356693575, 0.013477088948787, 0.011859838274932569, 0.011320754716981093, 0.008086253369272193, 0.00772686433063785, 0.007547169811320716, 0.006289308176100554, 0.005211141060197637, 0.003953279424977474, 0.0037735849056603397, 0.0034141958670259966, 0.0032345013477088624, 0.0026954177897573852, 0.001976639712488737, 0.0017969451931716025, 0.0017969451931715656, 0.0016172506738543941, 0.00143755615453726, 0.0014375561545372229, 0.0014375561545372229, 0.0010781671159029171, 0.0010781671159029171, 0.0010781671159029171, 0.0010781671159029171], \"yaxis\": \"y\"}],                        {\"barmode\": \"relative\", \"legend\": {\"tracegroupgap\": 0}, \"margin\": {\"t\": 60}, \"template\": {\"data\": {\"bar\": [{\"error_x\": {\"color\": \"#2a3f5f\"}, \"error_y\": {\"color\": \"#2a3f5f\"}, \"marker\": {\"line\": {\"color\": \"#E5ECF6\", \"width\": 0.5}}, \"type\": \"bar\"}], \"barpolar\": [{\"marker\": {\"line\": {\"color\": \"#E5ECF6\", \"width\": 0.5}}, \"type\": \"barpolar\"}], \"carpet\": [{\"aaxis\": {\"endlinecolor\": \"#2a3f5f\", \"gridcolor\": \"white\", \"linecolor\": \"white\", \"minorgridcolor\": \"white\", \"startlinecolor\": \"#2a3f5f\"}, \"baxis\": {\"endlinecolor\": \"#2a3f5f\", \"gridcolor\": \"white\", \"linecolor\": \"white\", \"minorgridcolor\": \"white\", \"startlinecolor\": \"#2a3f5f\"}, \"type\": \"carpet\"}], \"choropleth\": [{\"colorbar\": {\"outlinewidth\": 0, \"ticks\": \"\"}, \"type\": \"choropleth\"}], \"contour\": [{\"colorbar\": {\"outlinewidth\": 0, \"ticks\": \"\"}, \"colorscale\": [[0.0, \"#0d0887\"], [0.1111111111111111, \"#46039f\"], [0.2222222222222222, \"#7201a8\"], [0.3333333333333333, \"#9c179e\"], [0.4444444444444444, \"#bd3786\"], [0.5555555555555556, \"#d8576b\"], [0.6666666666666666, \"#ed7953\"], [0.7777777777777778, \"#fb9f3a\"], [0.8888888888888888, \"#fdca26\"], [1.0, \"#f0f921\"]], \"type\": \"contour\"}], \"contourcarpet\": [{\"colorbar\": {\"outlinewidth\": 0, \"ticks\": \"\"}, \"type\": \"contourcarpet\"}], \"heatmap\": [{\"colorbar\": {\"outlinewidth\": 0, \"ticks\": \"\"}, \"colorscale\": [[0.0, \"#0d0887\"], [0.1111111111111111, \"#46039f\"], [0.2222222222222222, \"#7201a8\"], [0.3333333333333333, \"#9c179e\"], [0.4444444444444444, \"#bd3786\"], [0.5555555555555556, \"#d8576b\"], [0.6666666666666666, \"#ed7953\"], [0.7777777777777778, \"#fb9f3a\"], [0.8888888888888888, \"#fdca26\"], [1.0, \"#f0f921\"]], \"type\": \"heatmap\"}], \"heatmapgl\": [{\"colorbar\": {\"outlinewidth\": 0, \"ticks\": \"\"}, \"colorscale\": [[0.0, \"#0d0887\"], [0.1111111111111111, \"#46039f\"], [0.2222222222222222, \"#7201a8\"], [0.3333333333333333, \"#9c179e\"], [0.4444444444444444, \"#bd3786\"], [0.5555555555555556, \"#d8576b\"], [0.6666666666666666, \"#ed7953\"], [0.7777777777777778, \"#fb9f3a\"], [0.8888888888888888, \"#fdca26\"], [1.0, \"#f0f921\"]], \"type\": \"heatmapgl\"}], \"histogram\": [{\"marker\": {\"colorbar\": {\"outlinewidth\": 0, \"ticks\": \"\"}}, \"type\": \"histogram\"}], \"histogram2d\": [{\"colorbar\": {\"outlinewidth\": 0, \"ticks\": \"\"}, \"colorscale\": [[0.0, \"#0d0887\"], [0.1111111111111111, \"#46039f\"], [0.2222222222222222, \"#7201a8\"], [0.3333333333333333, \"#9c179e\"], [0.4444444444444444, \"#bd3786\"], [0.5555555555555556, \"#d8576b\"], [0.6666666666666666, \"#ed7953\"], [0.7777777777777778, \"#fb9f3a\"], [0.8888888888888888, \"#fdca26\"], [1.0, \"#f0f921\"]], \"type\": \"histogram2d\"}], \"histogram2dcontour\": [{\"colorbar\": {\"outlinewidth\": 0, \"ticks\": \"\"}, \"colorscale\": [[0.0, \"#0d0887\"], [0.1111111111111111, \"#46039f\"], [0.2222222222222222, \"#7201a8\"], [0.3333333333333333, \"#9c179e\"], [0.4444444444444444, \"#bd3786\"], [0.5555555555555556, \"#d8576b\"], [0.6666666666666666, \"#ed7953\"], [0.7777777777777778, \"#fb9f3a\"], [0.8888888888888888, \"#fdca26\"], [1.0, \"#f0f921\"]], \"type\": \"histogram2dcontour\"}], \"mesh3d\": [{\"colorbar\": {\"outlinewidth\": 0, \"ticks\": \"\"}, \"type\": \"mesh3d\"}], \"parcoords\": [{\"line\": {\"colorbar\": {\"outlinewidth\": 0, \"ticks\": \"\"}}, \"type\": \"parcoords\"}], \"pie\": [{\"automargin\": true, \"type\": \"pie\"}], \"scatter\": [{\"marker\": {\"colorbar\": {\"outlinewidth\": 0, \"ticks\": \"\"}}, \"type\": \"scatter\"}], \"scatter3d\": [{\"line\": {\"colorbar\": {\"outlinewidth\": 0, \"ticks\": \"\"}}, \"marker\": {\"colorbar\": {\"outlinewidth\": 0, \"ticks\": \"\"}}, \"type\": \"scatter3d\"}], \"scattercarpet\": [{\"marker\": {\"colorbar\": {\"outlinewidth\": 0, \"ticks\": \"\"}}, \"type\": \"scattercarpet\"}], \"scattergeo\": [{\"marker\": {\"colorbar\": {\"outlinewidth\": 0, \"ticks\": \"\"}}, \"type\": \"scattergeo\"}], \"scattergl\": [{\"marker\": {\"colorbar\": {\"outlinewidth\": 0, \"ticks\": \"\"}}, \"type\": \"scattergl\"}], \"scattermapbox\": [{\"marker\": {\"colorbar\": {\"outlinewidth\": 0, \"ticks\": \"\"}}, \"type\": \"scattermapbox\"}], \"scatterpolar\": [{\"marker\": {\"colorbar\": {\"outlinewidth\": 0, \"ticks\": \"\"}}, \"type\": \"scatterpolar\"}], \"scatterpolargl\": [{\"marker\": {\"colorbar\": {\"outlinewidth\": 0, \"ticks\": \"\"}}, \"type\": \"scatterpolargl\"}], \"scatterternary\": [{\"marker\": {\"colorbar\": {\"outlinewidth\": 0, \"ticks\": \"\"}}, \"type\": \"scatterternary\"}], \"surface\": [{\"colorbar\": {\"outlinewidth\": 0, \"ticks\": \"\"}, \"colorscale\": [[0.0, \"#0d0887\"], [0.1111111111111111, \"#46039f\"], [0.2222222222222222, \"#7201a8\"], [0.3333333333333333, \"#9c179e\"], [0.4444444444444444, \"#bd3786\"], [0.5555555555555556, \"#d8576b\"], [0.6666666666666666, \"#ed7953\"], [0.7777777777777778, \"#fb9f3a\"], [0.8888888888888888, \"#fdca26\"], [1.0, \"#f0f921\"]], \"type\": \"surface\"}], \"table\": [{\"cells\": {\"fill\": {\"color\": \"#EBF0F8\"}, \"line\": {\"color\": \"white\"}}, \"header\": {\"fill\": {\"color\": \"#C8D4E3\"}, \"line\": {\"color\": \"white\"}}, \"type\": \"table\"}]}, \"layout\": {\"annotationdefaults\": {\"arrowcolor\": \"#2a3f5f\", \"arrowhead\": 0, \"arrowwidth\": 1}, \"autotypenumbers\": \"strict\", \"coloraxis\": {\"colorbar\": {\"outlinewidth\": 0, \"ticks\": \"\"}}, \"colorscale\": {\"diverging\": [[0, \"#8e0152\"], [0.1, \"#c51b7d\"], [0.2, \"#de77ae\"], [0.3, \"#f1b6da\"], [0.4, \"#fde0ef\"], [0.5, \"#f7f7f7\"], [0.6, \"#e6f5d0\"], [0.7, \"#b8e186\"], [0.8, \"#7fbc41\"], [0.9, \"#4d9221\"], [1, \"#276419\"]], \"sequential\": [[0.0, \"#0d0887\"], [0.1111111111111111, \"#46039f\"], [0.2222222222222222, \"#7201a8\"], [0.3333333333333333, \"#9c179e\"], [0.4444444444444444, \"#bd3786\"], [0.5555555555555556, \"#d8576b\"], [0.6666666666666666, \"#ed7953\"], [0.7777777777777778, \"#fb9f3a\"], [0.8888888888888888, \"#fdca26\"], [1.0, \"#f0f921\"]], \"sequentialminus\": [[0.0, \"#0d0887\"], [0.1111111111111111, \"#46039f\"], [0.2222222222222222, \"#7201a8\"], [0.3333333333333333, \"#9c179e\"], [0.4444444444444444, \"#bd3786\"], [0.5555555555555556, \"#d8576b\"], [0.6666666666666666, \"#ed7953\"], [0.7777777777777778, \"#fb9f3a\"], [0.8888888888888888, \"#fdca26\"], [1.0, \"#f0f921\"]]}, \"colorway\": [\"#636efa\", \"#EF553B\", \"#00cc96\", \"#ab63fa\", \"#FFA15A\", \"#19d3f3\", \"#FF6692\", \"#B6E880\", \"#FF97FF\", \"#FECB52\"], \"font\": {\"color\": \"#2a3f5f\"}, \"geo\": {\"bgcolor\": \"white\", \"lakecolor\": \"white\", \"landcolor\": \"#E5ECF6\", \"showlakes\": true, \"showland\": true, \"subunitcolor\": \"white\"}, \"hoverlabel\": {\"align\": \"left\"}, \"hovermode\": \"closest\", \"mapbox\": {\"style\": \"light\"}, \"paper_bgcolor\": \"white\", \"plot_bgcolor\": \"#E5ECF6\", \"polar\": {\"angularaxis\": {\"gridcolor\": \"white\", \"linecolor\": \"white\", \"ticks\": \"\"}, \"bgcolor\": \"#E5ECF6\", \"radialaxis\": {\"gridcolor\": \"white\", \"linecolor\": \"white\", \"ticks\": \"\"}}, \"scene\": {\"xaxis\": {\"backgroundcolor\": \"#E5ECF6\", \"gridcolor\": \"white\", \"gridwidth\": 2, \"linecolor\": \"white\", \"showbackground\": true, \"ticks\": \"\", \"zerolinecolor\": \"white\"}, \"yaxis\": {\"backgroundcolor\": \"#E5ECF6\", \"gridcolor\": \"white\", \"gridwidth\": 2, \"linecolor\": \"white\", \"showbackground\": true, \"ticks\": \"\", \"zerolinecolor\": \"white\"}, \"zaxis\": {\"backgroundcolor\": \"#E5ECF6\", \"gridcolor\": \"white\", \"gridwidth\": 2, \"linecolor\": \"white\", \"showbackground\": true, \"ticks\": \"\", \"zerolinecolor\": \"white\"}}, \"shapedefaults\": {\"line\": {\"color\": \"#2a3f5f\"}}, \"ternary\": {\"aaxis\": {\"gridcolor\": \"white\", \"linecolor\": \"white\", \"ticks\": \"\"}, \"baxis\": {\"gridcolor\": \"white\", \"linecolor\": \"white\", \"ticks\": \"\"}, \"bgcolor\": \"#E5ECF6\", \"caxis\": {\"gridcolor\": \"white\", \"linecolor\": \"white\", \"ticks\": \"\"}}, \"title\": {\"x\": 0.05}, \"xaxis\": {\"automargin\": true, \"gridcolor\": \"white\", \"linecolor\": \"white\", \"ticks\": \"\", \"title\": {\"standoff\": 15}, \"zerolinecolor\": \"white\", \"zerolinewidth\": 2}, \"yaxis\": {\"automargin\": true, \"gridcolor\": \"white\", \"linecolor\": \"white\", \"ticks\": \"\", \"title\": {\"standoff\": 15}, \"zerolinecolor\": \"white\", \"zerolinewidth\": 2}}}, \"xaxis\": {\"anchor\": \"y\", \"domain\": [0.0, 1.0], \"title\": {\"text\": \"Feature\"}}, \"yaxis\": {\"anchor\": \"x\", \"domain\": [0.0, 1.0], \"title\": {\"text\": \"Permutation_importance\"}}},                        {\"responsive\": true}                    ).then(function(){\n",
       "                            \n",
       "var gd = document.getElementById('180f2a58-86af-40d8-91a5-043717462f27');\n",
       "var x = new MutationObserver(function (mutations, observer) {{\n",
       "        var display = window.getComputedStyle(gd).display;\n",
       "        if (!display || display === 'none') {{\n",
       "            console.log([gd, 'removed!']);\n",
       "            Plotly.purge(gd);\n",
       "            observer.disconnect();\n",
       "        }}\n",
       "}});\n",
       "\n",
       "// Listen for the removal of the full notebook cells\n",
       "var notebookContainer = gd.closest('#notebook-container');\n",
       "if (notebookContainer) {{\n",
       "    x.observe(notebookContainer, {childList: true});\n",
       "}}\n",
       "\n",
       "// Listen for the clearing of the current output cell\n",
       "var outputEl = gd.closest('.output');\n",
       "if (outputEl) {{\n",
       "    x.observe(outputEl, {childList: true});\n",
       "}}\n",
       "\n",
       "                        })                };                });            </script>        </div>"
      ]
     },
     "metadata": {},
     "output_type": "display_data"
    }
   ],
   "source": [
    "fig = px.bar(logit_importances, x='Feature', y='Permutation_importance')\n",
    "fig.show()"
   ]
  },
  {
   "cell_type": "code",
   "execution_count": 100,
   "id": "53509442",
   "metadata": {},
   "outputs": [],
   "source": [
    "def get_type_correlation(independent_feature:pd.Series, target_feature:pd.Series, positive_correlation:list, negative_correlation:list):\n",
    "    from scipy import stats\n",
    "    corr = stats.spearmanr(independent_feature,target_feature).correlation\n",
    "    if corr > 0:\n",
    "        positive_correlation.append(independent_feature.name)\n",
    "    if corr < 0:\n",
    "        negative_correlation.append(independent_feature.name)\n",
    "        "
   ]
  },
  {
   "cell_type": "code",
   "execution_count": 101,
   "id": "5ce69986",
   "metadata": {},
   "outputs": [],
   "source": [
    "positive_correlation = []\n",
    "negative_correlation = []\n",
    "for feature in logit_importances['Feature']:\n",
    "    get_type_correlation(final_analys_record_personal_access_one_hot[feature], final_analys_record_personal_access_one_hot['abandona'], positive_correlation, negative_correlation)"
   ]
  },
  {
   "cell_type": "code",
   "execution_count": 102,
   "id": "b657ac20",
   "metadata": {},
   "outputs": [
    {
     "data": {
      "text/plain": [
       "['3rd_model',\n",
       " 'scolarship_N',\n",
       " 'sexo_H',\n",
       " 'anio_nacimiento_1993',\n",
       " 'cum_median_interval_(4.5, 6.0]',\n",
       " 'convocatoria_acceso_SEP',\n",
       " 'des_plan_GRADO EN EDUCACIÓN PRIMARIA (CÁCERES)',\n",
       " 'anio_apertura_expediente_2013-14',\n",
       " 'cum_absent',\n",
       " 'anio_nacimiento_1992',\n",
       " 'des_acceso_Formación Profesional',\n",
       " 'anio_apertura_expediente_2014-15',\n",
       " 'anio_nacimiento_1985',\n",
       " 'anio_apertura_expediente_2010-11']"
      ]
     },
     "execution_count": 102,
     "metadata": {},
     "output_type": "execute_result"
    }
   ],
   "source": [
    "positive_correlation"
   ]
  },
  {
   "cell_type": "code",
   "execution_count": 103,
   "id": "0799f7f9",
   "metadata": {},
   "outputs": [
    {
     "data": {
      "text/plain": [
       "['cum_median_interval_(6.0, 7.5]',\n",
       " 'anio_apertura_expediente_2012-13',\n",
       " 'cum_pass_ratio',\n",
       " 'des_plan_GRADO EN EDUCACIÓN INFANTIL (CÁCERES)',\n",
       " 'scolarship_S',\n",
       " 'sexo_D',\n",
       " 'convocatoria_acceso_EXT',\n",
       " 'anio_nacimiento_1994',\n",
       " 'des_plan_GRADO EN EDUCACIÓN SOCIAL',\n",
       " 'nota_admision_def',\n",
       " 'convocatoria_acceso_JUN',\n",
       " 'cum_median_interval_(7.5, 9.0]']"
      ]
     },
     "execution_count": 103,
     "metadata": {},
     "output_type": "execute_result"
    }
   ],
   "source": [
    "negative_correlation"
   ]
  },
  {
   "cell_type": "markdown",
   "id": "87b4d07a",
   "metadata": {},
   "source": [
    "La correlación positiva indica que si se cumple el hecho que se está examinando, aumenta la probabilidad de abandono.\n",
    "\n",
    "La correlación negativa por el contrario, indica que si se cumple el hecho que se está examinando, disminuye la probabilidad de abandono."
   ]
  },
  {
   "cell_type": "code",
   "execution_count": 104,
   "id": "b961d1c7",
   "metadata": {},
   "outputs": [],
   "source": [
    "final_analys_record_personal_access['4th_model'] = y_pred"
   ]
  },
  {
   "cell_type": "code",
   "execution_count": 105,
   "id": "915e6f74",
   "metadata": {},
   "outputs": [
    {
     "data": {
      "text/html": [
       "<div>\n",
       "<style scoped>\n",
       "    .dataframe tbody tr th:only-of-type {\n",
       "        vertical-align: middle;\n",
       "    }\n",
       "\n",
       "    .dataframe tbody tr th {\n",
       "        vertical-align: top;\n",
       "    }\n",
       "\n",
       "    .dataframe thead th {\n",
       "        text-align: right;\n",
       "    }\n",
       "</style>\n",
       "<table border=\"1\" class=\"dataframe\">\n",
       "  <thead>\n",
       "    <tr style=\"text-align: right;\">\n",
       "      <th></th>\n",
       "      <th>des_plan</th>\n",
       "      <th>anio_apertura_expediente</th>\n",
       "      <th>abandona</th>\n",
       "      <th>convocatoria_acceso</th>\n",
       "      <th>des_acceso</th>\n",
       "      <th>sexo</th>\n",
       "      <th>anio_nacimiento</th>\n",
       "      <th>anio_nacimiento_interval</th>\n",
       "      <th>1st_model</th>\n",
       "      <th>scolarship</th>\n",
       "      <th>...</th>\n",
       "      <th>3rd_model</th>\n",
       "      <th>cum_core_ratio</th>\n",
       "      <th>cum_absent</th>\n",
       "      <th>cum_pass_ratio</th>\n",
       "      <th>nota_admision_def</th>\n",
       "      <th>cum_more_1st_call_ratio</th>\n",
       "      <th>expediente</th>\n",
       "      <th>cod_plan</th>\n",
       "      <th>cum_median_interval</th>\n",
       "      <th>4th_model</th>\n",
       "    </tr>\n",
       "  </thead>\n",
       "  <tbody>\n",
       "    <tr>\n",
       "      <th>0</th>\n",
       "      <td>GRADO EN EDUCACIÓN SOCIAL</td>\n",
       "      <td>2010-11</td>\n",
       "      <td>0</td>\n",
       "      <td>JUN</td>\n",
       "      <td>Selectividad</td>\n",
       "      <td>D</td>\n",
       "      <td>1992</td>\n",
       "      <td>(1990.0, 1995.0]</td>\n",
       "      <td>0</td>\n",
       "      <td>N</td>\n",
       "      <td>...</td>\n",
       "      <td>0</td>\n",
       "      <td>1.000000</td>\n",
       "      <td>0.000000</td>\n",
       "      <td>1.000000</td>\n",
       "      <td>8.154</td>\n",
       "      <td>0.000000</td>\n",
       "      <td>110</td>\n",
       "      <td>715</td>\n",
       "      <td>(7.5, 9.0]</td>\n",
       "      <td>0</td>\n",
       "    </tr>\n",
       "    <tr>\n",
       "      <th>1</th>\n",
       "      <td>GRADO EN EDUCACIÓN SOCIAL</td>\n",
       "      <td>2011-12</td>\n",
       "      <td>1</td>\n",
       "      <td>JUN</td>\n",
       "      <td>Selectividad</td>\n",
       "      <td>H</td>\n",
       "      <td>1992</td>\n",
       "      <td>(1990.0, 1995.0]</td>\n",
       "      <td>1</td>\n",
       "      <td>N</td>\n",
       "      <td>...</td>\n",
       "      <td>1</td>\n",
       "      <td>0.411765</td>\n",
       "      <td>0.409091</td>\n",
       "      <td>0.409091</td>\n",
       "      <td>5.682</td>\n",
       "      <td>0.136364</td>\n",
       "      <td>308</td>\n",
       "      <td>715</td>\n",
       "      <td>(6.0, 7.5]</td>\n",
       "      <td>1</td>\n",
       "    </tr>\n",
       "    <tr>\n",
       "      <th>2</th>\n",
       "      <td>GRADO EN EDUCACIÓN SOCIAL</td>\n",
       "      <td>2012-13</td>\n",
       "      <td>0</td>\n",
       "      <td>JUN</td>\n",
       "      <td>Selectividad</td>\n",
       "      <td>D</td>\n",
       "      <td>1994</td>\n",
       "      <td>(1990.0, 1995.0]</td>\n",
       "      <td>0</td>\n",
       "      <td>S</td>\n",
       "      <td>...</td>\n",
       "      <td>0</td>\n",
       "      <td>1.000000</td>\n",
       "      <td>0.000000</td>\n",
       "      <td>0.937500</td>\n",
       "      <td>11.844</td>\n",
       "      <td>0.062500</td>\n",
       "      <td>322</td>\n",
       "      <td>715</td>\n",
       "      <td>(6.0, 7.5]</td>\n",
       "      <td>0</td>\n",
       "    </tr>\n",
       "    <tr>\n",
       "      <th>3</th>\n",
       "      <td>GRADO EN EDUCACIÓN SOCIAL</td>\n",
       "      <td>2012-13</td>\n",
       "      <td>0</td>\n",
       "      <td>JUN</td>\n",
       "      <td>Selectividad</td>\n",
       "      <td>D</td>\n",
       "      <td>1994</td>\n",
       "      <td>(1990.0, 1995.0]</td>\n",
       "      <td>0</td>\n",
       "      <td>N</td>\n",
       "      <td>...</td>\n",
       "      <td>0</td>\n",
       "      <td>1.000000</td>\n",
       "      <td>0.000000</td>\n",
       "      <td>1.000000</td>\n",
       "      <td>9.126</td>\n",
       "      <td>0.000000</td>\n",
       "      <td>324</td>\n",
       "      <td>715</td>\n",
       "      <td>(7.5, 9.0]</td>\n",
       "      <td>0</td>\n",
       "    </tr>\n",
       "    <tr>\n",
       "      <th>4</th>\n",
       "      <td>GRADO EN EDUCACIÓN SOCIAL</td>\n",
       "      <td>2012-13</td>\n",
       "      <td>0</td>\n",
       "      <td>JUN</td>\n",
       "      <td>Selectividad</td>\n",
       "      <td>D</td>\n",
       "      <td>1992</td>\n",
       "      <td>(1990.0, 1995.0]</td>\n",
       "      <td>0</td>\n",
       "      <td>S</td>\n",
       "      <td>...</td>\n",
       "      <td>0</td>\n",
       "      <td>0.833333</td>\n",
       "      <td>0.000000</td>\n",
       "      <td>0.833333</td>\n",
       "      <td>8.122</td>\n",
       "      <td>0.166667</td>\n",
       "      <td>329</td>\n",
       "      <td>715</td>\n",
       "      <td>(6.0, 7.5]</td>\n",
       "      <td>0</td>\n",
       "    </tr>\n",
       "  </tbody>\n",
       "</table>\n",
       "<p>5 rows × 21 columns</p>\n",
       "</div>"
      ],
      "text/plain": [
       "                    des_plan anio_apertura_expediente  abandona  \\\n",
       "0  GRADO EN EDUCACIÓN SOCIAL                  2010-11         0   \n",
       "1  GRADO EN EDUCACIÓN SOCIAL                  2011-12         1   \n",
       "2  GRADO EN EDUCACIÓN SOCIAL                  2012-13         0   \n",
       "3  GRADO EN EDUCACIÓN SOCIAL                  2012-13         0   \n",
       "4  GRADO EN EDUCACIÓN SOCIAL                  2012-13         0   \n",
       "\n",
       "  convocatoria_acceso    des_acceso sexo  anio_nacimiento  \\\n",
       "0                 JUN  Selectividad    D             1992   \n",
       "1                 JUN  Selectividad    H             1992   \n",
       "2                 JUN  Selectividad    D             1994   \n",
       "3                 JUN  Selectividad    D             1994   \n",
       "4                 JUN  Selectividad    D             1992   \n",
       "\n",
       "  anio_nacimiento_interval  1st_model scolarship  ...  3rd_model  \\\n",
       "0         (1990.0, 1995.0]          0          N  ...          0   \n",
       "1         (1990.0, 1995.0]          1          N  ...          1   \n",
       "2         (1990.0, 1995.0]          0          S  ...          0   \n",
       "3         (1990.0, 1995.0]          0          N  ...          0   \n",
       "4         (1990.0, 1995.0]          0          S  ...          0   \n",
       "\n",
       "   cum_core_ratio  cum_absent  cum_pass_ratio  nota_admision_def  \\\n",
       "0        1.000000    0.000000        1.000000              8.154   \n",
       "1        0.411765    0.409091        0.409091              5.682   \n",
       "2        1.000000    0.000000        0.937500             11.844   \n",
       "3        1.000000    0.000000        1.000000              9.126   \n",
       "4        0.833333    0.000000        0.833333              8.122   \n",
       "\n",
       "   cum_more_1st_call_ratio  expediente  cod_plan  cum_median_interval  \\\n",
       "0                 0.000000         110       715           (7.5, 9.0]   \n",
       "1                 0.136364         308       715           (6.0, 7.5]   \n",
       "2                 0.062500         322       715           (6.0, 7.5]   \n",
       "3                 0.000000         324       715           (7.5, 9.0]   \n",
       "4                 0.166667         329       715           (6.0, 7.5]   \n",
       "\n",
       "  4th_model  \n",
       "0         0  \n",
       "1         1  \n",
       "2         0  \n",
       "3         0  \n",
       "4         0  \n",
       "\n",
       "[5 rows x 21 columns]"
      ]
     },
     "execution_count": 105,
     "metadata": {},
     "output_type": "execute_result"
    }
   ],
   "source": [
    "final_analys_record_personal_access.head()"
   ]
  },
  {
   "cell_type": "code",
   "execution_count": 106,
   "id": "c5535a78",
   "metadata": {},
   "outputs": [],
   "source": [
    "final_analys_record_personal_access.to_csv('C:/Users/franj/Desktop/PAI UEX Repositorios/education_drop/Data/For_Analysis_and_Modeling/2nd_process/3rd_quadrimester/pred_analys_teaching_record_personal_access.csv',\n",
    "                                          sep='|',\n",
    "                                          index=False)"
   ]
  }
 ],
 "metadata": {
  "kernelspec": {
   "display_name": "Python 3",
   "language": "python",
   "name": "python3"
  },
  "language_info": {
   "codemirror_mode": {
    "name": "ipython",
    "version": 3
   },
   "file_extension": ".py",
   "mimetype": "text/x-python",
   "name": "python",
   "nbconvert_exporter": "python",
   "pygments_lexer": "ipython3",
   "version": "3.7.3"
  }
 },
 "nbformat": 4,
 "nbformat_minor": 5
}
