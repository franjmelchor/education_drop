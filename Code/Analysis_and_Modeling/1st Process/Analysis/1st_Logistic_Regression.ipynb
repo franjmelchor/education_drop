{
 "cells": [
  {
   "cell_type": "code",
   "execution_count": 48,
   "id": "c6a6f5b5",
   "metadata": {},
   "outputs": [],
   "source": [
    "import pandas as pd\n",
    "import numpy as np"
   ]
  },
  {
   "cell_type": "code",
   "execution_count": 49,
   "id": "7555fbe8",
   "metadata": {},
   "outputs": [],
   "source": [
    "analys_record_personal_access = pd.read_csv('../../../../Data/For_Analysis_and_Modeling/1st_process/analys_record_personal_access.csv',\n",
    "       sep='|',\n",
    "       na_values=['',' ']\n",
    "    )"
   ]
  },
  {
   "cell_type": "code",
   "execution_count": 50,
   "id": "ffbae1b2",
   "metadata": {},
   "outputs": [],
   "source": [
    "analys_record_personal_access = analys_record_personal_access.drop(['des_acceso'], axis=1)"
   ]
  },
  {
   "cell_type": "code",
   "execution_count": 51,
   "id": "8bff682a",
   "metadata": {
    "scrolled": true
   },
   "outputs": [
    {
     "data": {
      "text/html": [
       "<div>\n",
       "<style scoped>\n",
       "    .dataframe tbody tr th:only-of-type {\n",
       "        vertical-align: middle;\n",
       "    }\n",
       "\n",
       "    .dataframe tbody tr th {\n",
       "        vertical-align: top;\n",
       "    }\n",
       "\n",
       "    .dataframe thead th {\n",
       "        text-align: right;\n",
       "    }\n",
       "</style>\n",
       "<table border=\"1\" class=\"dataframe\">\n",
       "  <thead>\n",
       "    <tr style=\"text-align: right;\">\n",
       "      <th></th>\n",
       "      <th>des_plan</th>\n",
       "      <th>anio_apertura_expediente</th>\n",
       "      <th>abandona</th>\n",
       "      <th>convocatoria_acceso</th>\n",
       "      <th>nota_admision_def</th>\n",
       "      <th>sexo</th>\n",
       "      <th>anio_nacimiento</th>\n",
       "      <th>provincia</th>\n",
       "      <th>municipio</th>\n",
       "      <th>facultad</th>\n",
       "    </tr>\n",
       "  </thead>\n",
       "  <tbody>\n",
       "    <tr>\n",
       "      <th>0</th>\n",
       "      <td>GRADO EN INGENIERÍA CIVIL - CONSTRUCCIONES CIV...</td>\n",
       "      <td>2009-10</td>\n",
       "      <td>N</td>\n",
       "      <td>JUN</td>\n",
       "      <td>7.16</td>\n",
       "      <td>H</td>\n",
       "      <td>1991</td>\n",
       "      <td>CÁCERES</td>\n",
       "      <td>CÁCERES</td>\n",
       "      <td>POLITECNICA</td>\n",
       "    </tr>\n",
       "    <tr>\n",
       "      <th>1</th>\n",
       "      <td>GRADO EN INGENIERÍA CIVIL - CONSTRUCCIONES CIV...</td>\n",
       "      <td>2009-10</td>\n",
       "      <td>S</td>\n",
       "      <td>JUN</td>\n",
       "      <td>6.73</td>\n",
       "      <td>D</td>\n",
       "      <td>1991</td>\n",
       "      <td>BADAJOZ</td>\n",
       "      <td>BADAJOZ</td>\n",
       "      <td>POLITECNICA</td>\n",
       "    </tr>\n",
       "    <tr>\n",
       "      <th>2</th>\n",
       "      <td>GRADO EN INGENIERÍA CIVIL - CONSTRUCCIONES CIV...</td>\n",
       "      <td>2009-10</td>\n",
       "      <td>S</td>\n",
       "      <td>JUN</td>\n",
       "      <td>8.10</td>\n",
       "      <td>H</td>\n",
       "      <td>1988</td>\n",
       "      <td>BADAJOZ</td>\n",
       "      <td>MÉRIDA</td>\n",
       "      <td>POLITECNICA</td>\n",
       "    </tr>\n",
       "    <tr>\n",
       "      <th>3</th>\n",
       "      <td>GRADO EN INGENIERÍA CIVIL - CONSTRUCCIONES CIV...</td>\n",
       "      <td>2009-10</td>\n",
       "      <td>N</td>\n",
       "      <td>JUN</td>\n",
       "      <td>7.17</td>\n",
       "      <td>D</td>\n",
       "      <td>1991</td>\n",
       "      <td>CÁCERES</td>\n",
       "      <td>CORIA</td>\n",
       "      <td>POLITECNICA</td>\n",
       "    </tr>\n",
       "    <tr>\n",
       "      <th>4</th>\n",
       "      <td>GRADO EN INGENIERÍA CIVIL - CONSTRUCCIONES CIV...</td>\n",
       "      <td>2009-10</td>\n",
       "      <td>N</td>\n",
       "      <td>JUN</td>\n",
       "      <td>7.64</td>\n",
       "      <td>D</td>\n",
       "      <td>1991</td>\n",
       "      <td>CÁCERES</td>\n",
       "      <td>ALMOHARÍN</td>\n",
       "      <td>POLITECNICA</td>\n",
       "    </tr>\n",
       "  </tbody>\n",
       "</table>\n",
       "</div>"
      ],
      "text/plain": [
       "                                            des_plan anio_apertura_expediente  \\\n",
       "0  GRADO EN INGENIERÍA CIVIL - CONSTRUCCIONES CIV...                  2009-10   \n",
       "1  GRADO EN INGENIERÍA CIVIL - CONSTRUCCIONES CIV...                  2009-10   \n",
       "2  GRADO EN INGENIERÍA CIVIL - CONSTRUCCIONES CIV...                  2009-10   \n",
       "3  GRADO EN INGENIERÍA CIVIL - CONSTRUCCIONES CIV...                  2009-10   \n",
       "4  GRADO EN INGENIERÍA CIVIL - CONSTRUCCIONES CIV...                  2009-10   \n",
       "\n",
       "  abandona convocatoria_acceso  nota_admision_def sexo  anio_nacimiento  \\\n",
       "0        N                 JUN               7.16    H             1991   \n",
       "1        S                 JUN               6.73    D             1991   \n",
       "2        S                 JUN               8.10    H             1988   \n",
       "3        N                 JUN               7.17    D             1991   \n",
       "4        N                 JUN               7.64    D             1991   \n",
       "\n",
       "  provincia  municipio     facultad  \n",
       "0   CÁCERES    CÁCERES  POLITECNICA  \n",
       "1   BADAJOZ    BADAJOZ  POLITECNICA  \n",
       "2   BADAJOZ     MÉRIDA  POLITECNICA  \n",
       "3   CÁCERES      CORIA  POLITECNICA  \n",
       "4   CÁCERES  ALMOHARÍN  POLITECNICA  "
      ]
     },
     "execution_count": 51,
     "metadata": {},
     "output_type": "execute_result"
    }
   ],
   "source": [
    "analys_record_personal_access.head()"
   ]
  },
  {
   "cell_type": "code",
   "execution_count": 52,
   "id": "3f75512c",
   "metadata": {},
   "outputs": [],
   "source": [
    "analys_record_personal_access_one_hot = pd.get_dummies(data=analys_record_personal_access, columns=analys_record_personal_access.drop(['nota_admision_def','abandona'], axis=1).columns)"
   ]
  },
  {
   "cell_type": "code",
   "execution_count": 53,
   "id": "5e9d81be",
   "metadata": {
    "scrolled": true
   },
   "outputs": [
    {
     "data": {
      "text/plain": [
       "(6406, 630)"
      ]
     },
     "execution_count": 53,
     "metadata": {},
     "output_type": "execute_result"
    }
   ],
   "source": [
    "analys_record_personal_access_one_hot.shape"
   ]
  },
  {
   "cell_type": "code",
   "execution_count": 54,
   "id": "44679d02",
   "metadata": {
    "scrolled": false
   },
   "outputs": [
    {
     "data": {
      "text/html": [
       "<div>\n",
       "<style scoped>\n",
       "    .dataframe tbody tr th:only-of-type {\n",
       "        vertical-align: middle;\n",
       "    }\n",
       "\n",
       "    .dataframe tbody tr th {\n",
       "        vertical-align: top;\n",
       "    }\n",
       "\n",
       "    .dataframe thead th {\n",
       "        text-align: right;\n",
       "    }\n",
       "</style>\n",
       "<table border=\"1\" class=\"dataframe\">\n",
       "  <thead>\n",
       "    <tr style=\"text-align: right;\">\n",
       "      <th></th>\n",
       "      <th>abandona</th>\n",
       "      <th>nota_admision_def</th>\n",
       "      <th>des_plan_GRADO EN EDIFICACIÓN</th>\n",
       "      <th>des_plan_GRADO EN EDUCACIÓN INFANTIL (CÁCERES)</th>\n",
       "      <th>des_plan_GRADO EN EDUCACIÓN PRIMARIA (CÁCERES)</th>\n",
       "      <th>des_plan_GRADO EN EDUCACIÓN PRIMARIA. Modalidad Bilingüe (Español-Inglés)</th>\n",
       "      <th>des_plan_GRADO EN EDUCACIÓN SOCIAL</th>\n",
       "      <th>des_plan_GRADO EN INGENIERÍA CIVIL - CONSTRUCCIONES CIVILES</th>\n",
       "      <th>des_plan_GRADO EN INGENIERÍA CIVIL - HIDROLOGÍA</th>\n",
       "      <th>des_plan_GRADO EN INGENIERÍA CIVIL - TRANSPORTES Y SERVICIOS URBANOS</th>\n",
       "      <th>...</th>\n",
       "      <th>municipio_ZARZA DE GRANADILLA</th>\n",
       "      <th>municipio_ZARZA DE MONTÁNCHEZ</th>\n",
       "      <th>municipio_ZARZA LA MAYOR</th>\n",
       "      <th>municipio_ZORITA</th>\n",
       "      <th>municipio_ZUMAIA</th>\n",
       "      <th>municipio_ZUMARRAGA</th>\n",
       "      <th>municipio_ÁVILA</th>\n",
       "      <th>municipio_ÉCIJA</th>\n",
       "      <th>facultad_POLITECNICA</th>\n",
       "      <th>facultad_PROFESORADO</th>\n",
       "    </tr>\n",
       "  </thead>\n",
       "  <tbody>\n",
       "    <tr>\n",
       "      <th>0</th>\n",
       "      <td>N</td>\n",
       "      <td>7.16</td>\n",
       "      <td>0</td>\n",
       "      <td>0</td>\n",
       "      <td>0</td>\n",
       "      <td>0</td>\n",
       "      <td>0</td>\n",
       "      <td>1</td>\n",
       "      <td>0</td>\n",
       "      <td>0</td>\n",
       "      <td>...</td>\n",
       "      <td>0</td>\n",
       "      <td>0</td>\n",
       "      <td>0</td>\n",
       "      <td>0</td>\n",
       "      <td>0</td>\n",
       "      <td>0</td>\n",
       "      <td>0</td>\n",
       "      <td>0</td>\n",
       "      <td>1</td>\n",
       "      <td>0</td>\n",
       "    </tr>\n",
       "    <tr>\n",
       "      <th>1</th>\n",
       "      <td>S</td>\n",
       "      <td>6.73</td>\n",
       "      <td>0</td>\n",
       "      <td>0</td>\n",
       "      <td>0</td>\n",
       "      <td>0</td>\n",
       "      <td>0</td>\n",
       "      <td>1</td>\n",
       "      <td>0</td>\n",
       "      <td>0</td>\n",
       "      <td>...</td>\n",
       "      <td>0</td>\n",
       "      <td>0</td>\n",
       "      <td>0</td>\n",
       "      <td>0</td>\n",
       "      <td>0</td>\n",
       "      <td>0</td>\n",
       "      <td>0</td>\n",
       "      <td>0</td>\n",
       "      <td>1</td>\n",
       "      <td>0</td>\n",
       "    </tr>\n",
       "    <tr>\n",
       "      <th>2</th>\n",
       "      <td>S</td>\n",
       "      <td>8.10</td>\n",
       "      <td>0</td>\n",
       "      <td>0</td>\n",
       "      <td>0</td>\n",
       "      <td>0</td>\n",
       "      <td>0</td>\n",
       "      <td>1</td>\n",
       "      <td>0</td>\n",
       "      <td>0</td>\n",
       "      <td>...</td>\n",
       "      <td>0</td>\n",
       "      <td>0</td>\n",
       "      <td>0</td>\n",
       "      <td>0</td>\n",
       "      <td>0</td>\n",
       "      <td>0</td>\n",
       "      <td>0</td>\n",
       "      <td>0</td>\n",
       "      <td>1</td>\n",
       "      <td>0</td>\n",
       "    </tr>\n",
       "    <tr>\n",
       "      <th>3</th>\n",
       "      <td>N</td>\n",
       "      <td>7.17</td>\n",
       "      <td>0</td>\n",
       "      <td>0</td>\n",
       "      <td>0</td>\n",
       "      <td>0</td>\n",
       "      <td>0</td>\n",
       "      <td>1</td>\n",
       "      <td>0</td>\n",
       "      <td>0</td>\n",
       "      <td>...</td>\n",
       "      <td>0</td>\n",
       "      <td>0</td>\n",
       "      <td>0</td>\n",
       "      <td>0</td>\n",
       "      <td>0</td>\n",
       "      <td>0</td>\n",
       "      <td>0</td>\n",
       "      <td>0</td>\n",
       "      <td>1</td>\n",
       "      <td>0</td>\n",
       "    </tr>\n",
       "    <tr>\n",
       "      <th>4</th>\n",
       "      <td>N</td>\n",
       "      <td>7.64</td>\n",
       "      <td>0</td>\n",
       "      <td>0</td>\n",
       "      <td>0</td>\n",
       "      <td>0</td>\n",
       "      <td>0</td>\n",
       "      <td>1</td>\n",
       "      <td>0</td>\n",
       "      <td>0</td>\n",
       "      <td>...</td>\n",
       "      <td>0</td>\n",
       "      <td>0</td>\n",
       "      <td>0</td>\n",
       "      <td>0</td>\n",
       "      <td>0</td>\n",
       "      <td>0</td>\n",
       "      <td>0</td>\n",
       "      <td>0</td>\n",
       "      <td>1</td>\n",
       "      <td>0</td>\n",
       "    </tr>\n",
       "  </tbody>\n",
       "</table>\n",
       "<p>5 rows × 630 columns</p>\n",
       "</div>"
      ],
      "text/plain": [
       "  abandona  nota_admision_def  des_plan_GRADO EN EDIFICACIÓN  \\\n",
       "0        N               7.16                              0   \n",
       "1        S               6.73                              0   \n",
       "2        S               8.10                              0   \n",
       "3        N               7.17                              0   \n",
       "4        N               7.64                              0   \n",
       "\n",
       "   des_plan_GRADO EN EDUCACIÓN INFANTIL (CÁCERES)  \\\n",
       "0                                               0   \n",
       "1                                               0   \n",
       "2                                               0   \n",
       "3                                               0   \n",
       "4                                               0   \n",
       "\n",
       "   des_plan_GRADO EN EDUCACIÓN PRIMARIA (CÁCERES)  \\\n",
       "0                                               0   \n",
       "1                                               0   \n",
       "2                                               0   \n",
       "3                                               0   \n",
       "4                                               0   \n",
       "\n",
       "   des_plan_GRADO EN EDUCACIÓN PRIMARIA. Modalidad Bilingüe (Español-Inglés)  \\\n",
       "0                                                  0                           \n",
       "1                                                  0                           \n",
       "2                                                  0                           \n",
       "3                                                  0                           \n",
       "4                                                  0                           \n",
       "\n",
       "   des_plan_GRADO EN EDUCACIÓN SOCIAL  \\\n",
       "0                                   0   \n",
       "1                                   0   \n",
       "2                                   0   \n",
       "3                                   0   \n",
       "4                                   0   \n",
       "\n",
       "   des_plan_GRADO EN INGENIERÍA CIVIL - CONSTRUCCIONES CIVILES  \\\n",
       "0                                                  1             \n",
       "1                                                  1             \n",
       "2                                                  1             \n",
       "3                                                  1             \n",
       "4                                                  1             \n",
       "\n",
       "   des_plan_GRADO EN INGENIERÍA CIVIL - HIDROLOGÍA  \\\n",
       "0                                                0   \n",
       "1                                                0   \n",
       "2                                                0   \n",
       "3                                                0   \n",
       "4                                                0   \n",
       "\n",
       "   des_plan_GRADO EN INGENIERÍA CIVIL - TRANSPORTES Y SERVICIOS URBANOS  ...  \\\n",
       "0                                                  0                     ...   \n",
       "1                                                  0                     ...   \n",
       "2                                                  0                     ...   \n",
       "3                                                  0                     ...   \n",
       "4                                                  0                     ...   \n",
       "\n",
       "   municipio_ZARZA DE GRANADILLA  municipio_ZARZA DE MONTÁNCHEZ  \\\n",
       "0                              0                              0   \n",
       "1                              0                              0   \n",
       "2                              0                              0   \n",
       "3                              0                              0   \n",
       "4                              0                              0   \n",
       "\n",
       "   municipio_ZARZA LA MAYOR  municipio_ZORITA  municipio_ZUMAIA  \\\n",
       "0                         0                 0                 0   \n",
       "1                         0                 0                 0   \n",
       "2                         0                 0                 0   \n",
       "3                         0                 0                 0   \n",
       "4                         0                 0                 0   \n",
       "\n",
       "   municipio_ZUMARRAGA  municipio_ÁVILA  municipio_ÉCIJA  \\\n",
       "0                    0                0                0   \n",
       "1                    0                0                0   \n",
       "2                    0                0                0   \n",
       "3                    0                0                0   \n",
       "4                    0                0                0   \n",
       "\n",
       "   facultad_POLITECNICA  facultad_PROFESORADO  \n",
       "0                     1                     0  \n",
       "1                     1                     0  \n",
       "2                     1                     0  \n",
       "3                     1                     0  \n",
       "4                     1                     0  \n",
       "\n",
       "[5 rows x 630 columns]"
      ]
     },
     "execution_count": 54,
     "metadata": {},
     "output_type": "execute_result"
    }
   ],
   "source": [
    "analys_record_personal_access_one_hot.head()"
   ]
  },
  {
   "cell_type": "code",
   "execution_count": 55,
   "id": "6ec5c120",
   "metadata": {
    "scrolled": true
   },
   "outputs": [
    {
     "data": {
      "text/plain": [
       "N    4680\n",
       "S    1726\n",
       "Name: abandona, dtype: int64"
      ]
     },
     "execution_count": 55,
     "metadata": {},
     "output_type": "execute_result"
    }
   ],
   "source": [
    "analys_record_personal_access_one_hot['abandona'].value_counts()"
   ]
  },
  {
   "cell_type": "code",
   "execution_count": 56,
   "id": "8ced8ecb",
   "metadata": {},
   "outputs": [],
   "source": [
    "analys_record_personal_access_one_hot['abandona'] = analys_record_personal_access_one_hot['abandona'].apply(lambda func: 1 if func=='S' else 0)"
   ]
  },
  {
   "cell_type": "code",
   "execution_count": 57,
   "id": "279a45c2",
   "metadata": {},
   "outputs": [
    {
     "data": {
      "text/plain": [
       "0    4680\n",
       "1    1726\n",
       "Name: abandona, dtype: int64"
      ]
     },
     "execution_count": 57,
     "metadata": {},
     "output_type": "execute_result"
    }
   ],
   "source": [
    "analys_record_personal_access_one_hot['abandona'].value_counts()"
   ]
  },
  {
   "cell_type": "code",
   "execution_count": 58,
   "id": "45ac0a81",
   "metadata": {},
   "outputs": [],
   "source": [
    "from sklearn.utils import resample\n"
   ]
  },
  {
   "cell_type": "code",
   "execution_count": 59,
   "id": "b4e89fdf",
   "metadata": {},
   "outputs": [],
   "source": [
    "# Separate majority and minority classes\n",
    "df_majority = analys_record_personal_access_one_hot[analys_record_personal_access_one_hot.abandona==0]\n",
    "df_minority = analys_record_personal_access_one_hot[analys_record_personal_access_one_hot.abandona==1]\n",
    " \n",
    "# Downsample majority class\n",
    "df_majority_downsampled = resample(df_majority, \n",
    "                                 replace=False,    # sample without replacement\n",
    "                                 n_samples=1726,     # to match minority class\n",
    "                                 random_state=123) # reproducible results\n",
    " \n",
    "# Combine minority class with downsampled majority class\n",
    "df_downsampled = pd.concat([df_majority_downsampled, df_minority])"
   ]
  },
  {
   "cell_type": "code",
   "execution_count": 60,
   "id": "09b53c57",
   "metadata": {},
   "outputs": [
    {
     "data": {
      "text/plain": [
       "(3452, 630)"
      ]
     },
     "execution_count": 60,
     "metadata": {},
     "output_type": "execute_result"
    }
   ],
   "source": [
    "df_downsampled.shape"
   ]
  },
  {
   "cell_type": "code",
   "execution_count": 61,
   "id": "f9c02455",
   "metadata": {},
   "outputs": [
    {
     "data": {
      "text/plain": [
       "0    1726\n",
       "1    1726\n",
       "Name: abandona, dtype: int64"
      ]
     },
     "execution_count": 61,
     "metadata": {},
     "output_type": "execute_result"
    }
   ],
   "source": [
    "df_downsampled.abandona.value_counts()"
   ]
  },
  {
   "cell_type": "code",
   "execution_count": 62,
   "id": "7b081a26",
   "metadata": {},
   "outputs": [],
   "source": [
    "analys_record_personal_access_one_hot_modified = df_downsampled"
   ]
  },
  {
   "cell_type": "code",
   "execution_count": 63,
   "id": "509eb03c",
   "metadata": {},
   "outputs": [],
   "source": [
    "X = analys_record_personal_access_one_hot_modified.drop(['abandona'], axis=1)\n",
    "y = analys_record_personal_access_one_hot_modified['abandona']"
   ]
  },
  {
   "cell_type": "code",
   "execution_count": 64,
   "id": "7eeddaef",
   "metadata": {},
   "outputs": [],
   "source": [
    "from sklearn.model_selection import train_test_split, cross_val_score"
   ]
  },
  {
   "cell_type": "code",
   "execution_count": 65,
   "id": "4e6b2148",
   "metadata": {},
   "outputs": [],
   "source": [
    "import sklearn.metrics as sklm"
   ]
  },
  {
   "cell_type": "code",
   "execution_count": 66,
   "id": "b63e2c26",
   "metadata": {},
   "outputs": [],
   "source": [
    "X_train, X_test, y_train, y_test = train_test_split(\n",
    "    X, y, test_size=0.25, random_state=24)"
   ]
  },
  {
   "cell_type": "code",
   "execution_count": 67,
   "id": "75d903b1",
   "metadata": {},
   "outputs": [],
   "source": [
    "from sklearn.linear_model import LogisticRegression"
   ]
  },
  {
   "cell_type": "code",
   "execution_count": 68,
   "id": "308ef336",
   "metadata": {
    "scrolled": true
   },
   "outputs": [
    {
     "name": "stderr",
     "output_type": "stream",
     "text": [
      "/home/fran/.local/lib/python3.8/site-packages/sklearn/linear_model/_logistic.py:762: ConvergenceWarning:\n",
      "\n",
      "lbfgs failed to converge (status=1):\n",
      "STOP: TOTAL NO. of ITERATIONS REACHED LIMIT.\n",
      "\n",
      "Increase the number of iterations (max_iter) or scale the data as shown in:\n",
      "    https://scikit-learn.org/stable/modules/preprocessing.html\n",
      "Please also refer to the documentation for alternative solver options:\n",
      "    https://scikit-learn.org/stable/modules/linear_model.html#logistic-regression\n",
      "\n"
     ]
    }
   ],
   "source": [
    "clf = LogisticRegression(random_state=0).fit(X_train, y_train)"
   ]
  },
  {
   "cell_type": "code",
   "execution_count": 69,
   "id": "26baa03e",
   "metadata": {},
   "outputs": [],
   "source": [
    "def print_cv_results (cv_estimate):\n",
    "    print('Mean performance metric = %4.3f' % np.mean(cv_estimate))\n",
    "    print('SDT of the metric       = %4.3f' % np.std(cv_estimate))\n",
    "    print('Outcomes by cv fold')\n",
    "    for i, x in enumerate(cv_estimate):\n",
    "        print('Fold %2d    %4.3f' % (i+1, x))"
   ]
  },
  {
   "cell_type": "code",
   "execution_count": 70,
   "id": "9dce8f82",
   "metadata": {
    "scrolled": true
   },
   "outputs": [
    {
     "data": {
      "text/plain": [
       "0.7485515643105446"
      ]
     },
     "execution_count": 70,
     "metadata": {},
     "output_type": "execute_result"
    }
   ],
   "source": [
    "y_pred = clf.predict(X_test)\n",
    "sklm.accuracy_score(y_true=y_test, y_pred=y_pred)"
   ]
  },
  {
   "cell_type": "code",
   "execution_count": 71,
   "id": "f819fe2f",
   "metadata": {
    "scrolled": true
   },
   "outputs": [
    {
     "data": {
      "text/plain": [
       "array([[322, 113],\n",
       "       [104, 324]])"
      ]
     },
     "execution_count": 71,
     "metadata": {},
     "output_type": "execute_result"
    }
   ],
   "source": [
    "sklm.confusion_matrix(y_test, y_pred)"
   ]
  },
  {
   "cell_type": "code",
   "execution_count": 72,
   "id": "e9df0b24",
   "metadata": {},
   "outputs": [],
   "source": [
    "tn, fp, fn, tp = sklm.confusion_matrix(y_test, y_pred).ravel()"
   ]
  },
  {
   "cell_type": "code",
   "execution_count": 73,
   "id": "b9b0fc17",
   "metadata": {
    "scrolled": true
   },
   "outputs": [
    {
     "data": {
      "text/plain": [
       "0.7570093457943925"
      ]
     },
     "execution_count": 73,
     "metadata": {},
     "output_type": "execute_result"
    }
   ],
   "source": [
    "sklm.recall_score(y_test, y_pred)"
   ]
  },
  {
   "cell_type": "code",
   "execution_count": 74,
   "id": "f2a25915",
   "metadata": {
    "scrolled": true
   },
   "outputs": [
    {
     "data": {
      "text/plain": [
       "0.7402298850574712"
      ]
     },
     "execution_count": 74,
     "metadata": {},
     "output_type": "execute_result"
    }
   ],
   "source": [
    "tn/(tn+fp)"
   ]
  },
  {
   "cell_type": "markdown",
   "id": "69a5afed",
   "metadata": {},
   "source": [
    "Esta es la medida que tenemos que tratar de que sea la más alta, porque es preferible predecir un abandono como positivo para prevenirlo, y que luego realmente esa persona no vaya a abandonar, a que se nos escape un abandono.\n",
    "\n",
    "El hecho de hacer que esta medida aumente, hará que el modelo predizca en más ocasiones un positivo en casos que no lo son, pero es preferible eso y que al modelo se le escapen los número de casos positivos menores posibles, a tratar de balancear los dos lados y que se nos escapen casos positivos.\n",
    "\n",
    "Cuantos menos casos positivos se nos escapen, mejor, es preferible predecir un falso positivo que no un falso negativo"
   ]
  },
  {
   "cell_type": "markdown",
   "id": "54ddb567",
   "metadata": {},
   "source": [
    "### Probamos con cv\n"
   ]
  },
  {
   "cell_type": "code",
   "execution_count": 75,
   "id": "d4d5340e",
   "metadata": {
    "scrolled": true
   },
   "outputs": [
    {
     "name": "stderr",
     "output_type": "stream",
     "text": [
      "/home/fran/.local/lib/python3.8/site-packages/sklearn/linear_model/_logistic.py:762: ConvergenceWarning:\n",
      "\n",
      "lbfgs failed to converge (status=1):\n",
      "STOP: TOTAL NO. of ITERATIONS REACHED LIMIT.\n",
      "\n",
      "Increase the number of iterations (max_iter) or scale the data as shown in:\n",
      "    https://scikit-learn.org/stable/modules/preprocessing.html\n",
      "Please also refer to the documentation for alternative solver options:\n",
      "    https://scikit-learn.org/stable/modules/linear_model.html#logistic-regression\n",
      "\n",
      "/home/fran/.local/lib/python3.8/site-packages/sklearn/linear_model/_logistic.py:762: ConvergenceWarning:\n",
      "\n",
      "lbfgs failed to converge (status=1):\n",
      "STOP: TOTAL NO. of ITERATIONS REACHED LIMIT.\n",
      "\n",
      "Increase the number of iterations (max_iter) or scale the data as shown in:\n",
      "    https://scikit-learn.org/stable/modules/preprocessing.html\n",
      "Please also refer to the documentation for alternative solver options:\n",
      "    https://scikit-learn.org/stable/modules/linear_model.html#logistic-regression\n",
      "\n",
      "/home/fran/.local/lib/python3.8/site-packages/sklearn/linear_model/_logistic.py:762: ConvergenceWarning:\n",
      "\n",
      "lbfgs failed to converge (status=1):\n",
      "STOP: TOTAL NO. of ITERATIONS REACHED LIMIT.\n",
      "\n",
      "Increase the number of iterations (max_iter) or scale the data as shown in:\n",
      "    https://scikit-learn.org/stable/modules/preprocessing.html\n",
      "Please also refer to the documentation for alternative solver options:\n",
      "    https://scikit-learn.org/stable/modules/linear_model.html#logistic-regression\n",
      "\n"
     ]
    },
    {
     "name": "stdout",
     "output_type": "stream",
     "text": [
      "Mean performance metric = 0.764\n",
      "SDT of the metric       = 0.023\n",
      "Outcomes by cv fold\n",
      "Fold  1    0.774\n",
      "Fold  2    0.782\n",
      "Fold  3    0.724\n",
      "Fold  4    0.786\n",
      "Fold  5    0.756\n"
     ]
    },
    {
     "name": "stderr",
     "output_type": "stream",
     "text": [
      "/home/fran/.local/lib/python3.8/site-packages/sklearn/linear_model/_logistic.py:762: ConvergenceWarning:\n",
      "\n",
      "lbfgs failed to converge (status=1):\n",
      "STOP: TOTAL NO. of ITERATIONS REACHED LIMIT.\n",
      "\n",
      "Increase the number of iterations (max_iter) or scale the data as shown in:\n",
      "    https://scikit-learn.org/stable/modules/preprocessing.html\n",
      "Please also refer to the documentation for alternative solver options:\n",
      "    https://scikit-learn.org/stable/modules/linear_model.html#logistic-regression\n",
      "\n",
      "/home/fran/.local/lib/python3.8/site-packages/sklearn/linear_model/_logistic.py:762: ConvergenceWarning:\n",
      "\n",
      "lbfgs failed to converge (status=1):\n",
      "STOP: TOTAL NO. of ITERATIONS REACHED LIMIT.\n",
      "\n",
      "Increase the number of iterations (max_iter) or scale the data as shown in:\n",
      "    https://scikit-learn.org/stable/modules/preprocessing.html\n",
      "Please also refer to the documentation for alternative solver options:\n",
      "    https://scikit-learn.org/stable/modules/linear_model.html#logistic-regression\n",
      "\n"
     ]
    }
   ],
   "source": [
    "print_cv_results (cross_val_score(clf, X_train, y_train))"
   ]
  },
  {
   "cell_type": "markdown",
   "id": "9e85c56f",
   "metadata": {},
   "source": [
    "### Probamos con el cjto de datos completo"
   ]
  },
  {
   "cell_type": "code",
   "execution_count": 76,
   "id": "8e475dcc",
   "metadata": {},
   "outputs": [],
   "source": [
    "X_test = analys_record_personal_access_one_hot.drop(['abandona'], axis=1)\n",
    "y_test = analys_record_personal_access_one_hot['abandona']"
   ]
  },
  {
   "cell_type": "code",
   "execution_count": 77,
   "id": "056c82cb",
   "metadata": {},
   "outputs": [
    {
     "data": {
      "text/plain": [
       "0.7706837339993756"
      ]
     },
     "execution_count": 77,
     "metadata": {},
     "output_type": "execute_result"
    }
   ],
   "source": [
    "y_pred = clf.predict(X_test)\n",
    "sklm.accuracy_score(y_true=y_test, y_pred=y_pred)"
   ]
  },
  {
   "cell_type": "code",
   "execution_count": 78,
   "id": "fb4870ac",
   "metadata": {
    "scrolled": true
   },
   "outputs": [
    {
     "data": {
      "text/plain": [
       "array([[3544, 1136],\n",
       "       [ 333, 1393]])"
      ]
     },
     "execution_count": 78,
     "metadata": {},
     "output_type": "execute_result"
    }
   ],
   "source": [
    "sklm.confusion_matrix(y_test, y_pred)"
   ]
  },
  {
   "cell_type": "code",
   "execution_count": 79,
   "id": "dc823382",
   "metadata": {},
   "outputs": [
    {
     "data": {
      "text/plain": [
       "0.8070683661645423"
      ]
     },
     "execution_count": 79,
     "metadata": {},
     "output_type": "execute_result"
    }
   ],
   "source": [
    "sklm.recall_score(y_test, y_pred)"
   ]
  },
  {
   "cell_type": "code",
   "execution_count": 80,
   "id": "fc804a1e",
   "metadata": {},
   "outputs": [
    {
     "data": {
      "text/plain": [
       "0.2597701149425287"
      ]
     },
     "execution_count": 80,
     "metadata": {},
     "output_type": "execute_result"
    }
   ],
   "source": [
    "fp/(tn+fp)"
   ]
  },
  {
   "cell_type": "markdown",
   "id": "0195baa8",
   "metadata": {},
   "source": [
    "### Pasamos a ver la importancia de cada variable en el modelo"
   ]
  },
  {
   "cell_type": "code",
   "execution_count": 81,
   "id": "e7463aa0",
   "metadata": {},
   "outputs": [],
   "source": [
    "import time\n",
    "from sklearn.inspection import permutation_importance\n"
   ]
  },
  {
   "cell_type": "code",
   "execution_count": 82,
   "id": "4bcc5a3a",
   "metadata": {},
   "outputs": [],
   "source": [
    "feature_names = X.columns"
   ]
  },
  {
   "cell_type": "code",
   "execution_count": 83,
   "id": "aba31a6a",
   "metadata": {},
   "outputs": [
    {
     "name": "stdout",
     "output_type": "stream",
     "text": [
      "Elapsed time to compute the importances: 10.530 seconds\n"
     ]
    }
   ],
   "source": [
    "start_time = time.time()\n",
    "result = permutation_importance(\n",
    "    clf, X_test, y_test, n_repeats=3, random_state=42, n_jobs=-1)\n",
    "elapsed_time = time.time() - start_time\n",
    "print(f\"Elapsed time to compute the importances: \"\n",
    "      f\"{elapsed_time:.3f} seconds\")\n",
    "\n",
    "logit_importances = pd.Series(result.importances_mean, index=feature_names)"
   ]
  },
  {
   "cell_type": "code",
   "execution_count": 84,
   "id": "60b94b2f",
   "metadata": {},
   "outputs": [],
   "source": [
    "logit_importances = pd.Series(result.importances_mean, index=feature_names)"
   ]
  },
  {
   "cell_type": "code",
   "execution_count": 85,
   "id": "3c2d3cd1",
   "metadata": {},
   "outputs": [],
   "source": [
    "logit_importances = logit_importances[logit_importances > 0.001]"
   ]
  },
  {
   "cell_type": "code",
   "execution_count": 86,
   "id": "2b745672",
   "metadata": {},
   "outputs": [
    {
     "data": {
      "text/plain": [
       "anio_nacimiento_1992                                                      0.001041\n",
       "anio_nacimiento_1999                                                      0.001145\n",
       "anio_apertura_expediente_2010-11                                          0.001145\n",
       "anio_apertura_expediente_2014-15                                          0.001145\n",
       "municipio_VALENCIA DE ALCÁNTARA                                           0.001301\n",
       "sexo_H                                                                    0.001353\n",
       "anio_nacimiento_2000                                                      0.001457\n",
       "des_plan_GRADO EN EDUCACIÓN PRIMARIA (CÁCERES)                            0.001457\n",
       "anio_nacimiento_1998                                                      0.001561\n",
       "anio_apertura_expediente_2012-13                                          0.001977\n",
       "anio_apertura_expediente_2016-17                                          0.002290\n",
       "des_plan_GRADO EN INGENIERÍA CIVIL - HIDROLOGÍA                           0.002290\n",
       "anio_nacimiento_1995                                                      0.002602\n",
       "anio_nacimiento_1996                                                      0.002706\n",
       "anio_nacimiento_1994                                                      0.003434\n",
       "anio_apertura_expediente_2017-18                                          0.003486\n",
       "des_plan_GRADO EN INGENIERÍA INFORMÁTICA EN INGENIERÍA DE COMPUTADORES    0.005308\n",
       "anio_apertura_expediente_2011-12                                          0.005360\n",
       "provincia_CÁCERES                                                         0.005984\n",
       "anio_nacimiento_1997                                                      0.006140\n",
       "facultad_PROFESORADO                                                      0.007129\n",
       "anio_apertura_expediente_2020-21                                          0.008742\n",
       "facultad_POLITECNICA                                                      0.026329\n",
       "nota_admision_def                                                         0.040587\n",
       "dtype: float64"
      ]
     },
     "execution_count": 86,
     "metadata": {},
     "output_type": "execute_result"
    }
   ],
   "source": [
    "logit_importances.sort_values()"
   ]
  },
  {
   "cell_type": "code",
   "execution_count": 87,
   "id": "e63bfe1d",
   "metadata": {},
   "outputs": [],
   "source": [
    "logit_importances=pd.DataFrame({'Feature':logit_importances.sort_values(ascending=False).index,\n",
    "              'Permutation_importance':logit_importances.sort_values(ascending=False)}).reset_index(drop=True)"
   ]
  },
  {
   "cell_type": "code",
   "execution_count": 88,
   "id": "3be30393",
   "metadata": {},
   "outputs": [
    {
     "data": {
      "text/html": [
       "<div>\n",
       "<style scoped>\n",
       "    .dataframe tbody tr th:only-of-type {\n",
       "        vertical-align: middle;\n",
       "    }\n",
       "\n",
       "    .dataframe tbody tr th {\n",
       "        vertical-align: top;\n",
       "    }\n",
       "\n",
       "    .dataframe thead th {\n",
       "        text-align: right;\n",
       "    }\n",
       "</style>\n",
       "<table border=\"1\" class=\"dataframe\">\n",
       "  <thead>\n",
       "    <tr style=\"text-align: right;\">\n",
       "      <th></th>\n",
       "      <th>Feature</th>\n",
       "      <th>Permutation_importance</th>\n",
       "    </tr>\n",
       "  </thead>\n",
       "  <tbody>\n",
       "    <tr>\n",
       "      <th>0</th>\n",
       "      <td>nota_admision_def</td>\n",
       "      <td>0.040587</td>\n",
       "    </tr>\n",
       "    <tr>\n",
       "      <th>1</th>\n",
       "      <td>facultad_POLITECNICA</td>\n",
       "      <td>0.026329</td>\n",
       "    </tr>\n",
       "    <tr>\n",
       "      <th>2</th>\n",
       "      <td>anio_apertura_expediente_2020-21</td>\n",
       "      <td>0.008742</td>\n",
       "    </tr>\n",
       "    <tr>\n",
       "      <th>3</th>\n",
       "      <td>facultad_PROFESORADO</td>\n",
       "      <td>0.007129</td>\n",
       "    </tr>\n",
       "    <tr>\n",
       "      <th>4</th>\n",
       "      <td>anio_nacimiento_1997</td>\n",
       "      <td>0.006140</td>\n",
       "    </tr>\n",
       "    <tr>\n",
       "      <th>5</th>\n",
       "      <td>provincia_CÁCERES</td>\n",
       "      <td>0.005984</td>\n",
       "    </tr>\n",
       "    <tr>\n",
       "      <th>6</th>\n",
       "      <td>anio_apertura_expediente_2011-12</td>\n",
       "      <td>0.005360</td>\n",
       "    </tr>\n",
       "    <tr>\n",
       "      <th>7</th>\n",
       "      <td>des_plan_GRADO EN INGENIERÍA INFORMÁTICA EN IN...</td>\n",
       "      <td>0.005308</td>\n",
       "    </tr>\n",
       "    <tr>\n",
       "      <th>8</th>\n",
       "      <td>anio_apertura_expediente_2017-18</td>\n",
       "      <td>0.003486</td>\n",
       "    </tr>\n",
       "    <tr>\n",
       "      <th>9</th>\n",
       "      <td>anio_nacimiento_1994</td>\n",
       "      <td>0.003434</td>\n",
       "    </tr>\n",
       "    <tr>\n",
       "      <th>10</th>\n",
       "      <td>anio_nacimiento_1996</td>\n",
       "      <td>0.002706</td>\n",
       "    </tr>\n",
       "    <tr>\n",
       "      <th>11</th>\n",
       "      <td>anio_nacimiento_1995</td>\n",
       "      <td>0.002602</td>\n",
       "    </tr>\n",
       "    <tr>\n",
       "      <th>12</th>\n",
       "      <td>des_plan_GRADO EN INGENIERÍA CIVIL - HIDROLOGÍA</td>\n",
       "      <td>0.002290</td>\n",
       "    </tr>\n",
       "    <tr>\n",
       "      <th>13</th>\n",
       "      <td>anio_apertura_expediente_2016-17</td>\n",
       "      <td>0.002290</td>\n",
       "    </tr>\n",
       "    <tr>\n",
       "      <th>14</th>\n",
       "      <td>anio_apertura_expediente_2012-13</td>\n",
       "      <td>0.001977</td>\n",
       "    </tr>\n",
       "    <tr>\n",
       "      <th>15</th>\n",
       "      <td>anio_nacimiento_1998</td>\n",
       "      <td>0.001561</td>\n",
       "    </tr>\n",
       "    <tr>\n",
       "      <th>16</th>\n",
       "      <td>des_plan_GRADO EN EDUCACIÓN PRIMARIA (CÁCERES)</td>\n",
       "      <td>0.001457</td>\n",
       "    </tr>\n",
       "    <tr>\n",
       "      <th>17</th>\n",
       "      <td>anio_nacimiento_2000</td>\n",
       "      <td>0.001457</td>\n",
       "    </tr>\n",
       "    <tr>\n",
       "      <th>18</th>\n",
       "      <td>sexo_H</td>\n",
       "      <td>0.001353</td>\n",
       "    </tr>\n",
       "    <tr>\n",
       "      <th>19</th>\n",
       "      <td>municipio_VALENCIA DE ALCÁNTARA</td>\n",
       "      <td>0.001301</td>\n",
       "    </tr>\n",
       "    <tr>\n",
       "      <th>20</th>\n",
       "      <td>anio_apertura_expediente_2010-11</td>\n",
       "      <td>0.001145</td>\n",
       "    </tr>\n",
       "    <tr>\n",
       "      <th>21</th>\n",
       "      <td>anio_nacimiento_1999</td>\n",
       "      <td>0.001145</td>\n",
       "    </tr>\n",
       "    <tr>\n",
       "      <th>22</th>\n",
       "      <td>anio_apertura_expediente_2014-15</td>\n",
       "      <td>0.001145</td>\n",
       "    </tr>\n",
       "    <tr>\n",
       "      <th>23</th>\n",
       "      <td>anio_nacimiento_1992</td>\n",
       "      <td>0.001041</td>\n",
       "    </tr>\n",
       "  </tbody>\n",
       "</table>\n",
       "</div>"
      ],
      "text/plain": [
       "                                              Feature  Permutation_importance\n",
       "0                                   nota_admision_def                0.040587\n",
       "1                                facultad_POLITECNICA                0.026329\n",
       "2                    anio_apertura_expediente_2020-21                0.008742\n",
       "3                                facultad_PROFESORADO                0.007129\n",
       "4                                anio_nacimiento_1997                0.006140\n",
       "5                                   provincia_CÁCERES                0.005984\n",
       "6                    anio_apertura_expediente_2011-12                0.005360\n",
       "7   des_plan_GRADO EN INGENIERÍA INFORMÁTICA EN IN...                0.005308\n",
       "8                    anio_apertura_expediente_2017-18                0.003486\n",
       "9                                anio_nacimiento_1994                0.003434\n",
       "10                               anio_nacimiento_1996                0.002706\n",
       "11                               anio_nacimiento_1995                0.002602\n",
       "12    des_plan_GRADO EN INGENIERÍA CIVIL - HIDROLOGÍA                0.002290\n",
       "13                   anio_apertura_expediente_2016-17                0.002290\n",
       "14                   anio_apertura_expediente_2012-13                0.001977\n",
       "15                               anio_nacimiento_1998                0.001561\n",
       "16     des_plan_GRADO EN EDUCACIÓN PRIMARIA (CÁCERES)                0.001457\n",
       "17                               anio_nacimiento_2000                0.001457\n",
       "18                                             sexo_H                0.001353\n",
       "19                    municipio_VALENCIA DE ALCÁNTARA                0.001301\n",
       "20                   anio_apertura_expediente_2010-11                0.001145\n",
       "21                               anio_nacimiento_1999                0.001145\n",
       "22                   anio_apertura_expediente_2014-15                0.001145\n",
       "23                               anio_nacimiento_1992                0.001041"
      ]
     },
     "execution_count": 88,
     "metadata": {},
     "output_type": "execute_result"
    }
   ],
   "source": [
    "logit_importances"
   ]
  },
  {
   "cell_type": "code",
   "execution_count": 90,
   "id": "01d685fd",
   "metadata": {},
   "outputs": [],
   "source": [
    "import plotly.express as px\n"
   ]
  },
  {
   "cell_type": "code",
   "execution_count": 92,
   "id": "759a6f5f",
   "metadata": {
    "scrolled": true
   },
   "outputs": [
    {
     "data": {
      "application/vnd.plotly.v1+json": {
       "config": {
        "plotlyServerURL": "https://plot.ly"
       },
       "data": [
        {
         "alignmentgroup": "True",
         "hovertemplate": "Feature=%{x}<br>Permutation_importance=%{y}<extra></extra>",
         "legendgroup": "",
         "marker": {
          "color": "#636efa"
         },
         "name": "",
         "offsetgroup": "",
         "orientation": "v",
         "showlegend": false,
         "textposition": "auto",
         "type": "bar",
         "x": [
          "nota_admision_def",
          "facultad_POLITECNICA",
          "anio_apertura_expediente_2020-21",
          "facultad_PROFESORADO",
          "anio_nacimiento_1997",
          "provincia_CÁCERES",
          "anio_apertura_expediente_2011-12",
          "des_plan_GRADO EN INGENIERÍA INFORMÁTICA EN INGENIERÍA DE COMPUTADORES",
          "anio_apertura_expediente_2017-18",
          "anio_nacimiento_1994",
          "anio_nacimiento_1996",
          "anio_nacimiento_1995",
          "des_plan_GRADO EN INGENIERÍA CIVIL - HIDROLOGÍA",
          "anio_apertura_expediente_2016-17",
          "anio_apertura_expediente_2012-13",
          "anio_nacimiento_1998",
          "des_plan_GRADO EN EDUCACIÓN PRIMARIA (CÁCERES)",
          "anio_nacimiento_2000",
          "sexo_H",
          "municipio_VALENCIA DE ALCÁNTARA",
          "anio_apertura_expediente_2010-11",
          "anio_nacimiento_1999",
          "anio_apertura_expediente_2014-15",
          "anio_nacimiento_1992"
         ],
         "xaxis": "x",
         "y": [
          0.04058694973462381,
          0.026329482776563662,
          0.008741804558226707,
          0.007128733479030092,
          0.006140077011135429,
          0.00598397335830995,
          0.005359558747008071,
          0.0053075241960662085,
          0.003486314913102362,
          0.0034342803621605356,
          0.0027057966489749674,
          0.002601727547091315,
          0.002289520241440357,
          0.002289520241440357,
          0.0019773129357893993,
          0.0015610365282547889,
          0.0014569674263711734,
          0.0014569674263711363,
          0.0013528983244874837,
          0.0013008637735456574,
          0.0011447601207201785,
          0.0011447601207201785,
          0.0011447601207201785,
          0.001040691018836526
         ],
         "yaxis": "y"
        }
       ],
       "layout": {
        "barmode": "relative",
        "legend": {
         "tracegroupgap": 0
        },
        "margin": {
         "t": 60
        },
        "template": {
         "data": {
          "bar": [
           {
            "error_x": {
             "color": "#2a3f5f"
            },
            "error_y": {
             "color": "#2a3f5f"
            },
            "marker": {
             "line": {
              "color": "#E5ECF6",
              "width": 0.5
             }
            },
            "type": "bar"
           }
          ],
          "barpolar": [
           {
            "marker": {
             "line": {
              "color": "#E5ECF6",
              "width": 0.5
             }
            },
            "type": "barpolar"
           }
          ],
          "carpet": [
           {
            "aaxis": {
             "endlinecolor": "#2a3f5f",
             "gridcolor": "white",
             "linecolor": "white",
             "minorgridcolor": "white",
             "startlinecolor": "#2a3f5f"
            },
            "baxis": {
             "endlinecolor": "#2a3f5f",
             "gridcolor": "white",
             "linecolor": "white",
             "minorgridcolor": "white",
             "startlinecolor": "#2a3f5f"
            },
            "type": "carpet"
           }
          ],
          "choropleth": [
           {
            "colorbar": {
             "outlinewidth": 0,
             "ticks": ""
            },
            "type": "choropleth"
           }
          ],
          "contour": [
           {
            "colorbar": {
             "outlinewidth": 0,
             "ticks": ""
            },
            "colorscale": [
             [
              0,
              "#0d0887"
             ],
             [
              0.1111111111111111,
              "#46039f"
             ],
             [
              0.2222222222222222,
              "#7201a8"
             ],
             [
              0.3333333333333333,
              "#9c179e"
             ],
             [
              0.4444444444444444,
              "#bd3786"
             ],
             [
              0.5555555555555556,
              "#d8576b"
             ],
             [
              0.6666666666666666,
              "#ed7953"
             ],
             [
              0.7777777777777778,
              "#fb9f3a"
             ],
             [
              0.8888888888888888,
              "#fdca26"
             ],
             [
              1,
              "#f0f921"
             ]
            ],
            "type": "contour"
           }
          ],
          "contourcarpet": [
           {
            "colorbar": {
             "outlinewidth": 0,
             "ticks": ""
            },
            "type": "contourcarpet"
           }
          ],
          "heatmap": [
           {
            "colorbar": {
             "outlinewidth": 0,
             "ticks": ""
            },
            "colorscale": [
             [
              0,
              "#0d0887"
             ],
             [
              0.1111111111111111,
              "#46039f"
             ],
             [
              0.2222222222222222,
              "#7201a8"
             ],
             [
              0.3333333333333333,
              "#9c179e"
             ],
             [
              0.4444444444444444,
              "#bd3786"
             ],
             [
              0.5555555555555556,
              "#d8576b"
             ],
             [
              0.6666666666666666,
              "#ed7953"
             ],
             [
              0.7777777777777778,
              "#fb9f3a"
             ],
             [
              0.8888888888888888,
              "#fdca26"
             ],
             [
              1,
              "#f0f921"
             ]
            ],
            "type": "heatmap"
           }
          ],
          "heatmapgl": [
           {
            "colorbar": {
             "outlinewidth": 0,
             "ticks": ""
            },
            "colorscale": [
             [
              0,
              "#0d0887"
             ],
             [
              0.1111111111111111,
              "#46039f"
             ],
             [
              0.2222222222222222,
              "#7201a8"
             ],
             [
              0.3333333333333333,
              "#9c179e"
             ],
             [
              0.4444444444444444,
              "#bd3786"
             ],
             [
              0.5555555555555556,
              "#d8576b"
             ],
             [
              0.6666666666666666,
              "#ed7953"
             ],
             [
              0.7777777777777778,
              "#fb9f3a"
             ],
             [
              0.8888888888888888,
              "#fdca26"
             ],
             [
              1,
              "#f0f921"
             ]
            ],
            "type": "heatmapgl"
           }
          ],
          "histogram": [
           {
            "marker": {
             "colorbar": {
              "outlinewidth": 0,
              "ticks": ""
             }
            },
            "type": "histogram"
           }
          ],
          "histogram2d": [
           {
            "colorbar": {
             "outlinewidth": 0,
             "ticks": ""
            },
            "colorscale": [
             [
              0,
              "#0d0887"
             ],
             [
              0.1111111111111111,
              "#46039f"
             ],
             [
              0.2222222222222222,
              "#7201a8"
             ],
             [
              0.3333333333333333,
              "#9c179e"
             ],
             [
              0.4444444444444444,
              "#bd3786"
             ],
             [
              0.5555555555555556,
              "#d8576b"
             ],
             [
              0.6666666666666666,
              "#ed7953"
             ],
             [
              0.7777777777777778,
              "#fb9f3a"
             ],
             [
              0.8888888888888888,
              "#fdca26"
             ],
             [
              1,
              "#f0f921"
             ]
            ],
            "type": "histogram2d"
           }
          ],
          "histogram2dcontour": [
           {
            "colorbar": {
             "outlinewidth": 0,
             "ticks": ""
            },
            "colorscale": [
             [
              0,
              "#0d0887"
             ],
             [
              0.1111111111111111,
              "#46039f"
             ],
             [
              0.2222222222222222,
              "#7201a8"
             ],
             [
              0.3333333333333333,
              "#9c179e"
             ],
             [
              0.4444444444444444,
              "#bd3786"
             ],
             [
              0.5555555555555556,
              "#d8576b"
             ],
             [
              0.6666666666666666,
              "#ed7953"
             ],
             [
              0.7777777777777778,
              "#fb9f3a"
             ],
             [
              0.8888888888888888,
              "#fdca26"
             ],
             [
              1,
              "#f0f921"
             ]
            ],
            "type": "histogram2dcontour"
           }
          ],
          "mesh3d": [
           {
            "colorbar": {
             "outlinewidth": 0,
             "ticks": ""
            },
            "type": "mesh3d"
           }
          ],
          "parcoords": [
           {
            "line": {
             "colorbar": {
              "outlinewidth": 0,
              "ticks": ""
             }
            },
            "type": "parcoords"
           }
          ],
          "pie": [
           {
            "automargin": true,
            "type": "pie"
           }
          ],
          "scatter": [
           {
            "marker": {
             "colorbar": {
              "outlinewidth": 0,
              "ticks": ""
             }
            },
            "type": "scatter"
           }
          ],
          "scatter3d": [
           {
            "line": {
             "colorbar": {
              "outlinewidth": 0,
              "ticks": ""
             }
            },
            "marker": {
             "colorbar": {
              "outlinewidth": 0,
              "ticks": ""
             }
            },
            "type": "scatter3d"
           }
          ],
          "scattercarpet": [
           {
            "marker": {
             "colorbar": {
              "outlinewidth": 0,
              "ticks": ""
             }
            },
            "type": "scattercarpet"
           }
          ],
          "scattergeo": [
           {
            "marker": {
             "colorbar": {
              "outlinewidth": 0,
              "ticks": ""
             }
            },
            "type": "scattergeo"
           }
          ],
          "scattergl": [
           {
            "marker": {
             "colorbar": {
              "outlinewidth": 0,
              "ticks": ""
             }
            },
            "type": "scattergl"
           }
          ],
          "scattermapbox": [
           {
            "marker": {
             "colorbar": {
              "outlinewidth": 0,
              "ticks": ""
             }
            },
            "type": "scattermapbox"
           }
          ],
          "scatterpolar": [
           {
            "marker": {
             "colorbar": {
              "outlinewidth": 0,
              "ticks": ""
             }
            },
            "type": "scatterpolar"
           }
          ],
          "scatterpolargl": [
           {
            "marker": {
             "colorbar": {
              "outlinewidth": 0,
              "ticks": ""
             }
            },
            "type": "scatterpolargl"
           }
          ],
          "scatterternary": [
           {
            "marker": {
             "colorbar": {
              "outlinewidth": 0,
              "ticks": ""
             }
            },
            "type": "scatterternary"
           }
          ],
          "surface": [
           {
            "colorbar": {
             "outlinewidth": 0,
             "ticks": ""
            },
            "colorscale": [
             [
              0,
              "#0d0887"
             ],
             [
              0.1111111111111111,
              "#46039f"
             ],
             [
              0.2222222222222222,
              "#7201a8"
             ],
             [
              0.3333333333333333,
              "#9c179e"
             ],
             [
              0.4444444444444444,
              "#bd3786"
             ],
             [
              0.5555555555555556,
              "#d8576b"
             ],
             [
              0.6666666666666666,
              "#ed7953"
             ],
             [
              0.7777777777777778,
              "#fb9f3a"
             ],
             [
              0.8888888888888888,
              "#fdca26"
             ],
             [
              1,
              "#f0f921"
             ]
            ],
            "type": "surface"
           }
          ],
          "table": [
           {
            "cells": {
             "fill": {
              "color": "#EBF0F8"
             },
             "line": {
              "color": "white"
             }
            },
            "header": {
             "fill": {
              "color": "#C8D4E3"
             },
             "line": {
              "color": "white"
             }
            },
            "type": "table"
           }
          ]
         },
         "layout": {
          "annotationdefaults": {
           "arrowcolor": "#2a3f5f",
           "arrowhead": 0,
           "arrowwidth": 1
          },
          "autotypenumbers": "strict",
          "coloraxis": {
           "colorbar": {
            "outlinewidth": 0,
            "ticks": ""
           }
          },
          "colorscale": {
           "diverging": [
            [
             0,
             "#8e0152"
            ],
            [
             0.1,
             "#c51b7d"
            ],
            [
             0.2,
             "#de77ae"
            ],
            [
             0.3,
             "#f1b6da"
            ],
            [
             0.4,
             "#fde0ef"
            ],
            [
             0.5,
             "#f7f7f7"
            ],
            [
             0.6,
             "#e6f5d0"
            ],
            [
             0.7,
             "#b8e186"
            ],
            [
             0.8,
             "#7fbc41"
            ],
            [
             0.9,
             "#4d9221"
            ],
            [
             1,
             "#276419"
            ]
           ],
           "sequential": [
            [
             0,
             "#0d0887"
            ],
            [
             0.1111111111111111,
             "#46039f"
            ],
            [
             0.2222222222222222,
             "#7201a8"
            ],
            [
             0.3333333333333333,
             "#9c179e"
            ],
            [
             0.4444444444444444,
             "#bd3786"
            ],
            [
             0.5555555555555556,
             "#d8576b"
            ],
            [
             0.6666666666666666,
             "#ed7953"
            ],
            [
             0.7777777777777778,
             "#fb9f3a"
            ],
            [
             0.8888888888888888,
             "#fdca26"
            ],
            [
             1,
             "#f0f921"
            ]
           ],
           "sequentialminus": [
            [
             0,
             "#0d0887"
            ],
            [
             0.1111111111111111,
             "#46039f"
            ],
            [
             0.2222222222222222,
             "#7201a8"
            ],
            [
             0.3333333333333333,
             "#9c179e"
            ],
            [
             0.4444444444444444,
             "#bd3786"
            ],
            [
             0.5555555555555556,
             "#d8576b"
            ],
            [
             0.6666666666666666,
             "#ed7953"
            ],
            [
             0.7777777777777778,
             "#fb9f3a"
            ],
            [
             0.8888888888888888,
             "#fdca26"
            ],
            [
             1,
             "#f0f921"
            ]
           ]
          },
          "colorway": [
           "#636efa",
           "#EF553B",
           "#00cc96",
           "#ab63fa",
           "#FFA15A",
           "#19d3f3",
           "#FF6692",
           "#B6E880",
           "#FF97FF",
           "#FECB52"
          ],
          "font": {
           "color": "#2a3f5f"
          },
          "geo": {
           "bgcolor": "white",
           "lakecolor": "white",
           "landcolor": "#E5ECF6",
           "showlakes": true,
           "showland": true,
           "subunitcolor": "white"
          },
          "hoverlabel": {
           "align": "left"
          },
          "hovermode": "closest",
          "mapbox": {
           "style": "light"
          },
          "paper_bgcolor": "white",
          "plot_bgcolor": "#E5ECF6",
          "polar": {
           "angularaxis": {
            "gridcolor": "white",
            "linecolor": "white",
            "ticks": ""
           },
           "bgcolor": "#E5ECF6",
           "radialaxis": {
            "gridcolor": "white",
            "linecolor": "white",
            "ticks": ""
           }
          },
          "scene": {
           "xaxis": {
            "backgroundcolor": "#E5ECF6",
            "gridcolor": "white",
            "gridwidth": 2,
            "linecolor": "white",
            "showbackground": true,
            "ticks": "",
            "zerolinecolor": "white"
           },
           "yaxis": {
            "backgroundcolor": "#E5ECF6",
            "gridcolor": "white",
            "gridwidth": 2,
            "linecolor": "white",
            "showbackground": true,
            "ticks": "",
            "zerolinecolor": "white"
           },
           "zaxis": {
            "backgroundcolor": "#E5ECF6",
            "gridcolor": "white",
            "gridwidth": 2,
            "linecolor": "white",
            "showbackground": true,
            "ticks": "",
            "zerolinecolor": "white"
           }
          },
          "shapedefaults": {
           "line": {
            "color": "#2a3f5f"
           }
          },
          "ternary": {
           "aaxis": {
            "gridcolor": "white",
            "linecolor": "white",
            "ticks": ""
           },
           "baxis": {
            "gridcolor": "white",
            "linecolor": "white",
            "ticks": ""
           },
           "bgcolor": "#E5ECF6",
           "caxis": {
            "gridcolor": "white",
            "linecolor": "white",
            "ticks": ""
           }
          },
          "title": {
           "x": 0.05
          },
          "xaxis": {
           "automargin": true,
           "gridcolor": "white",
           "linecolor": "white",
           "ticks": "",
           "title": {
            "standoff": 15
           },
           "zerolinecolor": "white",
           "zerolinewidth": 2
          },
          "yaxis": {
           "automargin": true,
           "gridcolor": "white",
           "linecolor": "white",
           "ticks": "",
           "title": {
            "standoff": 15
           },
           "zerolinecolor": "white",
           "zerolinewidth": 2
          }
         }
        },
        "xaxis": {
         "anchor": "y",
         "domain": [
          0,
          1
         ],
         "title": {
          "text": "Feature"
         }
        },
        "yaxis": {
         "anchor": "x",
         "domain": [
          0,
          1
         ],
         "title": {
          "text": "Permutation_importance"
         }
        }
       }
      },
      "text/html": [
       "<div>                            <div id=\"8e98f6d6-7cc5-42d8-b1f9-2d49225ed7b8\" class=\"plotly-graph-div\" style=\"height:525px; width:100%;\"></div>            <script type=\"text/javascript\">                require([\"plotly\"], function(Plotly) {                    window.PLOTLYENV=window.PLOTLYENV || {};                                    if (document.getElementById(\"8e98f6d6-7cc5-42d8-b1f9-2d49225ed7b8\")) {                    Plotly.newPlot(                        \"8e98f6d6-7cc5-42d8-b1f9-2d49225ed7b8\",                        [{\"alignmentgroup\": \"True\", \"hovertemplate\": \"Feature=%{x}<br>Permutation_importance=%{y}<extra></extra>\", \"legendgroup\": \"\", \"marker\": {\"color\": \"#636efa\"}, \"name\": \"\", \"offsetgroup\": \"\", \"orientation\": \"v\", \"showlegend\": false, \"textposition\": \"auto\", \"type\": \"bar\", \"x\": [\"nota_admision_def\", \"facultad_POLITECNICA\", \"anio_apertura_expediente_2020-21\", \"facultad_PROFESORADO\", \"anio_nacimiento_1997\", \"provincia_C\\u00c1CERES\", \"anio_apertura_expediente_2011-12\", \"des_plan_GRADO EN INGENIER\\u00cdA INFORM\\u00c1TICA EN INGENIER\\u00cdA DE COMPUTADORES\", \"anio_apertura_expediente_2017-18\", \"anio_nacimiento_1994\", \"anio_nacimiento_1996\", \"anio_nacimiento_1995\", \"des_plan_GRADO EN INGENIER\\u00cdA CIVIL - HIDROLOG\\u00cdA\", \"anio_apertura_expediente_2016-17\", \"anio_apertura_expediente_2012-13\", \"anio_nacimiento_1998\", \"des_plan_GRADO EN EDUCACI\\u00d3N PRIMARIA (C\\u00c1CERES)\", \"anio_nacimiento_2000\", \"sexo_H\", \"municipio_VALENCIA DE ALC\\u00c1NTARA\", \"anio_apertura_expediente_2010-11\", \"anio_nacimiento_1999\", \"anio_apertura_expediente_2014-15\", \"anio_nacimiento_1992\"], \"xaxis\": \"x\", \"y\": [0.04058694973462381, 0.026329482776563662, 0.008741804558226707, 0.007128733479030092, 0.006140077011135429, 0.00598397335830995, 0.005359558747008071, 0.0053075241960662085, 0.003486314913102362, 0.0034342803621605356, 0.0027057966489749674, 0.002601727547091315, 0.002289520241440357, 0.002289520241440357, 0.0019773129357893993, 0.0015610365282547889, 0.0014569674263711734, 0.0014569674263711363, 0.0013528983244874837, 0.0013008637735456574, 0.0011447601207201785, 0.0011447601207201785, 0.0011447601207201785, 0.001040691018836526], \"yaxis\": \"y\"}],                        {\"barmode\": \"relative\", \"legend\": {\"tracegroupgap\": 0}, \"margin\": {\"t\": 60}, \"template\": {\"data\": {\"bar\": [{\"error_x\": {\"color\": \"#2a3f5f\"}, \"error_y\": {\"color\": \"#2a3f5f\"}, \"marker\": {\"line\": {\"color\": \"#E5ECF6\", \"width\": 0.5}}, \"type\": \"bar\"}], \"barpolar\": [{\"marker\": {\"line\": {\"color\": \"#E5ECF6\", \"width\": 0.5}}, \"type\": \"barpolar\"}], \"carpet\": [{\"aaxis\": {\"endlinecolor\": \"#2a3f5f\", \"gridcolor\": \"white\", \"linecolor\": \"white\", \"minorgridcolor\": \"white\", \"startlinecolor\": \"#2a3f5f\"}, \"baxis\": {\"endlinecolor\": \"#2a3f5f\", \"gridcolor\": \"white\", \"linecolor\": \"white\", \"minorgridcolor\": \"white\", \"startlinecolor\": \"#2a3f5f\"}, \"type\": \"carpet\"}], \"choropleth\": [{\"colorbar\": {\"outlinewidth\": 0, \"ticks\": \"\"}, \"type\": \"choropleth\"}], \"contour\": [{\"colorbar\": {\"outlinewidth\": 0, \"ticks\": \"\"}, \"colorscale\": [[0.0, \"#0d0887\"], [0.1111111111111111, \"#46039f\"], [0.2222222222222222, \"#7201a8\"], [0.3333333333333333, \"#9c179e\"], [0.4444444444444444, \"#bd3786\"], [0.5555555555555556, \"#d8576b\"], [0.6666666666666666, \"#ed7953\"], [0.7777777777777778, \"#fb9f3a\"], [0.8888888888888888, \"#fdca26\"], [1.0, \"#f0f921\"]], \"type\": \"contour\"}], \"contourcarpet\": [{\"colorbar\": {\"outlinewidth\": 0, \"ticks\": \"\"}, \"type\": \"contourcarpet\"}], \"heatmap\": [{\"colorbar\": {\"outlinewidth\": 0, \"ticks\": \"\"}, \"colorscale\": [[0.0, \"#0d0887\"], [0.1111111111111111, \"#46039f\"], [0.2222222222222222, \"#7201a8\"], [0.3333333333333333, \"#9c179e\"], [0.4444444444444444, \"#bd3786\"], [0.5555555555555556, \"#d8576b\"], [0.6666666666666666, \"#ed7953\"], [0.7777777777777778, \"#fb9f3a\"], [0.8888888888888888, \"#fdca26\"], [1.0, \"#f0f921\"]], \"type\": \"heatmap\"}], \"heatmapgl\": [{\"colorbar\": {\"outlinewidth\": 0, \"ticks\": \"\"}, \"colorscale\": [[0.0, \"#0d0887\"], [0.1111111111111111, \"#46039f\"], [0.2222222222222222, \"#7201a8\"], [0.3333333333333333, \"#9c179e\"], [0.4444444444444444, \"#bd3786\"], [0.5555555555555556, \"#d8576b\"], [0.6666666666666666, \"#ed7953\"], [0.7777777777777778, \"#fb9f3a\"], [0.8888888888888888, \"#fdca26\"], [1.0, \"#f0f921\"]], \"type\": \"heatmapgl\"}], \"histogram\": [{\"marker\": {\"colorbar\": {\"outlinewidth\": 0, \"ticks\": \"\"}}, \"type\": \"histogram\"}], \"histogram2d\": [{\"colorbar\": {\"outlinewidth\": 0, \"ticks\": \"\"}, \"colorscale\": [[0.0, \"#0d0887\"], [0.1111111111111111, \"#46039f\"], [0.2222222222222222, \"#7201a8\"], [0.3333333333333333, \"#9c179e\"], [0.4444444444444444, \"#bd3786\"], [0.5555555555555556, \"#d8576b\"], [0.6666666666666666, \"#ed7953\"], [0.7777777777777778, \"#fb9f3a\"], [0.8888888888888888, \"#fdca26\"], [1.0, \"#f0f921\"]], \"type\": \"histogram2d\"}], \"histogram2dcontour\": [{\"colorbar\": {\"outlinewidth\": 0, \"ticks\": \"\"}, \"colorscale\": [[0.0, \"#0d0887\"], [0.1111111111111111, \"#46039f\"], [0.2222222222222222, \"#7201a8\"], [0.3333333333333333, \"#9c179e\"], [0.4444444444444444, \"#bd3786\"], [0.5555555555555556, \"#d8576b\"], [0.6666666666666666, \"#ed7953\"], [0.7777777777777778, \"#fb9f3a\"], [0.8888888888888888, \"#fdca26\"], [1.0, \"#f0f921\"]], \"type\": \"histogram2dcontour\"}], \"mesh3d\": [{\"colorbar\": {\"outlinewidth\": 0, \"ticks\": \"\"}, \"type\": \"mesh3d\"}], \"parcoords\": [{\"line\": {\"colorbar\": {\"outlinewidth\": 0, \"ticks\": \"\"}}, \"type\": \"parcoords\"}], \"pie\": [{\"automargin\": true, \"type\": \"pie\"}], \"scatter\": [{\"marker\": {\"colorbar\": {\"outlinewidth\": 0, \"ticks\": \"\"}}, \"type\": \"scatter\"}], \"scatter3d\": [{\"line\": {\"colorbar\": {\"outlinewidth\": 0, \"ticks\": \"\"}}, \"marker\": {\"colorbar\": {\"outlinewidth\": 0, \"ticks\": \"\"}}, \"type\": \"scatter3d\"}], \"scattercarpet\": [{\"marker\": {\"colorbar\": {\"outlinewidth\": 0, \"ticks\": \"\"}}, \"type\": \"scattercarpet\"}], \"scattergeo\": [{\"marker\": {\"colorbar\": {\"outlinewidth\": 0, \"ticks\": \"\"}}, \"type\": \"scattergeo\"}], \"scattergl\": [{\"marker\": {\"colorbar\": {\"outlinewidth\": 0, \"ticks\": \"\"}}, \"type\": \"scattergl\"}], \"scattermapbox\": [{\"marker\": {\"colorbar\": {\"outlinewidth\": 0, \"ticks\": \"\"}}, \"type\": \"scattermapbox\"}], \"scatterpolar\": [{\"marker\": {\"colorbar\": {\"outlinewidth\": 0, \"ticks\": \"\"}}, \"type\": \"scatterpolar\"}], \"scatterpolargl\": [{\"marker\": {\"colorbar\": {\"outlinewidth\": 0, \"ticks\": \"\"}}, \"type\": \"scatterpolargl\"}], \"scatterternary\": [{\"marker\": {\"colorbar\": {\"outlinewidth\": 0, \"ticks\": \"\"}}, \"type\": \"scatterternary\"}], \"surface\": [{\"colorbar\": {\"outlinewidth\": 0, \"ticks\": \"\"}, \"colorscale\": [[0.0, \"#0d0887\"], [0.1111111111111111, \"#46039f\"], [0.2222222222222222, \"#7201a8\"], [0.3333333333333333, \"#9c179e\"], [0.4444444444444444, \"#bd3786\"], [0.5555555555555556, \"#d8576b\"], [0.6666666666666666, \"#ed7953\"], [0.7777777777777778, \"#fb9f3a\"], [0.8888888888888888, \"#fdca26\"], [1.0, \"#f0f921\"]], \"type\": \"surface\"}], \"table\": [{\"cells\": {\"fill\": {\"color\": \"#EBF0F8\"}, \"line\": {\"color\": \"white\"}}, \"header\": {\"fill\": {\"color\": \"#C8D4E3\"}, \"line\": {\"color\": \"white\"}}, \"type\": \"table\"}]}, \"layout\": {\"annotationdefaults\": {\"arrowcolor\": \"#2a3f5f\", \"arrowhead\": 0, \"arrowwidth\": 1}, \"autotypenumbers\": \"strict\", \"coloraxis\": {\"colorbar\": {\"outlinewidth\": 0, \"ticks\": \"\"}}, \"colorscale\": {\"diverging\": [[0, \"#8e0152\"], [0.1, \"#c51b7d\"], [0.2, \"#de77ae\"], [0.3, \"#f1b6da\"], [0.4, \"#fde0ef\"], [0.5, \"#f7f7f7\"], [0.6, \"#e6f5d0\"], [0.7, \"#b8e186\"], [0.8, \"#7fbc41\"], [0.9, \"#4d9221\"], [1, \"#276419\"]], \"sequential\": [[0.0, \"#0d0887\"], [0.1111111111111111, \"#46039f\"], [0.2222222222222222, \"#7201a8\"], [0.3333333333333333, \"#9c179e\"], [0.4444444444444444, \"#bd3786\"], [0.5555555555555556, \"#d8576b\"], [0.6666666666666666, \"#ed7953\"], [0.7777777777777778, \"#fb9f3a\"], [0.8888888888888888, \"#fdca26\"], [1.0, \"#f0f921\"]], \"sequentialminus\": [[0.0, \"#0d0887\"], [0.1111111111111111, \"#46039f\"], [0.2222222222222222, \"#7201a8\"], [0.3333333333333333, \"#9c179e\"], [0.4444444444444444, \"#bd3786\"], [0.5555555555555556, \"#d8576b\"], [0.6666666666666666, \"#ed7953\"], [0.7777777777777778, \"#fb9f3a\"], [0.8888888888888888, \"#fdca26\"], [1.0, \"#f0f921\"]]}, \"colorway\": [\"#636efa\", \"#EF553B\", \"#00cc96\", \"#ab63fa\", \"#FFA15A\", \"#19d3f3\", \"#FF6692\", \"#B6E880\", \"#FF97FF\", \"#FECB52\"], \"font\": {\"color\": \"#2a3f5f\"}, \"geo\": {\"bgcolor\": \"white\", \"lakecolor\": \"white\", \"landcolor\": \"#E5ECF6\", \"showlakes\": true, \"showland\": true, \"subunitcolor\": \"white\"}, \"hoverlabel\": {\"align\": \"left\"}, \"hovermode\": \"closest\", \"mapbox\": {\"style\": \"light\"}, \"paper_bgcolor\": \"white\", \"plot_bgcolor\": \"#E5ECF6\", \"polar\": {\"angularaxis\": {\"gridcolor\": \"white\", \"linecolor\": \"white\", \"ticks\": \"\"}, \"bgcolor\": \"#E5ECF6\", \"radialaxis\": {\"gridcolor\": \"white\", \"linecolor\": \"white\", \"ticks\": \"\"}}, \"scene\": {\"xaxis\": {\"backgroundcolor\": \"#E5ECF6\", \"gridcolor\": \"white\", \"gridwidth\": 2, \"linecolor\": \"white\", \"showbackground\": true, \"ticks\": \"\", \"zerolinecolor\": \"white\"}, \"yaxis\": {\"backgroundcolor\": \"#E5ECF6\", \"gridcolor\": \"white\", \"gridwidth\": 2, \"linecolor\": \"white\", \"showbackground\": true, \"ticks\": \"\", \"zerolinecolor\": \"white\"}, \"zaxis\": {\"backgroundcolor\": \"#E5ECF6\", \"gridcolor\": \"white\", \"gridwidth\": 2, \"linecolor\": \"white\", \"showbackground\": true, \"ticks\": \"\", \"zerolinecolor\": \"white\"}}, \"shapedefaults\": {\"line\": {\"color\": \"#2a3f5f\"}}, \"ternary\": {\"aaxis\": {\"gridcolor\": \"white\", \"linecolor\": \"white\", \"ticks\": \"\"}, \"baxis\": {\"gridcolor\": \"white\", \"linecolor\": \"white\", \"ticks\": \"\"}, \"bgcolor\": \"#E5ECF6\", \"caxis\": {\"gridcolor\": \"white\", \"linecolor\": \"white\", \"ticks\": \"\"}}, \"title\": {\"x\": 0.05}, \"xaxis\": {\"automargin\": true, \"gridcolor\": \"white\", \"linecolor\": \"white\", \"ticks\": \"\", \"title\": {\"standoff\": 15}, \"zerolinecolor\": \"white\", \"zerolinewidth\": 2}, \"yaxis\": {\"automargin\": true, \"gridcolor\": \"white\", \"linecolor\": \"white\", \"ticks\": \"\", \"title\": {\"standoff\": 15}, \"zerolinecolor\": \"white\", \"zerolinewidth\": 2}}}, \"xaxis\": {\"anchor\": \"y\", \"domain\": [0.0, 1.0], \"title\": {\"text\": \"Feature\"}}, \"yaxis\": {\"anchor\": \"x\", \"domain\": [0.0, 1.0], \"title\": {\"text\": \"Permutation_importance\"}}},                        {\"responsive\": true}                    ).then(function(){\n",
       "                            \n",
       "var gd = document.getElementById('8e98f6d6-7cc5-42d8-b1f9-2d49225ed7b8');\n",
       "var x = new MutationObserver(function (mutations, observer) {{\n",
       "        var display = window.getComputedStyle(gd).display;\n",
       "        if (!display || display === 'none') {{\n",
       "            console.log([gd, 'removed!']);\n",
       "            Plotly.purge(gd);\n",
       "            observer.disconnect();\n",
       "        }}\n",
       "}});\n",
       "\n",
       "// Listen for the removal of the full notebook cells\n",
       "var notebookContainer = gd.closest('#notebook-container');\n",
       "if (notebookContainer) {{\n",
       "    x.observe(notebookContainer, {childList: true});\n",
       "}}\n",
       "\n",
       "// Listen for the clearing of the current output cell\n",
       "var outputEl = gd.closest('.output');\n",
       "if (outputEl) {{\n",
       "    x.observe(outputEl, {childList: true});\n",
       "}}\n",
       "\n",
       "                        })                };                });            </script>        </div>"
      ]
     },
     "metadata": {},
     "output_type": "display_data"
    }
   ],
   "source": [
    "fig = px.bar(logit_importances, x='Feature', y='Permutation_importance')\n",
    "fig.show()"
   ]
  },
  {
   "cell_type": "code",
   "execution_count": 44,
   "id": "53509442",
   "metadata": {},
   "outputs": [],
   "source": [
    "def get_type_correlation(independent_feature:pd.Series, target_feature:pd.Series, positive_correlation:list, negative_correlation:list):\n",
    "    from scipy import stats\n",
    "    corr = stats.spearmanr(independent_feature,target_feature).correlation\n",
    "    if corr > 0:\n",
    "        positive_correlation.append(independent_feature.name)\n",
    "    if corr < 0:\n",
    "        negative_correlation.append(independent_feature.name)\n",
    "        "
   ]
  },
  {
   "cell_type": "code",
   "execution_count": 45,
   "id": "5ce69986",
   "metadata": {},
   "outputs": [],
   "source": [
    "positive_correlation = []\n",
    "negative_correlation = []\n",
    "for feature in logit_importances['Feature']:\n",
    "    get_type_correlation(analys_record_personal_access_one_hot[feature], analys_record_personal_access_one_hot['abandona'], positive_correlation, negative_correlation)"
   ]
  },
  {
   "cell_type": "code",
   "execution_count": 46,
   "id": "b657ac20",
   "metadata": {},
   "outputs": [
    {
     "data": {
      "text/plain": [
       "['facultad_POLITECNICA',\n",
       " 'anio_apertura_expediente_2011-12',\n",
       " 'des_plan_GRADO EN INGENIERÍA INFORMÁTICA EN INGENIERÍA DE COMPUTADORES',\n",
       " 'anio_nacimiento_1994',\n",
       " 'des_plan_GRADO EN INGENIERÍA CIVIL - HIDROLOGÍA',\n",
       " 'anio_apertura_expediente_2012-13',\n",
       " 'sexo_H',\n",
       " 'municipio_VALENCIA DE ALCÁNTARA',\n",
       " 'anio_apertura_expediente_2010-11',\n",
       " 'anio_apertura_expediente_2014-15',\n",
       " 'anio_nacimiento_1992']"
      ]
     },
     "execution_count": 46,
     "metadata": {},
     "output_type": "execute_result"
    }
   ],
   "source": [
    "positive_correlation"
   ]
  },
  {
   "cell_type": "code",
   "execution_count": 47,
   "id": "0799f7f9",
   "metadata": {},
   "outputs": [
    {
     "data": {
      "text/plain": [
       "['nota_admision_def',\n",
       " 'anio_apertura_expediente_2020-21',\n",
       " 'facultad_PROFESORADO',\n",
       " 'anio_nacimiento_1997',\n",
       " 'provincia_CÁCERES',\n",
       " 'anio_apertura_expediente_2017-18',\n",
       " 'anio_nacimiento_1996',\n",
       " 'anio_nacimiento_1995',\n",
       " 'anio_apertura_expediente_2016-17',\n",
       " 'anio_nacimiento_1998',\n",
       " 'des_plan_GRADO EN EDUCACIÓN PRIMARIA (CÁCERES)',\n",
       " 'anio_nacimiento_2000',\n",
       " 'anio_nacimiento_1999']"
      ]
     },
     "execution_count": 47,
     "metadata": {},
     "output_type": "execute_result"
    }
   ],
   "source": [
    "negative_correlation"
   ]
  },
  {
   "cell_type": "markdown",
   "id": "87b4d07a",
   "metadata": {},
   "source": [
    "La correlación positiva indica que si se cumple el hecho que se está examinando, aumenta la probabilidad de abandono.\n",
    "\n",
    "La correlación negativa por el contrario, indica que si se cumple el hecho que se está examinando, disminuye la probabilidad de abandono."
   ]
  }
 ],
 "metadata": {
  "kernelspec": {
   "display_name": "Python 3",
   "language": "python",
   "name": "python3"
  },
  "language_info": {
   "codemirror_mode": {
    "name": "ipython",
    "version": 3
   },
   "file_extension": ".py",
   "mimetype": "text/x-python",
   "name": "python",
   "nbconvert_exporter": "python",
   "pygments_lexer": "ipython3",
   "version": "3.8.10"
  }
 },
 "nbformat": 4,
 "nbformat_minor": 5
}
